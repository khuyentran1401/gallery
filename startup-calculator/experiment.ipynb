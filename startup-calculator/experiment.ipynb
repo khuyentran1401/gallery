{
 "cells": [
  {
   "cell_type": "code",
   "execution_count": 15,
   "metadata": {
    "ExecuteTime": {
     "end_time": "2020-06-15T21:19:49.769364Z",
     "start_time": "2020-06-15T21:19:49.762095Z"
    }
   },
   "outputs": [],
   "source": [
    "import pandas as pd\n",
    "import requests\n",
    "import datetime\n",
    "import numpy as np\n",
    "import altair as alt\n",
    "import datapane as dp"
   ]
  },
  {
   "cell_type": "code",
   "execution_count": 16,
   "metadata": {
    "ExecuteTime": {
     "end_time": "2020-06-15T21:19:50.811394Z",
     "start_time": "2020-06-15T21:19:50.777817Z"
    }
   },
   "outputs": [],
   "source": [
    "# inputs\n",
    "\n",
    "dp.Params.load_defaults('datapane.yaml')\n",
    "CURRENT_CASH_GBP = dp.Params.get('current_cash', 100000)\n",
    "FORECAST_LENGTH_DAYS = 365 * dp.Params.get('forecast_years', 2)\n",
    "WEEKLY_GROWTH_PERCENT = dp.Params.get('weekly_growth_rate', 2)\n",
    "INITIAL_REVENUE = dp.Params.get('initial_revenue', 100)\n",
    "MONTHLY_BURN = dp.Params.get('monthly_burn', CURRENT_CASH_GBP / 12)\n",
    "\n",
    "# Misc cash injection\n",
    "\n",
    "INJECTION_AMOUNT = dp.Params.get('cash_injection', 0) # TODO: calculate as derived value\n",
    "INJECTION_OFFSET = dp.Params.get('cash_injection_offset', 0) # Number of mos until R&D grant\n",
    "\n",
    "# derived values\n",
    "\n",
    "monthly_growth_rate = pow((1+WEEKLY_GROWTH_PERCENT/100), 4) - 1\n",
    "today = pd.to_datetime('today')\n",
    "end_forecast = today + pd.Timedelta(FORECAST_LENGTH_DAYS, unit='d')\n",
    "\n",
    "burn = MONTHLY_BURN"
   ]
  },
  {
   "cell_type": "code",
   "execution_count": 17,
   "metadata": {
    "ExecuteTime": {
     "end_time": "2020-06-15T21:20:05.896372Z",
     "start_time": "2020-06-15T21:20:05.887217Z"
    }
   },
   "outputs": [
    {
     "data": {
      "text/plain": [
       "100000"
      ]
     },
     "execution_count": 17,
     "metadata": {},
     "output_type": "execute_result"
    }
   ],
   "source": [
    "CURRENT_CASH_GBP"
   ]
  },
  {
   "cell_type": "code",
   "execution_count": 3,
   "metadata": {
    "ExecuteTime": {
     "end_time": "2020-06-15T20:06:10.998387Z",
     "start_time": "2020-06-15T20:06:10.954364Z"
    }
   },
   "outputs": [
    {
     "data": {
      "text/plain": [
       "date          datetime64[ns]\n",
       "burn                 float64\n",
       "revenue_0g             int64\n",
       "injection              int64\n",
       "cash_0g              float64\n",
       "cash_dg              float64\n",
       "revenue_dg           float64\n",
       "dtype: object"
      ]
     },
     "execution_count": 3,
     "metadata": {},
     "output_type": "execute_result"
    }
   ],
   "source": [
    "# This forecast is worst-case scenario / most conservative - predicated on if you do not grow at all.\n",
    "\n",
    "df = pd.DataFrame(columns=[])\n",
    "\n",
    "idx = pd.date_range(today, end_forecast, freq='m')\n",
    "df = df.reindex(idx, fill_value=0)\n",
    "df.index.names = ['date']\n",
    "df.reset_index(inplace=True)\n",
    "\n",
    "df['burn'] = burn\n",
    "df['revenue_0g'] = INITIAL_REVENUE\n",
    "df['injection'] = 0\n",
    "\n",
    "# Set initial cash and revenue\n",
    "df.loc[0, 'cash_0g'] = CURRENT_CASH_GBP\n",
    "df.loc[0, 'cash_dg'] = CURRENT_CASH_GBP\n",
    "df.loc[0, 'revenue_dg'] = INITIAL_REVENUE\n",
    "\n",
    "df.loc[INJECTION_OFFSET + 1, 'injection'] = INJECTION_AMOUNT\n",
    "\n",
    "# Cas injection (e.g. R&D tax or fundraise)\n",
    "df.loc[INJECTION_OFFSET + 1, 'injection'] = INJECTION_AMOUNT # 0dx adjustment\n",
    "\n",
    "for i in range(1, len(df)):\n",
    "    prev = df.loc[i-1]\n",
    "    df.loc[i, 'cash_0g'] = prev['cash_0g'] - prev['burn'] + prev['injection'] + prev['revenue_0g']\n",
    "    df.loc[i, 'cash_dg'] = prev['cash_dg'] - prev['burn'] + prev['injection'] + prev['revenue_dg']\n",
    "    df.loc[i, 'revenue_dg'] = prev['revenue_dg'] * (1 + monthly_growth_rate)\n",
    "df.dtypes"
   ]
  },
  {
   "cell_type": "code",
   "execution_count": 4,
   "metadata": {
    "ExecuteTime": {
     "end_time": "2020-06-15T20:06:13.585633Z",
     "start_time": "2020-06-15T20:06:13.577577Z"
    }
   },
   "outputs": [],
   "source": [
    "# This is a variable forecast for modelling different growth-rates.\n",
    "# Initial growth rate is set to be the current growth rate\n",
    "\n",
    "# This cannot be 0, as growth rate wouldn't work\n",
    "start_revenue = INITIAL_REVENUE if INITIAL_REVENUE > 100 else 100\n",
    "scale = (-CURRENT_CASH_GBP, CURRENT_CASH_GBP * 2)\n",
    "\n"
   ]
  },
  {
   "cell_type": "code",
   "execution_count": 5,
   "metadata": {
    "ExecuteTime": {
     "end_time": "2020-06-15T20:06:14.410499Z",
     "start_time": "2020-06-15T20:06:14.334240Z"
    }
   },
   "outputs": [
    {
     "data": {
      "text/html": [
       "\n",
       "<div id=\"altair-viz-d0e9d2236cfc42d3836a774809ca2dea\"></div>\n",
       "<script type=\"text/javascript\">\n",
       "  (function(spec, embedOpt){\n",
       "    let outputDiv = document.currentScript.previousElementSibling;\n",
       "    if (outputDiv.id !== \"altair-viz-d0e9d2236cfc42d3836a774809ca2dea\") {\n",
       "      outputDiv = document.getElementById(\"altair-viz-d0e9d2236cfc42d3836a774809ca2dea\");\n",
       "    }\n",
       "    const paths = {\n",
       "      \"vega\": \"https://cdn.jsdelivr.net/npm//vega@5?noext\",\n",
       "      \"vega-lib\": \"https://cdn.jsdelivr.net/npm//vega-lib?noext\",\n",
       "      \"vega-lite\": \"https://cdn.jsdelivr.net/npm//vega-lite@4.8.1?noext\",\n",
       "      \"vega-embed\": \"https://cdn.jsdelivr.net/npm//vega-embed@6?noext\",\n",
       "    };\n",
       "\n",
       "    function loadScript(lib) {\n",
       "      return new Promise(function(resolve, reject) {\n",
       "        var s = document.createElement('script');\n",
       "        s.src = paths[lib];\n",
       "        s.async = true;\n",
       "        s.onload = () => resolve(paths[lib]);\n",
       "        s.onerror = () => reject(`Error loading script: ${paths[lib]}`);\n",
       "        document.getElementsByTagName(\"head\")[0].appendChild(s);\n",
       "      });\n",
       "    }\n",
       "\n",
       "    function showError(err) {\n",
       "      outputDiv.innerHTML = `<div class=\"error\" style=\"color:red;\">${err}</div>`;\n",
       "      throw err;\n",
       "    }\n",
       "\n",
       "    function displayChart(vegaEmbed) {\n",
       "      vegaEmbed(outputDiv, spec, embedOpt)\n",
       "        .catch(err => showError(`Javascript Error: ${err.message}<br>This usually means there's a typo in your chart specification. See the javascript console for the full traceback.`));\n",
       "    }\n",
       "\n",
       "    if(typeof define === \"function\" && define.amd) {\n",
       "      requirejs.config({paths});\n",
       "      require([\"vega-embed\"], displayChart, err => showError(`Error loading script: ${err.message}`));\n",
       "    } else if (typeof vegaEmbed === \"function\") {\n",
       "      displayChart(vegaEmbed);\n",
       "    } else {\n",
       "      loadScript(\"vega\")\n",
       "        .then(() => loadScript(\"vega-lite\"))\n",
       "        .then(() => loadScript(\"vega-embed\"))\n",
       "        .catch(showError)\n",
       "        .then(() => displayChart(vegaEmbed));\n",
       "    }\n",
       "  })({\"config\": {\"view\": {\"continuousWidth\": 400, \"continuousHeight\": 300}}, \"layer\": [{\"mark\": {\"type\": \"area\", \"opacity\": 0.75}, \"encoding\": {\"x\": {\"type\": \"temporal\", \"field\": \"date\", \"timeUnit\": \"yearmonth\"}, \"y\": {\"type\": \"quantitative\", \"field\": \"adj_cash\", \"scale\": {\"domain\": [-100000, 200000]}}}, \"selection\": {\"selector001\": {\"type\": \"single\", \"fields\": [\"month_growth\"], \"bind\": {\"input\": \"range\", \"max\": 100, \"min\": 0, \"name\": \"Monthly growth rate (%)\", \"step\": 0.1}, \"init\": {\"month_growth\": 8}}, \"selector002\": {\"type\": \"interval\", \"bind\": \"scales\", \"encodings\": [\"x\", \"y\"]}}, \"transform\": [{\"window\": [{\"op\": \"count\", \"as\": \"index\"}]}, {\"calculate\": \"(pow((1 + (selector001.month_growth / 100)),datum.index) * 100)\", \"as\": \"forecast_revenue\"}, {\"window\": [{\"op\": \"sum\", \"field\": \"forecast_revenue\", \"as\": \"forecast_total_revenue\"}], \"frame\": [null, 0]}, {\"calculate\": \"(datum.cash_0g + datum.forecast_total_revenue)\", \"as\": \"adj_cash\"}]}, {\"mark\": {\"type\": \"line\", \"color\": \"#f26522\", \"size\": 5}, \"encoding\": {\"x\": {\"type\": \"temporal\", \"field\": \"date\", \"timeUnit\": \"yearmonth\"}, \"y\": {\"type\": \"quantitative\", \"field\": \"forecast_total_revenue\"}}, \"transform\": [{\"window\": [{\"op\": \"count\", \"as\": \"index\"}]}, {\"calculate\": \"(pow((1 + (selector001.month_growth / 100)),datum.index) * 100)\", \"as\": \"forecast_revenue\"}, {\"window\": [{\"op\": \"sum\", \"field\": \"forecast_revenue\", \"as\": \"forecast_total_revenue\"}], \"frame\": [null, 0]}, {\"calculate\": \"(datum.cash_0g + datum.forecast_total_revenue)\", \"as\": \"adj_cash\"}]}, {\"mark\": {\"type\": \"line\", \"color\": \"purple\", \"size\": 5}, \"encoding\": {\"x\": {\"type\": \"temporal\", \"field\": \"date\", \"timeUnit\": \"yearmonth\"}, \"y\": {\"type\": \"quantitative\", \"field\": \"forecast_revenue\"}}, \"transform\": [{\"window\": [{\"op\": \"count\", \"as\": \"index\"}]}, {\"calculate\": \"(pow((1 + (selector001.month_growth / 100)),datum.index) * 100)\", \"as\": \"forecast_revenue\"}, {\"window\": [{\"op\": \"sum\", \"field\": \"forecast_revenue\", \"as\": \"forecast_total_revenue\"}], \"frame\": [null, 0]}, {\"calculate\": \"(datum.cash_0g + datum.forecast_total_revenue)\", \"as\": \"adj_cash\"}]}], \"data\": {\"name\": \"data-b53b30310c703404d2f5cc708d7e7823\"}, \"width\": 850, \"$schema\": \"https://vega.github.io/schema/vega-lite/v4.8.1.json\", \"datasets\": {\"data-b53b30310c703404d2f5cc708d7e7823\": [{\"date\": \"2020-06-30T15:06:10.056554\", \"cash_0g\": 100000.0}, {\"date\": \"2020-07-31T15:06:10.056554\", \"cash_0g\": 91766.66666666667}, {\"date\": \"2020-08-31T15:06:10.056554\", \"cash_0g\": 83533.33333333334}, {\"date\": \"2020-09-30T15:06:10.056554\", \"cash_0g\": 75300.00000000001}, {\"date\": \"2020-10-31T15:06:10.056554\", \"cash_0g\": 67066.66666666669}, {\"date\": \"2020-11-30T15:06:10.056554\", \"cash_0g\": 58833.33333333335}, {\"date\": \"2020-12-31T15:06:10.056554\", \"cash_0g\": 50600.000000000015}, {\"date\": \"2021-01-31T15:06:10.056554\", \"cash_0g\": 42366.66666666668}, {\"date\": \"2021-02-28T15:06:10.056554\", \"cash_0g\": 34133.33333333334}, {\"date\": \"2021-03-31T15:06:10.056554\", \"cash_0g\": 25900.000000000007}, {\"date\": \"2021-04-30T15:06:10.056554\", \"cash_0g\": 17666.66666666667}, {\"date\": \"2021-05-31T15:06:10.056554\", \"cash_0g\": 9433.333333333338}, {\"date\": \"2021-06-30T15:06:10.056554\", \"cash_0g\": 1200.0000000000036}, {\"date\": \"2021-07-31T15:06:10.056554\", \"cash_0g\": -7033.33333333333}, {\"date\": \"2021-08-31T15:06:10.056554\", \"cash_0g\": -15266.666666666664}, {\"date\": \"2021-09-30T15:06:10.056554\", \"cash_0g\": -23500.0}, {\"date\": \"2021-10-31T15:06:10.056554\", \"cash_0g\": -31733.333333333336}, {\"date\": \"2021-11-30T15:06:10.056554\", \"cash_0g\": -39966.66666666667}, {\"date\": \"2021-12-31T15:06:10.056554\", \"cash_0g\": -48200.00000000001}, {\"date\": \"2022-01-31T15:06:10.056554\", \"cash_0g\": -56433.33333333334}, {\"date\": \"2022-02-28T15:06:10.056554\", \"cash_0g\": -64666.66666666668}, {\"date\": \"2022-03-31T15:06:10.056554\", \"cash_0g\": -72900.00000000001}, {\"date\": \"2022-04-30T15:06:10.056554\", \"cash_0g\": -81133.33333333334}, {\"date\": \"2022-05-31T15:06:10.056554\", \"cash_0g\": -89366.66666666667}]}}, {\"mode\": \"vega-lite\"});\n",
       "</script>"
      ],
      "text/plain": [
       "alt.LayerChart(...)"
      ]
     },
     "execution_count": 5,
     "metadata": {},
     "output_type": "execute_result"
    }
   ],
   "source": [
    "# This is a variable forecast for modelling different growth-rates.\n",
    "# Initial growth rate is set to be the current growth rate\n",
    "\n",
    "# This cannot be 0, as growth rate wouldn't work\n",
    "start_revenue = INITIAL_REVENUE if INITIAL_REVENUE > 100 else 100\n",
    "scale = (-CURRENT_CASH_GBP, CURRENT_CASH_GBP * 2)\n",
    "\n",
    "monthly_growth_percent = WEEKLY_GROWTH_PERCENT * 4\n",
    "slider = alt.binding_range(min=0, max=100, step=0.1, name='Monthly growth rate (%)')\n",
    "selector = alt.selection_single(fields=['month_growth'], bind=slider, init={'month_growth': monthly_growth_percent})\n",
    "\n",
    "base = alt.Chart(df[['date', 'cash_0g']]).transform_window(\n",
    "    # Use count() to find out the current month we're on (i.e. the index), as we use that as the power for our growth rate\n",
    "    index='count()'\n",
    ").transform_calculate(\n",
    "    # Transform a % growth rate (i.e. 7) into sometime useful (i.e. 1.07).\n",
    "    # Raise that to our current month (i.e. for month 2, 1.07 ** 2 = ~1.145), and multiply that by our revenue amount (~1.145 * 500)\n",
    "    forecast_revenue = ((1+(selector.month_growth / 100)) ** alt.datum.index) * start_revenue\n",
    ").transform_window(\n",
    "    # Take what is in practice the cumulative product of revenue (i.e. total revenue earned so far)\n",
    "    forecast_total_revenue = 'sum(forecast_revenue)', frame=[None, 0]\n",
    ").transform_calculate(\n",
    "    # Add cumprod to current cash to find cash standing (i.e. if we have £100k cash, and 10 months of £10k revenue, we have £200k now)\n",
    "    adj_cash = alt.datum.cash_0g + alt.datum.forecast_total_revenue\n",
    ").encode(x='yearmonth(date):T')\n",
    "\n",
    "cash = base.encode(y=alt.Y('adj_cash:Q', scale=alt.Scale(domain=scale))).mark_area(opacity=0.75)\n",
    "revenue = base.encode(y='forecast_total_revenue:Q').mark_line(color='#f26522', size=5) \n",
    "revenue_growth = base.encode(y='forecast_revenue:Q').mark_line(color='purple', size=5)\n",
    "\n",
    "charts = cash + revenue + revenue_growth\n",
    "\n",
    "chart_final = charts.add_selection(selector).interactive().properties(width=850)\n",
    "chart_final\n"
   ]
  },
  {
   "cell_type": "code",
   "execution_count": 6,
   "metadata": {
    "ExecuteTime": {
     "end_time": "2020-06-15T20:06:16.719770Z",
     "start_time": "2020-06-15T20:06:16.708051Z"
    }
   },
   "outputs": [],
   "source": [
    "dead_date_0g = df[df['cash_0g'] < 25000].iloc[0].date\n",
    "months_remaining_0g = dead_date_0g.to_period('M') - today.to_period('M')\n"
   ]
  },
  {
   "cell_type": "code",
   "execution_count": 7,
   "metadata": {
    "ExecuteTime": {
     "end_time": "2020-06-15T20:06:17.423900Z",
     "start_time": "2020-06-15T20:06:17.414700Z"
    }
   },
   "outputs": [
    {
     "data": {
      "text/plain": [
       "Period('2021-04', 'M')"
      ]
     },
     "execution_count": 7,
     "metadata": {},
     "output_type": "execute_result"
    }
   ],
   "source": [
    "dead_date_0g.to_period('M')"
   ]
  },
  {
   "cell_type": "code",
   "execution_count": 8,
   "metadata": {
    "ExecuteTime": {
     "end_time": "2020-06-15T20:06:18.215051Z",
     "start_time": "2020-06-15T20:06:18.196906Z"
    }
   },
   "outputs": [],
   "source": [
    "dead_date_dg = df[df['cash_dg'] < 25000].iloc[0].date\n",
    "months_remaining_dg = dead_date_dg.to_period('M') - today.to_period('M')\n"
   ]
  },
  {
   "cell_type": "code",
   "execution_count": 9,
   "metadata": {
    "ExecuteTime": {
     "end_time": "2020-06-15T20:06:19.382919Z",
     "start_time": "2020-06-15T20:06:19.067591Z"
    }
   },
   "outputs": [],
   "source": [
    "from datapane import Markdown, Plot, Table, Report\n",
    "\n",
    "report = [\n",
    "    Markdown(f\"\"\"\n",
    "# Startup Finance Report\n",
    "Date: {today.strftime(\"%B %d, %Y\")}\n",
    "\n",
    "Your burn is currently **£{round(burn)}** per month, and you have **£{CURRENT_CASH_GBP}** in the bank.\n",
    "\n",
    "> This includes an presumed cash injection of {INJECTION_AMOUNT} on month {INJECTION_OFFSET}.\n",
    "\n",
    "## Cash forecast\n",
    "#### Worst case: 0 growth scenario\n",
    "If you don't grow at all, you have **{months_remaining_0g.n}** months remaining, and will run out of money around {dead_date_0g.strftime(\"%B %Y\")}.\n",
    "\n",
    "#### Default case: continued growth scenario\n",
    "If you continue to grow at your current rate, you have **{months_remaining_dg.n}** months remaining, and will run out of money around {dead_date_dg.strftime(\"%B %Y\")}.\n",
    "\n",
    "> In this dataset, `cash_0g`/`revenue_0g` presumes no further growth, whereas `cash_dg`/`revenue_dg` presumes growth at the current rate continues. \n",
    "\"\"\"),\n",
    "Table(df),\n",
    "Markdown(\"\"\"\n",
    "\n",
    "## Modelling growth scenarios\n",
    "\n",
    "This plot models cash and revenue, dependent on various other growth scenarios and based on this month's burn. \n",
    "\n",
    "- Blue area is cash remaining\n",
    "- Orange line is the cumulative sum of all revenue\n",
    "- Purple line is monthly revenue\n",
    "\n",
    "> Drag the slider to adjust growth rate. The growth rate at which the blue area never crosses 0 is the growth you need to achieve **[Default Alive](http://paulgraham.com/aord.html)**.\n",
    "\n",
    "\"\"\"),\n",
    "    Plot(chart_final)\n",
    "]"
   ]
  },
  {
   "cell_type": "code",
   "execution_count": 10,
   "metadata": {
    "ExecuteTime": {
     "end_time": "2020-06-15T20:06:21.349989Z",
     "start_time": "2020-06-15T20:06:21.233823Z"
    }
   },
   "outputs": [
    {
     "data": {
      "text/html": [
       "\n",
       "        <iframe\n",
       "            width=\"600\"\n",
       "            height=\"500\"\n",
       "            src=\"dp-tmp-6oyj44gf/dp-tmp-9s1p04eb.html\"\n",
       "            frameborder=\"0\"\n",
       "            allowfullscreen\n",
       "        ></iframe>\n",
       "        "
      ],
      "text/plain": [
       "<IPython.lib.display.IFrame at 0x7f9ee420c640>"
      ]
     },
     "execution_count": 10,
     "metadata": {},
     "output_type": "execute_result"
    }
   ],
   "source": [
    "Report(*report).preview()"
   ]
  },
  {
   "cell_type": "code",
   "execution_count": 11,
   "metadata": {
    "ExecuteTime": {
     "end_time": "2020-06-15T20:06:28.895477Z",
     "start_time": "2020-06-15T20:06:24.800712Z"
    }
   },
   "outputs": [
    {
     "name": "stdout",
     "output_type": "stream",
     "text": [
      "\u001b[34m15:06:25\u001b[0m [\u001b[32mINFO \u001b[0m] Uploading assets for Report\u001b[0m\n",
      "\u001b[34m15:06:25\u001b[0m [\u001b[32mINFO \u001b[0m] Uploading /home/khuyentran/gallery/startup-calculator/dp-tmp-6oyj44gf/dp-tmp-56hutwon.arrow\u001b[0m\n",
      "\u001b[34m15:06:27\u001b[0m [\u001b[32mINFO \u001b[0m] Uploading /home/khuyentran/gallery/startup-calculator/dp-tmp-6oyj44gf/dp-tmp-7_z8rh1n.vl.json\u001b[0m\n",
      "\u001b[34m15:06:28\u001b[0m [\u001b[32mINFO \u001b[0m] Report published to Datapane as https://datapane.com/khuyen/reports/startup_finance_report_523fc74c/\u001b[0m\n"
     ]
    }
   ],
   "source": [
    "Report(*report).publish(headline='Startup Finance Report', name = 'startup_finance_report')"
   ]
  },
  {
   "cell_type": "code",
   "execution_count": 14,
   "metadata": {
    "ExecuteTime": {
     "end_time": "2020-06-15T20:40:37.459766Z",
     "start_time": "2020-06-15T20:40:35.316215Z"
    }
   },
   "outputs": [
    {
     "name": "stdout",
     "output_type": "stream",
     "text": [
      "\u001b[34m15:40:35\u001b[0m [\u001b[32mINFO \u001b[0m] Uploading assets for Report\u001b[0m\n",
      "\u001b[34m15:40:36\u001b[0m [\u001b[32mINFO \u001b[0m] Uploading /home/khuyentran/gallery/startup-calculator/dp-tmp-6oyj44gf/dp-tmp-u_u55k3j.vl.json\u001b[0m\n",
      "\u001b[34m15:40:37\u001b[0m [\u001b[32mINFO \u001b[0m] Report published to Datapane as https://datapane.com/khuyen/reports/startup_graph/\u001b[0m\n"
     ]
    }
   ],
   "source": [
    "dp.Report(\n",
    "dp.Plot(chart_final)).publish(headline='Startup Growth Calculator', name = 'startup_graph')"
   ]
  },
  {
   "cell_type": "code",
   "execution_count": null,
   "metadata": {},
   "outputs": [],
   "source": []
  }
 ],
 "metadata": {
  "kernelspec": {
   "display_name": "Python 3",
   "language": "python",
   "name": "python3"
  },
  "language_info": {
   "codemirror_mode": {
    "name": "ipython",
    "version": 3
   },
   "file_extension": ".py",
   "mimetype": "text/x-python",
   "name": "python",
   "nbconvert_exporter": "python",
   "pygments_lexer": "ipython3",
   "version": "3.8.2"
  },
  "latex_envs": {
   "LaTeX_envs_menu_present": true,
   "autoclose": false,
   "autocomplete": true,
   "bibliofile": "biblio.bib",
   "cite_by": "apalike",
   "current_citInitial": 1,
   "eqLabelWithNumbers": true,
   "eqNumInitial": 1,
   "hotkeys": {
    "equation": "Ctrl-E",
    "itemize": "Ctrl-I"
   },
   "labels_anchors": false,
   "latex_user_defs": false,
   "report_style_numbering": false,
   "user_envs_cfg": false
  },
  "toc": {
   "base_numbering": 1,
   "nav_menu": {},
   "number_sections": true,
   "sideBar": true,
   "skip_h1_title": false,
   "title_cell": "Table of Contents",
   "title_sidebar": "Contents",
   "toc_cell": false,
   "toc_position": {},
   "toc_section_display": true,
   "toc_window_display": false
  }
 },
 "nbformat": 4,
 "nbformat_minor": 4
}
