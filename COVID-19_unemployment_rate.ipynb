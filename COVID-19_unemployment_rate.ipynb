{
 "cells": [
  {
   "cell_type": "code",
   "execution_count": 9,
   "metadata": {
    "ExecuteTime": {
     "end_time": "2020-06-26T15:08:45.511666Z",
     "start_time": "2020-06-26T15:08:43.246471Z"
    }
   },
   "outputs": [
    {
     "data": {
      "text/html": [
       "<div>\n",
       "<style scoped>\n",
       "    .dataframe tbody tr th:only-of-type {\n",
       "        vertical-align: middle;\n",
       "    }\n",
       "\n",
       "    .dataframe tbody tr th {\n",
       "        vertical-align: top;\n",
       "    }\n",
       "\n",
       "    .dataframe thead th {\n",
       "        text-align: right;\n",
       "    }\n",
       "</style>\n",
       "<table border=\"1\" class=\"dataframe\">\n",
       "  <thead>\n",
       "    <tr style=\"text-align: right;\">\n",
       "      <th></th>\n",
       "      <th>date</th>\n",
       "      <th>rate</th>\n",
       "      <th>category</th>\n",
       "    </tr>\n",
       "  </thead>\n",
       "  <tbody>\n",
       "    <tr>\n",
       "      <th>0</th>\n",
       "      <td>2017-01-01</td>\n",
       "      <td>4.3</td>\n",
       "      <td>Average</td>\n",
       "    </tr>\n",
       "    <tr>\n",
       "      <th>1</th>\n",
       "      <td>2017-02-01</td>\n",
       "      <td>4.3</td>\n",
       "      <td>Average</td>\n",
       "    </tr>\n",
       "    <tr>\n",
       "      <th>2</th>\n",
       "      <td>2017-03-01</td>\n",
       "      <td>4.1</td>\n",
       "      <td>Average</td>\n",
       "    </tr>\n",
       "    <tr>\n",
       "      <th>3</th>\n",
       "      <td>2017-04-01</td>\n",
       "      <td>4.0</td>\n",
       "      <td>Average</td>\n",
       "    </tr>\n",
       "    <tr>\n",
       "      <th>4</th>\n",
       "      <td>2017-05-01</td>\n",
       "      <td>4.0</td>\n",
       "      <td>Average</td>\n",
       "    </tr>\n",
       "    <tr>\n",
       "      <th>...</th>\n",
       "      <td>...</td>\n",
       "      <td>...</td>\n",
       "      <td>...</td>\n",
       "    </tr>\n",
       "    <tr>\n",
       "      <th>282</th>\n",
       "      <td>2020-01-01</td>\n",
       "      <td>4.8</td>\n",
       "      <td>Hispanic women</td>\n",
       "    </tr>\n",
       "    <tr>\n",
       "      <th>283</th>\n",
       "      <td>2020-02-01</td>\n",
       "      <td>5.0</td>\n",
       "      <td>Hispanic women</td>\n",
       "    </tr>\n",
       "    <tr>\n",
       "      <th>284</th>\n",
       "      <td>2020-03-01</td>\n",
       "      <td>6.1</td>\n",
       "      <td>Hispanic women</td>\n",
       "    </tr>\n",
       "    <tr>\n",
       "      <th>285</th>\n",
       "      <td>2020-04-01</td>\n",
       "      <td>19.8</td>\n",
       "      <td>Hispanic women</td>\n",
       "    </tr>\n",
       "    <tr>\n",
       "      <th>286</th>\n",
       "      <td>2020-05-01</td>\n",
       "      <td>18.6</td>\n",
       "      <td>Hispanic women</td>\n",
       "    </tr>\n",
       "  </tbody>\n",
       "</table>\n",
       "<p>287 rows × 3 columns</p>\n",
       "</div>"
      ],
      "text/plain": [
       "           date  rate        category\n",
       "0    2017-01-01   4.3         Average\n",
       "1    2017-02-01   4.3         Average\n",
       "2    2017-03-01   4.1         Average\n",
       "3    2017-04-01   4.0         Average\n",
       "4    2017-05-01   4.0         Average\n",
       "..          ...   ...             ...\n",
       "282  2020-01-01   4.8  Hispanic women\n",
       "283  2020-02-01   5.0  Hispanic women\n",
       "284  2020-03-01   6.1  Hispanic women\n",
       "285  2020-04-01  19.8  Hispanic women\n",
       "286  2020-05-01  18.6  Hispanic women\n",
       "\n",
       "[287 rows x 3 columns]"
      ]
     },
     "execution_count": 9,
     "metadata": {},
     "output_type": "execute_result"
    }
   ],
   "source": [
    "# Source code from this article: https://towardsdatascience.com/how-to-create-an-animated-bar-chart-in-jupyter-9ee1de8d0e80\n",
    "\n",
    "import pandas as pd\n",
    "import plotly.express as px\n",
    "\n",
    "over20='https://gist.githubusercontent.com/shinokada/dfcdc538dedf136d4a58b9bcdcfc8f18/raw/d1db4261b76af67dd67c00a400e373c175eab428/LNS14000024.csv'\n",
    "over20_white_men='https://gist.githubusercontent.com/shinokada/dfcdc538dedf136d4a58b9bcdcfc8f18/raw/d1db4261b76af67dd67c00a400e373c175eab428/LNS14000028.csv'\n",
    "over20_white_women='https://gist.githubusercontent.com/shinokada/dfcdc538dedf136d4a58b9bcdcfc8f18/raw/d1db4261b76af67dd67c00a400e373c175eab428/LNS14000029.csv'\n",
    "over20_black_men='https://gist.githubusercontent.com/shinokada/dfcdc538dedf136d4a58b9bcdcfc8f18/raw/7d63e7a7495dfb8578120016c7a7dd4edc04e20d/LNS14000031.csv'\n",
    "over20_black_women='https://gist.githubusercontent.com/shinokada/dfcdc538dedf136d4a58b9bcdcfc8f18/raw/d1db4261b76af67dd67c00a400e373c175eab428/LNS14000032.csv'\n",
    "over20_hispanic_men='https://gist.githubusercontent.com/shinokada/dfcdc538dedf136d4a58b9bcdcfc8f18/raw/f693c9bdd76875b12a14033cc54931da894bd341/LNU04000034.csv'\n",
    "over20_hispanic_women='https://gist.githubusercontent.com/shinokada/dfcdc538dedf136d4a58b9bcdcfc8f18/raw/f693c9bdd76875b12a14033cc54931da894bd341/LNU04000035.csv'\n",
    "\n",
    "df_over20 = pd.read_csv(over20)\n",
    "df_over20_wm = pd.read_csv(over20_white_men)\n",
    "df_over20_ww = pd.read_csv(over20_white_women)\n",
    "df_over20_bm = pd.read_csv(over20_black_men)\n",
    "df_over20_bw = pd.read_csv(over20_black_women)\n",
    "df_over20_hm = pd.read_csv(over20_hispanic_men)\n",
    "df_over20_hw = pd.read_csv(over20_hispanic_women)\n",
    "\n",
    "def prepare(dfs, datefrom):\n",
    "    result=[] \n",
    "    for item in dfs:\n",
    "        item.columns = ['date','rate','category']\n",
    "        item = item[item['date']>= datefrom]\n",
    "        result.append(item)\n",
    "    return result\n",
    "\n",
    "dfs = [df_over20, df_over20_wm, df_over20_ww, df_over20_bm, df_over20_bw, df_over20_hm, df_over20_hw]\n",
    "datefrom='2017-01-01'\n",
    "categories = ['Average', 'White men', 'White women', 'Black men', 'Black women','Hispanic men', 'Hispanic women']\n",
    "\n",
    "i=0\n",
    "while i < len(categories):\n",
    "    dfs[i].loc[:,'category'] = categories[i]\n",
    "    i = i+1 \n",
    "    \n",
    "df=prepare(dfs, datefrom)\n",
    "    \n",
    "df = pd.concat(df, ignore_index=True)\n",
    "df "
   ]
  },
  {
   "cell_type": "code",
   "execution_count": 10,
   "metadata": {
    "ExecuteTime": {
     "end_time": "2020-06-26T15:08:46.088873Z",
     "start_time": "2020-06-26T15:08:45.512803Z"
    }
   },
   "outputs": [
    {
     "data": {
      "application/vnd.plotly.v1+json": {
       "config": {
        "plotlyServerURL": "https://plot.ly"
       },
       "data": [
        {
         "alignmentgroup": "True",
         "hovertemplate": "category=%{x}<br>date=2017-01-01<br>rate=%{y}<extra></extra>",
         "ids": [
          "Average"
         ],
         "legendgroup": "Average",
         "marker": {
          "color": "#636efa"
         },
         "name": "Average",
         "offsetgroup": "Average",
         "orientation": "v",
         "showlegend": true,
         "textposition": "auto",
         "type": "bar",
         "x": [
          "Average"
         ],
         "xaxis": "x",
         "y": [
          4.3
         ],
         "yaxis": "y"
        },
        {
         "alignmentgroup": "True",
         "hovertemplate": "category=%{x}<br>date=2017-01-01<br>rate=%{y}<extra></extra>",
         "ids": [
          "White men"
         ],
         "legendgroup": "White men",
         "marker": {
          "color": "#EF553B"
         },
         "name": "White men",
         "offsetgroup": "White men",
         "orientation": "v",
         "showlegend": true,
         "textposition": "auto",
         "type": "bar",
         "x": [
          "White men"
         ],
         "xaxis": "x",
         "y": [
          3.9
         ],
         "yaxis": "y"
        },
        {
         "alignmentgroup": "True",
         "hovertemplate": "category=%{x}<br>date=2017-01-01<br>rate=%{y}<extra></extra>",
         "ids": [
          "White women"
         ],
         "legendgroup": "White women",
         "marker": {
          "color": "#00cc96"
         },
         "name": "White women",
         "offsetgroup": "White women",
         "orientation": "v",
         "showlegend": true,
         "textposition": "auto",
         "type": "bar",
         "x": [
          "White women"
         ],
         "xaxis": "x",
         "y": [
          3.9
         ],
         "yaxis": "y"
        },
        {
         "alignmentgroup": "True",
         "hovertemplate": "category=%{x}<br>date=2017-01-01<br>rate=%{y}<extra></extra>",
         "ids": [
          "Black men"
         ],
         "legendgroup": "Black men",
         "marker": {
          "color": "#ab63fa"
         },
         "name": "Black men",
         "offsetgroup": "Black men",
         "orientation": "v",
         "showlegend": true,
         "textposition": "auto",
         "type": "bar",
         "x": [
          "Black men"
         ],
         "xaxis": "x",
         "y": [
          7.2
         ],
         "yaxis": "y"
        },
        {
         "alignmentgroup": "True",
         "hovertemplate": "category=%{x}<br>date=2017-01-01<br>rate=%{y}<extra></extra>",
         "ids": [
          "Black women"
         ],
         "legendgroup": "Black women",
         "marker": {
          "color": "#FFA15A"
         },
         "name": "Black women",
         "offsetgroup": "Black women",
         "orientation": "v",
         "showlegend": true,
         "textposition": "auto",
         "type": "bar",
         "x": [
          "Black women"
         ],
         "xaxis": "x",
         "y": [
          6.4
         ],
         "yaxis": "y"
        },
        {
         "alignmentgroup": "True",
         "hovertemplate": "category=%{x}<br>date=2017-01-01<br>rate=%{y}<extra></extra>",
         "ids": [
          "Hispanic men"
         ],
         "legendgroup": "Hispanic men",
         "marker": {
          "color": "#19d3f3"
         },
         "name": "Hispanic men",
         "offsetgroup": "Hispanic men",
         "orientation": "v",
         "showlegend": true,
         "textposition": "auto",
         "type": "bar",
         "x": [
          "Hispanic men"
         ],
         "xaxis": "x",
         "y": [
          5.9
         ],
         "yaxis": "y"
        },
        {
         "alignmentgroup": "True",
         "hovertemplate": "category=%{x}<br>date=2017-01-01<br>rate=%{y}<extra></extra>",
         "ids": [
          "Hispanic women"
         ],
         "legendgroup": "Hispanic women",
         "marker": {
          "color": "#FF6692"
         },
         "name": "Hispanic women",
         "offsetgroup": "Hispanic women",
         "orientation": "v",
         "showlegend": true,
         "textposition": "auto",
         "type": "bar",
         "x": [
          "Hispanic women"
         ],
         "xaxis": "x",
         "y": [
          6.6
         ],
         "yaxis": "y"
        }
       ],
       "frames": [
        {
         "data": [
          {
           "alignmentgroup": "True",
           "hovertemplate": "category=%{x}<br>date=2017-01-01<br>rate=%{y}<extra></extra>",
           "ids": [
            "Average"
           ],
           "legendgroup": "Average",
           "marker": {
            "color": "#636efa"
           },
           "name": "Average",
           "offsetgroup": "Average",
           "orientation": "v",
           "showlegend": true,
           "textposition": "auto",
           "type": "bar",
           "x": [
            "Average"
           ],
           "xaxis": "x",
           "y": [
            4.3
           ],
           "yaxis": "y"
          },
          {
           "alignmentgroup": "True",
           "hovertemplate": "category=%{x}<br>date=2017-01-01<br>rate=%{y}<extra></extra>",
           "ids": [
            "White men"
           ],
           "legendgroup": "White men",
           "marker": {
            "color": "#EF553B"
           },
           "name": "White men",
           "offsetgroup": "White men",
           "orientation": "v",
           "showlegend": true,
           "textposition": "auto",
           "type": "bar",
           "x": [
            "White men"
           ],
           "xaxis": "x",
           "y": [
            3.9
           ],
           "yaxis": "y"
          },
          {
           "alignmentgroup": "True",
           "hovertemplate": "category=%{x}<br>date=2017-01-01<br>rate=%{y}<extra></extra>",
           "ids": [
            "White women"
           ],
           "legendgroup": "White women",
           "marker": {
            "color": "#00cc96"
           },
           "name": "White women",
           "offsetgroup": "White women",
           "orientation": "v",
           "showlegend": true,
           "textposition": "auto",
           "type": "bar",
           "x": [
            "White women"
           ],
           "xaxis": "x",
           "y": [
            3.9
           ],
           "yaxis": "y"
          },
          {
           "alignmentgroup": "True",
           "hovertemplate": "category=%{x}<br>date=2017-01-01<br>rate=%{y}<extra></extra>",
           "ids": [
            "Black men"
           ],
           "legendgroup": "Black men",
           "marker": {
            "color": "#ab63fa"
           },
           "name": "Black men",
           "offsetgroup": "Black men",
           "orientation": "v",
           "showlegend": true,
           "textposition": "auto",
           "type": "bar",
           "x": [
            "Black men"
           ],
           "xaxis": "x",
           "y": [
            7.2
           ],
           "yaxis": "y"
          },
          {
           "alignmentgroup": "True",
           "hovertemplate": "category=%{x}<br>date=2017-01-01<br>rate=%{y}<extra></extra>",
           "ids": [
            "Black women"
           ],
           "legendgroup": "Black women",
           "marker": {
            "color": "#FFA15A"
           },
           "name": "Black women",
           "offsetgroup": "Black women",
           "orientation": "v",
           "showlegend": true,
           "textposition": "auto",
           "type": "bar",
           "x": [
            "Black women"
           ],
           "xaxis": "x",
           "y": [
            6.4
           ],
           "yaxis": "y"
          },
          {
           "alignmentgroup": "True",
           "hovertemplate": "category=%{x}<br>date=2017-01-01<br>rate=%{y}<extra></extra>",
           "ids": [
            "Hispanic men"
           ],
           "legendgroup": "Hispanic men",
           "marker": {
            "color": "#19d3f3"
           },
           "name": "Hispanic men",
           "offsetgroup": "Hispanic men",
           "orientation": "v",
           "showlegend": true,
           "textposition": "auto",
           "type": "bar",
           "x": [
            "Hispanic men"
           ],
           "xaxis": "x",
           "y": [
            5.9
           ],
           "yaxis": "y"
          },
          {
           "alignmentgroup": "True",
           "hovertemplate": "category=%{x}<br>date=2017-01-01<br>rate=%{y}<extra></extra>",
           "ids": [
            "Hispanic women"
           ],
           "legendgroup": "Hispanic women",
           "marker": {
            "color": "#FF6692"
           },
           "name": "Hispanic women",
           "offsetgroup": "Hispanic women",
           "orientation": "v",
           "showlegend": true,
           "textposition": "auto",
           "type": "bar",
           "x": [
            "Hispanic women"
           ],
           "xaxis": "x",
           "y": [
            6.6
           ],
           "yaxis": "y"
          }
         ],
         "name": "2017-01-01"
        },
        {
         "data": [
          {
           "alignmentgroup": "True",
           "hovertemplate": "category=%{x}<br>date=2017-02-01<br>rate=%{y}<extra></extra>",
           "ids": [
            "Average"
           ],
           "legendgroup": "Average",
           "marker": {
            "color": "#636efa"
           },
           "name": "Average",
           "offsetgroup": "Average",
           "orientation": "v",
           "showlegend": true,
           "textposition": "auto",
           "type": "bar",
           "x": [
            "Average"
           ],
           "xaxis": "x",
           "y": [
            4.3
           ],
           "yaxis": "y"
          },
          {
           "alignmentgroup": "True",
           "hovertemplate": "category=%{x}<br>date=2017-02-01<br>rate=%{y}<extra></extra>",
           "ids": [
            "White men"
           ],
           "legendgroup": "White men",
           "marker": {
            "color": "#EF553B"
           },
           "name": "White men",
           "offsetgroup": "White men",
           "orientation": "v",
           "showlegend": true,
           "textposition": "auto",
           "type": "bar",
           "x": [
            "White men"
           ],
           "xaxis": "x",
           "y": [
            3.7
           ],
           "yaxis": "y"
          },
          {
           "alignmentgroup": "True",
           "hovertemplate": "category=%{x}<br>date=2017-02-01<br>rate=%{y}<extra></extra>",
           "ids": [
            "White women"
           ],
           "legendgroup": "White women",
           "marker": {
            "color": "#00cc96"
           },
           "name": "White women",
           "offsetgroup": "White women",
           "orientation": "v",
           "showlegend": true,
           "textposition": "auto",
           "type": "bar",
           "x": [
            "White women"
           ],
           "xaxis": "x",
           "y": [
            3.7
           ],
           "yaxis": "y"
          },
          {
           "alignmentgroup": "True",
           "hovertemplate": "category=%{x}<br>date=2017-02-01<br>rate=%{y}<extra></extra>",
           "ids": [
            "Black men"
           ],
           "legendgroup": "Black men",
           "marker": {
            "color": "#ab63fa"
           },
           "name": "Black men",
           "offsetgroup": "Black men",
           "orientation": "v",
           "showlegend": true,
           "textposition": "auto",
           "type": "bar",
           "x": [
            "Black men"
           ],
           "xaxis": "x",
           "y": [
            7.7
           ],
           "yaxis": "y"
          },
          {
           "alignmentgroup": "True",
           "hovertemplate": "category=%{x}<br>date=2017-02-01<br>rate=%{y}<extra></extra>",
           "ids": [
            "Black women"
           ],
           "legendgroup": "Black women",
           "marker": {
            "color": "#FFA15A"
           },
           "name": "Black women",
           "offsetgroup": "Black women",
           "orientation": "v",
           "showlegend": true,
           "textposition": "auto",
           "type": "bar",
           "x": [
            "Black women"
           ],
           "xaxis": "x",
           "y": [
            6.9
           ],
           "yaxis": "y"
          },
          {
           "alignmentgroup": "True",
           "hovertemplate": "category=%{x}<br>date=2017-02-01<br>rate=%{y}<extra></extra>",
           "ids": [
            "Hispanic men"
           ],
           "legendgroup": "Hispanic men",
           "marker": {
            "color": "#19d3f3"
           },
           "name": "Hispanic men",
           "offsetgroup": "Hispanic men",
           "orientation": "v",
           "showlegend": true,
           "textposition": "auto",
           "type": "bar",
           "x": [
            "Hispanic men"
           ],
           "xaxis": "x",
           "y": [
            5.4
           ],
           "yaxis": "y"
          },
          {
           "alignmentgroup": "True",
           "hovertemplate": "category=%{x}<br>date=2017-02-01<br>rate=%{y}<extra></extra>",
           "ids": [
            "Hispanic women"
           ],
           "legendgroup": "Hispanic women",
           "marker": {
            "color": "#FF6692"
           },
           "name": "Hispanic women",
           "offsetgroup": "Hispanic women",
           "orientation": "v",
           "showlegend": true,
           "textposition": "auto",
           "type": "bar",
           "x": [
            "Hispanic women"
           ],
           "xaxis": "x",
           "y": [
            5.7
           ],
           "yaxis": "y"
          }
         ],
         "name": "2017-02-01"
        },
        {
         "data": [
          {
           "alignmentgroup": "True",
           "hovertemplate": "category=%{x}<br>date=2017-03-01<br>rate=%{y}<extra></extra>",
           "ids": [
            "Average"
           ],
           "legendgroup": "Average",
           "marker": {
            "color": "#636efa"
           },
           "name": "Average",
           "offsetgroup": "Average",
           "orientation": "v",
           "showlegend": true,
           "textposition": "auto",
           "type": "bar",
           "x": [
            "Average"
           ],
           "xaxis": "x",
           "y": [
            4.1
           ],
           "yaxis": "y"
          },
          {
           "alignmentgroup": "True",
           "hovertemplate": "category=%{x}<br>date=2017-03-01<br>rate=%{y}<extra></extra>",
           "ids": [
            "White men"
           ],
           "legendgroup": "White men",
           "marker": {
            "color": "#EF553B"
           },
           "name": "White men",
           "offsetgroup": "White men",
           "orientation": "v",
           "showlegend": true,
           "textposition": "auto",
           "type": "bar",
           "x": [
            "White men"
           ],
           "xaxis": "x",
           "y": [
            3.6
           ],
           "yaxis": "y"
          },
          {
           "alignmentgroup": "True",
           "hovertemplate": "category=%{x}<br>date=2017-03-01<br>rate=%{y}<extra></extra>",
           "ids": [
            "White women"
           ],
           "legendgroup": "White women",
           "marker": {
            "color": "#00cc96"
           },
           "name": "White women",
           "offsetgroup": "White women",
           "orientation": "v",
           "showlegend": true,
           "textposition": "auto",
           "type": "bar",
           "x": [
            "White women"
           ],
           "xaxis": "x",
           "y": [
            3.6
           ],
           "yaxis": "y"
          },
          {
           "alignmentgroup": "True",
           "hovertemplate": "category=%{x}<br>date=2017-03-01<br>rate=%{y}<extra></extra>",
           "ids": [
            "Black men"
           ],
           "legendgroup": "Black men",
           "marker": {
            "color": "#ab63fa"
           },
           "name": "Black men",
           "offsetgroup": "Black men",
           "orientation": "v",
           "showlegend": true,
           "textposition": "auto",
           "type": "bar",
           "x": [
            "Black men"
           ],
           "xaxis": "x",
           "y": [
            8.3
           ],
           "yaxis": "y"
          },
          {
           "alignmentgroup": "True",
           "hovertemplate": "category=%{x}<br>date=2017-03-01<br>rate=%{y}<extra></extra>",
           "ids": [
            "Black women"
           ],
           "legendgroup": "Black women",
           "marker": {
            "color": "#FFA15A"
           },
           "name": "Black women",
           "offsetgroup": "Black women",
           "orientation": "v",
           "showlegend": true,
           "textposition": "auto",
           "type": "bar",
           "x": [
            "Black women"
           ],
           "xaxis": "x",
           "y": [
            6.4
           ],
           "yaxis": "y"
          },
          {
           "alignmentgroup": "True",
           "hovertemplate": "category=%{x}<br>date=2017-03-01<br>rate=%{y}<extra></extra>",
           "ids": [
            "Hispanic men"
           ],
           "legendgroup": "Hispanic men",
           "marker": {
            "color": "#19d3f3"
           },
           "name": "Hispanic men",
           "offsetgroup": "Hispanic men",
           "orientation": "v",
           "showlegend": true,
           "textposition": "auto",
           "type": "bar",
           "x": [
            "Hispanic men"
           ],
           "xaxis": "x",
           "y": [
            4.8
           ],
           "yaxis": "y"
          },
          {
           "alignmentgroup": "True",
           "hovertemplate": "category=%{x}<br>date=2017-03-01<br>rate=%{y}<extra></extra>",
           "ids": [
            "Hispanic women"
           ],
           "legendgroup": "Hispanic women",
           "marker": {
            "color": "#FF6692"
           },
           "name": "Hispanic women",
           "offsetgroup": "Hispanic women",
           "orientation": "v",
           "showlegend": true,
           "textposition": "auto",
           "type": "bar",
           "x": [
            "Hispanic women"
           ],
           "xaxis": "x",
           "y": [
            4.8
           ],
           "yaxis": "y"
          }
         ],
         "name": "2017-03-01"
        },
        {
         "data": [
          {
           "alignmentgroup": "True",
           "hovertemplate": "category=%{x}<br>date=2017-04-01<br>rate=%{y}<extra></extra>",
           "ids": [
            "Average"
           ],
           "legendgroup": "Average",
           "marker": {
            "color": "#636efa"
           },
           "name": "Average",
           "offsetgroup": "Average",
           "orientation": "v",
           "showlegend": true,
           "textposition": "auto",
           "type": "bar",
           "x": [
            "Average"
           ],
           "xaxis": "x",
           "y": [
            4
           ],
           "yaxis": "y"
          },
          {
           "alignmentgroup": "True",
           "hovertemplate": "category=%{x}<br>date=2017-04-01<br>rate=%{y}<extra></extra>",
           "ids": [
            "White men"
           ],
           "legendgroup": "White men",
           "marker": {
            "color": "#EF553B"
           },
           "name": "White men",
           "offsetgroup": "White men",
           "orientation": "v",
           "showlegend": true,
           "textposition": "auto",
           "type": "bar",
           "x": [
            "White men"
           ],
           "xaxis": "x",
           "y": [
            3.4
           ],
           "yaxis": "y"
          },
          {
           "alignmentgroup": "True",
           "hovertemplate": "category=%{x}<br>date=2017-04-01<br>rate=%{y}<extra></extra>",
           "ids": [
            "White women"
           ],
           "legendgroup": "White women",
           "marker": {
            "color": "#00cc96"
           },
           "name": "White women",
           "offsetgroup": "White women",
           "orientation": "v",
           "showlegend": true,
           "textposition": "auto",
           "type": "bar",
           "x": [
            "White women"
           ],
           "xaxis": "x",
           "y": [
            3.6
           ],
           "yaxis": "y"
          },
          {
           "alignmentgroup": "True",
           "hovertemplate": "category=%{x}<br>date=2017-04-01<br>rate=%{y}<extra></extra>",
           "ids": [
            "Black men"
           ],
           "legendgroup": "Black men",
           "marker": {
            "color": "#ab63fa"
           },
           "name": "Black men",
           "offsetgroup": "Black men",
           "orientation": "v",
           "showlegend": true,
           "textposition": "auto",
           "type": "bar",
           "x": [
            "Black men"
           ],
           "xaxis": "x",
           "y": [
            7.1
           ],
           "yaxis": "y"
          },
          {
           "alignmentgroup": "True",
           "hovertemplate": "category=%{x}<br>date=2017-04-01<br>rate=%{y}<extra></extra>",
           "ids": [
            "Black women"
           ],
           "legendgroup": "Black women",
           "marker": {
            "color": "#FFA15A"
           },
           "name": "Black women",
           "offsetgroup": "Black women",
           "orientation": "v",
           "showlegend": true,
           "textposition": "auto",
           "type": "bar",
           "x": [
            "Black women"
           ],
           "xaxis": "x",
           "y": [
            7.1
           ],
           "yaxis": "y"
          },
          {
           "alignmentgroup": "True",
           "hovertemplate": "category=%{x}<br>date=2017-04-01<br>rate=%{y}<extra></extra>",
           "ids": [
            "Hispanic men"
           ],
           "legendgroup": "Hispanic men",
           "marker": {
            "color": "#19d3f3"
           },
           "name": "Hispanic men",
           "offsetgroup": "Hispanic men",
           "orientation": "v",
           "showlegend": true,
           "textposition": "auto",
           "type": "bar",
           "x": [
            "Hispanic men"
           ],
           "xaxis": "x",
           "y": [
            3.8
           ],
           "yaxis": "y"
          },
          {
           "alignmentgroup": "True",
           "hovertemplate": "category=%{x}<br>date=2017-04-01<br>rate=%{y}<extra></extra>",
           "ids": [
            "Hispanic women"
           ],
           "legendgroup": "Hispanic women",
           "marker": {
            "color": "#FF6692"
           },
           "name": "Hispanic women",
           "offsetgroup": "Hispanic women",
           "orientation": "v",
           "showlegend": true,
           "textposition": "auto",
           "type": "bar",
           "x": [
            "Hispanic women"
           ],
           "xaxis": "x",
           "y": [
            5.1
           ],
           "yaxis": "y"
          }
         ],
         "name": "2017-04-01"
        },
        {
         "data": [
          {
           "alignmentgroup": "True",
           "hovertemplate": "category=%{x}<br>date=2017-05-01<br>rate=%{y}<extra></extra>",
           "ids": [
            "Average"
           ],
           "legendgroup": "Average",
           "marker": {
            "color": "#636efa"
           },
           "name": "Average",
           "offsetgroup": "Average",
           "orientation": "v",
           "showlegend": true,
           "textposition": "auto",
           "type": "bar",
           "x": [
            "Average"
           ],
           "xaxis": "x",
           "y": [
            4
           ],
           "yaxis": "y"
          },
          {
           "alignmentgroup": "True",
           "hovertemplate": "category=%{x}<br>date=2017-05-01<br>rate=%{y}<extra></extra>",
           "ids": [
            "White men"
           ],
           "legendgroup": "White men",
           "marker": {
            "color": "#EF553B"
           },
           "name": "White men",
           "offsetgroup": "White men",
           "orientation": "v",
           "showlegend": true,
           "textposition": "auto",
           "type": "bar",
           "x": [
            "White men"
           ],
           "xaxis": "x",
           "y": [
            3.5
           ],
           "yaxis": "y"
          },
          {
           "alignmentgroup": "True",
           "hovertemplate": "category=%{x}<br>date=2017-05-01<br>rate=%{y}<extra></extra>",
           "ids": [
            "White women"
           ],
           "legendgroup": "White women",
           "marker": {
            "color": "#00cc96"
           },
           "name": "White women",
           "offsetgroup": "White women",
           "orientation": "v",
           "showlegend": true,
           "textposition": "auto",
           "type": "bar",
           "x": [
            "White women"
           ],
           "xaxis": "x",
           "y": [
            3.5
           ],
           "yaxis": "y"
          },
          {
           "alignmentgroup": "True",
           "hovertemplate": "category=%{x}<br>date=2017-05-01<br>rate=%{y}<extra></extra>",
           "ids": [
            "Black men"
           ],
           "legendgroup": "Black men",
           "marker": {
            "color": "#ab63fa"
           },
           "name": "Black men",
           "offsetgroup": "Black men",
           "orientation": "v",
           "showlegend": true,
           "textposition": "auto",
           "type": "bar",
           "x": [
            "Black men"
           ],
           "xaxis": "x",
           "y": [
            6.8
           ],
           "yaxis": "y"
          },
          {
           "alignmentgroup": "True",
           "hovertemplate": "category=%{x}<br>date=2017-05-01<br>rate=%{y}<extra></extra>",
           "ids": [
            "Black women"
           ],
           "legendgroup": "Black women",
           "marker": {
            "color": "#FFA15A"
           },
           "name": "Black women",
           "offsetgroup": "Black women",
           "orientation": "v",
           "showlegend": true,
           "textposition": "auto",
           "type": "bar",
           "x": [
            "Black women"
           ],
           "xaxis": "x",
           "y": [
            7
           ],
           "yaxis": "y"
          },
          {
           "alignmentgroup": "True",
           "hovertemplate": "category=%{x}<br>date=2017-05-01<br>rate=%{y}<extra></extra>",
           "ids": [
            "Hispanic men"
           ],
           "legendgroup": "Hispanic men",
           "marker": {
            "color": "#19d3f3"
           },
           "name": "Hispanic men",
           "offsetgroup": "Hispanic men",
           "orientation": "v",
           "showlegend": true,
           "textposition": "auto",
           "type": "bar",
           "x": [
            "Hispanic men"
           ],
           "xaxis": "x",
           "y": [
            3.9
           ],
           "yaxis": "y"
          },
          {
           "alignmentgroup": "True",
           "hovertemplate": "category=%{x}<br>date=2017-05-01<br>rate=%{y}<extra></extra>",
           "ids": [
            "Hispanic women"
           ],
           "legendgroup": "Hispanic women",
           "marker": {
            "color": "#FF6692"
           },
           "name": "Hispanic women",
           "offsetgroup": "Hispanic women",
           "orientation": "v",
           "showlegend": true,
           "textposition": "auto",
           "type": "bar",
           "x": [
            "Hispanic women"
           ],
           "xaxis": "x",
           "y": [
            5
           ],
           "yaxis": "y"
          }
         ],
         "name": "2017-05-01"
        },
        {
         "data": [
          {
           "alignmentgroup": "True",
           "hovertemplate": "category=%{x}<br>date=2017-06-01<br>rate=%{y}<extra></extra>",
           "ids": [
            "Average"
           ],
           "legendgroup": "Average",
           "marker": {
            "color": "#636efa"
           },
           "name": "Average",
           "offsetgroup": "Average",
           "orientation": "v",
           "showlegend": true,
           "textposition": "auto",
           "type": "bar",
           "x": [
            "Average"
           ],
           "xaxis": "x",
           "y": [
            4
           ],
           "yaxis": "y"
          },
          {
           "alignmentgroup": "True",
           "hovertemplate": "category=%{x}<br>date=2017-06-01<br>rate=%{y}<extra></extra>",
           "ids": [
            "White men"
           ],
           "legendgroup": "White men",
           "marker": {
            "color": "#EF553B"
           },
           "name": "White men",
           "offsetgroup": "White men",
           "orientation": "v",
           "showlegend": true,
           "textposition": "auto",
           "type": "bar",
           "x": [
            "White men"
           ],
           "xaxis": "x",
           "y": [
            3.5
           ],
           "yaxis": "y"
          },
          {
           "alignmentgroup": "True",
           "hovertemplate": "category=%{x}<br>date=2017-06-01<br>rate=%{y}<extra></extra>",
           "ids": [
            "White women"
           ],
           "legendgroup": "White women",
           "marker": {
            "color": "#00cc96"
           },
           "name": "White women",
           "offsetgroup": "White women",
           "orientation": "v",
           "showlegend": true,
           "textposition": "auto",
           "type": "bar",
           "x": [
            "White women"
           ],
           "xaxis": "x",
           "y": [
            3.4
           ],
           "yaxis": "y"
          },
          {
           "alignmentgroup": "True",
           "hovertemplate": "category=%{x}<br>date=2017-06-01<br>rate=%{y}<extra></extra>",
           "ids": [
            "Black men"
           ],
           "legendgroup": "Black men",
           "marker": {
            "color": "#ab63fa"
           },
           "name": "Black men",
           "offsetgroup": "Black men",
           "orientation": "v",
           "showlegend": true,
           "textposition": "auto",
           "type": "bar",
           "x": [
            "Black men"
           ],
           "xaxis": "x",
           "y": [
            6.3
           ],
           "yaxis": "y"
          },
          {
           "alignmentgroup": "True",
           "hovertemplate": "category=%{x}<br>date=2017-06-01<br>rate=%{y}<extra></extra>",
           "ids": [
            "Black women"
           ],
           "legendgroup": "Black women",
           "marker": {
            "color": "#FFA15A"
           },
           "name": "Black women",
           "offsetgroup": "Black women",
           "orientation": "v",
           "showlegend": true,
           "textposition": "auto",
           "type": "bar",
           "x": [
            "Black women"
           ],
           "xaxis": "x",
           "y": [
            6.8
           ],
           "yaxis": "y"
          },
          {
           "alignmentgroup": "True",
           "hovertemplate": "category=%{x}<br>date=2017-06-01<br>rate=%{y}<extra></extra>",
           "ids": [
            "Hispanic men"
           ],
           "legendgroup": "Hispanic men",
           "marker": {
            "color": "#19d3f3"
           },
           "name": "Hispanic men",
           "offsetgroup": "Hispanic men",
           "orientation": "v",
           "showlegend": true,
           "textposition": "auto",
           "type": "bar",
           "x": [
            "Hispanic men"
           ],
           "xaxis": "x",
           "y": [
            3.5
           ],
           "yaxis": "y"
          },
          {
           "alignmentgroup": "True",
           "hovertemplate": "category=%{x}<br>date=2017-06-01<br>rate=%{y}<extra></extra>",
           "ids": [
            "Hispanic women"
           ],
           "legendgroup": "Hispanic women",
           "marker": {
            "color": "#FF6692"
           },
           "name": "Hispanic women",
           "offsetgroup": "Hispanic women",
           "orientation": "v",
           "showlegend": true,
           "textposition": "auto",
           "type": "bar",
           "x": [
            "Hispanic women"
           ],
           "xaxis": "x",
           "y": [
            5.3
           ],
           "yaxis": "y"
          }
         ],
         "name": "2017-06-01"
        },
        {
         "data": [
          {
           "alignmentgroup": "True",
           "hovertemplate": "category=%{x}<br>date=2017-07-01<br>rate=%{y}<extra></extra>",
           "ids": [
            "Average"
           ],
           "legendgroup": "Average",
           "marker": {
            "color": "#636efa"
           },
           "name": "Average",
           "offsetgroup": "Average",
           "orientation": "v",
           "showlegend": true,
           "textposition": "auto",
           "type": "bar",
           "x": [
            "Average"
           ],
           "xaxis": "x",
           "y": [
            3.9
           ],
           "yaxis": "y"
          },
          {
           "alignmentgroup": "True",
           "hovertemplate": "category=%{x}<br>date=2017-07-01<br>rate=%{y}<extra></extra>",
           "ids": [
            "White men"
           ],
           "legendgroup": "White men",
           "marker": {
            "color": "#EF553B"
           },
           "name": "White men",
           "offsetgroup": "White men",
           "orientation": "v",
           "showlegend": true,
           "textposition": "auto",
           "type": "bar",
           "x": [
            "White men"
           ],
           "xaxis": "x",
           "y": [
            3.4
           ],
           "yaxis": "y"
          },
          {
           "alignmentgroup": "True",
           "hovertemplate": "category=%{x}<br>date=2017-07-01<br>rate=%{y}<extra></extra>",
           "ids": [
            "White women"
           ],
           "legendgroup": "White women",
           "marker": {
            "color": "#00cc96"
           },
           "name": "White women",
           "offsetgroup": "White women",
           "orientation": "v",
           "showlegend": true,
           "textposition": "auto",
           "type": "bar",
           "x": [
            "White women"
           ],
           "xaxis": "x",
           "y": [
            3.4
           ],
           "yaxis": "y"
          },
          {
           "alignmentgroup": "True",
           "hovertemplate": "category=%{x}<br>date=2017-07-01<br>rate=%{y}<extra></extra>",
           "ids": [
            "Black men"
           ],
           "legendgroup": "Black men",
           "marker": {
            "color": "#ab63fa"
           },
           "name": "Black men",
           "offsetgroup": "Black men",
           "orientation": "v",
           "showlegend": true,
           "textposition": "auto",
           "type": "bar",
           "x": [
            "Black men"
           ],
           "xaxis": "x",
           "y": [
            7.2
           ],
           "yaxis": "y"
          },
          {
           "alignmentgroup": "True",
           "hovertemplate": "category=%{x}<br>date=2017-07-01<br>rate=%{y}<extra></extra>",
           "ids": [
            "Black women"
           ],
           "legendgroup": "Black women",
           "marker": {
            "color": "#FFA15A"
           },
           "name": "Black women",
           "offsetgroup": "Black women",
           "orientation": "v",
           "showlegend": true,
           "textposition": "auto",
           "type": "bar",
           "x": [
            "Black women"
           ],
           "xaxis": "x",
           "y": [
            6.4
           ],
           "yaxis": "y"
          },
          {
           "alignmentgroup": "True",
           "hovertemplate": "category=%{x}<br>date=2017-07-01<br>rate=%{y}<extra></extra>",
           "ids": [
            "Hispanic men"
           ],
           "legendgroup": "Hispanic men",
           "marker": {
            "color": "#19d3f3"
           },
           "name": "Hispanic men",
           "offsetgroup": "Hispanic men",
           "orientation": "v",
           "showlegend": true,
           "textposition": "auto",
           "type": "bar",
           "x": [
            "Hispanic men"
           ],
           "xaxis": "x",
           "y": [
            4
           ],
           "yaxis": "y"
          },
          {
           "alignmentgroup": "True",
           "hovertemplate": "category=%{x}<br>date=2017-07-01<br>rate=%{y}<extra></extra>",
           "ids": [
            "Hispanic women"
           ],
           "legendgroup": "Hispanic women",
           "marker": {
            "color": "#FF6692"
           },
           "name": "Hispanic women",
           "offsetgroup": "Hispanic women",
           "orientation": "v",
           "showlegend": true,
           "textposition": "auto",
           "type": "bar",
           "x": [
            "Hispanic women"
           ],
           "xaxis": "x",
           "y": [
            5.7
           ],
           "yaxis": "y"
          }
         ],
         "name": "2017-07-01"
        },
        {
         "data": [
          {
           "alignmentgroup": "True",
           "hovertemplate": "category=%{x}<br>date=2017-08-01<br>rate=%{y}<extra></extra>",
           "ids": [
            "Average"
           ],
           "legendgroup": "Average",
           "marker": {
            "color": "#636efa"
           },
           "name": "Average",
           "offsetgroup": "Average",
           "orientation": "v",
           "showlegend": true,
           "textposition": "auto",
           "type": "bar",
           "x": [
            "Average"
           ],
           "xaxis": "x",
           "y": [
            4.1
           ],
           "yaxis": "y"
          },
          {
           "alignmentgroup": "True",
           "hovertemplate": "category=%{x}<br>date=2017-08-01<br>rate=%{y}<extra></extra>",
           "ids": [
            "White men"
           ],
           "legendgroup": "White men",
           "marker": {
            "color": "#EF553B"
           },
           "name": "White men",
           "offsetgroup": "White men",
           "orientation": "v",
           "showlegend": true,
           "textposition": "auto",
           "type": "bar",
           "x": [
            "White men"
           ],
           "xaxis": "x",
           "y": [
            3.5
           ],
           "yaxis": "y"
          },
          {
           "alignmentgroup": "True",
           "hovertemplate": "category=%{x}<br>date=2017-08-01<br>rate=%{y}<extra></extra>",
           "ids": [
            "White women"
           ],
           "legendgroup": "White women",
           "marker": {
            "color": "#00cc96"
           },
           "name": "White women",
           "offsetgroup": "White women",
           "orientation": "v",
           "showlegend": true,
           "textposition": "auto",
           "type": "bar",
           "x": [
            "White women"
           ],
           "xaxis": "x",
           "y": [
            3.5
           ],
           "yaxis": "y"
          },
          {
           "alignmentgroup": "True",
           "hovertemplate": "category=%{x}<br>date=2017-08-01<br>rate=%{y}<extra></extra>",
           "ids": [
            "Black men"
           ],
           "legendgroup": "Black men",
           "marker": {
            "color": "#ab63fa"
           },
           "name": "Black men",
           "offsetgroup": "Black men",
           "orientation": "v",
           "showlegend": true,
           "textposition": "auto",
           "type": "bar",
           "x": [
            "Black men"
           ],
           "xaxis": "x",
           "y": [
            7.7
           ],
           "yaxis": "y"
          },
          {
           "alignmentgroup": "True",
           "hovertemplate": "category=%{x}<br>date=2017-08-01<br>rate=%{y}<extra></extra>",
           "ids": [
            "Black women"
           ],
           "legendgroup": "Black women",
           "marker": {
            "color": "#FFA15A"
           },
           "name": "Black women",
           "offsetgroup": "Black women",
           "orientation": "v",
           "showlegend": true,
           "textposition": "auto",
           "type": "bar",
           "x": [
            "Black women"
           ],
           "xaxis": "x",
           "y": [
            6.4
           ],
           "yaxis": "y"
          },
          {
           "alignmentgroup": "True",
           "hovertemplate": "category=%{x}<br>date=2017-08-01<br>rate=%{y}<extra></extra>",
           "ids": [
            "Hispanic men"
           ],
           "legendgroup": "Hispanic men",
           "marker": {
            "color": "#19d3f3"
           },
           "name": "Hispanic men",
           "offsetgroup": "Hispanic men",
           "orientation": "v",
           "showlegend": true,
           "textposition": "auto",
           "type": "bar",
           "x": [
            "Hispanic men"
           ],
           "xaxis": "x",
           "y": [
            4.5
           ],
           "yaxis": "y"
          },
          {
           "alignmentgroup": "True",
           "hovertemplate": "category=%{x}<br>date=2017-08-01<br>rate=%{y}<extra></extra>",
           "ids": [
            "Hispanic women"
           ],
           "legendgroup": "Hispanic women",
           "marker": {
            "color": "#FF6692"
           },
           "name": "Hispanic women",
           "offsetgroup": "Hispanic women",
           "orientation": "v",
           "showlegend": true,
           "textposition": "auto",
           "type": "bar",
           "x": [
            "Hispanic women"
           ],
           "xaxis": "x",
           "y": [
            5
           ],
           "yaxis": "y"
          }
         ],
         "name": "2017-08-01"
        },
        {
         "data": [
          {
           "alignmentgroup": "True",
           "hovertemplate": "category=%{x}<br>date=2017-09-01<br>rate=%{y}<extra></extra>",
           "ids": [
            "Average"
           ],
           "legendgroup": "Average",
           "marker": {
            "color": "#636efa"
           },
           "name": "Average",
           "offsetgroup": "Average",
           "orientation": "v",
           "showlegend": true,
           "textposition": "auto",
           "type": "bar",
           "x": [
            "Average"
           ],
           "xaxis": "x",
           "y": [
            3.9
           ],
           "yaxis": "y"
          },
          {
           "alignmentgroup": "True",
           "hovertemplate": "category=%{x}<br>date=2017-09-01<br>rate=%{y}<extra></extra>",
           "ids": [
            "White men"
           ],
           "legendgroup": "White men",
           "marker": {
            "color": "#EF553B"
           },
           "name": "White men",
           "offsetgroup": "White men",
           "orientation": "v",
           "showlegend": true,
           "textposition": "auto",
           "type": "bar",
           "x": [
            "White men"
           ],
           "xaxis": "x",
           "y": [
            3.4
           ],
           "yaxis": "y"
          },
          {
           "alignmentgroup": "True",
           "hovertemplate": "category=%{x}<br>date=2017-09-01<br>rate=%{y}<extra></extra>",
           "ids": [
            "White women"
           ],
           "legendgroup": "White women",
           "marker": {
            "color": "#00cc96"
           },
           "name": "White women",
           "offsetgroup": "White women",
           "orientation": "v",
           "showlegend": true,
           "textposition": "auto",
           "type": "bar",
           "x": [
            "White women"
           ],
           "xaxis": "x",
           "y": [
            3.5
           ],
           "yaxis": "y"
          },
          {
           "alignmentgroup": "True",
           "hovertemplate": "category=%{x}<br>date=2017-09-01<br>rate=%{y}<extra></extra>",
           "ids": [
            "Black men"
           ],
           "legendgroup": "Black men",
           "marker": {
            "color": "#ab63fa"
           },
           "name": "Black men",
           "offsetgroup": "Black men",
           "orientation": "v",
           "showlegend": true,
           "textposition": "auto",
           "type": "bar",
           "x": [
            "Black men"
           ],
           "xaxis": "x",
           "y": [
            6.9
           ],
           "yaxis": "y"
          },
          {
           "alignmentgroup": "True",
           "hovertemplate": "category=%{x}<br>date=2017-09-01<br>rate=%{y}<extra></extra>",
           "ids": [
            "Black women"
           ],
           "legendgroup": "Black women",
           "marker": {
            "color": "#FFA15A"
           },
           "name": "Black women",
           "offsetgroup": "Black women",
           "orientation": "v",
           "showlegend": true,
           "textposition": "auto",
           "type": "bar",
           "x": [
            "Black women"
           ],
           "xaxis": "x",
           "y": [
            6.3
           ],
           "yaxis": "y"
          },
          {
           "alignmentgroup": "True",
           "hovertemplate": "category=%{x}<br>date=2017-09-01<br>rate=%{y}<extra></extra>",
           "ids": [
            "Hispanic men"
           ],
           "legendgroup": "Hispanic men",
           "marker": {
            "color": "#19d3f3"
           },
           "name": "Hispanic men",
           "offsetgroup": "Hispanic men",
           "orientation": "v",
           "showlegend": true,
           "textposition": "auto",
           "type": "bar",
           "x": [
            "Hispanic men"
           ],
           "xaxis": "x",
           "y": [
            3.6
           ],
           "yaxis": "y"
          },
          {
           "alignmentgroup": "True",
           "hovertemplate": "category=%{x}<br>date=2017-09-01<br>rate=%{y}<extra></extra>",
           "ids": [
            "Hispanic women"
           ],
           "legendgroup": "Hispanic women",
           "marker": {
            "color": "#FF6692"
           },
           "name": "Hispanic women",
           "offsetgroup": "Hispanic women",
           "orientation": "v",
           "showlegend": true,
           "textposition": "auto",
           "type": "bar",
           "x": [
            "Hispanic women"
           ],
           "xaxis": "x",
           "y": [
            5.5
           ],
           "yaxis": "y"
          }
         ],
         "name": "2017-09-01"
        },
        {
         "data": [
          {
           "alignmentgroup": "True",
           "hovertemplate": "category=%{x}<br>date=2017-10-01<br>rate=%{y}<extra></extra>",
           "ids": [
            "Average"
           ],
           "legendgroup": "Average",
           "marker": {
            "color": "#636efa"
           },
           "name": "Average",
           "offsetgroup": "Average",
           "orientation": "v",
           "showlegend": true,
           "textposition": "auto",
           "type": "bar",
           "x": [
            "Average"
           ],
           "xaxis": "x",
           "y": [
            3.7
           ],
           "yaxis": "y"
          },
          {
           "alignmentgroup": "True",
           "hovertemplate": "category=%{x}<br>date=2017-10-01<br>rate=%{y}<extra></extra>",
           "ids": [
            "White men"
           ],
           "legendgroup": "White men",
           "marker": {
            "color": "#EF553B"
           },
           "name": "White men",
           "offsetgroup": "White men",
           "orientation": "v",
           "showlegend": true,
           "textposition": "auto",
           "type": "bar",
           "x": [
            "White men"
           ],
           "xaxis": "x",
           "y": [
            3.3
           ],
           "yaxis": "y"
          },
          {
           "alignmentgroup": "True",
           "hovertemplate": "category=%{x}<br>date=2017-10-01<br>rate=%{y}<extra></extra>",
           "ids": [
            "White women"
           ],
           "legendgroup": "White women",
           "marker": {
            "color": "#00cc96"
           },
           "name": "White women",
           "offsetgroup": "White women",
           "orientation": "v",
           "showlegend": true,
           "textposition": "auto",
           "type": "bar",
           "x": [
            "White women"
           ],
           "xaxis": "x",
           "y": [
            3.2
           ],
           "yaxis": "y"
          },
          {
           "alignmentgroup": "True",
           "hovertemplate": "category=%{x}<br>date=2017-10-01<br>rate=%{y}<extra></extra>",
           "ids": [
            "Black men"
           ],
           "legendgroup": "Black men",
           "marker": {
            "color": "#ab63fa"
           },
           "name": "Black men",
           "offsetgroup": "Black men",
           "orientation": "v",
           "showlegend": true,
           "textposition": "auto",
           "type": "bar",
           "x": [
            "Black men"
           ],
           "xaxis": "x",
           "y": [
            7.4
           ],
           "yaxis": "y"
          },
          {
           "alignmentgroup": "True",
           "hovertemplate": "category=%{x}<br>date=2017-10-01<br>rate=%{y}<extra></extra>",
           "ids": [
            "Black women"
           ],
           "legendgroup": "Black women",
           "marker": {
            "color": "#FFA15A"
           },
           "name": "Black women",
           "offsetgroup": "Black women",
           "orientation": "v",
           "showlegend": true,
           "textposition": "auto",
           "type": "bar",
           "x": [
            "Black women"
           ],
           "xaxis": "x",
           "y": [
            6.4
           ],
           "yaxis": "y"
          },
          {
           "alignmentgroup": "True",
           "hovertemplate": "category=%{x}<br>date=2017-10-01<br>rate=%{y}<extra></extra>",
           "ids": [
            "Hispanic men"
           ],
           "legendgroup": "Hispanic men",
           "marker": {
            "color": "#19d3f3"
           },
           "name": "Hispanic men",
           "offsetgroup": "Hispanic men",
           "orientation": "v",
           "showlegend": true,
           "textposition": "auto",
           "type": "bar",
           "x": [
            "Hispanic men"
           ],
           "xaxis": "x",
           "y": [
            3.5
           ],
           "yaxis": "y"
          },
          {
           "alignmentgroup": "True",
           "hovertemplate": "category=%{x}<br>date=2017-10-01<br>rate=%{y}<extra></extra>",
           "ids": [
            "Hispanic women"
           ],
           "legendgroup": "Hispanic women",
           "marker": {
            "color": "#FF6692"
           },
           "name": "Hispanic women",
           "offsetgroup": "Hispanic women",
           "orientation": "v",
           "showlegend": true,
           "textposition": "auto",
           "type": "bar",
           "x": [
            "Hispanic women"
           ],
           "xaxis": "x",
           "y": [
            4.6
           ],
           "yaxis": "y"
          }
         ],
         "name": "2017-10-01"
        },
        {
         "data": [
          {
           "alignmentgroup": "True",
           "hovertemplate": "category=%{x}<br>date=2017-11-01<br>rate=%{y}<extra></extra>",
           "ids": [
            "Average"
           ],
           "legendgroup": "Average",
           "marker": {
            "color": "#636efa"
           },
           "name": "Average",
           "offsetgroup": "Average",
           "orientation": "v",
           "showlegend": true,
           "textposition": "auto",
           "type": "bar",
           "x": [
            "Average"
           ],
           "xaxis": "x",
           "y": [
            3.7
           ],
           "yaxis": "y"
          },
          {
           "alignmentgroup": "True",
           "hovertemplate": "category=%{x}<br>date=2017-11-01<br>rate=%{y}<extra></extra>",
           "ids": [
            "White men"
           ],
           "legendgroup": "White men",
           "marker": {
            "color": "#EF553B"
           },
           "name": "White men",
           "offsetgroup": "White men",
           "orientation": "v",
           "showlegend": true,
           "textposition": "auto",
           "type": "bar",
           "x": [
            "White men"
           ],
           "xaxis": "x",
           "y": [
            3.3
           ],
           "yaxis": "y"
          },
          {
           "alignmentgroup": "True",
           "hovertemplate": "category=%{x}<br>date=2017-11-01<br>rate=%{y}<extra></extra>",
           "ids": [
            "White women"
           ],
           "legendgroup": "White women",
           "marker": {
            "color": "#00cc96"
           },
           "name": "White women",
           "offsetgroup": "White women",
           "orientation": "v",
           "showlegend": true,
           "textposition": "auto",
           "type": "bar",
           "x": [
            "White women"
           ],
           "xaxis": "x",
           "y": [
            3.2
           ],
           "yaxis": "y"
          },
          {
           "alignmentgroup": "True",
           "hovertemplate": "category=%{x}<br>date=2017-11-01<br>rate=%{y}<extra></extra>",
           "ids": [
            "Black men"
           ],
           "legendgroup": "Black men",
           "marker": {
            "color": "#ab63fa"
           },
           "name": "Black men",
           "offsetgroup": "Black men",
           "orientation": "v",
           "showlegend": true,
           "textposition": "auto",
           "type": "bar",
           "x": [
            "Black men"
           ],
           "xaxis": "x",
           "y": [
            7.6
           ],
           "yaxis": "y"
          },
          {
           "alignmentgroup": "True",
           "hovertemplate": "category=%{x}<br>date=2017-11-01<br>rate=%{y}<extra></extra>",
           "ids": [
            "Black women"
           ],
           "legendgroup": "Black women",
           "marker": {
            "color": "#FFA15A"
           },
           "name": "Black women",
           "offsetgroup": "Black women",
           "orientation": "v",
           "showlegend": true,
           "textposition": "auto",
           "type": "bar",
           "x": [
            "Black women"
           ],
           "xaxis": "x",
           "y": [
            6
           ],
           "yaxis": "y"
          },
          {
           "alignmentgroup": "True",
           "hovertemplate": "category=%{x}<br>date=2017-11-01<br>rate=%{y}<extra></extra>",
           "ids": [
            "Hispanic men"
           ],
           "legendgroup": "Hispanic men",
           "marker": {
            "color": "#19d3f3"
           },
           "name": "Hispanic men",
           "offsetgroup": "Hispanic men",
           "orientation": "v",
           "showlegend": true,
           "textposition": "auto",
           "type": "bar",
           "x": [
            "Hispanic men"
           ],
           "xaxis": "x",
           "y": [
            3.8
           ],
           "yaxis": "y"
          },
          {
           "alignmentgroup": "True",
           "hovertemplate": "category=%{x}<br>date=2017-11-01<br>rate=%{y}<extra></extra>",
           "ids": [
            "Hispanic women"
           ],
           "legendgroup": "Hispanic women",
           "marker": {
            "color": "#FF6692"
           },
           "name": "Hispanic women",
           "offsetgroup": "Hispanic women",
           "orientation": "v",
           "showlegend": true,
           "textposition": "auto",
           "type": "bar",
           "x": [
            "Hispanic women"
           ],
           "xaxis": "x",
           "y": [
            4.8
           ],
           "yaxis": "y"
          }
         ],
         "name": "2017-11-01"
        },
        {
         "data": [
          {
           "alignmentgroup": "True",
           "hovertemplate": "category=%{x}<br>date=2017-12-01<br>rate=%{y}<extra></extra>",
           "ids": [
            "Average"
           ],
           "legendgroup": "Average",
           "marker": {
            "color": "#636efa"
           },
           "name": "Average",
           "offsetgroup": "Average",
           "orientation": "v",
           "showlegend": true,
           "textposition": "auto",
           "type": "bar",
           "x": [
            "Average"
           ],
           "xaxis": "x",
           "y": [
            3.7
           ],
           "yaxis": "y"
          },
          {
           "alignmentgroup": "True",
           "hovertemplate": "category=%{x}<br>date=2017-12-01<br>rate=%{y}<extra></extra>",
           "ids": [
            "White men"
           ],
           "legendgroup": "White men",
           "marker": {
            "color": "#EF553B"
           },
           "name": "White men",
           "offsetgroup": "White men",
           "orientation": "v",
           "showlegend": true,
           "textposition": "auto",
           "type": "bar",
           "x": [
            "White men"
           ],
           "xaxis": "x",
           "y": [
            3.3
           ],
           "yaxis": "y"
          },
          {
           "alignmentgroup": "True",
           "hovertemplate": "category=%{x}<br>date=2017-12-01<br>rate=%{y}<extra></extra>",
           "ids": [
            "White women"
           ],
           "legendgroup": "White women",
           "marker": {
            "color": "#00cc96"
           },
           "name": "White women",
           "offsetgroup": "White women",
           "orientation": "v",
           "showlegend": true,
           "textposition": "auto",
           "type": "bar",
           "x": [
            "White women"
           ],
           "xaxis": "x",
           "y": [
            3.4
           ],
           "yaxis": "y"
          },
          {
           "alignmentgroup": "True",
           "hovertemplate": "category=%{x}<br>date=2017-12-01<br>rate=%{y}<extra></extra>",
           "ids": [
            "Black men"
           ],
           "legendgroup": "Black men",
           "marker": {
            "color": "#ab63fa"
           },
           "name": "Black men",
           "offsetgroup": "Black men",
           "orientation": "v",
           "showlegend": true,
           "textposition": "auto",
           "type": "bar",
           "x": [
            "Black men"
           ],
           "xaxis": "x",
           "y": [
            6.6
           ],
           "yaxis": "y"
          },
          {
           "alignmentgroup": "True",
           "hovertemplate": "category=%{x}<br>date=2017-12-01<br>rate=%{y}<extra></extra>",
           "ids": [
            "Black women"
           ],
           "legendgroup": "Black women",
           "marker": {
            "color": "#FFA15A"
           },
           "name": "Black women",
           "offsetgroup": "Black women",
           "orientation": "v",
           "showlegend": true,
           "textposition": "auto",
           "type": "bar",
           "x": [
            "Black women"
           ],
           "xaxis": "x",
           "y": [
            5.5
           ],
           "yaxis": "y"
          },
          {
           "alignmentgroup": "True",
           "hovertemplate": "category=%{x}<br>date=2017-12-01<br>rate=%{y}<extra></extra>",
           "ids": [
            "Hispanic men"
           ],
           "legendgroup": "Hispanic men",
           "marker": {
            "color": "#19d3f3"
           },
           "name": "Hispanic men",
           "offsetgroup": "Hispanic men",
           "orientation": "v",
           "showlegend": true,
           "textposition": "auto",
           "type": "bar",
           "x": [
            "Hispanic men"
           ],
           "xaxis": "x",
           "y": [
            4.2
           ],
           "yaxis": "y"
          },
          {
           "alignmentgroup": "True",
           "hovertemplate": "category=%{x}<br>date=2017-12-01<br>rate=%{y}<extra></extra>",
           "ids": [
            "Hispanic women"
           ],
           "legendgroup": "Hispanic women",
           "marker": {
            "color": "#FF6692"
           },
           "name": "Hispanic women",
           "offsetgroup": "Hispanic women",
           "orientation": "v",
           "showlegend": true,
           "textposition": "auto",
           "type": "bar",
           "x": [
            "Hispanic women"
           ],
           "xaxis": "x",
           "y": [
            5
           ],
           "yaxis": "y"
          }
         ],
         "name": "2017-12-01"
        },
        {
         "data": [
          {
           "alignmentgroup": "True",
           "hovertemplate": "category=%{x}<br>date=2018-01-01<br>rate=%{y}<extra></extra>",
           "ids": [
            "Average"
           ],
           "legendgroup": "Average",
           "marker": {
            "color": "#636efa"
           },
           "name": "Average",
           "offsetgroup": "Average",
           "orientation": "v",
           "showlegend": true,
           "textposition": "auto",
           "type": "bar",
           "x": [
            "Average"
           ],
           "xaxis": "x",
           "y": [
            3.7
           ],
           "yaxis": "y"
          },
          {
           "alignmentgroup": "True",
           "hovertemplate": "category=%{x}<br>date=2018-01-01<br>rate=%{y}<extra></extra>",
           "ids": [
            "White men"
           ],
           "legendgroup": "White men",
           "marker": {
            "color": "#EF553B"
           },
           "name": "White men",
           "offsetgroup": "White men",
           "orientation": "v",
           "showlegend": true,
           "textposition": "auto",
           "type": "bar",
           "x": [
            "White men"
           ],
           "xaxis": "x",
           "y": [
            3.3
           ],
           "yaxis": "y"
          },
          {
           "alignmentgroup": "True",
           "hovertemplate": "category=%{x}<br>date=2018-01-01<br>rate=%{y}<extra></extra>",
           "ids": [
            "White women"
           ],
           "legendgroup": "White women",
           "marker": {
            "color": "#00cc96"
           },
           "name": "White women",
           "offsetgroup": "White women",
           "orientation": "v",
           "showlegend": true,
           "textposition": "auto",
           "type": "bar",
           "x": [
            "White women"
           ],
           "xaxis": "x",
           "y": [
            2.9
           ],
           "yaxis": "y"
          },
          {
           "alignmentgroup": "True",
           "hovertemplate": "category=%{x}<br>date=2018-01-01<br>rate=%{y}<extra></extra>",
           "ids": [
            "Black men"
           ],
           "legendgroup": "Black men",
           "marker": {
            "color": "#ab63fa"
           },
           "name": "Black men",
           "offsetgroup": "Black men",
           "orientation": "v",
           "showlegend": true,
           "textposition": "auto",
           "type": "bar",
           "x": [
            "Black men"
           ],
           "xaxis": "x",
           "y": [
            7.2
           ],
           "yaxis": "y"
          },
          {
           "alignmentgroup": "True",
           "hovertemplate": "category=%{x}<br>date=2018-01-01<br>rate=%{y}<extra></extra>",
           "ids": [
            "Black women"
           ],
           "legendgroup": "Black women",
           "marker": {
            "color": "#FFA15A"
           },
           "name": "Black women",
           "offsetgroup": "Black women",
           "orientation": "v",
           "showlegend": true,
           "textposition": "auto",
           "type": "bar",
           "x": [
            "Black women"
           ],
           "xaxis": "x",
           "y": [
            6.4
           ],
           "yaxis": "y"
          },
          {
           "alignmentgroup": "True",
           "hovertemplate": "category=%{x}<br>date=2018-01-01<br>rate=%{y}<extra></extra>",
           "ids": [
            "Hispanic men"
           ],
           "legendgroup": "Hispanic men",
           "marker": {
            "color": "#19d3f3"
           },
           "name": "Hispanic men",
           "offsetgroup": "Hispanic men",
           "orientation": "v",
           "showlegend": true,
           "textposition": "auto",
           "type": "bar",
           "x": [
            "Hispanic men"
           ],
           "xaxis": "x",
           "y": [
            5.4
           ],
           "yaxis": "y"
          },
          {
           "alignmentgroup": "True",
           "hovertemplate": "category=%{x}<br>date=2018-01-01<br>rate=%{y}<extra></extra>",
           "ids": [
            "Hispanic women"
           ],
           "legendgroup": "Hispanic women",
           "marker": {
            "color": "#FF6692"
           },
           "name": "Hispanic women",
           "offsetgroup": "Hispanic women",
           "orientation": "v",
           "showlegend": true,
           "textposition": "auto",
           "type": "bar",
           "x": [
            "Hispanic women"
           ],
           "xaxis": "x",
           "y": [
            5
           ],
           "yaxis": "y"
          }
         ],
         "name": "2018-01-01"
        },
        {
         "data": [
          {
           "alignmentgroup": "True",
           "hovertemplate": "category=%{x}<br>date=2018-02-01<br>rate=%{y}<extra></extra>",
           "ids": [
            "Average"
           ],
           "legendgroup": "Average",
           "marker": {
            "color": "#636efa"
           },
           "name": "Average",
           "offsetgroup": "Average",
           "orientation": "v",
           "showlegend": true,
           "textposition": "auto",
           "type": "bar",
           "x": [
            "Average"
           ],
           "xaxis": "x",
           "y": [
            3.7
           ],
           "yaxis": "y"
          },
          {
           "alignmentgroup": "True",
           "hovertemplate": "category=%{x}<br>date=2018-02-01<br>rate=%{y}<extra></extra>",
           "ids": [
            "White men"
           ],
           "legendgroup": "White men",
           "marker": {
            "color": "#EF553B"
           },
           "name": "White men",
           "offsetgroup": "White men",
           "orientation": "v",
           "showlegend": true,
           "textposition": "auto",
           "type": "bar",
           "x": [
            "White men"
           ],
           "xaxis": "x",
           "y": [
            3.4
           ],
           "yaxis": "y"
          },
          {
           "alignmentgroup": "True",
           "hovertemplate": "category=%{x}<br>date=2018-02-01<br>rate=%{y}<extra></extra>",
           "ids": [
            "White women"
           ],
           "legendgroup": "White women",
           "marker": {
            "color": "#00cc96"
           },
           "name": "White women",
           "offsetgroup": "White women",
           "orientation": "v",
           "showlegend": true,
           "textposition": "auto",
           "type": "bar",
           "x": [
            "White women"
           ],
           "xaxis": "x",
           "y": [
            3.3
           ],
           "yaxis": "y"
          },
          {
           "alignmentgroup": "True",
           "hovertemplate": "category=%{x}<br>date=2018-02-01<br>rate=%{y}<extra></extra>",
           "ids": [
            "Black men"
           ],
           "legendgroup": "Black men",
           "marker": {
            "color": "#ab63fa"
           },
           "name": "Black men",
           "offsetgroup": "Black men",
           "orientation": "v",
           "showlegend": true,
           "textposition": "auto",
           "type": "bar",
           "x": [
            "Black men"
           ],
           "xaxis": "x",
           "y": [
            5.7
           ],
           "yaxis": "y"
          },
          {
           "alignmentgroup": "True",
           "hovertemplate": "category=%{x}<br>date=2018-02-01<br>rate=%{y}<extra></extra>",
           "ids": [
            "Black women"
           ],
           "legendgroup": "Black women",
           "marker": {
            "color": "#FFA15A"
           },
           "name": "Black women",
           "offsetgroup": "Black women",
           "orientation": "v",
           "showlegend": true,
           "textposition": "auto",
           "type": "bar",
           "x": [
            "Black women"
           ],
           "xaxis": "x",
           "y": [
            6.1
           ],
           "yaxis": "y"
          },
          {
           "alignmentgroup": "True",
           "hovertemplate": "category=%{x}<br>date=2018-02-01<br>rate=%{y}<extra></extra>",
           "ids": [
            "Hispanic men"
           ],
           "legendgroup": "Hispanic men",
           "marker": {
            "color": "#19d3f3"
           },
           "name": "Hispanic men",
           "offsetgroup": "Hispanic men",
           "orientation": "v",
           "showlegend": true,
           "textposition": "auto",
           "type": "bar",
           "x": [
            "Hispanic men"
           ],
           "xaxis": "x",
           "y": [
            4.7
           ],
           "yaxis": "y"
          },
          {
           "alignmentgroup": "True",
           "hovertemplate": "category=%{x}<br>date=2018-02-01<br>rate=%{y}<extra></extra>",
           "ids": [
            "Hispanic women"
           ],
           "legendgroup": "Hispanic women",
           "marker": {
            "color": "#FF6692"
           },
           "name": "Hispanic women",
           "offsetgroup": "Hispanic women",
           "orientation": "v",
           "showlegend": true,
           "textposition": "auto",
           "type": "bar",
           "x": [
            "Hispanic women"
           ],
           "xaxis": "x",
           "y": [
            5.3
           ],
           "yaxis": "y"
          }
         ],
         "name": "2018-02-01"
        },
        {
         "data": [
          {
           "alignmentgroup": "True",
           "hovertemplate": "category=%{x}<br>date=2018-03-01<br>rate=%{y}<extra></extra>",
           "ids": [
            "Average"
           ],
           "legendgroup": "Average",
           "marker": {
            "color": "#636efa"
           },
           "name": "Average",
           "offsetgroup": "Average",
           "orientation": "v",
           "showlegend": true,
           "textposition": "auto",
           "type": "bar",
           "x": [
            "Average"
           ],
           "xaxis": "x",
           "y": [
            3.7
           ],
           "yaxis": "y"
          },
          {
           "alignmentgroup": "True",
           "hovertemplate": "category=%{x}<br>date=2018-03-01<br>rate=%{y}<extra></extra>",
           "ids": [
            "White men"
           ],
           "legendgroup": "White men",
           "marker": {
            "color": "#EF553B"
           },
           "name": "White men",
           "offsetgroup": "White men",
           "orientation": "v",
           "showlegend": true,
           "textposition": "auto",
           "type": "bar",
           "x": [
            "White men"
           ],
           "xaxis": "x",
           "y": [
            3.3
           ],
           "yaxis": "y"
          },
          {
           "alignmentgroup": "True",
           "hovertemplate": "category=%{x}<br>date=2018-03-01<br>rate=%{y}<extra></extra>",
           "ids": [
            "White women"
           ],
           "legendgroup": "White women",
           "marker": {
            "color": "#00cc96"
           },
           "name": "White women",
           "offsetgroup": "White women",
           "orientation": "v",
           "showlegend": true,
           "textposition": "auto",
           "type": "bar",
           "x": [
            "White women"
           ],
           "xaxis": "x",
           "y": [
            3.3
           ],
           "yaxis": "y"
          },
          {
           "alignmentgroup": "True",
           "hovertemplate": "category=%{x}<br>date=2018-03-01<br>rate=%{y}<extra></extra>",
           "ids": [
            "Black men"
           ],
           "legendgroup": "Black men",
           "marker": {
            "color": "#ab63fa"
           },
           "name": "Black men",
           "offsetgroup": "Black men",
           "orientation": "v",
           "showlegend": true,
           "textposition": "auto",
           "type": "bar",
           "x": [
            "Black men"
           ],
           "xaxis": "x",
           "y": [
            6
           ],
           "yaxis": "y"
          },
          {
           "alignmentgroup": "True",
           "hovertemplate": "category=%{x}<br>date=2018-03-01<br>rate=%{y}<extra></extra>",
           "ids": [
            "Black women"
           ],
           "legendgroup": "Black women",
           "marker": {
            "color": "#FFA15A"
           },
           "name": "Black women",
           "offsetgroup": "Black women",
           "orientation": "v",
           "showlegend": true,
           "textposition": "auto",
           "type": "bar",
           "x": [
            "Black women"
           ],
           "xaxis": "x",
           "y": [
            5.9
           ],
           "yaxis": "y"
          },
          {
           "alignmentgroup": "True",
           "hovertemplate": "category=%{x}<br>date=2018-03-01<br>rate=%{y}<extra></extra>",
           "ids": [
            "Hispanic men"
           ],
           "legendgroup": "Hispanic men",
           "marker": {
            "color": "#19d3f3"
           },
           "name": "Hispanic men",
           "offsetgroup": "Hispanic men",
           "orientation": "v",
           "showlegend": true,
           "textposition": "auto",
           "type": "bar",
           "x": [
            "Hispanic men"
           ],
           "xaxis": "x",
           "y": [
            4.8
           ],
           "yaxis": "y"
          },
          {
           "alignmentgroup": "True",
           "hovertemplate": "category=%{x}<br>date=2018-03-01<br>rate=%{y}<extra></extra>",
           "ids": [
            "Hispanic women"
           ],
           "legendgroup": "Hispanic women",
           "marker": {
            "color": "#FF6692"
           },
           "name": "Hispanic women",
           "offsetgroup": "Hispanic women",
           "orientation": "v",
           "showlegend": true,
           "textposition": "auto",
           "type": "bar",
           "x": [
            "Hispanic women"
           ],
           "xaxis": "x",
           "y": [
            5
           ],
           "yaxis": "y"
          }
         ],
         "name": "2018-03-01"
        },
        {
         "data": [
          {
           "alignmentgroup": "True",
           "hovertemplate": "category=%{x}<br>date=2018-04-01<br>rate=%{y}<extra></extra>",
           "ids": [
            "Average"
           ],
           "legendgroup": "Average",
           "marker": {
            "color": "#636efa"
           },
           "name": "Average",
           "offsetgroup": "Average",
           "orientation": "v",
           "showlegend": true,
           "textposition": "auto",
           "type": "bar",
           "x": [
            "Average"
           ],
           "xaxis": "x",
           "y": [
            3.6
           ],
           "yaxis": "y"
          },
          {
           "alignmentgroup": "True",
           "hovertemplate": "category=%{x}<br>date=2018-04-01<br>rate=%{y}<extra></extra>",
           "ids": [
            "White men"
           ],
           "legendgroup": "White men",
           "marker": {
            "color": "#EF553B"
           },
           "name": "White men",
           "offsetgroup": "White men",
           "orientation": "v",
           "showlegend": true,
           "textposition": "auto",
           "type": "bar",
           "x": [
            "White men"
           ],
           "xaxis": "x",
           "y": [
            3.4
           ],
           "yaxis": "y"
          },
          {
           "alignmentgroup": "True",
           "hovertemplate": "category=%{x}<br>date=2018-04-01<br>rate=%{y}<extra></extra>",
           "ids": [
            "White women"
           ],
           "legendgroup": "White women",
           "marker": {
            "color": "#00cc96"
           },
           "name": "White women",
           "offsetgroup": "White women",
           "orientation": "v",
           "showlegend": true,
           "textposition": "auto",
           "type": "bar",
           "x": [
            "White women"
           ],
           "xaxis": "x",
           "y": [
            3.2
           ],
           "yaxis": "y"
          },
          {
           "alignmentgroup": "True",
           "hovertemplate": "category=%{x}<br>date=2018-04-01<br>rate=%{y}<extra></extra>",
           "ids": [
            "Black men"
           ],
           "legendgroup": "Black men",
           "marker": {
            "color": "#ab63fa"
           },
           "name": "Black men",
           "offsetgroup": "Black men",
           "orientation": "v",
           "showlegend": true,
           "textposition": "auto",
           "type": "bar",
           "x": [
            "Black men"
           ],
           "xaxis": "x",
           "y": [
            6.2
           ],
           "yaxis": "y"
          },
          {
           "alignmentgroup": "True",
           "hovertemplate": "category=%{x}<br>date=2018-04-01<br>rate=%{y}<extra></extra>",
           "ids": [
            "Black women"
           ],
           "legendgroup": "Black women",
           "marker": {
            "color": "#FFA15A"
           },
           "name": "Black women",
           "offsetgroup": "Black women",
           "orientation": "v",
           "showlegend": true,
           "textposition": "auto",
           "type": "bar",
           "x": [
            "Black women"
           ],
           "xaxis": "x",
           "y": [
            5.1
           ],
           "yaxis": "y"
          },
          {
           "alignmentgroup": "True",
           "hovertemplate": "category=%{x}<br>date=2018-04-01<br>rate=%{y}<extra></extra>",
           "ids": [
            "Hispanic men"
           ],
           "legendgroup": "Hispanic men",
           "marker": {
            "color": "#19d3f3"
           },
           "name": "Hispanic men",
           "offsetgroup": "Hispanic men",
           "orientation": "v",
           "showlegend": true,
           "textposition": "auto",
           "type": "bar",
           "x": [
            "Hispanic men"
           ],
           "xaxis": "x",
           "y": [
            3.7
           ],
           "yaxis": "y"
          },
          {
           "alignmentgroup": "True",
           "hovertemplate": "category=%{x}<br>date=2018-04-01<br>rate=%{y}<extra></extra>",
           "ids": [
            "Hispanic women"
           ],
           "legendgroup": "Hispanic women",
           "marker": {
            "color": "#FF6692"
           },
           "name": "Hispanic women",
           "offsetgroup": "Hispanic women",
           "orientation": "v",
           "showlegend": true,
           "textposition": "auto",
           "type": "bar",
           "x": [
            "Hispanic women"
           ],
           "xaxis": "x",
           "y": [
            4.4
           ],
           "yaxis": "y"
          }
         ],
         "name": "2018-04-01"
        },
        {
         "data": [
          {
           "alignmentgroup": "True",
           "hovertemplate": "category=%{x}<br>date=2018-05-01<br>rate=%{y}<extra></extra>",
           "ids": [
            "Average"
           ],
           "legendgroup": "Average",
           "marker": {
            "color": "#636efa"
           },
           "name": "Average",
           "offsetgroup": "Average",
           "orientation": "v",
           "showlegend": true,
           "textposition": "auto",
           "type": "bar",
           "x": [
            "Average"
           ],
           "xaxis": "x",
           "y": [
            3.5
           ],
           "yaxis": "y"
          },
          {
           "alignmentgroup": "True",
           "hovertemplate": "category=%{x}<br>date=2018-05-01<br>rate=%{y}<extra></extra>",
           "ids": [
            "White men"
           ],
           "legendgroup": "White men",
           "marker": {
            "color": "#EF553B"
           },
           "name": "White men",
           "offsetgroup": "White men",
           "orientation": "v",
           "showlegend": true,
           "textposition": "auto",
           "type": "bar",
           "x": [
            "White men"
           ],
           "xaxis": "x",
           "y": [
            3.2
           ],
           "yaxis": "y"
          },
          {
           "alignmentgroup": "True",
           "hovertemplate": "category=%{x}<br>date=2018-05-01<br>rate=%{y}<extra></extra>",
           "ids": [
            "White women"
           ],
           "legendgroup": "White women",
           "marker": {
            "color": "#00cc96"
           },
           "name": "White women",
           "offsetgroup": "White women",
           "orientation": "v",
           "showlegend": true,
           "textposition": "auto",
           "type": "bar",
           "x": [
            "White women"
           ],
           "xaxis": "x",
           "y": [
            3.2
           ],
           "yaxis": "y"
          },
          {
           "alignmentgroup": "True",
           "hovertemplate": "category=%{x}<br>date=2018-05-01<br>rate=%{y}<extra></extra>",
           "ids": [
            "Black men"
           ],
           "legendgroup": "Black men",
           "marker": {
            "color": "#ab63fa"
           },
           "name": "Black men",
           "offsetgroup": "Black men",
           "orientation": "v",
           "showlegend": true,
           "textposition": "auto",
           "type": "bar",
           "x": [
            "Black men"
           ],
           "xaxis": "x",
           "y": [
            6.3
           ],
           "yaxis": "y"
          },
          {
           "alignmentgroup": "True",
           "hovertemplate": "category=%{x}<br>date=2018-05-01<br>rate=%{y}<extra></extra>",
           "ids": [
            "Black women"
           ],
           "legendgroup": "Black women",
           "marker": {
            "color": "#FFA15A"
           },
           "name": "Black women",
           "offsetgroup": "Black women",
           "orientation": "v",
           "showlegend": true,
           "textposition": "auto",
           "type": "bar",
           "x": [
            "Black women"
           ],
           "xaxis": "x",
           "y": [
            4.7
           ],
           "yaxis": "y"
          },
          {
           "alignmentgroup": "True",
           "hovertemplate": "category=%{x}<br>date=2018-05-01<br>rate=%{y}<extra></extra>",
           "ids": [
            "Hispanic men"
           ],
           "legendgroup": "Hispanic men",
           "marker": {
            "color": "#19d3f3"
           },
           "name": "Hispanic men",
           "offsetgroup": "Hispanic men",
           "orientation": "v",
           "showlegend": true,
           "textposition": "auto",
           "type": "bar",
           "x": [
            "Hispanic men"
           ],
           "xaxis": "x",
           "y": [
            3.5
           ],
           "yaxis": "y"
          },
          {
           "alignmentgroup": "True",
           "hovertemplate": "category=%{x}<br>date=2018-05-01<br>rate=%{y}<extra></extra>",
           "ids": [
            "Hispanic women"
           ],
           "legendgroup": "Hispanic women",
           "marker": {
            "color": "#FF6692"
           },
           "name": "Hispanic women",
           "offsetgroup": "Hispanic women",
           "orientation": "v",
           "showlegend": true,
           "textposition": "auto",
           "type": "bar",
           "x": [
            "Hispanic women"
           ],
           "xaxis": "x",
           "y": [
            4.7
           ],
           "yaxis": "y"
          }
         ],
         "name": "2018-05-01"
        },
        {
         "data": [
          {
           "alignmentgroup": "True",
           "hovertemplate": "category=%{x}<br>date=2018-06-01<br>rate=%{y}<extra></extra>",
           "ids": [
            "Average"
           ],
           "legendgroup": "Average",
           "marker": {
            "color": "#636efa"
           },
           "name": "Average",
           "offsetgroup": "Average",
           "orientation": "v",
           "showlegend": true,
           "textposition": "auto",
           "type": "bar",
           "x": [
            "Average"
           ],
           "xaxis": "x",
           "y": [
            3.7
           ],
           "yaxis": "y"
          },
          {
           "alignmentgroup": "True",
           "hovertemplate": "category=%{x}<br>date=2018-06-01<br>rate=%{y}<extra></extra>",
           "ids": [
            "White men"
           ],
           "legendgroup": "White men",
           "marker": {
            "color": "#EF553B"
           },
           "name": "White men",
           "offsetgroup": "White men",
           "orientation": "v",
           "showlegend": true,
           "textposition": "auto",
           "type": "bar",
           "x": [
            "White men"
           ],
           "xaxis": "x",
           "y": [
            3.3
           ],
           "yaxis": "y"
          },
          {
           "alignmentgroup": "True",
           "hovertemplate": "category=%{x}<br>date=2018-06-01<br>rate=%{y}<extra></extra>",
           "ids": [
            "White women"
           ],
           "legendgroup": "White women",
           "marker": {
            "color": "#00cc96"
           },
           "name": "White women",
           "offsetgroup": "White women",
           "orientation": "v",
           "showlegend": true,
           "textposition": "auto",
           "type": "bar",
           "x": [
            "White women"
           ],
           "xaxis": "x",
           "y": [
            3.2
           ],
           "yaxis": "y"
          },
          {
           "alignmentgroup": "True",
           "hovertemplate": "category=%{x}<br>date=2018-06-01<br>rate=%{y}<extra></extra>",
           "ids": [
            "Black men"
           ],
           "legendgroup": "Black men",
           "marker": {
            "color": "#ab63fa"
           },
           "name": "Black men",
           "offsetgroup": "Black men",
           "orientation": "v",
           "showlegend": true,
           "textposition": "auto",
           "type": "bar",
           "x": [
            "Black men"
           ],
           "xaxis": "x",
           "y": [
            6.6
           ],
           "yaxis": "y"
          },
          {
           "alignmentgroup": "True",
           "hovertemplate": "category=%{x}<br>date=2018-06-01<br>rate=%{y}<extra></extra>",
           "ids": [
            "Black women"
           ],
           "legendgroup": "Black women",
           "marker": {
            "color": "#FFA15A"
           },
           "name": "Black women",
           "offsetgroup": "Black women",
           "orientation": "v",
           "showlegend": true,
           "textposition": "auto",
           "type": "bar",
           "x": [
            "Black women"
           ],
           "xaxis": "x",
           "y": [
            5.4
           ],
           "yaxis": "y"
          },
          {
           "alignmentgroup": "True",
           "hovertemplate": "category=%{x}<br>date=2018-06-01<br>rate=%{y}<extra></extra>",
           "ids": [
            "Hispanic men"
           ],
           "legendgroup": "Hispanic men",
           "marker": {
            "color": "#19d3f3"
           },
           "name": "Hispanic men",
           "offsetgroup": "Hispanic men",
           "orientation": "v",
           "showlegend": true,
           "textposition": "auto",
           "type": "bar",
           "x": [
            "Hispanic men"
           ],
           "xaxis": "x",
           "y": [
            3.5
           ],
           "yaxis": "y"
          },
          {
           "alignmentgroup": "True",
           "hovertemplate": "category=%{x}<br>date=2018-06-01<br>rate=%{y}<extra></extra>",
           "ids": [
            "Hispanic women"
           ],
           "legendgroup": "Hispanic women",
           "marker": {
            "color": "#FF6692"
           },
           "name": "Hispanic women",
           "offsetgroup": "Hispanic women",
           "orientation": "v",
           "showlegend": true,
           "textposition": "auto",
           "type": "bar",
           "x": [
            "Hispanic women"
           ],
           "xaxis": "x",
           "y": [
            4.8
           ],
           "yaxis": "y"
          }
         ],
         "name": "2018-06-01"
        },
        {
         "data": [
          {
           "alignmentgroup": "True",
           "hovertemplate": "category=%{x}<br>date=2018-07-01<br>rate=%{y}<extra></extra>",
           "ids": [
            "Average"
           ],
           "legendgroup": "Average",
           "marker": {
            "color": "#636efa"
           },
           "name": "Average",
           "offsetgroup": "Average",
           "orientation": "v",
           "showlegend": true,
           "textposition": "auto",
           "type": "bar",
           "x": [
            "Average"
           ],
           "xaxis": "x",
           "y": [
            3.5
           ],
           "yaxis": "y"
          },
          {
           "alignmentgroup": "True",
           "hovertemplate": "category=%{x}<br>date=2018-07-01<br>rate=%{y}<extra></extra>",
           "ids": [
            "White men"
           ],
           "legendgroup": "White men",
           "marker": {
            "color": "#EF553B"
           },
           "name": "White men",
           "offsetgroup": "White men",
           "orientation": "v",
           "showlegend": true,
           "textposition": "auto",
           "type": "bar",
           "x": [
            "White men"
           ],
           "xaxis": "x",
           "y": [
            2.9
           ],
           "yaxis": "y"
          },
          {
           "alignmentgroup": "True",
           "hovertemplate": "category=%{x}<br>date=2018-07-01<br>rate=%{y}<extra></extra>",
           "ids": [
            "White women"
           ],
           "legendgroup": "White women",
           "marker": {
            "color": "#00cc96"
           },
           "name": "White women",
           "offsetgroup": "White women",
           "orientation": "v",
           "showlegend": true,
           "textposition": "auto",
           "type": "bar",
           "x": [
            "White women"
           ],
           "xaxis": "x",
           "y": [
            3.2
           ],
           "yaxis": "y"
          },
          {
           "alignmentgroup": "True",
           "hovertemplate": "category=%{x}<br>date=2018-07-01<br>rate=%{y}<extra></extra>",
           "ids": [
            "Black men"
           ],
           "legendgroup": "Black men",
           "marker": {
            "color": "#ab63fa"
           },
           "name": "Black men",
           "offsetgroup": "Black men",
           "orientation": "v",
           "showlegend": true,
           "textposition": "auto",
           "type": "bar",
           "x": [
            "Black men"
           ],
           "xaxis": "x",
           "y": [
            6.2
           ],
           "yaxis": "y"
          },
          {
           "alignmentgroup": "True",
           "hovertemplate": "category=%{x}<br>date=2018-07-01<br>rate=%{y}<extra></extra>",
           "ids": [
            "Black women"
           ],
           "legendgroup": "Black women",
           "marker": {
            "color": "#FFA15A"
           },
           "name": "Black women",
           "offsetgroup": "Black women",
           "orientation": "v",
           "showlegend": true,
           "textposition": "auto",
           "type": "bar",
           "x": [
            "Black women"
           ],
           "xaxis": "x",
           "y": [
            6
           ],
           "yaxis": "y"
          },
          {
           "alignmentgroup": "True",
           "hovertemplate": "category=%{x}<br>date=2018-07-01<br>rate=%{y}<extra></extra>",
           "ids": [
            "Hispanic men"
           ],
           "legendgroup": "Hispanic men",
           "marker": {
            "color": "#19d3f3"
           },
           "name": "Hispanic men",
           "offsetgroup": "Hispanic men",
           "orientation": "v",
           "showlegend": true,
           "textposition": "auto",
           "type": "bar",
           "x": [
            "Hispanic men"
           ],
           "xaxis": "x",
           "y": [
            2.8
           ],
           "yaxis": "y"
          },
          {
           "alignmentgroup": "True",
           "hovertemplate": "category=%{x}<br>date=2018-07-01<br>rate=%{y}<extra></extra>",
           "ids": [
            "Hispanic women"
           ],
           "legendgroup": "Hispanic women",
           "marker": {
            "color": "#FF6692"
           },
           "name": "Hispanic women",
           "offsetgroup": "Hispanic women",
           "orientation": "v",
           "showlegend": true,
           "textposition": "auto",
           "type": "bar",
           "x": [
            "Hispanic women"
           ],
           "xaxis": "x",
           "y": [
            5.1
           ],
           "yaxis": "y"
          }
         ],
         "name": "2018-07-01"
        },
        {
         "data": [
          {
           "alignmentgroup": "True",
           "hovertemplate": "category=%{x}<br>date=2018-08-01<br>rate=%{y}<extra></extra>",
           "ids": [
            "Average"
           ],
           "legendgroup": "Average",
           "marker": {
            "color": "#636efa"
           },
           "name": "Average",
           "offsetgroup": "Average",
           "orientation": "v",
           "showlegend": true,
           "textposition": "auto",
           "type": "bar",
           "x": [
            "Average"
           ],
           "xaxis": "x",
           "y": [
            3.5
           ],
           "yaxis": "y"
          },
          {
           "alignmentgroup": "True",
           "hovertemplate": "category=%{x}<br>date=2018-08-01<br>rate=%{y}<extra></extra>",
           "ids": [
            "White men"
           ],
           "legendgroup": "White men",
           "marker": {
            "color": "#EF553B"
           },
           "name": "White men",
           "offsetgroup": "White men",
           "orientation": "v",
           "showlegend": true,
           "textposition": "auto",
           "type": "bar",
           "x": [
            "White men"
           ],
           "xaxis": "x",
           "y": [
            3
           ],
           "yaxis": "y"
          },
          {
           "alignmentgroup": "True",
           "hovertemplate": "category=%{x}<br>date=2018-08-01<br>rate=%{y}<extra></extra>",
           "ids": [
            "White women"
           ],
           "legendgroup": "White women",
           "marker": {
            "color": "#00cc96"
           },
           "name": "White women",
           "offsetgroup": "White women",
           "orientation": "v",
           "showlegend": true,
           "textposition": "auto",
           "type": "bar",
           "x": [
            "White women"
           ],
           "xaxis": "x",
           "y": [
            3.1
           ],
           "yaxis": "y"
          },
          {
           "alignmentgroup": "True",
           "hovertemplate": "category=%{x}<br>date=2018-08-01<br>rate=%{y}<extra></extra>",
           "ids": [
            "Black men"
           ],
           "legendgroup": "Black men",
           "marker": {
            "color": "#ab63fa"
           },
           "name": "Black men",
           "offsetgroup": "Black men",
           "orientation": "v",
           "showlegend": true,
           "textposition": "auto",
           "type": "bar",
           "x": [
            "Black men"
           ],
           "xaxis": "x",
           "y": [
            5.9
           ],
           "yaxis": "y"
          },
          {
           "alignmentgroup": "True",
           "hovertemplate": "category=%{x}<br>date=2018-08-01<br>rate=%{y}<extra></extra>",
           "ids": [
            "Black women"
           ],
           "legendgroup": "Black women",
           "marker": {
            "color": "#FFA15A"
           },
           "name": "Black women",
           "offsetgroup": "Black women",
           "orientation": "v",
           "showlegend": true,
           "textposition": "auto",
           "type": "bar",
           "x": [
            "Black women"
           ],
           "xaxis": "x",
           "y": [
            5.9
           ],
           "yaxis": "y"
          },
          {
           "alignmentgroup": "True",
           "hovertemplate": "category=%{x}<br>date=2018-08-01<br>rate=%{y}<extra></extra>",
           "ids": [
            "Hispanic men"
           ],
           "legendgroup": "Hispanic men",
           "marker": {
            "color": "#19d3f3"
           },
           "name": "Hispanic men",
           "offsetgroup": "Hispanic men",
           "orientation": "v",
           "showlegend": true,
           "textposition": "auto",
           "type": "bar",
           "x": [
            "Hispanic men"
           ],
           "xaxis": "x",
           "y": [
            3.4
           ],
           "yaxis": "y"
          },
          {
           "alignmentgroup": "True",
           "hovertemplate": "category=%{x}<br>date=2018-08-01<br>rate=%{y}<extra></extra>",
           "ids": [
            "Hispanic women"
           ],
           "legendgroup": "Hispanic women",
           "marker": {
            "color": "#FF6692"
           },
           "name": "Hispanic women",
           "offsetgroup": "Hispanic women",
           "orientation": "v",
           "showlegend": true,
           "textposition": "auto",
           "type": "bar",
           "x": [
            "Hispanic women"
           ],
           "xaxis": "x",
           "y": [
            5.3
           ],
           "yaxis": "y"
          }
         ],
         "name": "2018-08-01"
        },
        {
         "data": [
          {
           "alignmentgroup": "True",
           "hovertemplate": "category=%{x}<br>date=2018-09-01<br>rate=%{y}<extra></extra>",
           "ids": [
            "Average"
           ],
           "legendgroup": "Average",
           "marker": {
            "color": "#636efa"
           },
           "name": "Average",
           "offsetgroup": "Average",
           "orientation": "v",
           "showlegend": true,
           "textposition": "auto",
           "type": "bar",
           "x": [
            "Average"
           ],
           "xaxis": "x",
           "y": [
            3.4
           ],
           "yaxis": "y"
          },
          {
           "alignmentgroup": "True",
           "hovertemplate": "category=%{x}<br>date=2018-09-01<br>rate=%{y}<extra></extra>",
           "ids": [
            "White men"
           ],
           "legendgroup": "White men",
           "marker": {
            "color": "#EF553B"
           },
           "name": "White men",
           "offsetgroup": "White men",
           "orientation": "v",
           "showlegend": true,
           "textposition": "auto",
           "type": "bar",
           "x": [
            "White men"
           ],
           "xaxis": "x",
           "y": [
            3
           ],
           "yaxis": "y"
          },
          {
           "alignmentgroup": "True",
           "hovertemplate": "category=%{x}<br>date=2018-09-01<br>rate=%{y}<extra></extra>",
           "ids": [
            "White women"
           ],
           "legendgroup": "White women",
           "marker": {
            "color": "#00cc96"
           },
           "name": "White women",
           "offsetgroup": "White women",
           "orientation": "v",
           "showlegend": true,
           "textposition": "auto",
           "type": "bar",
           "x": [
            "White women"
           ],
           "xaxis": "x",
           "y": [
            2.9
           ],
           "yaxis": "y"
          },
          {
           "alignmentgroup": "True",
           "hovertemplate": "category=%{x}<br>date=2018-09-01<br>rate=%{y}<extra></extra>",
           "ids": [
            "Black men"
           ],
           "legendgroup": "Black men",
           "marker": {
            "color": "#ab63fa"
           },
           "name": "Black men",
           "offsetgroup": "Black men",
           "orientation": "v",
           "showlegend": true,
           "textposition": "auto",
           "type": "bar",
           "x": [
            "Black men"
           ],
           "xaxis": "x",
           "y": [
            6
           ],
           "yaxis": "y"
          },
          {
           "alignmentgroup": "True",
           "hovertemplate": "category=%{x}<br>date=2018-09-01<br>rate=%{y}<extra></extra>",
           "ids": [
            "Black women"
           ],
           "legendgroup": "Black women",
           "marker": {
            "color": "#FFA15A"
           },
           "name": "Black women",
           "offsetgroup": "Black women",
           "orientation": "v",
           "showlegend": true,
           "textposition": "auto",
           "type": "bar",
           "x": [
            "Black women"
           ],
           "xaxis": "x",
           "y": [
            5.4
           ],
           "yaxis": "y"
          },
          {
           "alignmentgroup": "True",
           "hovertemplate": "category=%{x}<br>date=2018-09-01<br>rate=%{y}<extra></extra>",
           "ids": [
            "Hispanic men"
           ],
           "legendgroup": "Hispanic men",
           "marker": {
            "color": "#19d3f3"
           },
           "name": "Hispanic men",
           "offsetgroup": "Hispanic men",
           "orientation": "v",
           "showlegend": true,
           "textposition": "auto",
           "type": "bar",
           "x": [
            "Hispanic men"
           ],
           "xaxis": "x",
           "y": [
            3.4
           ],
           "yaxis": "y"
          },
          {
           "alignmentgroup": "True",
           "hovertemplate": "category=%{x}<br>date=2018-09-01<br>rate=%{y}<extra></extra>",
           "ids": [
            "Hispanic women"
           ],
           "legendgroup": "Hispanic women",
           "marker": {
            "color": "#FF6692"
           },
           "name": "Hispanic women",
           "offsetgroup": "Hispanic women",
           "orientation": "v",
           "showlegend": true,
           "textposition": "auto",
           "type": "bar",
           "x": [
            "Hispanic women"
           ],
           "xaxis": "x",
           "y": [
            4.3
           ],
           "yaxis": "y"
          }
         ],
         "name": "2018-09-01"
        },
        {
         "data": [
          {
           "alignmentgroup": "True",
           "hovertemplate": "category=%{x}<br>date=2018-10-01<br>rate=%{y}<extra></extra>",
           "ids": [
            "Average"
           ],
           "legendgroup": "Average",
           "marker": {
            "color": "#636efa"
           },
           "name": "Average",
           "offsetgroup": "Average",
           "orientation": "v",
           "showlegend": true,
           "textposition": "auto",
           "type": "bar",
           "x": [
            "Average"
           ],
           "xaxis": "x",
           "y": [
            3.4
           ],
           "yaxis": "y"
          },
          {
           "alignmentgroup": "True",
           "hovertemplate": "category=%{x}<br>date=2018-10-01<br>rate=%{y}<extra></extra>",
           "ids": [
            "White men"
           ],
           "legendgroup": "White men",
           "marker": {
            "color": "#EF553B"
           },
           "name": "White men",
           "offsetgroup": "White men",
           "orientation": "v",
           "showlegend": true,
           "textposition": "auto",
           "type": "bar",
           "x": [
            "White men"
           ],
           "xaxis": "x",
           "y": [
            3
           ],
           "yaxis": "y"
          },
          {
           "alignmentgroup": "True",
           "hovertemplate": "category=%{x}<br>date=2018-10-01<br>rate=%{y}<extra></extra>",
           "ids": [
            "White women"
           ],
           "legendgroup": "White women",
           "marker": {
            "color": "#00cc96"
           },
           "name": "White women",
           "offsetgroup": "White women",
           "orientation": "v",
           "showlegend": true,
           "textposition": "auto",
           "type": "bar",
           "x": [
            "White women"
           ],
           "xaxis": "x",
           "y": [
            3.1
           ],
           "yaxis": "y"
          },
          {
           "alignmentgroup": "True",
           "hovertemplate": "category=%{x}<br>date=2018-10-01<br>rate=%{y}<extra></extra>",
           "ids": [
            "Black men"
           ],
           "legendgroup": "Black men",
           "marker": {
            "color": "#ab63fa"
           },
           "name": "Black men",
           "offsetgroup": "Black men",
           "orientation": "v",
           "showlegend": true,
           "textposition": "auto",
           "type": "bar",
           "x": [
            "Black men"
           ],
           "xaxis": "x",
           "y": [
            6.4
           ],
           "yaxis": "y"
          },
          {
           "alignmentgroup": "True",
           "hovertemplate": "category=%{x}<br>date=2018-10-01<br>rate=%{y}<extra></extra>",
           "ids": [
            "Black women"
           ],
           "legendgroup": "Black women",
           "marker": {
            "color": "#FFA15A"
           },
           "name": "Black women",
           "offsetgroup": "Black women",
           "orientation": "v",
           "showlegend": true,
           "textposition": "auto",
           "type": "bar",
           "x": [
            "Black women"
           ],
           "xaxis": "x",
           "y": [
            4.9
           ],
           "yaxis": "y"
          },
          {
           "alignmentgroup": "True",
           "hovertemplate": "category=%{x}<br>date=2018-10-01<br>rate=%{y}<extra></extra>",
           "ids": [
            "Hispanic men"
           ],
           "legendgroup": "Hispanic men",
           "marker": {
            "color": "#19d3f3"
           },
           "name": "Hispanic men",
           "offsetgroup": "Hispanic men",
           "orientation": "v",
           "showlegend": true,
           "textposition": "auto",
           "type": "bar",
           "x": [
            "Hispanic men"
           ],
           "xaxis": "x",
           "y": [
            3.5
           ],
           "yaxis": "y"
          },
          {
           "alignmentgroup": "True",
           "hovertemplate": "category=%{x}<br>date=2018-10-01<br>rate=%{y}<extra></extra>",
           "ids": [
            "Hispanic women"
           ],
           "legendgroup": "Hispanic women",
           "marker": {
            "color": "#FF6692"
           },
           "name": "Hispanic women",
           "offsetgroup": "Hispanic women",
           "orientation": "v",
           "showlegend": true,
           "textposition": "auto",
           "type": "bar",
           "x": [
            "Hispanic women"
           ],
           "xaxis": "x",
           "y": [
            4
           ],
           "yaxis": "y"
          }
         ],
         "name": "2018-10-01"
        },
        {
         "data": [
          {
           "alignmentgroup": "True",
           "hovertemplate": "category=%{x}<br>date=2018-11-01<br>rate=%{y}<extra></extra>",
           "ids": [
            "Average"
           ],
           "legendgroup": "Average",
           "marker": {
            "color": "#636efa"
           },
           "name": "Average",
           "offsetgroup": "Average",
           "orientation": "v",
           "showlegend": true,
           "textposition": "auto",
           "type": "bar",
           "x": [
            "Average"
           ],
           "xaxis": "x",
           "y": [
            3.4
           ],
           "yaxis": "y"
          },
          {
           "alignmentgroup": "True",
           "hovertemplate": "category=%{x}<br>date=2018-11-01<br>rate=%{y}<extra></extra>",
           "ids": [
            "White men"
           ],
           "legendgroup": "White men",
           "marker": {
            "color": "#EF553B"
           },
           "name": "White men",
           "offsetgroup": "White men",
           "orientation": "v",
           "showlegend": true,
           "textposition": "auto",
           "type": "bar",
           "x": [
            "White men"
           ],
           "xaxis": "x",
           "y": [
            3
           ],
           "yaxis": "y"
          },
          {
           "alignmentgroup": "True",
           "hovertemplate": "category=%{x}<br>date=2018-11-01<br>rate=%{y}<extra></extra>",
           "ids": [
            "White women"
           ],
           "legendgroup": "White women",
           "marker": {
            "color": "#00cc96"
           },
           "name": "White women",
           "offsetgroup": "White women",
           "orientation": "v",
           "showlegend": true,
           "textposition": "auto",
           "type": "bar",
           "x": [
            "White women"
           ],
           "xaxis": "x",
           "y": [
            3.2
           ],
           "yaxis": "y"
          },
          {
           "alignmentgroup": "True",
           "hovertemplate": "category=%{x}<br>date=2018-11-01<br>rate=%{y}<extra></extra>",
           "ids": [
            "Black men"
           ],
           "legendgroup": "Black men",
           "marker": {
            "color": "#ab63fa"
           },
           "name": "Black men",
           "offsetgroup": "Black men",
           "orientation": "v",
           "showlegend": true,
           "textposition": "auto",
           "type": "bar",
           "x": [
            "Black men"
           ],
           "xaxis": "x",
           "y": [
            6
           ],
           "yaxis": "y"
          },
          {
           "alignmentgroup": "True",
           "hovertemplate": "category=%{x}<br>date=2018-11-01<br>rate=%{y}<extra></extra>",
           "ids": [
            "Black women"
           ],
           "legendgroup": "Black women",
           "marker": {
            "color": "#FFA15A"
           },
           "name": "Black women",
           "offsetgroup": "Black women",
           "orientation": "v",
           "showlegend": true,
           "textposition": "auto",
           "type": "bar",
           "x": [
            "Black women"
           ],
           "xaxis": "x",
           "y": [
            5
           ],
           "yaxis": "y"
          },
          {
           "alignmentgroup": "True",
           "hovertemplate": "category=%{x}<br>date=2018-11-01<br>rate=%{y}<extra></extra>",
           "ids": [
            "Hispanic men"
           ],
           "legendgroup": "Hispanic men",
           "marker": {
            "color": "#19d3f3"
           },
           "name": "Hispanic men",
           "offsetgroup": "Hispanic men",
           "orientation": "v",
           "showlegend": true,
           "textposition": "auto",
           "type": "bar",
           "x": [
            "Hispanic men"
           ],
           "xaxis": "x",
           "y": [
            3.3
           ],
           "yaxis": "y"
          },
          {
           "alignmentgroup": "True",
           "hovertemplate": "category=%{x}<br>date=2018-11-01<br>rate=%{y}<extra></extra>",
           "ids": [
            "Hispanic women"
           ],
           "legendgroup": "Hispanic women",
           "marker": {
            "color": "#FF6692"
           },
           "name": "Hispanic women",
           "offsetgroup": "Hispanic women",
           "orientation": "v",
           "showlegend": true,
           "textposition": "auto",
           "type": "bar",
           "x": [
            "Hispanic women"
           ],
           "xaxis": "x",
           "y": [
            4.6
           ],
           "yaxis": "y"
          }
         ],
         "name": "2018-11-01"
        },
        {
         "data": [
          {
           "alignmentgroup": "True",
           "hovertemplate": "category=%{x}<br>date=2018-12-01<br>rate=%{y}<extra></extra>",
           "ids": [
            "Average"
           ],
           "legendgroup": "Average",
           "marker": {
            "color": "#636efa"
           },
           "name": "Average",
           "offsetgroup": "Average",
           "orientation": "v",
           "showlegend": true,
           "textposition": "auto",
           "type": "bar",
           "x": [
            "Average"
           ],
           "xaxis": "x",
           "y": [
            3.5
           ],
           "yaxis": "y"
          },
          {
           "alignmentgroup": "True",
           "hovertemplate": "category=%{x}<br>date=2018-12-01<br>rate=%{y}<extra></extra>",
           "ids": [
            "White men"
           ],
           "legendgroup": "White men",
           "marker": {
            "color": "#EF553B"
           },
           "name": "White men",
           "offsetgroup": "White men",
           "orientation": "v",
           "showlegend": true,
           "textposition": "auto",
           "type": "bar",
           "x": [
            "White men"
           ],
           "xaxis": "x",
           "y": [
            3.1
           ],
           "yaxis": "y"
          },
          {
           "alignmentgroup": "True",
           "hovertemplate": "category=%{x}<br>date=2018-12-01<br>rate=%{y}<extra></extra>",
           "ids": [
            "White women"
           ],
           "legendgroup": "White women",
           "marker": {
            "color": "#00cc96"
           },
           "name": "White women",
           "offsetgroup": "White women",
           "orientation": "v",
           "showlegend": true,
           "textposition": "auto",
           "type": "bar",
           "x": [
            "White women"
           ],
           "xaxis": "x",
           "y": [
            3.1
           ],
           "yaxis": "y"
          },
          {
           "alignmentgroup": "True",
           "hovertemplate": "category=%{x}<br>date=2018-12-01<br>rate=%{y}<extra></extra>",
           "ids": [
            "Black men"
           ],
           "legendgroup": "Black men",
           "marker": {
            "color": "#ab63fa"
           },
           "name": "Black men",
           "offsetgroup": "Black men",
           "orientation": "v",
           "showlegend": true,
           "textposition": "auto",
           "type": "bar",
           "x": [
            "Black men"
           ],
           "xaxis": "x",
           "y": [
            6.4
           ],
           "yaxis": "y"
          },
          {
           "alignmentgroup": "True",
           "hovertemplate": "category=%{x}<br>date=2018-12-01<br>rate=%{y}<extra></extra>",
           "ids": [
            "Black women"
           ],
           "legendgroup": "Black women",
           "marker": {
            "color": "#FFA15A"
           },
           "name": "Black women",
           "offsetgroup": "Black women",
           "orientation": "v",
           "showlegend": true,
           "textposition": "auto",
           "type": "bar",
           "x": [
            "Black women"
           ],
           "xaxis": "x",
           "y": [
            5.6
           ],
           "yaxis": "y"
          },
          {
           "alignmentgroup": "True",
           "hovertemplate": "category=%{x}<br>date=2018-12-01<br>rate=%{y}<extra></extra>",
           "ids": [
            "Hispanic men"
           ],
           "legendgroup": "Hispanic men",
           "marker": {
            "color": "#19d3f3"
           },
           "name": "Hispanic men",
           "offsetgroup": "Hispanic men",
           "orientation": "v",
           "showlegend": true,
           "textposition": "auto",
           "type": "bar",
           "x": [
            "Hispanic men"
           ],
           "xaxis": "x",
           "y": [
            3.8
           ],
           "yaxis": "y"
          },
          {
           "alignmentgroup": "True",
           "hovertemplate": "category=%{x}<br>date=2018-12-01<br>rate=%{y}<extra></extra>",
           "ids": [
            "Hispanic women"
           ],
           "legendgroup": "Hispanic women",
           "marker": {
            "color": "#FF6692"
           },
           "name": "Hispanic women",
           "offsetgroup": "Hispanic women",
           "orientation": "v",
           "showlegend": true,
           "textposition": "auto",
           "type": "bar",
           "x": [
            "Hispanic women"
           ],
           "xaxis": "x",
           "y": [
            4
           ],
           "yaxis": "y"
          }
         ],
         "name": "2018-12-01"
        },
        {
         "data": [
          {
           "alignmentgroup": "True",
           "hovertemplate": "category=%{x}<br>date=2019-01-01<br>rate=%{y}<extra></extra>",
           "ids": [
            "Average"
           ],
           "legendgroup": "Average",
           "marker": {
            "color": "#636efa"
           },
           "name": "Average",
           "offsetgroup": "Average",
           "orientation": "v",
           "showlegend": true,
           "textposition": "auto",
           "type": "bar",
           "x": [
            "Average"
           ],
           "xaxis": "x",
           "y": [
            3.7
           ],
           "yaxis": "y"
          },
          {
           "alignmentgroup": "True",
           "hovertemplate": "category=%{x}<br>date=2019-01-01<br>rate=%{y}<extra></extra>",
           "ids": [
            "White men"
           ],
           "legendgroup": "White men",
           "marker": {
            "color": "#EF553B"
           },
           "name": "White men",
           "offsetgroup": "White men",
           "orientation": "v",
           "showlegend": true,
           "textposition": "auto",
           "type": "bar",
           "x": [
            "White men"
           ],
           "xaxis": "x",
           "y": [
            3.3
           ],
           "yaxis": "y"
          },
          {
           "alignmentgroup": "True",
           "hovertemplate": "category=%{x}<br>date=2019-01-01<br>rate=%{y}<extra></extra>",
           "ids": [
            "White women"
           ],
           "legendgroup": "White women",
           "marker": {
            "color": "#00cc96"
           },
           "name": "White women",
           "offsetgroup": "White women",
           "orientation": "v",
           "showlegend": true,
           "textposition": "auto",
           "type": "bar",
           "x": [
            "White women"
           ],
           "xaxis": "x",
           "y": [
            3.2
           ],
           "yaxis": "y"
          },
          {
           "alignmentgroup": "True",
           "hovertemplate": "category=%{x}<br>date=2019-01-01<br>rate=%{y}<extra></extra>",
           "ids": [
            "Black men"
           ],
           "legendgroup": "Black men",
           "marker": {
            "color": "#ab63fa"
           },
           "name": "Black men",
           "offsetgroup": "Black men",
           "orientation": "v",
           "showlegend": true,
           "textposition": "auto",
           "type": "bar",
           "x": [
            "Black men"
           ],
           "xaxis": "x",
           "y": [
            7
           ],
           "yaxis": "y"
          },
          {
           "alignmentgroup": "True",
           "hovertemplate": "category=%{x}<br>date=2019-01-01<br>rate=%{y}<extra></extra>",
           "ids": [
            "Black women"
           ],
           "legendgroup": "Black women",
           "marker": {
            "color": "#FFA15A"
           },
           "name": "Black women",
           "offsetgroup": "Black women",
           "orientation": "v",
           "showlegend": true,
           "textposition": "auto",
           "type": "bar",
           "x": [
            "Black women"
           ],
           "xaxis": "x",
           "y": [
            5.5
           ],
           "yaxis": "y"
          },
          {
           "alignmentgroup": "True",
           "hovertemplate": "category=%{x}<br>date=2019-01-01<br>rate=%{y}<extra></extra>",
           "ids": [
            "Hispanic men"
           ],
           "legendgroup": "Hispanic men",
           "marker": {
            "color": "#19d3f3"
           },
           "name": "Hispanic men",
           "offsetgroup": "Hispanic men",
           "orientation": "v",
           "showlegend": true,
           "textposition": "auto",
           "type": "bar",
           "x": [
            "Hispanic men"
           ],
           "xaxis": "x",
           "y": [
            5.2
           ],
           "yaxis": "y"
          },
          {
           "alignmentgroup": "True",
           "hovertemplate": "category=%{x}<br>date=2019-01-01<br>rate=%{y}<extra></extra>",
           "ids": [
            "Hispanic women"
           ],
           "legendgroup": "Hispanic women",
           "marker": {
            "color": "#FF6692"
           },
           "name": "Hispanic women",
           "offsetgroup": "Hispanic women",
           "orientation": "v",
           "showlegend": true,
           "textposition": "auto",
           "type": "bar",
           "x": [
            "Hispanic women"
           ],
           "xaxis": "x",
           "y": [
            5.1
           ],
           "yaxis": "y"
          }
         ],
         "name": "2019-01-01"
        },
        {
         "data": [
          {
           "alignmentgroup": "True",
           "hovertemplate": "category=%{x}<br>date=2019-02-01<br>rate=%{y}<extra></extra>",
           "ids": [
            "Average"
           ],
           "legendgroup": "Average",
           "marker": {
            "color": "#636efa"
           },
           "name": "Average",
           "offsetgroup": "Average",
           "orientation": "v",
           "showlegend": true,
           "textposition": "auto",
           "type": "bar",
           "x": [
            "Average"
           ],
           "xaxis": "x",
           "y": [
            3.4
           ],
           "yaxis": "y"
          },
          {
           "alignmentgroup": "True",
           "hovertemplate": "category=%{x}<br>date=2019-02-01<br>rate=%{y}<extra></extra>",
           "ids": [
            "White men"
           ],
           "legendgroup": "White men",
           "marker": {
            "color": "#EF553B"
           },
           "name": "White men",
           "offsetgroup": "White men",
           "orientation": "v",
           "showlegend": true,
           "textposition": "auto",
           "type": "bar",
           "x": [
            "White men"
           ],
           "xaxis": "x",
           "y": [
            3
           ],
           "yaxis": "y"
          },
          {
           "alignmentgroup": "True",
           "hovertemplate": "category=%{x}<br>date=2019-02-01<br>rate=%{y}<extra></extra>",
           "ids": [
            "White women"
           ],
           "legendgroup": "White women",
           "marker": {
            "color": "#00cc96"
           },
           "name": "White women",
           "offsetgroup": "White women",
           "orientation": "v",
           "showlegend": true,
           "textposition": "auto",
           "type": "bar",
           "x": [
            "White women"
           ],
           "xaxis": "x",
           "y": [
            3
           ],
           "yaxis": "y"
          },
          {
           "alignmentgroup": "True",
           "hovertemplate": "category=%{x}<br>date=2019-02-01<br>rate=%{y}<extra></extra>",
           "ids": [
            "Black men"
           ],
           "legendgroup": "Black men",
           "marker": {
            "color": "#ab63fa"
           },
           "name": "Black men",
           "offsetgroup": "Black men",
           "orientation": "v",
           "showlegend": true,
           "textposition": "auto",
           "type": "bar",
           "x": [
            "Black men"
           ],
           "xaxis": "x",
           "y": [
            7.1
           ],
           "yaxis": "y"
          },
          {
           "alignmentgroup": "True",
           "hovertemplate": "category=%{x}<br>date=2019-02-01<br>rate=%{y}<extra></extra>",
           "ids": [
            "Black women"
           ],
           "legendgroup": "Black women",
           "marker": {
            "color": "#FFA15A"
           },
           "name": "Black women",
           "offsetgroup": "Black women",
           "orientation": "v",
           "showlegend": true,
           "textposition": "auto",
           "type": "bar",
           "x": [
            "Black women"
           ],
           "xaxis": "x",
           "y": [
            5.2
           ],
           "yaxis": "y"
          },
          {
           "alignmentgroup": "True",
           "hovertemplate": "category=%{x}<br>date=2019-02-01<br>rate=%{y}<extra></extra>",
           "ids": [
            "Hispanic men"
           ],
           "legendgroup": "Hispanic men",
           "marker": {
            "color": "#19d3f3"
           },
           "name": "Hispanic men",
           "offsetgroup": "Hispanic men",
           "orientation": "v",
           "showlegend": true,
           "textposition": "auto",
           "type": "bar",
           "x": [
            "Hispanic men"
           ],
           "xaxis": "x",
           "y": [
            4.3
           ],
           "yaxis": "y"
          },
          {
           "alignmentgroup": "True",
           "hovertemplate": "category=%{x}<br>date=2019-02-01<br>rate=%{y}<extra></extra>",
           "ids": [
            "Hispanic women"
           ],
           "legendgroup": "Hispanic women",
           "marker": {
            "color": "#FF6692"
           },
           "name": "Hispanic women",
           "offsetgroup": "Hispanic women",
           "orientation": "v",
           "showlegend": true,
           "textposition": "auto",
           "type": "bar",
           "x": [
            "Hispanic women"
           ],
           "xaxis": "x",
           "y": [
            4
           ],
           "yaxis": "y"
          }
         ],
         "name": "2019-02-01"
        },
        {
         "data": [
          {
           "alignmentgroup": "True",
           "hovertemplate": "category=%{x}<br>date=2019-03-01<br>rate=%{y}<extra></extra>",
           "ids": [
            "Average"
           ],
           "legendgroup": "Average",
           "marker": {
            "color": "#636efa"
           },
           "name": "Average",
           "offsetgroup": "Average",
           "orientation": "v",
           "showlegend": true,
           "textposition": "auto",
           "type": "bar",
           "x": [
            "Average"
           ],
           "xaxis": "x",
           "y": [
            3.5
           ],
           "yaxis": "y"
          },
          {
           "alignmentgroup": "True",
           "hovertemplate": "category=%{x}<br>date=2019-03-01<br>rate=%{y}<extra></extra>",
           "ids": [
            "White men"
           ],
           "legendgroup": "White men",
           "marker": {
            "color": "#EF553B"
           },
           "name": "White men",
           "offsetgroup": "White men",
           "orientation": "v",
           "showlegend": true,
           "textposition": "auto",
           "type": "bar",
           "x": [
            "White men"
           ],
           "xaxis": "x",
           "y": [
            3.2
           ],
           "yaxis": "y"
          },
          {
           "alignmentgroup": "True",
           "hovertemplate": "category=%{x}<br>date=2019-03-01<br>rate=%{y}<extra></extra>",
           "ids": [
            "White women"
           ],
           "legendgroup": "White women",
           "marker": {
            "color": "#00cc96"
           },
           "name": "White women",
           "offsetgroup": "White women",
           "orientation": "v",
           "showlegend": true,
           "textposition": "auto",
           "type": "bar",
           "x": [
            "White women"
           ],
           "xaxis": "x",
           "y": [
            3
           ],
           "yaxis": "y"
          },
          {
           "alignmentgroup": "True",
           "hovertemplate": "category=%{x}<br>date=2019-03-01<br>rate=%{y}<extra></extra>",
           "ids": [
            "Black men"
           ],
           "legendgroup": "Black men",
           "marker": {
            "color": "#ab63fa"
           },
           "name": "Black men",
           "offsetgroup": "Black men",
           "orientation": "v",
           "showlegend": true,
           "textposition": "auto",
           "type": "bar",
           "x": [
            "Black men"
           ],
           "xaxis": "x",
           "y": [
            6.7
           ],
           "yaxis": "y"
          },
          {
           "alignmentgroup": "True",
           "hovertemplate": "category=%{x}<br>date=2019-03-01<br>rate=%{y}<extra></extra>",
           "ids": [
            "Black women"
           ],
           "legendgroup": "Black women",
           "marker": {
            "color": "#FFA15A"
           },
           "name": "Black women",
           "offsetgroup": "Black women",
           "orientation": "v",
           "showlegend": true,
           "textposition": "auto",
           "type": "bar",
           "x": [
            "Black women"
           ],
           "xaxis": "x",
           "y": [
            5.3
           ],
           "yaxis": "y"
          },
          {
           "alignmentgroup": "True",
           "hovertemplate": "category=%{x}<br>date=2019-03-01<br>rate=%{y}<extra></extra>",
           "ids": [
            "Hispanic men"
           ],
           "legendgroup": "Hispanic men",
           "marker": {
            "color": "#19d3f3"
           },
           "name": "Hispanic men",
           "offsetgroup": "Hispanic men",
           "orientation": "v",
           "showlegend": true,
           "textposition": "auto",
           "type": "bar",
           "x": [
            "Hispanic men"
           ],
           "xaxis": "x",
           "y": [
            4.6
           ],
           "yaxis": "y"
          },
          {
           "alignmentgroup": "True",
           "hovertemplate": "category=%{x}<br>date=2019-03-01<br>rate=%{y}<extra></extra>",
           "ids": [
            "Hispanic women"
           ],
           "legendgroup": "Hispanic women",
           "marker": {
            "color": "#FF6692"
           },
           "name": "Hispanic women",
           "offsetgroup": "Hispanic women",
           "orientation": "v",
           "showlegend": true,
           "textposition": "auto",
           "type": "bar",
           "x": [
            "Hispanic women"
           ],
           "xaxis": "x",
           "y": [
            4.4
           ],
           "yaxis": "y"
          }
         ],
         "name": "2019-03-01"
        },
        {
         "data": [
          {
           "alignmentgroup": "True",
           "hovertemplate": "category=%{x}<br>date=2019-04-01<br>rate=%{y}<extra></extra>",
           "ids": [
            "Average"
           ],
           "legendgroup": "Average",
           "marker": {
            "color": "#636efa"
           },
           "name": "Average",
           "offsetgroup": "Average",
           "orientation": "v",
           "showlegend": true,
           "textposition": "auto",
           "type": "bar",
           "x": [
            "Average"
           ],
           "xaxis": "x",
           "y": [
            3.3
           ],
           "yaxis": "y"
          },
          {
           "alignmentgroup": "True",
           "hovertemplate": "category=%{x}<br>date=2019-04-01<br>rate=%{y}<extra></extra>",
           "ids": [
            "White men"
           ],
           "legendgroup": "White men",
           "marker": {
            "color": "#EF553B"
           },
           "name": "White men",
           "offsetgroup": "White men",
           "orientation": "v",
           "showlegend": true,
           "textposition": "auto",
           "type": "bar",
           "x": [
            "White men"
           ],
           "xaxis": "x",
           "y": [
            2.9
           ],
           "yaxis": "y"
          },
          {
           "alignmentgroup": "True",
           "hovertemplate": "category=%{x}<br>date=2019-04-01<br>rate=%{y}<extra></extra>",
           "ids": [
            "White women"
           ],
           "legendgroup": "White women",
           "marker": {
            "color": "#00cc96"
           },
           "name": "White women",
           "offsetgroup": "White women",
           "orientation": "v",
           "showlegend": true,
           "textposition": "auto",
           "type": "bar",
           "x": [
            "White women"
           ],
           "xaxis": "x",
           "y": [
            2.8
           ],
           "yaxis": "y"
          },
          {
           "alignmentgroup": "True",
           "hovertemplate": "category=%{x}<br>date=2019-04-01<br>rate=%{y}<extra></extra>",
           "ids": [
            "Black men"
           ],
           "legendgroup": "Black men",
           "marker": {
            "color": "#ab63fa"
           },
           "name": "Black men",
           "offsetgroup": "Black men",
           "orientation": "v",
           "showlegend": true,
           "textposition": "auto",
           "type": "bar",
           "x": [
            "Black men"
           ],
           "xaxis": "x",
           "y": [
            6.6
           ],
           "yaxis": "y"
          },
          {
           "alignmentgroup": "True",
           "hovertemplate": "category=%{x}<br>date=2019-04-01<br>rate=%{y}<extra></extra>",
           "ids": [
            "Black women"
           ],
           "legendgroup": "Black women",
           "marker": {
            "color": "#FFA15A"
           },
           "name": "Black women",
           "offsetgroup": "Black women",
           "orientation": "v",
           "showlegend": true,
           "textposition": "auto",
           "type": "bar",
           "x": [
            "Black women"
           ],
           "xaxis": "x",
           "y": [
            5.3
           ],
           "yaxis": "y"
          },
          {
           "alignmentgroup": "True",
           "hovertemplate": "category=%{x}<br>date=2019-04-01<br>rate=%{y}<extra></extra>",
           "ids": [
            "Hispanic men"
           ],
           "legendgroup": "Hispanic men",
           "marker": {
            "color": "#19d3f3"
           },
           "name": "Hispanic men",
           "offsetgroup": "Hispanic men",
           "orientation": "v",
           "showlegend": true,
           "textposition": "auto",
           "type": "bar",
           "x": [
            "Hispanic men"
           ],
           "xaxis": "x",
           "y": [
            3.3
           ],
           "yaxis": "y"
          },
          {
           "alignmentgroup": "True",
           "hovertemplate": "category=%{x}<br>date=2019-04-01<br>rate=%{y}<extra></extra>",
           "ids": [
            "Hispanic women"
           ],
           "legendgroup": "Hispanic women",
           "marker": {
            "color": "#FF6692"
           },
           "name": "Hispanic women",
           "offsetgroup": "Hispanic women",
           "orientation": "v",
           "showlegend": true,
           "textposition": "auto",
           "type": "bar",
           "x": [
            "Hispanic women"
           ],
           "xaxis": "x",
           "y": [
            3.4
           ],
           "yaxis": "y"
          }
         ],
         "name": "2019-04-01"
        },
        {
         "data": [
          {
           "alignmentgroup": "True",
           "hovertemplate": "category=%{x}<br>date=2019-05-01<br>rate=%{y}<extra></extra>",
           "ids": [
            "Average"
           ],
           "legendgroup": "Average",
           "marker": {
            "color": "#636efa"
           },
           "name": "Average",
           "offsetgroup": "Average",
           "orientation": "v",
           "showlegend": true,
           "textposition": "auto",
           "type": "bar",
           "x": [
            "Average"
           ],
           "xaxis": "x",
           "y": [
            3.3
           ],
           "yaxis": "y"
          },
          {
           "alignmentgroup": "True",
           "hovertemplate": "category=%{x}<br>date=2019-05-01<br>rate=%{y}<extra></extra>",
           "ids": [
            "White men"
           ],
           "legendgroup": "White men",
           "marker": {
            "color": "#EF553B"
           },
           "name": "White men",
           "offsetgroup": "White men",
           "orientation": "v",
           "showlegend": true,
           "textposition": "auto",
           "type": "bar",
           "x": [
            "White men"
           ],
           "xaxis": "x",
           "y": [
            2.9
           ],
           "yaxis": "y"
          },
          {
           "alignmentgroup": "True",
           "hovertemplate": "category=%{x}<br>date=2019-05-01<br>rate=%{y}<extra></extra>",
           "ids": [
            "White women"
           ],
           "legendgroup": "White women",
           "marker": {
            "color": "#00cc96"
           },
           "name": "White women",
           "offsetgroup": "White women",
           "orientation": "v",
           "showlegend": true,
           "textposition": "auto",
           "type": "bar",
           "x": [
            "White women"
           ],
           "xaxis": "x",
           "y": [
            3
           ],
           "yaxis": "y"
          },
          {
           "alignmentgroup": "True",
           "hovertemplate": "category=%{x}<br>date=2019-05-01<br>rate=%{y}<extra></extra>",
           "ids": [
            "Black men"
           ],
           "legendgroup": "Black men",
           "marker": {
            "color": "#ab63fa"
           },
           "name": "Black men",
           "offsetgroup": "Black men",
           "orientation": "v",
           "showlegend": true,
           "textposition": "auto",
           "type": "bar",
           "x": [
            "Black men"
           ],
           "xaxis": "x",
           "y": [
            6.1
           ],
           "yaxis": "y"
          },
          {
           "alignmentgroup": "True",
           "hovertemplate": "category=%{x}<br>date=2019-05-01<br>rate=%{y}<extra></extra>",
           "ids": [
            "Black women"
           ],
           "legendgroup": "Black women",
           "marker": {
            "color": "#FFA15A"
           },
           "name": "Black women",
           "offsetgroup": "Black women",
           "orientation": "v",
           "showlegend": true,
           "textposition": "auto",
           "type": "bar",
           "x": [
            "Black women"
           ],
           "xaxis": "x",
           "y": [
            5.1
           ],
           "yaxis": "y"
          },
          {
           "alignmentgroup": "True",
           "hovertemplate": "category=%{x}<br>date=2019-05-01<br>rate=%{y}<extra></extra>",
           "ids": [
            "Hispanic men"
           ],
           "legendgroup": "Hispanic men",
           "marker": {
            "color": "#19d3f3"
           },
           "name": "Hispanic men",
           "offsetgroup": "Hispanic men",
           "orientation": "v",
           "showlegend": true,
           "textposition": "auto",
           "type": "bar",
           "x": [
            "Hispanic men"
           ],
           "xaxis": "x",
           "y": [
            3.1
           ],
           "yaxis": "y"
          },
          {
           "alignmentgroup": "True",
           "hovertemplate": "category=%{x}<br>date=2019-05-01<br>rate=%{y}<extra></extra>",
           "ids": [
            "Hispanic women"
           ],
           "legendgroup": "Hispanic women",
           "marker": {
            "color": "#FF6692"
           },
           "name": "Hispanic women",
           "offsetgroup": "Hispanic women",
           "orientation": "v",
           "showlegend": true,
           "textposition": "auto",
           "type": "bar",
           "x": [
            "Hispanic women"
           ],
           "xaxis": "x",
           "y": [
            3.7
           ],
           "yaxis": "y"
          }
         ],
         "name": "2019-05-01"
        },
        {
         "data": [
          {
           "alignmentgroup": "True",
           "hovertemplate": "category=%{x}<br>date=2019-06-01<br>rate=%{y}<extra></extra>",
           "ids": [
            "Average"
           ],
           "legendgroup": "Average",
           "marker": {
            "color": "#636efa"
           },
           "name": "Average",
           "offsetgroup": "Average",
           "orientation": "v",
           "showlegend": true,
           "textposition": "auto",
           "type": "bar",
           "x": [
            "Average"
           ],
           "xaxis": "x",
           "y": [
            3.3
           ],
           "yaxis": "y"
          },
          {
           "alignmentgroup": "True",
           "hovertemplate": "category=%{x}<br>date=2019-06-01<br>rate=%{y}<extra></extra>",
           "ids": [
            "White men"
           ],
           "legendgroup": "White men",
           "marker": {
            "color": "#EF553B"
           },
           "name": "White men",
           "offsetgroup": "White men",
           "orientation": "v",
           "showlegend": true,
           "textposition": "auto",
           "type": "bar",
           "x": [
            "White men"
           ],
           "xaxis": "x",
           "y": [
            2.9
           ],
           "yaxis": "y"
          },
          {
           "alignmentgroup": "True",
           "hovertemplate": "category=%{x}<br>date=2019-06-01<br>rate=%{y}<extra></extra>",
           "ids": [
            "White women"
           ],
           "legendgroup": "White women",
           "marker": {
            "color": "#00cc96"
           },
           "name": "White women",
           "offsetgroup": "White women",
           "orientation": "v",
           "showlegend": true,
           "textposition": "auto",
           "type": "bar",
           "x": [
            "White women"
           ],
           "xaxis": "x",
           "y": [
            3.1
           ],
           "yaxis": "y"
          },
          {
           "alignmentgroup": "True",
           "hovertemplate": "category=%{x}<br>date=2019-06-01<br>rate=%{y}<extra></extra>",
           "ids": [
            "Black men"
           ],
           "legendgroup": "Black men",
           "marker": {
            "color": "#ab63fa"
           },
           "name": "Black men",
           "offsetgroup": "Black men",
           "orientation": "v",
           "showlegend": true,
           "textposition": "auto",
           "type": "bar",
           "x": [
            "Black men"
           ],
           "xaxis": "x",
           "y": [
            5.7
           ],
           "yaxis": "y"
          },
          {
           "alignmentgroup": "True",
           "hovertemplate": "category=%{x}<br>date=2019-06-01<br>rate=%{y}<extra></extra>",
           "ids": [
            "Black women"
           ],
           "legendgroup": "Black women",
           "marker": {
            "color": "#FFA15A"
           },
           "name": "Black women",
           "offsetgroup": "Black women",
           "orientation": "v",
           "showlegend": true,
           "textposition": "auto",
           "type": "bar",
           "x": [
            "Black women"
           ],
           "xaxis": "x",
           "y": [
            5.2
           ],
           "yaxis": "y"
          },
          {
           "alignmentgroup": "True",
           "hovertemplate": "category=%{x}<br>date=2019-06-01<br>rate=%{y}<extra></extra>",
           "ids": [
            "Hispanic men"
           ],
           "legendgroup": "Hispanic men",
           "marker": {
            "color": "#19d3f3"
           },
           "name": "Hispanic men",
           "offsetgroup": "Hispanic men",
           "orientation": "v",
           "showlegend": true,
           "textposition": "auto",
           "type": "bar",
           "x": [
            "Hispanic men"
           ],
           "xaxis": "x",
           "y": [
            3.3
           ],
           "yaxis": "y"
          },
          {
           "alignmentgroup": "True",
           "hovertemplate": "category=%{x}<br>date=2019-06-01<br>rate=%{y}<extra></extra>",
           "ids": [
            "Hispanic women"
           ],
           "legendgroup": "Hispanic women",
           "marker": {
            "color": "#FF6692"
           },
           "name": "Hispanic women",
           "offsetgroup": "Hispanic women",
           "orientation": "v",
           "showlegend": true,
           "textposition": "auto",
           "type": "bar",
           "x": [
            "Hispanic women"
           ],
           "xaxis": "x",
           "y": [
            4.3
           ],
           "yaxis": "y"
          }
         ],
         "name": "2019-06-01"
        },
        {
         "data": [
          {
           "alignmentgroup": "True",
           "hovertemplate": "category=%{x}<br>date=2019-07-01<br>rate=%{y}<extra></extra>",
           "ids": [
            "Average"
           ],
           "legendgroup": "Average",
           "marker": {
            "color": "#636efa"
           },
           "name": "Average",
           "offsetgroup": "Average",
           "orientation": "v",
           "showlegend": true,
           "textposition": "auto",
           "type": "bar",
           "x": [
            "Average"
           ],
           "xaxis": "x",
           "y": [
            3.3
           ],
           "yaxis": "y"
          },
          {
           "alignmentgroup": "True",
           "hovertemplate": "category=%{x}<br>date=2019-07-01<br>rate=%{y}<extra></extra>",
           "ids": [
            "White men"
           ],
           "legendgroup": "White men",
           "marker": {
            "color": "#EF553B"
           },
           "name": "White men",
           "offsetgroup": "White men",
           "orientation": "v",
           "showlegend": true,
           "textposition": "auto",
           "type": "bar",
           "x": [
            "White men"
           ],
           "xaxis": "x",
           "y": [
            3
           ],
           "yaxis": "y"
          },
          {
           "alignmentgroup": "True",
           "hovertemplate": "category=%{x}<br>date=2019-07-01<br>rate=%{y}<extra></extra>",
           "ids": [
            "White women"
           ],
           "legendgroup": "White women",
           "marker": {
            "color": "#00cc96"
           },
           "name": "White women",
           "offsetgroup": "White women",
           "orientation": "v",
           "showlegend": true,
           "textposition": "auto",
           "type": "bar",
           "x": [
            "White women"
           ],
           "xaxis": "x",
           "y": [
            3
           ],
           "yaxis": "y"
          },
          {
           "alignmentgroup": "True",
           "hovertemplate": "category=%{x}<br>date=2019-07-01<br>rate=%{y}<extra></extra>",
           "ids": [
            "Black men"
           ],
           "legendgroup": "Black men",
           "marker": {
            "color": "#ab63fa"
           },
           "name": "Black men",
           "offsetgroup": "Black men",
           "orientation": "v",
           "showlegend": true,
           "textposition": "auto",
           "type": "bar",
           "x": [
            "Black men"
           ],
           "xaxis": "x",
           "y": [
            5.7
           ],
           "yaxis": "y"
          },
          {
           "alignmentgroup": "True",
           "hovertemplate": "category=%{x}<br>date=2019-07-01<br>rate=%{y}<extra></extra>",
           "ids": [
            "Black women"
           ],
           "legendgroup": "Black women",
           "marker": {
            "color": "#FFA15A"
           },
           "name": "Black women",
           "offsetgroup": "Black women",
           "orientation": "v",
           "showlegend": true,
           "textposition": "auto",
           "type": "bar",
           "x": [
            "Black women"
           ],
           "xaxis": "x",
           "y": [
            5.2
           ],
           "yaxis": "y"
          },
          {
           "alignmentgroup": "True",
           "hovertemplate": "category=%{x}<br>date=2019-07-01<br>rate=%{y}<extra></extra>",
           "ids": [
            "Hispanic men"
           ],
           "legendgroup": "Hispanic men",
           "marker": {
            "color": "#19d3f3"
           },
           "name": "Hispanic men",
           "offsetgroup": "Hispanic men",
           "orientation": "v",
           "showlegend": true,
           "textposition": "auto",
           "type": "bar",
           "x": [
            "Hispanic men"
           ],
           "xaxis": "x",
           "y": [
            3.6
           ],
           "yaxis": "y"
          },
          {
           "alignmentgroup": "True",
           "hovertemplate": "category=%{x}<br>date=2019-07-01<br>rate=%{y}<extra></extra>",
           "ids": [
            "Hispanic women"
           ],
           "legendgroup": "Hispanic women",
           "marker": {
            "color": "#FF6692"
           },
           "name": "Hispanic women",
           "offsetgroup": "Hispanic women",
           "orientation": "v",
           "showlegend": true,
           "textposition": "auto",
           "type": "bar",
           "x": [
            "Hispanic women"
           ],
           "xaxis": "x",
           "y": [
            4.1
           ],
           "yaxis": "y"
          }
         ],
         "name": "2019-07-01"
        },
        {
         "data": [
          {
           "alignmentgroup": "True",
           "hovertemplate": "category=%{x}<br>date=2019-08-01<br>rate=%{y}<extra></extra>",
           "ids": [
            "Average"
           ],
           "legendgroup": "Average",
           "marker": {
            "color": "#636efa"
           },
           "name": "Average",
           "offsetgroup": "Average",
           "orientation": "v",
           "showlegend": true,
           "textposition": "auto",
           "type": "bar",
           "x": [
            "Average"
           ],
           "xaxis": "x",
           "y": [
            3.3
           ],
           "yaxis": "y"
          },
          {
           "alignmentgroup": "True",
           "hovertemplate": "category=%{x}<br>date=2019-08-01<br>rate=%{y}<extra></extra>",
           "ids": [
            "White men"
           ],
           "legendgroup": "White men",
           "marker": {
            "color": "#EF553B"
           },
           "name": "White men",
           "offsetgroup": "White men",
           "orientation": "v",
           "showlegend": true,
           "textposition": "auto",
           "type": "bar",
           "x": [
            "White men"
           ],
           "xaxis": "x",
           "y": [
            3
           ],
           "yaxis": "y"
          },
          {
           "alignmentgroup": "True",
           "hovertemplate": "category=%{x}<br>date=2019-08-01<br>rate=%{y}<extra></extra>",
           "ids": [
            "White women"
           ],
           "legendgroup": "White women",
           "marker": {
            "color": "#00cc96"
           },
           "name": "White women",
           "offsetgroup": "White women",
           "orientation": "v",
           "showlegend": true,
           "textposition": "auto",
           "type": "bar",
           "x": [
            "White women"
           ],
           "xaxis": "x",
           "y": [
            3.2
           ],
           "yaxis": "y"
          },
          {
           "alignmentgroup": "True",
           "hovertemplate": "category=%{x}<br>date=2019-08-01<br>rate=%{y}<extra></extra>",
           "ids": [
            "Black men"
           ],
           "legendgroup": "Black men",
           "marker": {
            "color": "#ab63fa"
           },
           "name": "Black men",
           "offsetgroup": "Black men",
           "orientation": "v",
           "showlegend": true,
           "textposition": "auto",
           "type": "bar",
           "x": [
            "Black men"
           ],
           "xaxis": "x",
           "y": [
            5.8
           ],
           "yaxis": "y"
          },
          {
           "alignmentgroup": "True",
           "hovertemplate": "category=%{x}<br>date=2019-08-01<br>rate=%{y}<extra></extra>",
           "ids": [
            "Black women"
           ],
           "legendgroup": "Black women",
           "marker": {
            "color": "#FFA15A"
           },
           "name": "Black women",
           "offsetgroup": "Black women",
           "orientation": "v",
           "showlegend": true,
           "textposition": "auto",
           "type": "bar",
           "x": [
            "Black women"
           ],
           "xaxis": "x",
           "y": [
            4.4
           ],
           "yaxis": "y"
          },
          {
           "alignmentgroup": "True",
           "hovertemplate": "category=%{x}<br>date=2019-08-01<br>rate=%{y}<extra></extra>",
           "ids": [
            "Hispanic men"
           ],
           "legendgroup": "Hispanic men",
           "marker": {
            "color": "#19d3f3"
           },
           "name": "Hispanic men",
           "offsetgroup": "Hispanic men",
           "orientation": "v",
           "showlegend": true,
           "textposition": "auto",
           "type": "bar",
           "x": [
            "Hispanic men"
           ],
           "xaxis": "x",
           "y": [
            3.1
           ],
           "yaxis": "y"
          },
          {
           "alignmentgroup": "True",
           "hovertemplate": "category=%{x}<br>date=2019-08-01<br>rate=%{y}<extra></extra>",
           "ids": [
            "Hispanic women"
           ],
           "legendgroup": "Hispanic women",
           "marker": {
            "color": "#FF6692"
           },
           "name": "Hispanic women",
           "offsetgroup": "Hispanic women",
           "orientation": "v",
           "showlegend": true,
           "textposition": "auto",
           "type": "bar",
           "x": [
            "Hispanic women"
           ],
           "xaxis": "x",
           "y": [
            4.5
           ],
           "yaxis": "y"
          }
         ],
         "name": "2019-08-01"
        },
        {
         "data": [
          {
           "alignmentgroup": "True",
           "hovertemplate": "category=%{x}<br>date=2019-09-01<br>rate=%{y}<extra></extra>",
           "ids": [
            "Average"
           ],
           "legendgroup": "Average",
           "marker": {
            "color": "#636efa"
           },
           "name": "Average",
           "offsetgroup": "Average",
           "orientation": "v",
           "showlegend": true,
           "textposition": "auto",
           "type": "bar",
           "x": [
            "Average"
           ],
           "xaxis": "x",
           "y": [
            3.2
           ],
           "yaxis": "y"
          },
          {
           "alignmentgroup": "True",
           "hovertemplate": "category=%{x}<br>date=2019-09-01<br>rate=%{y}<extra></extra>",
           "ids": [
            "White men"
           ],
           "legendgroup": "White men",
           "marker": {
            "color": "#EF553B"
           },
           "name": "White men",
           "offsetgroup": "White men",
           "orientation": "v",
           "showlegend": true,
           "textposition": "auto",
           "type": "bar",
           "x": [
            "White men"
           ],
           "xaxis": "x",
           "y": [
            2.9
           ],
           "yaxis": "y"
          },
          {
           "alignmentgroup": "True",
           "hovertemplate": "category=%{x}<br>date=2019-09-01<br>rate=%{y}<extra></extra>",
           "ids": [
            "White women"
           ],
           "legendgroup": "White women",
           "marker": {
            "color": "#00cc96"
           },
           "name": "White women",
           "offsetgroup": "White women",
           "orientation": "v",
           "showlegend": true,
           "textposition": "auto",
           "type": "bar",
           "x": [
            "White women"
           ],
           "xaxis": "x",
           "y": [
            2.9
           ],
           "yaxis": "y"
          },
          {
           "alignmentgroup": "True",
           "hovertemplate": "category=%{x}<br>date=2019-09-01<br>rate=%{y}<extra></extra>",
           "ids": [
            "Black men"
           ],
           "legendgroup": "Black men",
           "marker": {
            "color": "#ab63fa"
           },
           "name": "Black men",
           "offsetgroup": "Black men",
           "orientation": "v",
           "showlegend": true,
           "textposition": "auto",
           "type": "bar",
           "x": [
            "Black men"
           ],
           "xaxis": "x",
           "y": [
            5.4
           ],
           "yaxis": "y"
          },
          {
           "alignmentgroup": "True",
           "hovertemplate": "category=%{x}<br>date=2019-09-01<br>rate=%{y}<extra></extra>",
           "ids": [
            "Black women"
           ],
           "legendgroup": "Black women",
           "marker": {
            "color": "#FFA15A"
           },
           "name": "Black women",
           "offsetgroup": "Black women",
           "orientation": "v",
           "showlegend": true,
           "textposition": "auto",
           "type": "bar",
           "x": [
            "Black women"
           ],
           "xaxis": "x",
           "y": [
            4.7
           ],
           "yaxis": "y"
          },
          {
           "alignmentgroup": "True",
           "hovertemplate": "category=%{x}<br>date=2019-09-01<br>rate=%{y}<extra></extra>",
           "ids": [
            "Hispanic men"
           ],
           "legendgroup": "Hispanic men",
           "marker": {
            "color": "#19d3f3"
           },
           "name": "Hispanic men",
           "offsetgroup": "Hispanic men",
           "orientation": "v",
           "showlegend": true,
           "textposition": "auto",
           "type": "bar",
           "x": [
            "Hispanic men"
           ],
           "xaxis": "x",
           "y": [
            2.5
           ],
           "yaxis": "y"
          },
          {
           "alignmentgroup": "True",
           "hovertemplate": "category=%{x}<br>date=2019-09-01<br>rate=%{y}<extra></extra>",
           "ids": [
            "Hispanic women"
           ],
           "legendgroup": "Hispanic women",
           "marker": {
            "color": "#FF6692"
           },
           "name": "Hispanic women",
           "offsetgroup": "Hispanic women",
           "orientation": "v",
           "showlegend": true,
           "textposition": "auto",
           "type": "bar",
           "x": [
            "Hispanic women"
           ],
           "xaxis": "x",
           "y": [
            3.9
           ],
           "yaxis": "y"
          }
         ],
         "name": "2019-09-01"
        },
        {
         "data": [
          {
           "alignmentgroup": "True",
           "hovertemplate": "category=%{x}<br>date=2019-10-01<br>rate=%{y}<extra></extra>",
           "ids": [
            "Average"
           ],
           "legendgroup": "Average",
           "marker": {
            "color": "#636efa"
           },
           "name": "Average",
           "offsetgroup": "Average",
           "orientation": "v",
           "showlegend": true,
           "textposition": "auto",
           "type": "bar",
           "x": [
            "Average"
           ],
           "xaxis": "x",
           "y": [
            3.2
           ],
           "yaxis": "y"
          },
          {
           "alignmentgroup": "True",
           "hovertemplate": "category=%{x}<br>date=2019-10-01<br>rate=%{y}<extra></extra>",
           "ids": [
            "White men"
           ],
           "legendgroup": "White men",
           "marker": {
            "color": "#EF553B"
           },
           "name": "White men",
           "offsetgroup": "White men",
           "orientation": "v",
           "showlegend": true,
           "textposition": "auto",
           "type": "bar",
           "x": [
            "White men"
           ],
           "xaxis": "x",
           "y": [
            2.9
           ],
           "yaxis": "y"
          },
          {
           "alignmentgroup": "True",
           "hovertemplate": "category=%{x}<br>date=2019-10-01<br>rate=%{y}<extra></extra>",
           "ids": [
            "White women"
           ],
           "legendgroup": "White women",
           "marker": {
            "color": "#00cc96"
           },
           "name": "White women",
           "offsetgroup": "White women",
           "orientation": "v",
           "showlegend": true,
           "textposition": "auto",
           "type": "bar",
           "x": [
            "White women"
           ],
           "xaxis": "x",
           "y": [
            2.9
           ],
           "yaxis": "y"
          },
          {
           "alignmentgroup": "True",
           "hovertemplate": "category=%{x}<br>date=2019-10-01<br>rate=%{y}<extra></extra>",
           "ids": [
            "Black men"
           ],
           "legendgroup": "Black men",
           "marker": {
            "color": "#ab63fa"
           },
           "name": "Black men",
           "offsetgroup": "Black men",
           "orientation": "v",
           "showlegend": true,
           "textposition": "auto",
           "type": "bar",
           "x": [
            "Black men"
           ],
           "xaxis": "x",
           "y": [
            5.1
           ],
           "yaxis": "y"
          },
          {
           "alignmentgroup": "True",
           "hovertemplate": "category=%{x}<br>date=2019-10-01<br>rate=%{y}<extra></extra>",
           "ids": [
            "Black women"
           ],
           "legendgroup": "Black women",
           "marker": {
            "color": "#FFA15A"
           },
           "name": "Black women",
           "offsetgroup": "Black women",
           "orientation": "v",
           "showlegend": true,
           "textposition": "auto",
           "type": "bar",
           "x": [
            "Black women"
           ],
           "xaxis": "x",
           "y": [
            4.9
           ],
           "yaxis": "y"
          },
          {
           "alignmentgroup": "True",
           "hovertemplate": "category=%{x}<br>date=2019-10-01<br>rate=%{y}<extra></extra>",
           "ids": [
            "Hispanic men"
           ],
           "legendgroup": "Hispanic men",
           "marker": {
            "color": "#19d3f3"
           },
           "name": "Hispanic men",
           "offsetgroup": "Hispanic men",
           "orientation": "v",
           "showlegend": true,
           "textposition": "auto",
           "type": "bar",
           "x": [
            "Hispanic men"
           ],
           "xaxis": "x",
           "y": [
            3
           ],
           "yaxis": "y"
          },
          {
           "alignmentgroup": "True",
           "hovertemplate": "category=%{x}<br>date=2019-10-01<br>rate=%{y}<extra></extra>",
           "ids": [
            "Hispanic women"
           ],
           "legendgroup": "Hispanic women",
           "marker": {
            "color": "#FF6692"
           },
           "name": "Hispanic women",
           "offsetgroup": "Hispanic women",
           "orientation": "v",
           "showlegend": true,
           "textposition": "auto",
           "type": "bar",
           "x": [
            "Hispanic women"
           ],
           "xaxis": "x",
           "y": [
            3.7
           ],
           "yaxis": "y"
          }
         ],
         "name": "2019-10-01"
        },
        {
         "data": [
          {
           "alignmentgroup": "True",
           "hovertemplate": "category=%{x}<br>date=2019-11-01<br>rate=%{y}<extra></extra>",
           "ids": [
            "Average"
           ],
           "legendgroup": "Average",
           "marker": {
            "color": "#636efa"
           },
           "name": "Average",
           "offsetgroup": "Average",
           "orientation": "v",
           "showlegend": true,
           "textposition": "auto",
           "type": "bar",
           "x": [
            "Average"
           ],
           "xaxis": "x",
           "y": [
            3.2
           ],
           "yaxis": "y"
          },
          {
           "alignmentgroup": "True",
           "hovertemplate": "category=%{x}<br>date=2019-11-01<br>rate=%{y}<extra></extra>",
           "ids": [
            "White men"
           ],
           "legendgroup": "White men",
           "marker": {
            "color": "#EF553B"
           },
           "name": "White men",
           "offsetgroup": "White men",
           "orientation": "v",
           "showlegend": true,
           "textposition": "auto",
           "type": "bar",
           "x": [
            "White men"
           ],
           "xaxis": "x",
           "y": [
            3
           ],
           "yaxis": "y"
          },
          {
           "alignmentgroup": "True",
           "hovertemplate": "category=%{x}<br>date=2019-11-01<br>rate=%{y}<extra></extra>",
           "ids": [
            "White women"
           ],
           "legendgroup": "White women",
           "marker": {
            "color": "#00cc96"
           },
           "name": "White women",
           "offsetgroup": "White women",
           "orientation": "v",
           "showlegend": true,
           "textposition": "auto",
           "type": "bar",
           "x": [
            "White women"
           ],
           "xaxis": "x",
           "y": [
            2.9
           ],
           "yaxis": "y"
          },
          {
           "alignmentgroup": "True",
           "hovertemplate": "category=%{x}<br>date=2019-11-01<br>rate=%{y}<extra></extra>",
           "ids": [
            "Black men"
           ],
           "legendgroup": "Black men",
           "marker": {
            "color": "#ab63fa"
           },
           "name": "Black men",
           "offsetgroup": "Black men",
           "orientation": "v",
           "showlegend": true,
           "textposition": "auto",
           "type": "bar",
           "x": [
            "Black men"
           ],
           "xaxis": "x",
           "y": [
            5.1
           ],
           "yaxis": "y"
          },
          {
           "alignmentgroup": "True",
           "hovertemplate": "category=%{x}<br>date=2019-11-01<br>rate=%{y}<extra></extra>",
           "ids": [
            "Black women"
           ],
           "legendgroup": "Black women",
           "marker": {
            "color": "#FFA15A"
           },
           "name": "Black women",
           "offsetgroup": "Black women",
           "orientation": "v",
           "showlegend": true,
           "textposition": "auto",
           "type": "bar",
           "x": [
            "Black women"
           ],
           "xaxis": "x",
           "y": [
            4.9
           ],
           "yaxis": "y"
          },
          {
           "alignmentgroup": "True",
           "hovertemplate": "category=%{x}<br>date=2019-11-01<br>rate=%{y}<extra></extra>",
           "ids": [
            "Hispanic men"
           ],
           "legendgroup": "Hispanic men",
           "marker": {
            "color": "#19d3f3"
           },
           "name": "Hispanic men",
           "offsetgroup": "Hispanic men",
           "orientation": "v",
           "showlegend": true,
           "textposition": "auto",
           "type": "bar",
           "x": [
            "Hispanic men"
           ],
           "xaxis": "x",
           "y": [
            2.9
           ],
           "yaxis": "y"
          },
          {
           "alignmentgroup": "True",
           "hovertemplate": "category=%{x}<br>date=2019-11-01<br>rate=%{y}<extra></extra>",
           "ids": [
            "Hispanic women"
           ],
           "legendgroup": "Hispanic women",
           "marker": {
            "color": "#FF6692"
           },
           "name": "Hispanic women",
           "offsetgroup": "Hispanic women",
           "orientation": "v",
           "showlegend": true,
           "textposition": "auto",
           "type": "bar",
           "x": [
            "Hispanic women"
           ],
           "xaxis": "x",
           "y": [
            4.2
           ],
           "yaxis": "y"
          }
         ],
         "name": "2019-11-01"
        },
        {
         "data": [
          {
           "alignmentgroup": "True",
           "hovertemplate": "category=%{x}<br>date=2019-12-01<br>rate=%{y}<extra></extra>",
           "ids": [
            "Average"
           ],
           "legendgroup": "Average",
           "marker": {
            "color": "#636efa"
           },
           "name": "Average",
           "offsetgroup": "Average",
           "orientation": "v",
           "showlegend": true,
           "textposition": "auto",
           "type": "bar",
           "x": [
            "Average"
           ],
           "xaxis": "x",
           "y": [
            3.2
           ],
           "yaxis": "y"
          },
          {
           "alignmentgroup": "True",
           "hovertemplate": "category=%{x}<br>date=2019-12-01<br>rate=%{y}<extra></extra>",
           "ids": [
            "White men"
           ],
           "legendgroup": "White men",
           "marker": {
            "color": "#EF553B"
           },
           "name": "White men",
           "offsetgroup": "White men",
           "orientation": "v",
           "showlegend": true,
           "textposition": "auto",
           "type": "bar",
           "x": [
            "White men"
           ],
           "xaxis": "x",
           "y": [
            2.8
           ],
           "yaxis": "y"
          },
          {
           "alignmentgroup": "True",
           "hovertemplate": "category=%{x}<br>date=2019-12-01<br>rate=%{y}<extra></extra>",
           "ids": [
            "White women"
           ],
           "legendgroup": "White women",
           "marker": {
            "color": "#00cc96"
           },
           "name": "White women",
           "offsetgroup": "White women",
           "orientation": "v",
           "showlegend": true,
           "textposition": "auto",
           "type": "bar",
           "x": [
            "White women"
           ],
           "xaxis": "x",
           "y": [
            2.8
           ],
           "yaxis": "y"
          },
          {
           "alignmentgroup": "True",
           "hovertemplate": "category=%{x}<br>date=2019-12-01<br>rate=%{y}<extra></extra>",
           "ids": [
            "Black men"
           ],
           "legendgroup": "Black men",
           "marker": {
            "color": "#ab63fa"
           },
           "name": "Black men",
           "offsetgroup": "Black men",
           "orientation": "v",
           "showlegend": true,
           "textposition": "auto",
           "type": "bar",
           "x": [
            "Black men"
           ],
           "xaxis": "x",
           "y": [
            5.8
           ],
           "yaxis": "y"
          },
          {
           "alignmentgroup": "True",
           "hovertemplate": "category=%{x}<br>date=2019-12-01<br>rate=%{y}<extra></extra>",
           "ids": [
            "Black women"
           ],
           "legendgroup": "Black women",
           "marker": {
            "color": "#FFA15A"
           },
           "name": "Black women",
           "offsetgroup": "Black women",
           "orientation": "v",
           "showlegend": true,
           "textposition": "auto",
           "type": "bar",
           "x": [
            "Black women"
           ],
           "xaxis": "x",
           "y": [
            5
           ],
           "yaxis": "y"
          },
          {
           "alignmentgroup": "True",
           "hovertemplate": "category=%{x}<br>date=2019-12-01<br>rate=%{y}<extra></extra>",
           "ids": [
            "Hispanic men"
           ],
           "legendgroup": "Hispanic men",
           "marker": {
            "color": "#19d3f3"
           },
           "name": "Hispanic men",
           "offsetgroup": "Hispanic men",
           "orientation": "v",
           "showlegend": true,
           "textposition": "auto",
           "type": "bar",
           "x": [
            "Hispanic men"
           ],
           "xaxis": "x",
           "y": [
            3.3
           ],
           "yaxis": "y"
          },
          {
           "alignmentgroup": "True",
           "hovertemplate": "category=%{x}<br>date=2019-12-01<br>rate=%{y}<extra></extra>",
           "ids": [
            "Hispanic women"
           ],
           "legendgroup": "Hispanic women",
           "marker": {
            "color": "#FF6692"
           },
           "name": "Hispanic women",
           "offsetgroup": "Hispanic women",
           "orientation": "v",
           "showlegend": true,
           "textposition": "auto",
           "type": "bar",
           "x": [
            "Hispanic women"
           ],
           "xaxis": "x",
           "y": [
            4.3
           ],
           "yaxis": "y"
          }
         ],
         "name": "2019-12-01"
        },
        {
         "data": [
          {
           "alignmentgroup": "True",
           "hovertemplate": "category=%{x}<br>date=2020-01-01<br>rate=%{y}<extra></extra>",
           "ids": [
            "Average"
           ],
           "legendgroup": "Average",
           "marker": {
            "color": "#636efa"
           },
           "name": "Average",
           "offsetgroup": "Average",
           "orientation": "v",
           "showlegend": true,
           "textposition": "auto",
           "type": "bar",
           "x": [
            "Average"
           ],
           "xaxis": "x",
           "y": [
            3.3
           ],
           "yaxis": "y"
          },
          {
           "alignmentgroup": "True",
           "hovertemplate": "category=%{x}<br>date=2020-01-01<br>rate=%{y}<extra></extra>",
           "ids": [
            "White men"
           ],
           "legendgroup": "White men",
           "marker": {
            "color": "#EF553B"
           },
           "name": "White men",
           "offsetgroup": "White men",
           "orientation": "v",
           "showlegend": true,
           "textposition": "auto",
           "type": "bar",
           "x": [
            "White men"
           ],
           "xaxis": "x",
           "y": [
            2.9
           ],
           "yaxis": "y"
          },
          {
           "alignmentgroup": "True",
           "hovertemplate": "category=%{x}<br>date=2020-01-01<br>rate=%{y}<extra></extra>",
           "ids": [
            "White women"
           ],
           "legendgroup": "White women",
           "marker": {
            "color": "#00cc96"
           },
           "name": "White women",
           "offsetgroup": "White women",
           "orientation": "v",
           "showlegend": true,
           "textposition": "auto",
           "type": "bar",
           "x": [
            "White women"
           ],
           "xaxis": "x",
           "y": [
            2.7
           ],
           "yaxis": "y"
          },
          {
           "alignmentgroup": "True",
           "hovertemplate": "category=%{x}<br>date=2020-01-01<br>rate=%{y}<extra></extra>",
           "ids": [
            "Black men"
           ],
           "legendgroup": "Black men",
           "marker": {
            "color": "#ab63fa"
           },
           "name": "Black men",
           "offsetgroup": "Black men",
           "orientation": "v",
           "showlegend": true,
           "textposition": "auto",
           "type": "bar",
           "x": [
            "Black men"
           ],
           "xaxis": "x",
           "y": [
            5.6
           ],
           "yaxis": "y"
          },
          {
           "alignmentgroup": "True",
           "hovertemplate": "category=%{x}<br>date=2020-01-01<br>rate=%{y}<extra></extra>",
           "ids": [
            "Black women"
           ],
           "legendgroup": "Black women",
           "marker": {
            "color": "#FFA15A"
           },
           "name": "Black women",
           "offsetgroup": "Black women",
           "orientation": "v",
           "showlegend": true,
           "textposition": "auto",
           "type": "bar",
           "x": [
            "Black women"
           ],
           "xaxis": "x",
           "y": [
            5.2
           ],
           "yaxis": "y"
          },
          {
           "alignmentgroup": "True",
           "hovertemplate": "category=%{x}<br>date=2020-01-01<br>rate=%{y}<extra></extra>",
           "ids": [
            "Hispanic men"
           ],
           "legendgroup": "Hispanic men",
           "marker": {
            "color": "#19d3f3"
           },
           "name": "Hispanic men",
           "offsetgroup": "Hispanic men",
           "orientation": "v",
           "showlegend": true,
           "textposition": "auto",
           "type": "bar",
           "x": [
            "Hispanic men"
           ],
           "xaxis": "x",
           "y": [
            4.6
           ],
           "yaxis": "y"
          },
          {
           "alignmentgroup": "True",
           "hovertemplate": "category=%{x}<br>date=2020-01-01<br>rate=%{y}<extra></extra>",
           "ids": [
            "Hispanic women"
           ],
           "legendgroup": "Hispanic women",
           "marker": {
            "color": "#FF6692"
           },
           "name": "Hispanic women",
           "offsetgroup": "Hispanic women",
           "orientation": "v",
           "showlegend": true,
           "textposition": "auto",
           "type": "bar",
           "x": [
            "Hispanic women"
           ],
           "xaxis": "x",
           "y": [
            4.8
           ],
           "yaxis": "y"
          }
         ],
         "name": "2020-01-01"
        },
        {
         "data": [
          {
           "alignmentgroup": "True",
           "hovertemplate": "category=%{x}<br>date=2020-02-01<br>rate=%{y}<extra></extra>",
           "ids": [
            "Average"
           ],
           "legendgroup": "Average",
           "marker": {
            "color": "#636efa"
           },
           "name": "Average",
           "offsetgroup": "Average",
           "orientation": "v",
           "showlegend": true,
           "textposition": "auto",
           "type": "bar",
           "x": [
            "Average"
           ],
           "xaxis": "x",
           "y": [
            3.2
           ],
           "yaxis": "y"
          },
          {
           "alignmentgroup": "True",
           "hovertemplate": "category=%{x}<br>date=2020-02-01<br>rate=%{y}<extra></extra>",
           "ids": [
            "White men"
           ],
           "legendgroup": "White men",
           "marker": {
            "color": "#EF553B"
           },
           "name": "White men",
           "offsetgroup": "White men",
           "orientation": "v",
           "showlegend": true,
           "textposition": "auto",
           "type": "bar",
           "x": [
            "White men"
           ],
           "xaxis": "x",
           "y": [
            2.9
           ],
           "yaxis": "y"
          },
          {
           "alignmentgroup": "True",
           "hovertemplate": "category=%{x}<br>date=2020-02-01<br>rate=%{y}<extra></extra>",
           "ids": [
            "White women"
           ],
           "legendgroup": "White women",
           "marker": {
            "color": "#00cc96"
           },
           "name": "White women",
           "offsetgroup": "White women",
           "orientation": "v",
           "showlegend": true,
           "textposition": "auto",
           "type": "bar",
           "x": [
            "White women"
           ],
           "xaxis": "x",
           "y": [
            2.8
           ],
           "yaxis": "y"
          },
          {
           "alignmentgroup": "True",
           "hovertemplate": "category=%{x}<br>date=2020-02-01<br>rate=%{y}<extra></extra>",
           "ids": [
            "Black men"
           ],
           "legendgroup": "Black men",
           "marker": {
            "color": "#ab63fa"
           },
           "name": "Black men",
           "offsetgroup": "Black men",
           "orientation": "v",
           "showlegend": true,
           "textposition": "auto",
           "type": "bar",
           "x": [
            "Black men"
           ],
           "xaxis": "x",
           "y": [
            5.8
           ],
           "yaxis": "y"
          },
          {
           "alignmentgroup": "True",
           "hovertemplate": "category=%{x}<br>date=2020-02-01<br>rate=%{y}<extra></extra>",
           "ids": [
            "Black women"
           ],
           "legendgroup": "Black women",
           "marker": {
            "color": "#FFA15A"
           },
           "name": "Black women",
           "offsetgroup": "Black women",
           "orientation": "v",
           "showlegend": true,
           "textposition": "auto",
           "type": "bar",
           "x": [
            "Black women"
           ],
           "xaxis": "x",
           "y": [
            4.8
           ],
           "yaxis": "y"
          },
          {
           "alignmentgroup": "True",
           "hovertemplate": "category=%{x}<br>date=2020-02-01<br>rate=%{y}<extra></extra>",
           "ids": [
            "Hispanic men"
           ],
           "legendgroup": "Hispanic men",
           "marker": {
            "color": "#19d3f3"
           },
           "name": "Hispanic men",
           "offsetgroup": "Hispanic men",
           "orientation": "v",
           "showlegend": true,
           "textposition": "auto",
           "type": "bar",
           "x": [
            "Hispanic men"
           ],
           "xaxis": "x",
           "y": [
            3.9
           ],
           "yaxis": "y"
          },
          {
           "alignmentgroup": "True",
           "hovertemplate": "category=%{x}<br>date=2020-02-01<br>rate=%{y}<extra></extra>",
           "ids": [
            "Hispanic women"
           ],
           "legendgroup": "Hispanic women",
           "marker": {
            "color": "#FF6692"
           },
           "name": "Hispanic women",
           "offsetgroup": "Hispanic women",
           "orientation": "v",
           "showlegend": true,
           "textposition": "auto",
           "type": "bar",
           "x": [
            "Hispanic women"
           ],
           "xaxis": "x",
           "y": [
            5
           ],
           "yaxis": "y"
          }
         ],
         "name": "2020-02-01"
        },
        {
         "data": [
          {
           "alignmentgroup": "True",
           "hovertemplate": "category=%{x}<br>date=2020-03-01<br>rate=%{y}<extra></extra>",
           "ids": [
            "Average"
           ],
           "legendgroup": "Average",
           "marker": {
            "color": "#636efa"
           },
           "name": "Average",
           "offsetgroup": "Average",
           "orientation": "v",
           "showlegend": true,
           "textposition": "auto",
           "type": "bar",
           "x": [
            "Average"
           ],
           "xaxis": "x",
           "y": [
            4
           ],
           "yaxis": "y"
          },
          {
           "alignmentgroup": "True",
           "hovertemplate": "category=%{x}<br>date=2020-03-01<br>rate=%{y}<extra></extra>",
           "ids": [
            "White men"
           ],
           "legendgroup": "White men",
           "marker": {
            "color": "#EF553B"
           },
           "name": "White men",
           "offsetgroup": "White men",
           "orientation": "v",
           "showlegend": true,
           "textposition": "auto",
           "type": "bar",
           "x": [
            "White men"
           ],
           "xaxis": "x",
           "y": [
            3.7
           ],
           "yaxis": "y"
          },
          {
           "alignmentgroup": "True",
           "hovertemplate": "category=%{x}<br>date=2020-03-01<br>rate=%{y}<extra></extra>",
           "ids": [
            "White women"
           ],
           "legendgroup": "White women",
           "marker": {
            "color": "#00cc96"
           },
           "name": "White women",
           "offsetgroup": "White women",
           "orientation": "v",
           "showlegend": true,
           "textposition": "auto",
           "type": "bar",
           "x": [
            "White women"
           ],
           "xaxis": "x",
           "y": [
            3.6
           ],
           "yaxis": "y"
          },
          {
           "alignmentgroup": "True",
           "hovertemplate": "category=%{x}<br>date=2020-03-01<br>rate=%{y}<extra></extra>",
           "ids": [
            "Black men"
           ],
           "legendgroup": "Black men",
           "marker": {
            "color": "#ab63fa"
           },
           "name": "Black men",
           "offsetgroup": "Black men",
           "orientation": "v",
           "showlegend": true,
           "textposition": "auto",
           "type": "bar",
           "x": [
            "Black men"
           ],
           "xaxis": "x",
           "y": [
            7
           ],
           "yaxis": "y"
          },
          {
           "alignmentgroup": "True",
           "hovertemplate": "category=%{x}<br>date=2020-03-01<br>rate=%{y}<extra></extra>",
           "ids": [
            "Black women"
           ],
           "legendgroup": "Black women",
           "marker": {
            "color": "#FFA15A"
           },
           "name": "Black women",
           "offsetgroup": "Black women",
           "orientation": "v",
           "showlegend": true,
           "textposition": "auto",
           "type": "bar",
           "x": [
            "Black women"
           ],
           "xaxis": "x",
           "y": [
            5.2
           ],
           "yaxis": "y"
          },
          {
           "alignmentgroup": "True",
           "hovertemplate": "category=%{x}<br>date=2020-03-01<br>rate=%{y}<extra></extra>",
           "ids": [
            "Hispanic men"
           ],
           "legendgroup": "Hispanic men",
           "marker": {
            "color": "#19d3f3"
           },
           "name": "Hispanic men",
           "offsetgroup": "Hispanic men",
           "orientation": "v",
           "showlegend": true,
           "textposition": "auto",
           "type": "bar",
           "x": [
            "Hispanic men"
           ],
           "xaxis": "x",
           "y": [
            5.6
           ],
           "yaxis": "y"
          },
          {
           "alignmentgroup": "True",
           "hovertemplate": "category=%{x}<br>date=2020-03-01<br>rate=%{y}<extra></extra>",
           "ids": [
            "Hispanic women"
           ],
           "legendgroup": "Hispanic women",
           "marker": {
            "color": "#FF6692"
           },
           "name": "Hispanic women",
           "offsetgroup": "Hispanic women",
           "orientation": "v",
           "showlegend": true,
           "textposition": "auto",
           "type": "bar",
           "x": [
            "Hispanic women"
           ],
           "xaxis": "x",
           "y": [
            6.1
           ],
           "yaxis": "y"
          }
         ],
         "name": "2020-03-01"
        },
        {
         "data": [
          {
           "alignmentgroup": "True",
           "hovertemplate": "category=%{x}<br>date=2020-04-01<br>rate=%{y}<extra></extra>",
           "ids": [
            "Average"
           ],
           "legendgroup": "Average",
           "marker": {
            "color": "#636efa"
           },
           "name": "Average",
           "offsetgroup": "Average",
           "orientation": "v",
           "showlegend": true,
           "textposition": "auto",
           "type": "bar",
           "x": [
            "Average"
           ],
           "xaxis": "x",
           "y": [
            14.2
           ],
           "yaxis": "y"
          },
          {
           "alignmentgroup": "True",
           "hovertemplate": "category=%{x}<br>date=2020-04-01<br>rate=%{y}<extra></extra>",
           "ids": [
            "White men"
           ],
           "legendgroup": "White men",
           "marker": {
            "color": "#EF553B"
           },
           "name": "White men",
           "offsetgroup": "White men",
           "orientation": "v",
           "showlegend": true,
           "textposition": "auto",
           "type": "bar",
           "x": [
            "White men"
           ],
           "xaxis": "x",
           "y": [
            12.4
           ],
           "yaxis": "y"
          },
          {
           "alignmentgroup": "True",
           "hovertemplate": "category=%{x}<br>date=2020-04-01<br>rate=%{y}<extra></extra>",
           "ids": [
            "White women"
           ],
           "legendgroup": "White women",
           "marker": {
            "color": "#00cc96"
           },
           "name": "White women",
           "offsetgroup": "White women",
           "orientation": "v",
           "showlegend": true,
           "textposition": "auto",
           "type": "bar",
           "x": [
            "White women"
           ],
           "xaxis": "x",
           "y": [
            15
           ],
           "yaxis": "y"
          },
          {
           "alignmentgroup": "True",
           "hovertemplate": "category=%{x}<br>date=2020-04-01<br>rate=%{y}<extra></extra>",
           "ids": [
            "Black men"
           ],
           "legendgroup": "Black men",
           "marker": {
            "color": "#ab63fa"
           },
           "name": "Black men",
           "offsetgroup": "Black men",
           "orientation": "v",
           "showlegend": true,
           "textposition": "auto",
           "type": "bar",
           "x": [
            "Black men"
           ],
           "xaxis": "x",
           "y": [
            16.1
           ],
           "yaxis": "y"
          },
          {
           "alignmentgroup": "True",
           "hovertemplate": "category=%{x}<br>date=2020-04-01<br>rate=%{y}<extra></extra>",
           "ids": [
            "Black women"
           ],
           "legendgroup": "Black women",
           "marker": {
            "color": "#FFA15A"
           },
           "name": "Black women",
           "offsetgroup": "Black women",
           "orientation": "v",
           "showlegend": true,
           "textposition": "auto",
           "type": "bar",
           "x": [
            "Black women"
           ],
           "xaxis": "x",
           "y": [
            16.4
           ],
           "yaxis": "y"
          },
          {
           "alignmentgroup": "True",
           "hovertemplate": "category=%{x}<br>date=2020-04-01<br>rate=%{y}<extra></extra>",
           "ids": [
            "Hispanic men"
           ],
           "legendgroup": "Hispanic men",
           "marker": {
            "color": "#19d3f3"
           },
           "name": "Hispanic men",
           "offsetgroup": "Hispanic men",
           "orientation": "v",
           "showlegend": true,
           "textposition": "auto",
           "type": "bar",
           "x": [
            "Hispanic men"
           ],
           "xaxis": "x",
           "y": [
            16.3
           ],
           "yaxis": "y"
          },
          {
           "alignmentgroup": "True",
           "hovertemplate": "category=%{x}<br>date=2020-04-01<br>rate=%{y}<extra></extra>",
           "ids": [
            "Hispanic women"
           ],
           "legendgroup": "Hispanic women",
           "marker": {
            "color": "#FF6692"
           },
           "name": "Hispanic women",
           "offsetgroup": "Hispanic women",
           "orientation": "v",
           "showlegend": true,
           "textposition": "auto",
           "type": "bar",
           "x": [
            "Hispanic women"
           ],
           "xaxis": "x",
           "y": [
            19.8
           ],
           "yaxis": "y"
          }
         ],
         "name": "2020-04-01"
        },
        {
         "data": [
          {
           "alignmentgroup": "True",
           "hovertemplate": "category=%{x}<br>date=2020-05-01<br>rate=%{y}<extra></extra>",
           "ids": [
            "Average"
           ],
           "legendgroup": "Average",
           "marker": {
            "color": "#636efa"
           },
           "name": "Average",
           "offsetgroup": "Average",
           "orientation": "v",
           "showlegend": true,
           "textposition": "auto",
           "type": "bar",
           "x": [
            "Average"
           ],
           "xaxis": "x",
           "y": [
            12.6
           ],
           "yaxis": "y"
          },
          {
           "alignmentgroup": "True",
           "hovertemplate": "category=%{x}<br>date=2020-05-01<br>rate=%{y}<extra></extra>",
           "ids": [
            "White men"
           ],
           "legendgroup": "White men",
           "marker": {
            "color": "#EF553B"
           },
           "name": "White men",
           "offsetgroup": "White men",
           "orientation": "v",
           "showlegend": true,
           "textposition": "auto",
           "type": "bar",
           "x": [
            "White men"
           ],
           "xaxis": "x",
           "y": [
            10.7
           ],
           "yaxis": "y"
          },
          {
           "alignmentgroup": "True",
           "hovertemplate": "category=%{x}<br>date=2020-05-01<br>rate=%{y}<extra></extra>",
           "ids": [
            "White women"
           ],
           "legendgroup": "White women",
           "marker": {
            "color": "#00cc96"
           },
           "name": "White women",
           "offsetgroup": "White women",
           "orientation": "v",
           "showlegend": true,
           "textposition": "auto",
           "type": "bar",
           "x": [
            "White women"
           ],
           "xaxis": "x",
           "y": [
            13.1
           ],
           "yaxis": "y"
          },
          {
           "alignmentgroup": "True",
           "hovertemplate": "category=%{x}<br>date=2020-05-01<br>rate=%{y}<extra></extra>",
           "ids": [
            "Black men"
           ],
           "legendgroup": "Black men",
           "marker": {
            "color": "#ab63fa"
           },
           "name": "Black men",
           "offsetgroup": "Black men",
           "orientation": "v",
           "showlegend": true,
           "textposition": "auto",
           "type": "bar",
           "x": [
            "Black men"
           ],
           "xaxis": "x",
           "y": [
            15.5
           ],
           "yaxis": "y"
          },
          {
           "alignmentgroup": "True",
           "hovertemplate": "category=%{x}<br>date=2020-05-01<br>rate=%{y}<extra></extra>",
           "ids": [
            "Black women"
           ],
           "legendgroup": "Black women",
           "marker": {
            "color": "#FFA15A"
           },
           "name": "Black women",
           "offsetgroup": "Black women",
           "orientation": "v",
           "showlegend": true,
           "textposition": "auto",
           "type": "bar",
           "x": [
            "Black women"
           ],
           "xaxis": "x",
           "y": [
            16.5
           ],
           "yaxis": "y"
          },
          {
           "alignmentgroup": "True",
           "hovertemplate": "category=%{x}<br>date=2020-05-01<br>rate=%{y}<extra></extra>",
           "ids": [
            "Hispanic men"
           ],
           "legendgroup": "Hispanic men",
           "marker": {
            "color": "#19d3f3"
           },
           "name": "Hispanic men",
           "offsetgroup": "Hispanic men",
           "orientation": "v",
           "showlegend": true,
           "textposition": "auto",
           "type": "bar",
           "x": [
            "Hispanic men"
           ],
           "xaxis": "x",
           "y": [
            14.7
           ],
           "yaxis": "y"
          },
          {
           "alignmentgroup": "True",
           "hovertemplate": "category=%{x}<br>date=2020-05-01<br>rate=%{y}<extra></extra>",
           "ids": [
            "Hispanic women"
           ],
           "legendgroup": "Hispanic women",
           "marker": {
            "color": "#FF6692"
           },
           "name": "Hispanic women",
           "offsetgroup": "Hispanic women",
           "orientation": "v",
           "showlegend": true,
           "textposition": "auto",
           "type": "bar",
           "x": [
            "Hispanic women"
           ],
           "xaxis": "x",
           "y": [
            18.6
           ],
           "yaxis": "y"
          }
         ],
         "name": "2020-05-01"
        }
       ],
       "layout": {
        "barmode": "relative",
        "height": 600,
        "legend": {
         "title": {
          "text": "category"
         },
         "tracegroupgap": 0
        },
        "margin": {
         "t": 60
        },
        "sliders": [
         {
          "active": 0,
          "currentvalue": {
           "prefix": "date="
          },
          "len": 0.9,
          "pad": {
           "b": 10,
           "t": 60
          },
          "steps": [
           {
            "args": [
             [
              "2017-01-01"
             ],
             {
              "frame": {
               "duration": 0,
               "redraw": true
              },
              "fromcurrent": true,
              "mode": "immediate",
              "transition": {
               "duration": 0,
               "easing": "linear"
              }
             }
            ],
            "label": "2017-01-01",
            "method": "animate"
           },
           {
            "args": [
             [
              "2017-02-01"
             ],
             {
              "frame": {
               "duration": 0,
               "redraw": true
              },
              "fromcurrent": true,
              "mode": "immediate",
              "transition": {
               "duration": 0,
               "easing": "linear"
              }
             }
            ],
            "label": "2017-02-01",
            "method": "animate"
           },
           {
            "args": [
             [
              "2017-03-01"
             ],
             {
              "frame": {
               "duration": 0,
               "redraw": true
              },
              "fromcurrent": true,
              "mode": "immediate",
              "transition": {
               "duration": 0,
               "easing": "linear"
              }
             }
            ],
            "label": "2017-03-01",
            "method": "animate"
           },
           {
            "args": [
             [
              "2017-04-01"
             ],
             {
              "frame": {
               "duration": 0,
               "redraw": true
              },
              "fromcurrent": true,
              "mode": "immediate",
              "transition": {
               "duration": 0,
               "easing": "linear"
              }
             }
            ],
            "label": "2017-04-01",
            "method": "animate"
           },
           {
            "args": [
             [
              "2017-05-01"
             ],
             {
              "frame": {
               "duration": 0,
               "redraw": true
              },
              "fromcurrent": true,
              "mode": "immediate",
              "transition": {
               "duration": 0,
               "easing": "linear"
              }
             }
            ],
            "label": "2017-05-01",
            "method": "animate"
           },
           {
            "args": [
             [
              "2017-06-01"
             ],
             {
              "frame": {
               "duration": 0,
               "redraw": true
              },
              "fromcurrent": true,
              "mode": "immediate",
              "transition": {
               "duration": 0,
               "easing": "linear"
              }
             }
            ],
            "label": "2017-06-01",
            "method": "animate"
           },
           {
            "args": [
             [
              "2017-07-01"
             ],
             {
              "frame": {
               "duration": 0,
               "redraw": true
              },
              "fromcurrent": true,
              "mode": "immediate",
              "transition": {
               "duration": 0,
               "easing": "linear"
              }
             }
            ],
            "label": "2017-07-01",
            "method": "animate"
           },
           {
            "args": [
             [
              "2017-08-01"
             ],
             {
              "frame": {
               "duration": 0,
               "redraw": true
              },
              "fromcurrent": true,
              "mode": "immediate",
              "transition": {
               "duration": 0,
               "easing": "linear"
              }
             }
            ],
            "label": "2017-08-01",
            "method": "animate"
           },
           {
            "args": [
             [
              "2017-09-01"
             ],
             {
              "frame": {
               "duration": 0,
               "redraw": true
              },
              "fromcurrent": true,
              "mode": "immediate",
              "transition": {
               "duration": 0,
               "easing": "linear"
              }
             }
            ],
            "label": "2017-09-01",
            "method": "animate"
           },
           {
            "args": [
             [
              "2017-10-01"
             ],
             {
              "frame": {
               "duration": 0,
               "redraw": true
              },
              "fromcurrent": true,
              "mode": "immediate",
              "transition": {
               "duration": 0,
               "easing": "linear"
              }
             }
            ],
            "label": "2017-10-01",
            "method": "animate"
           },
           {
            "args": [
             [
              "2017-11-01"
             ],
             {
              "frame": {
               "duration": 0,
               "redraw": true
              },
              "fromcurrent": true,
              "mode": "immediate",
              "transition": {
               "duration": 0,
               "easing": "linear"
              }
             }
            ],
            "label": "2017-11-01",
            "method": "animate"
           },
           {
            "args": [
             [
              "2017-12-01"
             ],
             {
              "frame": {
               "duration": 0,
               "redraw": true
              },
              "fromcurrent": true,
              "mode": "immediate",
              "transition": {
               "duration": 0,
               "easing": "linear"
              }
             }
            ],
            "label": "2017-12-01",
            "method": "animate"
           },
           {
            "args": [
             [
              "2018-01-01"
             ],
             {
              "frame": {
               "duration": 0,
               "redraw": true
              },
              "fromcurrent": true,
              "mode": "immediate",
              "transition": {
               "duration": 0,
               "easing": "linear"
              }
             }
            ],
            "label": "2018-01-01",
            "method": "animate"
           },
           {
            "args": [
             [
              "2018-02-01"
             ],
             {
              "frame": {
               "duration": 0,
               "redraw": true
              },
              "fromcurrent": true,
              "mode": "immediate",
              "transition": {
               "duration": 0,
               "easing": "linear"
              }
             }
            ],
            "label": "2018-02-01",
            "method": "animate"
           },
           {
            "args": [
             [
              "2018-03-01"
             ],
             {
              "frame": {
               "duration": 0,
               "redraw": true
              },
              "fromcurrent": true,
              "mode": "immediate",
              "transition": {
               "duration": 0,
               "easing": "linear"
              }
             }
            ],
            "label": "2018-03-01",
            "method": "animate"
           },
           {
            "args": [
             [
              "2018-04-01"
             ],
             {
              "frame": {
               "duration": 0,
               "redraw": true
              },
              "fromcurrent": true,
              "mode": "immediate",
              "transition": {
               "duration": 0,
               "easing": "linear"
              }
             }
            ],
            "label": "2018-04-01",
            "method": "animate"
           },
           {
            "args": [
             [
              "2018-05-01"
             ],
             {
              "frame": {
               "duration": 0,
               "redraw": true
              },
              "fromcurrent": true,
              "mode": "immediate",
              "transition": {
               "duration": 0,
               "easing": "linear"
              }
             }
            ],
            "label": "2018-05-01",
            "method": "animate"
           },
           {
            "args": [
             [
              "2018-06-01"
             ],
             {
              "frame": {
               "duration": 0,
               "redraw": true
              },
              "fromcurrent": true,
              "mode": "immediate",
              "transition": {
               "duration": 0,
               "easing": "linear"
              }
             }
            ],
            "label": "2018-06-01",
            "method": "animate"
           },
           {
            "args": [
             [
              "2018-07-01"
             ],
             {
              "frame": {
               "duration": 0,
               "redraw": true
              },
              "fromcurrent": true,
              "mode": "immediate",
              "transition": {
               "duration": 0,
               "easing": "linear"
              }
             }
            ],
            "label": "2018-07-01",
            "method": "animate"
           },
           {
            "args": [
             [
              "2018-08-01"
             ],
             {
              "frame": {
               "duration": 0,
               "redraw": true
              },
              "fromcurrent": true,
              "mode": "immediate",
              "transition": {
               "duration": 0,
               "easing": "linear"
              }
             }
            ],
            "label": "2018-08-01",
            "method": "animate"
           },
           {
            "args": [
             [
              "2018-09-01"
             ],
             {
              "frame": {
               "duration": 0,
               "redraw": true
              },
              "fromcurrent": true,
              "mode": "immediate",
              "transition": {
               "duration": 0,
               "easing": "linear"
              }
             }
            ],
            "label": "2018-09-01",
            "method": "animate"
           },
           {
            "args": [
             [
              "2018-10-01"
             ],
             {
              "frame": {
               "duration": 0,
               "redraw": true
              },
              "fromcurrent": true,
              "mode": "immediate",
              "transition": {
               "duration": 0,
               "easing": "linear"
              }
             }
            ],
            "label": "2018-10-01",
            "method": "animate"
           },
           {
            "args": [
             [
              "2018-11-01"
             ],
             {
              "frame": {
               "duration": 0,
               "redraw": true
              },
              "fromcurrent": true,
              "mode": "immediate",
              "transition": {
               "duration": 0,
               "easing": "linear"
              }
             }
            ],
            "label": "2018-11-01",
            "method": "animate"
           },
           {
            "args": [
             [
              "2018-12-01"
             ],
             {
              "frame": {
               "duration": 0,
               "redraw": true
              },
              "fromcurrent": true,
              "mode": "immediate",
              "transition": {
               "duration": 0,
               "easing": "linear"
              }
             }
            ],
            "label": "2018-12-01",
            "method": "animate"
           },
           {
            "args": [
             [
              "2019-01-01"
             ],
             {
              "frame": {
               "duration": 0,
               "redraw": true
              },
              "fromcurrent": true,
              "mode": "immediate",
              "transition": {
               "duration": 0,
               "easing": "linear"
              }
             }
            ],
            "label": "2019-01-01",
            "method": "animate"
           },
           {
            "args": [
             [
              "2019-02-01"
             ],
             {
              "frame": {
               "duration": 0,
               "redraw": true
              },
              "fromcurrent": true,
              "mode": "immediate",
              "transition": {
               "duration": 0,
               "easing": "linear"
              }
             }
            ],
            "label": "2019-02-01",
            "method": "animate"
           },
           {
            "args": [
             [
              "2019-03-01"
             ],
             {
              "frame": {
               "duration": 0,
               "redraw": true
              },
              "fromcurrent": true,
              "mode": "immediate",
              "transition": {
               "duration": 0,
               "easing": "linear"
              }
             }
            ],
            "label": "2019-03-01",
            "method": "animate"
           },
           {
            "args": [
             [
              "2019-04-01"
             ],
             {
              "frame": {
               "duration": 0,
               "redraw": true
              },
              "fromcurrent": true,
              "mode": "immediate",
              "transition": {
               "duration": 0,
               "easing": "linear"
              }
             }
            ],
            "label": "2019-04-01",
            "method": "animate"
           },
           {
            "args": [
             [
              "2019-05-01"
             ],
             {
              "frame": {
               "duration": 0,
               "redraw": true
              },
              "fromcurrent": true,
              "mode": "immediate",
              "transition": {
               "duration": 0,
               "easing": "linear"
              }
             }
            ],
            "label": "2019-05-01",
            "method": "animate"
           },
           {
            "args": [
             [
              "2019-06-01"
             ],
             {
              "frame": {
               "duration": 0,
               "redraw": true
              },
              "fromcurrent": true,
              "mode": "immediate",
              "transition": {
               "duration": 0,
               "easing": "linear"
              }
             }
            ],
            "label": "2019-06-01",
            "method": "animate"
           },
           {
            "args": [
             [
              "2019-07-01"
             ],
             {
              "frame": {
               "duration": 0,
               "redraw": true
              },
              "fromcurrent": true,
              "mode": "immediate",
              "transition": {
               "duration": 0,
               "easing": "linear"
              }
             }
            ],
            "label": "2019-07-01",
            "method": "animate"
           },
           {
            "args": [
             [
              "2019-08-01"
             ],
             {
              "frame": {
               "duration": 0,
               "redraw": true
              },
              "fromcurrent": true,
              "mode": "immediate",
              "transition": {
               "duration": 0,
               "easing": "linear"
              }
             }
            ],
            "label": "2019-08-01",
            "method": "animate"
           },
           {
            "args": [
             [
              "2019-09-01"
             ],
             {
              "frame": {
               "duration": 0,
               "redraw": true
              },
              "fromcurrent": true,
              "mode": "immediate",
              "transition": {
               "duration": 0,
               "easing": "linear"
              }
             }
            ],
            "label": "2019-09-01",
            "method": "animate"
           },
           {
            "args": [
             [
              "2019-10-01"
             ],
             {
              "frame": {
               "duration": 0,
               "redraw": true
              },
              "fromcurrent": true,
              "mode": "immediate",
              "transition": {
               "duration": 0,
               "easing": "linear"
              }
             }
            ],
            "label": "2019-10-01",
            "method": "animate"
           },
           {
            "args": [
             [
              "2019-11-01"
             ],
             {
              "frame": {
               "duration": 0,
               "redraw": true
              },
              "fromcurrent": true,
              "mode": "immediate",
              "transition": {
               "duration": 0,
               "easing": "linear"
              }
             }
            ],
            "label": "2019-11-01",
            "method": "animate"
           },
           {
            "args": [
             [
              "2019-12-01"
             ],
             {
              "frame": {
               "duration": 0,
               "redraw": true
              },
              "fromcurrent": true,
              "mode": "immediate",
              "transition": {
               "duration": 0,
               "easing": "linear"
              }
             }
            ],
            "label": "2019-12-01",
            "method": "animate"
           },
           {
            "args": [
             [
              "2020-01-01"
             ],
             {
              "frame": {
               "duration": 0,
               "redraw": true
              },
              "fromcurrent": true,
              "mode": "immediate",
              "transition": {
               "duration": 0,
               "easing": "linear"
              }
             }
            ],
            "label": "2020-01-01",
            "method": "animate"
           },
           {
            "args": [
             [
              "2020-02-01"
             ],
             {
              "frame": {
               "duration": 0,
               "redraw": true
              },
              "fromcurrent": true,
              "mode": "immediate",
              "transition": {
               "duration": 0,
               "easing": "linear"
              }
             }
            ],
            "label": "2020-02-01",
            "method": "animate"
           },
           {
            "args": [
             [
              "2020-03-01"
             ],
             {
              "frame": {
               "duration": 0,
               "redraw": true
              },
              "fromcurrent": true,
              "mode": "immediate",
              "transition": {
               "duration": 0,
               "easing": "linear"
              }
             }
            ],
            "label": "2020-03-01",
            "method": "animate"
           },
           {
            "args": [
             [
              "2020-04-01"
             ],
             {
              "frame": {
               "duration": 0,
               "redraw": true
              },
              "fromcurrent": true,
              "mode": "immediate",
              "transition": {
               "duration": 0,
               "easing": "linear"
              }
             }
            ],
            "label": "2020-04-01",
            "method": "animate"
           },
           {
            "args": [
             [
              "2020-05-01"
             ],
             {
              "frame": {
               "duration": 0,
               "redraw": true
              },
              "fromcurrent": true,
              "mode": "immediate",
              "transition": {
               "duration": 0,
               "easing": "linear"
              }
             }
            ],
            "label": "2020-05-01",
            "method": "animate"
           }
          ],
          "x": 0.1,
          "xanchor": "left",
          "y": 0,
          "yanchor": "top"
         }
        ],
        "template": {
         "data": {
          "bar": [
           {
            "error_x": {
             "color": "#2a3f5f"
            },
            "error_y": {
             "color": "#2a3f5f"
            },
            "marker": {
             "line": {
              "color": "#E5ECF6",
              "width": 0.5
             }
            },
            "type": "bar"
           }
          ],
          "barpolar": [
           {
            "marker": {
             "line": {
              "color": "#E5ECF6",
              "width": 0.5
             }
            },
            "type": "barpolar"
           }
          ],
          "carpet": [
           {
            "aaxis": {
             "endlinecolor": "#2a3f5f",
             "gridcolor": "white",
             "linecolor": "white",
             "minorgridcolor": "white",
             "startlinecolor": "#2a3f5f"
            },
            "baxis": {
             "endlinecolor": "#2a3f5f",
             "gridcolor": "white",
             "linecolor": "white",
             "minorgridcolor": "white",
             "startlinecolor": "#2a3f5f"
            },
            "type": "carpet"
           }
          ],
          "choropleth": [
           {
            "colorbar": {
             "outlinewidth": 0,
             "ticks": ""
            },
            "type": "choropleth"
           }
          ],
          "contour": [
           {
            "colorbar": {
             "outlinewidth": 0,
             "ticks": ""
            },
            "colorscale": [
             [
              0,
              "#0d0887"
             ],
             [
              0.1111111111111111,
              "#46039f"
             ],
             [
              0.2222222222222222,
              "#7201a8"
             ],
             [
              0.3333333333333333,
              "#9c179e"
             ],
             [
              0.4444444444444444,
              "#bd3786"
             ],
             [
              0.5555555555555556,
              "#d8576b"
             ],
             [
              0.6666666666666666,
              "#ed7953"
             ],
             [
              0.7777777777777778,
              "#fb9f3a"
             ],
             [
              0.8888888888888888,
              "#fdca26"
             ],
             [
              1,
              "#f0f921"
             ]
            ],
            "type": "contour"
           }
          ],
          "contourcarpet": [
           {
            "colorbar": {
             "outlinewidth": 0,
             "ticks": ""
            },
            "type": "contourcarpet"
           }
          ],
          "heatmap": [
           {
            "colorbar": {
             "outlinewidth": 0,
             "ticks": ""
            },
            "colorscale": [
             [
              0,
              "#0d0887"
             ],
             [
              0.1111111111111111,
              "#46039f"
             ],
             [
              0.2222222222222222,
              "#7201a8"
             ],
             [
              0.3333333333333333,
              "#9c179e"
             ],
             [
              0.4444444444444444,
              "#bd3786"
             ],
             [
              0.5555555555555556,
              "#d8576b"
             ],
             [
              0.6666666666666666,
              "#ed7953"
             ],
             [
              0.7777777777777778,
              "#fb9f3a"
             ],
             [
              0.8888888888888888,
              "#fdca26"
             ],
             [
              1,
              "#f0f921"
             ]
            ],
            "type": "heatmap"
           }
          ],
          "heatmapgl": [
           {
            "colorbar": {
             "outlinewidth": 0,
             "ticks": ""
            },
            "colorscale": [
             [
              0,
              "#0d0887"
             ],
             [
              0.1111111111111111,
              "#46039f"
             ],
             [
              0.2222222222222222,
              "#7201a8"
             ],
             [
              0.3333333333333333,
              "#9c179e"
             ],
             [
              0.4444444444444444,
              "#bd3786"
             ],
             [
              0.5555555555555556,
              "#d8576b"
             ],
             [
              0.6666666666666666,
              "#ed7953"
             ],
             [
              0.7777777777777778,
              "#fb9f3a"
             ],
             [
              0.8888888888888888,
              "#fdca26"
             ],
             [
              1,
              "#f0f921"
             ]
            ],
            "type": "heatmapgl"
           }
          ],
          "histogram": [
           {
            "marker": {
             "colorbar": {
              "outlinewidth": 0,
              "ticks": ""
             }
            },
            "type": "histogram"
           }
          ],
          "histogram2d": [
           {
            "colorbar": {
             "outlinewidth": 0,
             "ticks": ""
            },
            "colorscale": [
             [
              0,
              "#0d0887"
             ],
             [
              0.1111111111111111,
              "#46039f"
             ],
             [
              0.2222222222222222,
              "#7201a8"
             ],
             [
              0.3333333333333333,
              "#9c179e"
             ],
             [
              0.4444444444444444,
              "#bd3786"
             ],
             [
              0.5555555555555556,
              "#d8576b"
             ],
             [
              0.6666666666666666,
              "#ed7953"
             ],
             [
              0.7777777777777778,
              "#fb9f3a"
             ],
             [
              0.8888888888888888,
              "#fdca26"
             ],
             [
              1,
              "#f0f921"
             ]
            ],
            "type": "histogram2d"
           }
          ],
          "histogram2dcontour": [
           {
            "colorbar": {
             "outlinewidth": 0,
             "ticks": ""
            },
            "colorscale": [
             [
              0,
              "#0d0887"
             ],
             [
              0.1111111111111111,
              "#46039f"
             ],
             [
              0.2222222222222222,
              "#7201a8"
             ],
             [
              0.3333333333333333,
              "#9c179e"
             ],
             [
              0.4444444444444444,
              "#bd3786"
             ],
             [
              0.5555555555555556,
              "#d8576b"
             ],
             [
              0.6666666666666666,
              "#ed7953"
             ],
             [
              0.7777777777777778,
              "#fb9f3a"
             ],
             [
              0.8888888888888888,
              "#fdca26"
             ],
             [
              1,
              "#f0f921"
             ]
            ],
            "type": "histogram2dcontour"
           }
          ],
          "mesh3d": [
           {
            "colorbar": {
             "outlinewidth": 0,
             "ticks": ""
            },
            "type": "mesh3d"
           }
          ],
          "parcoords": [
           {
            "line": {
             "colorbar": {
              "outlinewidth": 0,
              "ticks": ""
             }
            },
            "type": "parcoords"
           }
          ],
          "pie": [
           {
            "automargin": true,
            "type": "pie"
           }
          ],
          "scatter": [
           {
            "marker": {
             "colorbar": {
              "outlinewidth": 0,
              "ticks": ""
             }
            },
            "type": "scatter"
           }
          ],
          "scatter3d": [
           {
            "line": {
             "colorbar": {
              "outlinewidth": 0,
              "ticks": ""
             }
            },
            "marker": {
             "colorbar": {
              "outlinewidth": 0,
              "ticks": ""
             }
            },
            "type": "scatter3d"
           }
          ],
          "scattercarpet": [
           {
            "marker": {
             "colorbar": {
              "outlinewidth": 0,
              "ticks": ""
             }
            },
            "type": "scattercarpet"
           }
          ],
          "scattergeo": [
           {
            "marker": {
             "colorbar": {
              "outlinewidth": 0,
              "ticks": ""
             }
            },
            "type": "scattergeo"
           }
          ],
          "scattergl": [
           {
            "marker": {
             "colorbar": {
              "outlinewidth": 0,
              "ticks": ""
             }
            },
            "type": "scattergl"
           }
          ],
          "scattermapbox": [
           {
            "marker": {
             "colorbar": {
              "outlinewidth": 0,
              "ticks": ""
             }
            },
            "type": "scattermapbox"
           }
          ],
          "scatterpolar": [
           {
            "marker": {
             "colorbar": {
              "outlinewidth": 0,
              "ticks": ""
             }
            },
            "type": "scatterpolar"
           }
          ],
          "scatterpolargl": [
           {
            "marker": {
             "colorbar": {
              "outlinewidth": 0,
              "ticks": ""
             }
            },
            "type": "scatterpolargl"
           }
          ],
          "scatterternary": [
           {
            "marker": {
             "colorbar": {
              "outlinewidth": 0,
              "ticks": ""
             }
            },
            "type": "scatterternary"
           }
          ],
          "surface": [
           {
            "colorbar": {
             "outlinewidth": 0,
             "ticks": ""
            },
            "colorscale": [
             [
              0,
              "#0d0887"
             ],
             [
              0.1111111111111111,
              "#46039f"
             ],
             [
              0.2222222222222222,
              "#7201a8"
             ],
             [
              0.3333333333333333,
              "#9c179e"
             ],
             [
              0.4444444444444444,
              "#bd3786"
             ],
             [
              0.5555555555555556,
              "#d8576b"
             ],
             [
              0.6666666666666666,
              "#ed7953"
             ],
             [
              0.7777777777777778,
              "#fb9f3a"
             ],
             [
              0.8888888888888888,
              "#fdca26"
             ],
             [
              1,
              "#f0f921"
             ]
            ],
            "type": "surface"
           }
          ],
          "table": [
           {
            "cells": {
             "fill": {
              "color": "#EBF0F8"
             },
             "line": {
              "color": "white"
             }
            },
            "header": {
             "fill": {
              "color": "#C8D4E3"
             },
             "line": {
              "color": "white"
             }
            },
            "type": "table"
           }
          ]
         },
         "layout": {
          "annotationdefaults": {
           "arrowcolor": "#2a3f5f",
           "arrowhead": 0,
           "arrowwidth": 1
          },
          "coloraxis": {
           "colorbar": {
            "outlinewidth": 0,
            "ticks": ""
           }
          },
          "colorscale": {
           "diverging": [
            [
             0,
             "#8e0152"
            ],
            [
             0.1,
             "#c51b7d"
            ],
            [
             0.2,
             "#de77ae"
            ],
            [
             0.3,
             "#f1b6da"
            ],
            [
             0.4,
             "#fde0ef"
            ],
            [
             0.5,
             "#f7f7f7"
            ],
            [
             0.6,
             "#e6f5d0"
            ],
            [
             0.7,
             "#b8e186"
            ],
            [
             0.8,
             "#7fbc41"
            ],
            [
             0.9,
             "#4d9221"
            ],
            [
             1,
             "#276419"
            ]
           ],
           "sequential": [
            [
             0,
             "#0d0887"
            ],
            [
             0.1111111111111111,
             "#46039f"
            ],
            [
             0.2222222222222222,
             "#7201a8"
            ],
            [
             0.3333333333333333,
             "#9c179e"
            ],
            [
             0.4444444444444444,
             "#bd3786"
            ],
            [
             0.5555555555555556,
             "#d8576b"
            ],
            [
             0.6666666666666666,
             "#ed7953"
            ],
            [
             0.7777777777777778,
             "#fb9f3a"
            ],
            [
             0.8888888888888888,
             "#fdca26"
            ],
            [
             1,
             "#f0f921"
            ]
           ],
           "sequentialminus": [
            [
             0,
             "#0d0887"
            ],
            [
             0.1111111111111111,
             "#46039f"
            ],
            [
             0.2222222222222222,
             "#7201a8"
            ],
            [
             0.3333333333333333,
             "#9c179e"
            ],
            [
             0.4444444444444444,
             "#bd3786"
            ],
            [
             0.5555555555555556,
             "#d8576b"
            ],
            [
             0.6666666666666666,
             "#ed7953"
            ],
            [
             0.7777777777777778,
             "#fb9f3a"
            ],
            [
             0.8888888888888888,
             "#fdca26"
            ],
            [
             1,
             "#f0f921"
            ]
           ]
          },
          "colorway": [
           "#636efa",
           "#EF553B",
           "#00cc96",
           "#ab63fa",
           "#FFA15A",
           "#19d3f3",
           "#FF6692",
           "#B6E880",
           "#FF97FF",
           "#FECB52"
          ],
          "font": {
           "color": "#2a3f5f"
          },
          "geo": {
           "bgcolor": "white",
           "lakecolor": "white",
           "landcolor": "#E5ECF6",
           "showlakes": true,
           "showland": true,
           "subunitcolor": "white"
          },
          "hoverlabel": {
           "align": "left"
          },
          "hovermode": "closest",
          "mapbox": {
           "style": "light"
          },
          "paper_bgcolor": "white",
          "plot_bgcolor": "#E5ECF6",
          "polar": {
           "angularaxis": {
            "gridcolor": "white",
            "linecolor": "white",
            "ticks": ""
           },
           "bgcolor": "#E5ECF6",
           "radialaxis": {
            "gridcolor": "white",
            "linecolor": "white",
            "ticks": ""
           }
          },
          "scene": {
           "xaxis": {
            "backgroundcolor": "#E5ECF6",
            "gridcolor": "white",
            "gridwidth": 2,
            "linecolor": "white",
            "showbackground": true,
            "ticks": "",
            "zerolinecolor": "white"
           },
           "yaxis": {
            "backgroundcolor": "#E5ECF6",
            "gridcolor": "white",
            "gridwidth": 2,
            "linecolor": "white",
            "showbackground": true,
            "ticks": "",
            "zerolinecolor": "white"
           },
           "zaxis": {
            "backgroundcolor": "#E5ECF6",
            "gridcolor": "white",
            "gridwidth": 2,
            "linecolor": "white",
            "showbackground": true,
            "ticks": "",
            "zerolinecolor": "white"
           }
          },
          "shapedefaults": {
           "line": {
            "color": "#2a3f5f"
           }
          },
          "ternary": {
           "aaxis": {
            "gridcolor": "white",
            "linecolor": "white",
            "ticks": ""
           },
           "baxis": {
            "gridcolor": "white",
            "linecolor": "white",
            "ticks": ""
           },
           "bgcolor": "#E5ECF6",
           "caxis": {
            "gridcolor": "white",
            "linecolor": "white",
            "ticks": ""
           }
          },
          "title": {
           "x": 0.05
          },
          "xaxis": {
           "automargin": true,
           "gridcolor": "white",
           "linecolor": "white",
           "ticks": "",
           "title": {
            "standoff": 15
           },
           "zerolinecolor": "white",
           "zerolinewidth": 2
          },
          "yaxis": {
           "automargin": true,
           "gridcolor": "white",
           "linecolor": "white",
           "ticks": "",
           "title": {
            "standoff": 15
           },
           "zerolinecolor": "white",
           "zerolinewidth": 2
          }
         }
        },
        "title": {
         "text": "Over 20 Unemployment Rate in USA from2017-01-01 to May 2020"
        },
        "updatemenus": [
         {
          "buttons": [
           {
            "args": [
             null,
             {
              "frame": {
               "duration": 500,
               "redraw": true
              },
              "fromcurrent": true,
              "mode": "immediate",
              "transition": {
               "duration": 500,
               "easing": "linear"
              }
             }
            ],
            "label": "&#9654;",
            "method": "animate"
           },
           {
            "args": [
             [
              null
             ],
             {
              "frame": {
               "duration": 0,
               "redraw": true
              },
              "fromcurrent": true,
              "mode": "immediate",
              "transition": {
               "duration": 0,
               "easing": "linear"
              }
             }
            ],
            "label": "&#9724;",
            "method": "animate"
           }
          ],
          "direction": "left",
          "pad": {
           "r": 10,
           "t": 70
          },
          "showactive": false,
          "type": "buttons",
          "x": 0.1,
          "xanchor": "right",
          "y": 0,
          "yanchor": "top"
         }
        ],
        "xaxis": {
         "anchor": "y",
         "categoryarray": [
          "Average",
          "White men",
          "White women",
          "Black men",
          "Black women",
          "Hispanic men",
          "Hispanic women"
         ],
         "categoryorder": "array",
         "domain": [
          0,
          1
         ],
         "title": {
          "text": "category"
         }
        },
        "yaxis": {
         "anchor": "x",
         "domain": [
          0,
          1
         ],
         "range": [
          0,
          20
         ],
         "title": {
          "text": "rate"
         }
        }
       }
      },
      "text/html": [
       "<div>\n",
       "        \n",
       "        \n",
       "            <div id=\"c5e21e7f-617c-4408-a7a1-88ceac6632ee\" class=\"plotly-graph-div\" style=\"height:600px; width:100%;\"></div>\n",
       "            <script type=\"text/javascript\">\n",
       "                require([\"plotly\"], function(Plotly) {\n",
       "                    window.PLOTLYENV=window.PLOTLYENV || {};\n",
       "                    \n",
       "                if (document.getElementById(\"c5e21e7f-617c-4408-a7a1-88ceac6632ee\")) {\n",
       "                    Plotly.newPlot(\n",
       "                        'c5e21e7f-617c-4408-a7a1-88ceac6632ee',\n",
       "                        [{\"alignmentgroup\": \"True\", \"hovertemplate\": \"category=%{x}<br>date=2017-01-01<br>rate=%{y}<extra></extra>\", \"ids\": [\"Average\"], \"legendgroup\": \"Average\", \"marker\": {\"color\": \"#636efa\"}, \"name\": \"Average\", \"offsetgroup\": \"Average\", \"orientation\": \"v\", \"showlegend\": true, \"textposition\": \"auto\", \"type\": \"bar\", \"x\": [\"Average\"], \"xaxis\": \"x\", \"y\": [4.3], \"yaxis\": \"y\"}, {\"alignmentgroup\": \"True\", \"hovertemplate\": \"category=%{x}<br>date=2017-01-01<br>rate=%{y}<extra></extra>\", \"ids\": [\"White men\"], \"legendgroup\": \"White men\", \"marker\": {\"color\": \"#EF553B\"}, \"name\": \"White men\", \"offsetgroup\": \"White men\", \"orientation\": \"v\", \"showlegend\": true, \"textposition\": \"auto\", \"type\": \"bar\", \"x\": [\"White men\"], \"xaxis\": \"x\", \"y\": [3.9], \"yaxis\": \"y\"}, {\"alignmentgroup\": \"True\", \"hovertemplate\": \"category=%{x}<br>date=2017-01-01<br>rate=%{y}<extra></extra>\", \"ids\": [\"White women\"], \"legendgroup\": \"White women\", \"marker\": {\"color\": \"#00cc96\"}, \"name\": \"White women\", \"offsetgroup\": \"White women\", \"orientation\": \"v\", \"showlegend\": true, \"textposition\": \"auto\", \"type\": \"bar\", \"x\": [\"White women\"], \"xaxis\": \"x\", \"y\": [3.9], \"yaxis\": \"y\"}, {\"alignmentgroup\": \"True\", \"hovertemplate\": \"category=%{x}<br>date=2017-01-01<br>rate=%{y}<extra></extra>\", \"ids\": [\"Black men\"], \"legendgroup\": \"Black men\", \"marker\": {\"color\": \"#ab63fa\"}, \"name\": \"Black men\", \"offsetgroup\": \"Black men\", \"orientation\": \"v\", \"showlegend\": true, \"textposition\": \"auto\", \"type\": \"bar\", \"x\": [\"Black men\"], \"xaxis\": \"x\", \"y\": [7.2], \"yaxis\": \"y\"}, {\"alignmentgroup\": \"True\", \"hovertemplate\": \"category=%{x}<br>date=2017-01-01<br>rate=%{y}<extra></extra>\", \"ids\": [\"Black women\"], \"legendgroup\": \"Black women\", \"marker\": {\"color\": \"#FFA15A\"}, \"name\": \"Black women\", \"offsetgroup\": \"Black women\", \"orientation\": \"v\", \"showlegend\": true, \"textposition\": \"auto\", \"type\": \"bar\", \"x\": [\"Black women\"], \"xaxis\": \"x\", \"y\": [6.4], \"yaxis\": \"y\"}, {\"alignmentgroup\": \"True\", \"hovertemplate\": \"category=%{x}<br>date=2017-01-01<br>rate=%{y}<extra></extra>\", \"ids\": [\"Hispanic men\"], \"legendgroup\": \"Hispanic men\", \"marker\": {\"color\": \"#19d3f3\"}, \"name\": \"Hispanic men\", \"offsetgroup\": \"Hispanic men\", \"orientation\": \"v\", \"showlegend\": true, \"textposition\": \"auto\", \"type\": \"bar\", \"x\": [\"Hispanic men\"], \"xaxis\": \"x\", \"y\": [5.9], \"yaxis\": \"y\"}, {\"alignmentgroup\": \"True\", \"hovertemplate\": \"category=%{x}<br>date=2017-01-01<br>rate=%{y}<extra></extra>\", \"ids\": [\"Hispanic women\"], \"legendgroup\": \"Hispanic women\", \"marker\": {\"color\": \"#FF6692\"}, \"name\": \"Hispanic women\", \"offsetgroup\": \"Hispanic women\", \"orientation\": \"v\", \"showlegend\": true, \"textposition\": \"auto\", \"type\": \"bar\", \"x\": [\"Hispanic women\"], \"xaxis\": \"x\", \"y\": [6.6], \"yaxis\": \"y\"}],\n",
       "                        {\"barmode\": \"relative\", \"height\": 600, \"legend\": {\"title\": {\"text\": \"category\"}, \"tracegroupgap\": 0}, \"margin\": {\"t\": 60}, \"sliders\": [{\"active\": 0, \"currentvalue\": {\"prefix\": \"date=\"}, \"len\": 0.9, \"pad\": {\"b\": 10, \"t\": 60}, \"steps\": [{\"args\": [[\"2017-01-01\"], {\"frame\": {\"duration\": 0, \"redraw\": true}, \"fromcurrent\": true, \"mode\": \"immediate\", \"transition\": {\"duration\": 0, \"easing\": \"linear\"}}], \"label\": \"2017-01-01\", \"method\": \"animate\"}, {\"args\": [[\"2017-02-01\"], {\"frame\": {\"duration\": 0, \"redraw\": true}, \"fromcurrent\": true, \"mode\": \"immediate\", \"transition\": {\"duration\": 0, \"easing\": \"linear\"}}], \"label\": \"2017-02-01\", \"method\": \"animate\"}, {\"args\": [[\"2017-03-01\"], {\"frame\": {\"duration\": 0, \"redraw\": true}, \"fromcurrent\": true, \"mode\": \"immediate\", \"transition\": {\"duration\": 0, \"easing\": \"linear\"}}], \"label\": \"2017-03-01\", \"method\": \"animate\"}, {\"args\": [[\"2017-04-01\"], {\"frame\": {\"duration\": 0, \"redraw\": true}, \"fromcurrent\": true, \"mode\": \"immediate\", \"transition\": {\"duration\": 0, \"easing\": \"linear\"}}], \"label\": \"2017-04-01\", \"method\": \"animate\"}, {\"args\": [[\"2017-05-01\"], {\"frame\": {\"duration\": 0, \"redraw\": true}, \"fromcurrent\": true, \"mode\": \"immediate\", \"transition\": {\"duration\": 0, \"easing\": \"linear\"}}], \"label\": \"2017-05-01\", \"method\": \"animate\"}, {\"args\": [[\"2017-06-01\"], {\"frame\": {\"duration\": 0, \"redraw\": true}, \"fromcurrent\": true, \"mode\": \"immediate\", \"transition\": {\"duration\": 0, \"easing\": \"linear\"}}], \"label\": \"2017-06-01\", \"method\": \"animate\"}, {\"args\": [[\"2017-07-01\"], {\"frame\": {\"duration\": 0, \"redraw\": true}, \"fromcurrent\": true, \"mode\": \"immediate\", \"transition\": {\"duration\": 0, \"easing\": \"linear\"}}], \"label\": \"2017-07-01\", \"method\": \"animate\"}, {\"args\": [[\"2017-08-01\"], {\"frame\": {\"duration\": 0, \"redraw\": true}, \"fromcurrent\": true, \"mode\": \"immediate\", \"transition\": {\"duration\": 0, \"easing\": \"linear\"}}], \"label\": \"2017-08-01\", \"method\": \"animate\"}, {\"args\": [[\"2017-09-01\"], {\"frame\": {\"duration\": 0, \"redraw\": true}, \"fromcurrent\": true, \"mode\": \"immediate\", \"transition\": {\"duration\": 0, \"easing\": \"linear\"}}], \"label\": \"2017-09-01\", \"method\": \"animate\"}, {\"args\": [[\"2017-10-01\"], {\"frame\": {\"duration\": 0, \"redraw\": true}, \"fromcurrent\": true, \"mode\": \"immediate\", \"transition\": {\"duration\": 0, \"easing\": \"linear\"}}], \"label\": \"2017-10-01\", \"method\": \"animate\"}, {\"args\": [[\"2017-11-01\"], {\"frame\": {\"duration\": 0, \"redraw\": true}, \"fromcurrent\": true, \"mode\": \"immediate\", \"transition\": {\"duration\": 0, \"easing\": \"linear\"}}], \"label\": \"2017-11-01\", \"method\": \"animate\"}, {\"args\": [[\"2017-12-01\"], {\"frame\": {\"duration\": 0, \"redraw\": true}, \"fromcurrent\": true, \"mode\": \"immediate\", \"transition\": {\"duration\": 0, \"easing\": \"linear\"}}], \"label\": \"2017-12-01\", \"method\": \"animate\"}, {\"args\": [[\"2018-01-01\"], {\"frame\": {\"duration\": 0, \"redraw\": true}, \"fromcurrent\": true, \"mode\": \"immediate\", \"transition\": {\"duration\": 0, \"easing\": \"linear\"}}], \"label\": \"2018-01-01\", \"method\": \"animate\"}, {\"args\": [[\"2018-02-01\"], {\"frame\": {\"duration\": 0, \"redraw\": true}, \"fromcurrent\": true, \"mode\": \"immediate\", \"transition\": {\"duration\": 0, \"easing\": \"linear\"}}], \"label\": \"2018-02-01\", \"method\": \"animate\"}, {\"args\": [[\"2018-03-01\"], {\"frame\": {\"duration\": 0, \"redraw\": true}, \"fromcurrent\": true, \"mode\": \"immediate\", \"transition\": {\"duration\": 0, \"easing\": \"linear\"}}], \"label\": \"2018-03-01\", \"method\": \"animate\"}, {\"args\": [[\"2018-04-01\"], {\"frame\": {\"duration\": 0, \"redraw\": true}, \"fromcurrent\": true, \"mode\": \"immediate\", \"transition\": {\"duration\": 0, \"easing\": \"linear\"}}], \"label\": \"2018-04-01\", \"method\": \"animate\"}, {\"args\": [[\"2018-05-01\"], {\"frame\": {\"duration\": 0, \"redraw\": true}, \"fromcurrent\": true, \"mode\": \"immediate\", \"transition\": {\"duration\": 0, \"easing\": \"linear\"}}], \"label\": \"2018-05-01\", \"method\": \"animate\"}, {\"args\": [[\"2018-06-01\"], {\"frame\": {\"duration\": 0, \"redraw\": true}, \"fromcurrent\": true, \"mode\": \"immediate\", \"transition\": {\"duration\": 0, \"easing\": \"linear\"}}], \"label\": \"2018-06-01\", \"method\": \"animate\"}, {\"args\": [[\"2018-07-01\"], {\"frame\": {\"duration\": 0, \"redraw\": true}, \"fromcurrent\": true, \"mode\": \"immediate\", \"transition\": {\"duration\": 0, \"easing\": \"linear\"}}], \"label\": \"2018-07-01\", \"method\": \"animate\"}, {\"args\": [[\"2018-08-01\"], {\"frame\": {\"duration\": 0, \"redraw\": true}, \"fromcurrent\": true, \"mode\": \"immediate\", \"transition\": {\"duration\": 0, \"easing\": \"linear\"}}], \"label\": \"2018-08-01\", \"method\": \"animate\"}, {\"args\": [[\"2018-09-01\"], {\"frame\": {\"duration\": 0, \"redraw\": true}, \"fromcurrent\": true, \"mode\": \"immediate\", \"transition\": {\"duration\": 0, \"easing\": \"linear\"}}], \"label\": \"2018-09-01\", \"method\": \"animate\"}, {\"args\": [[\"2018-10-01\"], {\"frame\": {\"duration\": 0, \"redraw\": true}, \"fromcurrent\": true, \"mode\": \"immediate\", \"transition\": {\"duration\": 0, \"easing\": \"linear\"}}], \"label\": \"2018-10-01\", \"method\": \"animate\"}, {\"args\": [[\"2018-11-01\"], {\"frame\": {\"duration\": 0, \"redraw\": true}, \"fromcurrent\": true, \"mode\": \"immediate\", \"transition\": {\"duration\": 0, \"easing\": \"linear\"}}], \"label\": \"2018-11-01\", \"method\": \"animate\"}, {\"args\": [[\"2018-12-01\"], {\"frame\": {\"duration\": 0, \"redraw\": true}, \"fromcurrent\": true, \"mode\": \"immediate\", \"transition\": {\"duration\": 0, \"easing\": \"linear\"}}], \"label\": \"2018-12-01\", \"method\": \"animate\"}, {\"args\": [[\"2019-01-01\"], {\"frame\": {\"duration\": 0, \"redraw\": true}, \"fromcurrent\": true, \"mode\": \"immediate\", \"transition\": {\"duration\": 0, \"easing\": \"linear\"}}], \"label\": \"2019-01-01\", \"method\": \"animate\"}, {\"args\": [[\"2019-02-01\"], {\"frame\": {\"duration\": 0, \"redraw\": true}, \"fromcurrent\": true, \"mode\": \"immediate\", \"transition\": {\"duration\": 0, \"easing\": \"linear\"}}], \"label\": \"2019-02-01\", \"method\": \"animate\"}, {\"args\": [[\"2019-03-01\"], {\"frame\": {\"duration\": 0, \"redraw\": true}, \"fromcurrent\": true, \"mode\": \"immediate\", \"transition\": {\"duration\": 0, \"easing\": \"linear\"}}], \"label\": \"2019-03-01\", \"method\": \"animate\"}, {\"args\": [[\"2019-04-01\"], {\"frame\": {\"duration\": 0, \"redraw\": true}, \"fromcurrent\": true, \"mode\": \"immediate\", \"transition\": {\"duration\": 0, \"easing\": \"linear\"}}], \"label\": \"2019-04-01\", \"method\": \"animate\"}, {\"args\": [[\"2019-05-01\"], {\"frame\": {\"duration\": 0, \"redraw\": true}, \"fromcurrent\": true, \"mode\": \"immediate\", \"transition\": {\"duration\": 0, \"easing\": \"linear\"}}], \"label\": \"2019-05-01\", \"method\": \"animate\"}, {\"args\": [[\"2019-06-01\"], {\"frame\": {\"duration\": 0, \"redraw\": true}, \"fromcurrent\": true, \"mode\": \"immediate\", \"transition\": {\"duration\": 0, \"easing\": \"linear\"}}], \"label\": \"2019-06-01\", \"method\": \"animate\"}, {\"args\": [[\"2019-07-01\"], {\"frame\": {\"duration\": 0, \"redraw\": true}, \"fromcurrent\": true, \"mode\": \"immediate\", \"transition\": {\"duration\": 0, \"easing\": \"linear\"}}], \"label\": \"2019-07-01\", \"method\": \"animate\"}, {\"args\": [[\"2019-08-01\"], {\"frame\": {\"duration\": 0, \"redraw\": true}, \"fromcurrent\": true, \"mode\": \"immediate\", \"transition\": {\"duration\": 0, \"easing\": \"linear\"}}], \"label\": \"2019-08-01\", \"method\": \"animate\"}, {\"args\": [[\"2019-09-01\"], {\"frame\": {\"duration\": 0, \"redraw\": true}, \"fromcurrent\": true, \"mode\": \"immediate\", \"transition\": {\"duration\": 0, \"easing\": \"linear\"}}], \"label\": \"2019-09-01\", \"method\": \"animate\"}, {\"args\": [[\"2019-10-01\"], {\"frame\": {\"duration\": 0, \"redraw\": true}, \"fromcurrent\": true, \"mode\": \"immediate\", \"transition\": {\"duration\": 0, \"easing\": \"linear\"}}], \"label\": \"2019-10-01\", \"method\": \"animate\"}, {\"args\": [[\"2019-11-01\"], {\"frame\": {\"duration\": 0, \"redraw\": true}, \"fromcurrent\": true, \"mode\": \"immediate\", \"transition\": {\"duration\": 0, \"easing\": \"linear\"}}], \"label\": \"2019-11-01\", \"method\": \"animate\"}, {\"args\": [[\"2019-12-01\"], {\"frame\": {\"duration\": 0, \"redraw\": true}, \"fromcurrent\": true, \"mode\": \"immediate\", \"transition\": {\"duration\": 0, \"easing\": \"linear\"}}], \"label\": \"2019-12-01\", \"method\": \"animate\"}, {\"args\": [[\"2020-01-01\"], {\"frame\": {\"duration\": 0, \"redraw\": true}, \"fromcurrent\": true, \"mode\": \"immediate\", \"transition\": {\"duration\": 0, \"easing\": \"linear\"}}], \"label\": \"2020-01-01\", \"method\": \"animate\"}, {\"args\": [[\"2020-02-01\"], {\"frame\": {\"duration\": 0, \"redraw\": true}, \"fromcurrent\": true, \"mode\": \"immediate\", \"transition\": {\"duration\": 0, \"easing\": \"linear\"}}], \"label\": \"2020-02-01\", \"method\": \"animate\"}, {\"args\": [[\"2020-03-01\"], {\"frame\": {\"duration\": 0, \"redraw\": true}, \"fromcurrent\": true, \"mode\": \"immediate\", \"transition\": {\"duration\": 0, \"easing\": \"linear\"}}], \"label\": \"2020-03-01\", \"method\": \"animate\"}, {\"args\": [[\"2020-04-01\"], {\"frame\": {\"duration\": 0, \"redraw\": true}, \"fromcurrent\": true, \"mode\": \"immediate\", \"transition\": {\"duration\": 0, \"easing\": \"linear\"}}], \"label\": \"2020-04-01\", \"method\": \"animate\"}, {\"args\": [[\"2020-05-01\"], {\"frame\": {\"duration\": 0, \"redraw\": true}, \"fromcurrent\": true, \"mode\": \"immediate\", \"transition\": {\"duration\": 0, \"easing\": \"linear\"}}], \"label\": \"2020-05-01\", \"method\": \"animate\"}], \"x\": 0.1, \"xanchor\": \"left\", \"y\": 0, \"yanchor\": \"top\"}], \"template\": {\"data\": {\"bar\": [{\"error_x\": {\"color\": \"#2a3f5f\"}, \"error_y\": {\"color\": \"#2a3f5f\"}, \"marker\": {\"line\": {\"color\": \"#E5ECF6\", \"width\": 0.5}}, \"type\": \"bar\"}], \"barpolar\": [{\"marker\": {\"line\": {\"color\": \"#E5ECF6\", \"width\": 0.5}}, \"type\": \"barpolar\"}], \"carpet\": [{\"aaxis\": {\"endlinecolor\": \"#2a3f5f\", \"gridcolor\": \"white\", \"linecolor\": \"white\", \"minorgridcolor\": \"white\", \"startlinecolor\": \"#2a3f5f\"}, \"baxis\": {\"endlinecolor\": \"#2a3f5f\", \"gridcolor\": \"white\", \"linecolor\": \"white\", \"minorgridcolor\": \"white\", \"startlinecolor\": \"#2a3f5f\"}, \"type\": \"carpet\"}], \"choropleth\": [{\"colorbar\": {\"outlinewidth\": 0, \"ticks\": \"\"}, \"type\": \"choropleth\"}], \"contour\": [{\"colorbar\": {\"outlinewidth\": 0, \"ticks\": \"\"}, \"colorscale\": [[0.0, \"#0d0887\"], [0.1111111111111111, \"#46039f\"], [0.2222222222222222, \"#7201a8\"], [0.3333333333333333, \"#9c179e\"], [0.4444444444444444, \"#bd3786\"], [0.5555555555555556, \"#d8576b\"], [0.6666666666666666, \"#ed7953\"], [0.7777777777777778, \"#fb9f3a\"], [0.8888888888888888, \"#fdca26\"], [1.0, \"#f0f921\"]], \"type\": \"contour\"}], \"contourcarpet\": [{\"colorbar\": {\"outlinewidth\": 0, \"ticks\": \"\"}, \"type\": \"contourcarpet\"}], \"heatmap\": [{\"colorbar\": {\"outlinewidth\": 0, \"ticks\": \"\"}, \"colorscale\": [[0.0, \"#0d0887\"], [0.1111111111111111, \"#46039f\"], [0.2222222222222222, \"#7201a8\"], [0.3333333333333333, \"#9c179e\"], [0.4444444444444444, \"#bd3786\"], [0.5555555555555556, \"#d8576b\"], [0.6666666666666666, \"#ed7953\"], [0.7777777777777778, \"#fb9f3a\"], [0.8888888888888888, \"#fdca26\"], [1.0, \"#f0f921\"]], \"type\": \"heatmap\"}], \"heatmapgl\": [{\"colorbar\": {\"outlinewidth\": 0, \"ticks\": \"\"}, \"colorscale\": [[0.0, \"#0d0887\"], [0.1111111111111111, \"#46039f\"], [0.2222222222222222, \"#7201a8\"], [0.3333333333333333, \"#9c179e\"], [0.4444444444444444, \"#bd3786\"], [0.5555555555555556, \"#d8576b\"], [0.6666666666666666, \"#ed7953\"], [0.7777777777777778, \"#fb9f3a\"], [0.8888888888888888, \"#fdca26\"], [1.0, \"#f0f921\"]], \"type\": \"heatmapgl\"}], \"histogram\": [{\"marker\": {\"colorbar\": {\"outlinewidth\": 0, \"ticks\": \"\"}}, \"type\": \"histogram\"}], \"histogram2d\": [{\"colorbar\": {\"outlinewidth\": 0, \"ticks\": \"\"}, \"colorscale\": [[0.0, \"#0d0887\"], [0.1111111111111111, \"#46039f\"], [0.2222222222222222, \"#7201a8\"], [0.3333333333333333, \"#9c179e\"], [0.4444444444444444, \"#bd3786\"], [0.5555555555555556, \"#d8576b\"], [0.6666666666666666, \"#ed7953\"], [0.7777777777777778, \"#fb9f3a\"], [0.8888888888888888, \"#fdca26\"], [1.0, \"#f0f921\"]], \"type\": \"histogram2d\"}], \"histogram2dcontour\": [{\"colorbar\": {\"outlinewidth\": 0, \"ticks\": \"\"}, \"colorscale\": [[0.0, \"#0d0887\"], [0.1111111111111111, \"#46039f\"], [0.2222222222222222, \"#7201a8\"], [0.3333333333333333, \"#9c179e\"], [0.4444444444444444, \"#bd3786\"], [0.5555555555555556, \"#d8576b\"], [0.6666666666666666, \"#ed7953\"], [0.7777777777777778, \"#fb9f3a\"], [0.8888888888888888, \"#fdca26\"], [1.0, \"#f0f921\"]], \"type\": \"histogram2dcontour\"}], \"mesh3d\": [{\"colorbar\": {\"outlinewidth\": 0, \"ticks\": \"\"}, \"type\": \"mesh3d\"}], \"parcoords\": [{\"line\": {\"colorbar\": {\"outlinewidth\": 0, \"ticks\": \"\"}}, \"type\": \"parcoords\"}], \"pie\": [{\"automargin\": true, \"type\": \"pie\"}], \"scatter\": [{\"marker\": {\"colorbar\": {\"outlinewidth\": 0, \"ticks\": \"\"}}, \"type\": \"scatter\"}], \"scatter3d\": [{\"line\": {\"colorbar\": {\"outlinewidth\": 0, \"ticks\": \"\"}}, \"marker\": {\"colorbar\": {\"outlinewidth\": 0, \"ticks\": \"\"}}, \"type\": \"scatter3d\"}], \"scattercarpet\": [{\"marker\": {\"colorbar\": {\"outlinewidth\": 0, \"ticks\": \"\"}}, \"type\": \"scattercarpet\"}], \"scattergeo\": [{\"marker\": {\"colorbar\": {\"outlinewidth\": 0, \"ticks\": \"\"}}, \"type\": \"scattergeo\"}], \"scattergl\": [{\"marker\": {\"colorbar\": {\"outlinewidth\": 0, \"ticks\": \"\"}}, \"type\": \"scattergl\"}], \"scattermapbox\": [{\"marker\": {\"colorbar\": {\"outlinewidth\": 0, \"ticks\": \"\"}}, \"type\": \"scattermapbox\"}], \"scatterpolar\": [{\"marker\": {\"colorbar\": {\"outlinewidth\": 0, \"ticks\": \"\"}}, \"type\": \"scatterpolar\"}], \"scatterpolargl\": [{\"marker\": {\"colorbar\": {\"outlinewidth\": 0, \"ticks\": \"\"}}, \"type\": \"scatterpolargl\"}], \"scatterternary\": [{\"marker\": {\"colorbar\": {\"outlinewidth\": 0, \"ticks\": \"\"}}, \"type\": \"scatterternary\"}], \"surface\": [{\"colorbar\": {\"outlinewidth\": 0, \"ticks\": \"\"}, \"colorscale\": [[0.0, \"#0d0887\"], [0.1111111111111111, \"#46039f\"], [0.2222222222222222, \"#7201a8\"], [0.3333333333333333, \"#9c179e\"], [0.4444444444444444, \"#bd3786\"], [0.5555555555555556, \"#d8576b\"], [0.6666666666666666, \"#ed7953\"], [0.7777777777777778, \"#fb9f3a\"], [0.8888888888888888, \"#fdca26\"], [1.0, \"#f0f921\"]], \"type\": \"surface\"}], \"table\": [{\"cells\": {\"fill\": {\"color\": \"#EBF0F8\"}, \"line\": {\"color\": \"white\"}}, \"header\": {\"fill\": {\"color\": \"#C8D4E3\"}, \"line\": {\"color\": \"white\"}}, \"type\": \"table\"}]}, \"layout\": {\"annotationdefaults\": {\"arrowcolor\": \"#2a3f5f\", \"arrowhead\": 0, \"arrowwidth\": 1}, \"coloraxis\": {\"colorbar\": {\"outlinewidth\": 0, \"ticks\": \"\"}}, \"colorscale\": {\"diverging\": [[0, \"#8e0152\"], [0.1, \"#c51b7d\"], [0.2, \"#de77ae\"], [0.3, \"#f1b6da\"], [0.4, \"#fde0ef\"], [0.5, \"#f7f7f7\"], [0.6, \"#e6f5d0\"], [0.7, \"#b8e186\"], [0.8, \"#7fbc41\"], [0.9, \"#4d9221\"], [1, \"#276419\"]], \"sequential\": [[0.0, \"#0d0887\"], [0.1111111111111111, \"#46039f\"], [0.2222222222222222, \"#7201a8\"], [0.3333333333333333, \"#9c179e\"], [0.4444444444444444, \"#bd3786\"], [0.5555555555555556, \"#d8576b\"], [0.6666666666666666, \"#ed7953\"], [0.7777777777777778, \"#fb9f3a\"], [0.8888888888888888, \"#fdca26\"], [1.0, \"#f0f921\"]], \"sequentialminus\": [[0.0, \"#0d0887\"], [0.1111111111111111, \"#46039f\"], [0.2222222222222222, \"#7201a8\"], [0.3333333333333333, \"#9c179e\"], [0.4444444444444444, \"#bd3786\"], [0.5555555555555556, \"#d8576b\"], [0.6666666666666666, \"#ed7953\"], [0.7777777777777778, \"#fb9f3a\"], [0.8888888888888888, \"#fdca26\"], [1.0, \"#f0f921\"]]}, \"colorway\": [\"#636efa\", \"#EF553B\", \"#00cc96\", \"#ab63fa\", \"#FFA15A\", \"#19d3f3\", \"#FF6692\", \"#B6E880\", \"#FF97FF\", \"#FECB52\"], \"font\": {\"color\": \"#2a3f5f\"}, \"geo\": {\"bgcolor\": \"white\", \"lakecolor\": \"white\", \"landcolor\": \"#E5ECF6\", \"showlakes\": true, \"showland\": true, \"subunitcolor\": \"white\"}, \"hoverlabel\": {\"align\": \"left\"}, \"hovermode\": \"closest\", \"mapbox\": {\"style\": \"light\"}, \"paper_bgcolor\": \"white\", \"plot_bgcolor\": \"#E5ECF6\", \"polar\": {\"angularaxis\": {\"gridcolor\": \"white\", \"linecolor\": \"white\", \"ticks\": \"\"}, \"bgcolor\": \"#E5ECF6\", \"radialaxis\": {\"gridcolor\": \"white\", \"linecolor\": \"white\", \"ticks\": \"\"}}, \"scene\": {\"xaxis\": {\"backgroundcolor\": \"#E5ECF6\", \"gridcolor\": \"white\", \"gridwidth\": 2, \"linecolor\": \"white\", \"showbackground\": true, \"ticks\": \"\", \"zerolinecolor\": \"white\"}, \"yaxis\": {\"backgroundcolor\": \"#E5ECF6\", \"gridcolor\": \"white\", \"gridwidth\": 2, \"linecolor\": \"white\", \"showbackground\": true, \"ticks\": \"\", \"zerolinecolor\": \"white\"}, \"zaxis\": {\"backgroundcolor\": \"#E5ECF6\", \"gridcolor\": \"white\", \"gridwidth\": 2, \"linecolor\": \"white\", \"showbackground\": true, \"ticks\": \"\", \"zerolinecolor\": \"white\"}}, \"shapedefaults\": {\"line\": {\"color\": \"#2a3f5f\"}}, \"ternary\": {\"aaxis\": {\"gridcolor\": \"white\", \"linecolor\": \"white\", \"ticks\": \"\"}, \"baxis\": {\"gridcolor\": \"white\", \"linecolor\": \"white\", \"ticks\": \"\"}, \"bgcolor\": \"#E5ECF6\", \"caxis\": {\"gridcolor\": \"white\", \"linecolor\": \"white\", \"ticks\": \"\"}}, \"title\": {\"x\": 0.05}, \"xaxis\": {\"automargin\": true, \"gridcolor\": \"white\", \"linecolor\": \"white\", \"ticks\": \"\", \"title\": {\"standoff\": 15}, \"zerolinecolor\": \"white\", \"zerolinewidth\": 2}, \"yaxis\": {\"automargin\": true, \"gridcolor\": \"white\", \"linecolor\": \"white\", \"ticks\": \"\", \"title\": {\"standoff\": 15}, \"zerolinecolor\": \"white\", \"zerolinewidth\": 2}}}, \"title\": {\"text\": \"Over 20 Unemployment Rate in USA from2017-01-01 to May 2020\"}, \"updatemenus\": [{\"buttons\": [{\"args\": [null, {\"frame\": {\"duration\": 500, \"redraw\": true}, \"fromcurrent\": true, \"mode\": \"immediate\", \"transition\": {\"duration\": 500, \"easing\": \"linear\"}}], \"label\": \"&#9654;\", \"method\": \"animate\"}, {\"args\": [[null], {\"frame\": {\"duration\": 0, \"redraw\": true}, \"fromcurrent\": true, \"mode\": \"immediate\", \"transition\": {\"duration\": 0, \"easing\": \"linear\"}}], \"label\": \"&#9724;\", \"method\": \"animate\"}], \"direction\": \"left\", \"pad\": {\"r\": 10, \"t\": 70}, \"showactive\": false, \"type\": \"buttons\", \"x\": 0.1, \"xanchor\": \"right\", \"y\": 0, \"yanchor\": \"top\"}], \"xaxis\": {\"anchor\": \"y\", \"categoryarray\": [\"Average\", \"White men\", \"White women\", \"Black men\", \"Black women\", \"Hispanic men\", \"Hispanic women\"], \"categoryorder\": \"array\", \"domain\": [0.0, 1.0], \"title\": {\"text\": \"category\"}}, \"yaxis\": {\"anchor\": \"x\", \"domain\": [0.0, 1.0], \"range\": [0, 20], \"title\": {\"text\": \"rate\"}}},\n",
       "                        {\"responsive\": true}\n",
       "                    ).then(function(){\n",
       "                            Plotly.addFrames('c5e21e7f-617c-4408-a7a1-88ceac6632ee', [{\"data\": [{\"alignmentgroup\": \"True\", \"hovertemplate\": \"category=%{x}<br>date=2017-01-01<br>rate=%{y}<extra></extra>\", \"ids\": [\"Average\"], \"legendgroup\": \"Average\", \"marker\": {\"color\": \"#636efa\"}, \"name\": \"Average\", \"offsetgroup\": \"Average\", \"orientation\": \"v\", \"showlegend\": true, \"textposition\": \"auto\", \"x\": [\"Average\"], \"xaxis\": \"x\", \"y\": [4.3], \"yaxis\": \"y\", \"type\": \"bar\"}, {\"alignmentgroup\": \"True\", \"hovertemplate\": \"category=%{x}<br>date=2017-01-01<br>rate=%{y}<extra></extra>\", \"ids\": [\"White men\"], \"legendgroup\": \"White men\", \"marker\": {\"color\": \"#EF553B\"}, \"name\": \"White men\", \"offsetgroup\": \"White men\", \"orientation\": \"v\", \"showlegend\": true, \"textposition\": \"auto\", \"x\": [\"White men\"], \"xaxis\": \"x\", \"y\": [3.9], \"yaxis\": \"y\", \"type\": \"bar\"}, {\"alignmentgroup\": \"True\", \"hovertemplate\": \"category=%{x}<br>date=2017-01-01<br>rate=%{y}<extra></extra>\", \"ids\": [\"White women\"], \"legendgroup\": \"White women\", \"marker\": {\"color\": \"#00cc96\"}, \"name\": \"White women\", \"offsetgroup\": \"White women\", \"orientation\": \"v\", \"showlegend\": true, \"textposition\": \"auto\", \"x\": [\"White women\"], \"xaxis\": \"x\", \"y\": [3.9], \"yaxis\": \"y\", \"type\": \"bar\"}, {\"alignmentgroup\": \"True\", \"hovertemplate\": \"category=%{x}<br>date=2017-01-01<br>rate=%{y}<extra></extra>\", \"ids\": [\"Black men\"], \"legendgroup\": \"Black men\", \"marker\": {\"color\": \"#ab63fa\"}, \"name\": \"Black men\", \"offsetgroup\": \"Black men\", \"orientation\": \"v\", \"showlegend\": true, \"textposition\": \"auto\", \"x\": [\"Black men\"], \"xaxis\": \"x\", \"y\": [7.2], \"yaxis\": \"y\", \"type\": \"bar\"}, {\"alignmentgroup\": \"True\", \"hovertemplate\": \"category=%{x}<br>date=2017-01-01<br>rate=%{y}<extra></extra>\", \"ids\": [\"Black women\"], \"legendgroup\": \"Black women\", \"marker\": {\"color\": \"#FFA15A\"}, \"name\": \"Black women\", \"offsetgroup\": \"Black women\", \"orientation\": \"v\", \"showlegend\": true, \"textposition\": \"auto\", \"x\": [\"Black women\"], \"xaxis\": \"x\", \"y\": [6.4], \"yaxis\": \"y\", \"type\": \"bar\"}, {\"alignmentgroup\": \"True\", \"hovertemplate\": \"category=%{x}<br>date=2017-01-01<br>rate=%{y}<extra></extra>\", \"ids\": [\"Hispanic men\"], \"legendgroup\": \"Hispanic men\", \"marker\": {\"color\": \"#19d3f3\"}, \"name\": \"Hispanic men\", \"offsetgroup\": \"Hispanic men\", \"orientation\": \"v\", \"showlegend\": true, \"textposition\": \"auto\", \"x\": [\"Hispanic men\"], \"xaxis\": \"x\", \"y\": [5.9], \"yaxis\": \"y\", \"type\": \"bar\"}, {\"alignmentgroup\": \"True\", \"hovertemplate\": \"category=%{x}<br>date=2017-01-01<br>rate=%{y}<extra></extra>\", \"ids\": [\"Hispanic women\"], \"legendgroup\": \"Hispanic women\", \"marker\": {\"color\": \"#FF6692\"}, \"name\": \"Hispanic women\", \"offsetgroup\": \"Hispanic women\", \"orientation\": \"v\", \"showlegend\": true, \"textposition\": \"auto\", \"x\": [\"Hispanic women\"], \"xaxis\": \"x\", \"y\": [6.6], \"yaxis\": \"y\", \"type\": \"bar\"}], \"name\": \"2017-01-01\"}, {\"data\": [{\"alignmentgroup\": \"True\", \"hovertemplate\": \"category=%{x}<br>date=2017-02-01<br>rate=%{y}<extra></extra>\", \"ids\": [\"Average\"], \"legendgroup\": \"Average\", \"marker\": {\"color\": \"#636efa\"}, \"name\": \"Average\", \"offsetgroup\": \"Average\", \"orientation\": \"v\", \"showlegend\": true, \"textposition\": \"auto\", \"x\": [\"Average\"], \"xaxis\": \"x\", \"y\": [4.3], \"yaxis\": \"y\", \"type\": \"bar\"}, {\"alignmentgroup\": \"True\", \"hovertemplate\": \"category=%{x}<br>date=2017-02-01<br>rate=%{y}<extra></extra>\", \"ids\": [\"White men\"], \"legendgroup\": \"White men\", \"marker\": {\"color\": \"#EF553B\"}, \"name\": \"White men\", \"offsetgroup\": \"White men\", \"orientation\": \"v\", \"showlegend\": true, \"textposition\": \"auto\", \"x\": [\"White men\"], \"xaxis\": \"x\", \"y\": [3.7], \"yaxis\": \"y\", \"type\": \"bar\"}, {\"alignmentgroup\": \"True\", \"hovertemplate\": \"category=%{x}<br>date=2017-02-01<br>rate=%{y}<extra></extra>\", \"ids\": [\"White women\"], \"legendgroup\": \"White women\", \"marker\": {\"color\": \"#00cc96\"}, \"name\": \"White women\", \"offsetgroup\": \"White women\", \"orientation\": \"v\", \"showlegend\": true, \"textposition\": \"auto\", \"x\": [\"White women\"], \"xaxis\": \"x\", \"y\": [3.7], \"yaxis\": \"y\", \"type\": \"bar\"}, {\"alignmentgroup\": \"True\", \"hovertemplate\": \"category=%{x}<br>date=2017-02-01<br>rate=%{y}<extra></extra>\", \"ids\": [\"Black men\"], \"legendgroup\": \"Black men\", \"marker\": {\"color\": \"#ab63fa\"}, \"name\": \"Black men\", \"offsetgroup\": \"Black men\", \"orientation\": \"v\", \"showlegend\": true, \"textposition\": \"auto\", \"x\": [\"Black men\"], \"xaxis\": \"x\", \"y\": [7.7], \"yaxis\": \"y\", \"type\": \"bar\"}, {\"alignmentgroup\": \"True\", \"hovertemplate\": \"category=%{x}<br>date=2017-02-01<br>rate=%{y}<extra></extra>\", \"ids\": [\"Black women\"], \"legendgroup\": \"Black women\", \"marker\": {\"color\": \"#FFA15A\"}, \"name\": \"Black women\", \"offsetgroup\": \"Black women\", \"orientation\": \"v\", \"showlegend\": true, \"textposition\": \"auto\", \"x\": [\"Black women\"], \"xaxis\": \"x\", \"y\": [6.9], \"yaxis\": \"y\", \"type\": \"bar\"}, {\"alignmentgroup\": \"True\", \"hovertemplate\": \"category=%{x}<br>date=2017-02-01<br>rate=%{y}<extra></extra>\", \"ids\": [\"Hispanic men\"], \"legendgroup\": \"Hispanic men\", \"marker\": {\"color\": \"#19d3f3\"}, \"name\": \"Hispanic men\", \"offsetgroup\": \"Hispanic men\", \"orientation\": \"v\", \"showlegend\": true, \"textposition\": \"auto\", \"x\": [\"Hispanic men\"], \"xaxis\": \"x\", \"y\": [5.4], \"yaxis\": \"y\", \"type\": \"bar\"}, {\"alignmentgroup\": \"True\", \"hovertemplate\": \"category=%{x}<br>date=2017-02-01<br>rate=%{y}<extra></extra>\", \"ids\": [\"Hispanic women\"], \"legendgroup\": \"Hispanic women\", \"marker\": {\"color\": \"#FF6692\"}, \"name\": \"Hispanic women\", \"offsetgroup\": \"Hispanic women\", \"orientation\": \"v\", \"showlegend\": true, \"textposition\": \"auto\", \"x\": [\"Hispanic women\"], \"xaxis\": \"x\", \"y\": [5.7], \"yaxis\": \"y\", \"type\": \"bar\"}], \"name\": \"2017-02-01\"}, {\"data\": [{\"alignmentgroup\": \"True\", \"hovertemplate\": \"category=%{x}<br>date=2017-03-01<br>rate=%{y}<extra></extra>\", \"ids\": [\"Average\"], \"legendgroup\": \"Average\", \"marker\": {\"color\": \"#636efa\"}, \"name\": \"Average\", \"offsetgroup\": \"Average\", \"orientation\": \"v\", \"showlegend\": true, \"textposition\": \"auto\", \"x\": [\"Average\"], \"xaxis\": \"x\", \"y\": [4.1], \"yaxis\": \"y\", \"type\": \"bar\"}, {\"alignmentgroup\": \"True\", \"hovertemplate\": \"category=%{x}<br>date=2017-03-01<br>rate=%{y}<extra></extra>\", \"ids\": [\"White men\"], \"legendgroup\": \"White men\", \"marker\": {\"color\": \"#EF553B\"}, \"name\": \"White men\", \"offsetgroup\": \"White men\", \"orientation\": \"v\", \"showlegend\": true, \"textposition\": \"auto\", \"x\": [\"White men\"], \"xaxis\": \"x\", \"y\": [3.6], \"yaxis\": \"y\", \"type\": \"bar\"}, {\"alignmentgroup\": \"True\", \"hovertemplate\": \"category=%{x}<br>date=2017-03-01<br>rate=%{y}<extra></extra>\", \"ids\": [\"White women\"], \"legendgroup\": \"White women\", \"marker\": {\"color\": \"#00cc96\"}, \"name\": \"White women\", \"offsetgroup\": \"White women\", \"orientation\": \"v\", \"showlegend\": true, \"textposition\": \"auto\", \"x\": [\"White women\"], \"xaxis\": \"x\", \"y\": [3.6], \"yaxis\": \"y\", \"type\": \"bar\"}, {\"alignmentgroup\": \"True\", \"hovertemplate\": \"category=%{x}<br>date=2017-03-01<br>rate=%{y}<extra></extra>\", \"ids\": [\"Black men\"], \"legendgroup\": \"Black men\", \"marker\": {\"color\": \"#ab63fa\"}, \"name\": \"Black men\", \"offsetgroup\": \"Black men\", \"orientation\": \"v\", \"showlegend\": true, \"textposition\": \"auto\", \"x\": [\"Black men\"], \"xaxis\": \"x\", \"y\": [8.3], \"yaxis\": \"y\", \"type\": \"bar\"}, {\"alignmentgroup\": \"True\", \"hovertemplate\": \"category=%{x}<br>date=2017-03-01<br>rate=%{y}<extra></extra>\", \"ids\": [\"Black women\"], \"legendgroup\": \"Black women\", \"marker\": {\"color\": \"#FFA15A\"}, \"name\": \"Black women\", \"offsetgroup\": \"Black women\", \"orientation\": \"v\", \"showlegend\": true, \"textposition\": \"auto\", \"x\": [\"Black women\"], \"xaxis\": \"x\", \"y\": [6.4], \"yaxis\": \"y\", \"type\": \"bar\"}, {\"alignmentgroup\": \"True\", \"hovertemplate\": \"category=%{x}<br>date=2017-03-01<br>rate=%{y}<extra></extra>\", \"ids\": [\"Hispanic men\"], \"legendgroup\": \"Hispanic men\", \"marker\": {\"color\": \"#19d3f3\"}, \"name\": \"Hispanic men\", \"offsetgroup\": \"Hispanic men\", \"orientation\": \"v\", \"showlegend\": true, \"textposition\": \"auto\", \"x\": [\"Hispanic men\"], \"xaxis\": \"x\", \"y\": [4.8], \"yaxis\": \"y\", \"type\": \"bar\"}, {\"alignmentgroup\": \"True\", \"hovertemplate\": \"category=%{x}<br>date=2017-03-01<br>rate=%{y}<extra></extra>\", \"ids\": [\"Hispanic women\"], \"legendgroup\": \"Hispanic women\", \"marker\": {\"color\": \"#FF6692\"}, \"name\": \"Hispanic women\", \"offsetgroup\": \"Hispanic women\", \"orientation\": \"v\", \"showlegend\": true, \"textposition\": \"auto\", \"x\": [\"Hispanic women\"], \"xaxis\": \"x\", \"y\": [4.8], \"yaxis\": \"y\", \"type\": \"bar\"}], \"name\": \"2017-03-01\"}, {\"data\": [{\"alignmentgroup\": \"True\", \"hovertemplate\": \"category=%{x}<br>date=2017-04-01<br>rate=%{y}<extra></extra>\", \"ids\": [\"Average\"], \"legendgroup\": \"Average\", \"marker\": {\"color\": \"#636efa\"}, \"name\": \"Average\", \"offsetgroup\": \"Average\", \"orientation\": \"v\", \"showlegend\": true, \"textposition\": \"auto\", \"x\": [\"Average\"], \"xaxis\": \"x\", \"y\": [4.0], \"yaxis\": \"y\", \"type\": \"bar\"}, {\"alignmentgroup\": \"True\", \"hovertemplate\": \"category=%{x}<br>date=2017-04-01<br>rate=%{y}<extra></extra>\", \"ids\": [\"White men\"], \"legendgroup\": \"White men\", \"marker\": {\"color\": \"#EF553B\"}, \"name\": \"White men\", \"offsetgroup\": \"White men\", \"orientation\": \"v\", \"showlegend\": true, \"textposition\": \"auto\", \"x\": [\"White men\"], \"xaxis\": \"x\", \"y\": [3.4], \"yaxis\": \"y\", \"type\": \"bar\"}, {\"alignmentgroup\": \"True\", \"hovertemplate\": \"category=%{x}<br>date=2017-04-01<br>rate=%{y}<extra></extra>\", \"ids\": [\"White women\"], \"legendgroup\": \"White women\", \"marker\": {\"color\": \"#00cc96\"}, \"name\": \"White women\", \"offsetgroup\": \"White women\", \"orientation\": \"v\", \"showlegend\": true, \"textposition\": \"auto\", \"x\": [\"White women\"], \"xaxis\": \"x\", \"y\": [3.6], \"yaxis\": \"y\", \"type\": \"bar\"}, {\"alignmentgroup\": \"True\", \"hovertemplate\": \"category=%{x}<br>date=2017-04-01<br>rate=%{y}<extra></extra>\", \"ids\": [\"Black men\"], \"legendgroup\": \"Black men\", \"marker\": {\"color\": \"#ab63fa\"}, \"name\": \"Black men\", \"offsetgroup\": \"Black men\", \"orientation\": \"v\", \"showlegend\": true, \"textposition\": \"auto\", \"x\": [\"Black men\"], \"xaxis\": \"x\", \"y\": [7.1], \"yaxis\": \"y\", \"type\": \"bar\"}, {\"alignmentgroup\": \"True\", \"hovertemplate\": \"category=%{x}<br>date=2017-04-01<br>rate=%{y}<extra></extra>\", \"ids\": [\"Black women\"], \"legendgroup\": \"Black women\", \"marker\": {\"color\": \"#FFA15A\"}, \"name\": \"Black women\", \"offsetgroup\": \"Black women\", \"orientation\": \"v\", \"showlegend\": true, \"textposition\": \"auto\", \"x\": [\"Black women\"], \"xaxis\": \"x\", \"y\": [7.1], \"yaxis\": \"y\", \"type\": \"bar\"}, {\"alignmentgroup\": \"True\", \"hovertemplate\": \"category=%{x}<br>date=2017-04-01<br>rate=%{y}<extra></extra>\", \"ids\": [\"Hispanic men\"], \"legendgroup\": \"Hispanic men\", \"marker\": {\"color\": \"#19d3f3\"}, \"name\": \"Hispanic men\", \"offsetgroup\": \"Hispanic men\", \"orientation\": \"v\", \"showlegend\": true, \"textposition\": \"auto\", \"x\": [\"Hispanic men\"], \"xaxis\": \"x\", \"y\": [3.8], \"yaxis\": \"y\", \"type\": \"bar\"}, {\"alignmentgroup\": \"True\", \"hovertemplate\": \"category=%{x}<br>date=2017-04-01<br>rate=%{y}<extra></extra>\", \"ids\": [\"Hispanic women\"], \"legendgroup\": \"Hispanic women\", \"marker\": {\"color\": \"#FF6692\"}, \"name\": \"Hispanic women\", \"offsetgroup\": \"Hispanic women\", \"orientation\": \"v\", \"showlegend\": true, \"textposition\": \"auto\", \"x\": [\"Hispanic women\"], \"xaxis\": \"x\", \"y\": [5.1], \"yaxis\": \"y\", \"type\": \"bar\"}], \"name\": \"2017-04-01\"}, {\"data\": [{\"alignmentgroup\": \"True\", \"hovertemplate\": \"category=%{x}<br>date=2017-05-01<br>rate=%{y}<extra></extra>\", \"ids\": [\"Average\"], \"legendgroup\": \"Average\", \"marker\": {\"color\": \"#636efa\"}, \"name\": \"Average\", \"offsetgroup\": \"Average\", \"orientation\": \"v\", \"showlegend\": true, \"textposition\": \"auto\", \"x\": [\"Average\"], \"xaxis\": \"x\", \"y\": [4.0], \"yaxis\": \"y\", \"type\": \"bar\"}, {\"alignmentgroup\": \"True\", \"hovertemplate\": \"category=%{x}<br>date=2017-05-01<br>rate=%{y}<extra></extra>\", \"ids\": [\"White men\"], \"legendgroup\": \"White men\", \"marker\": {\"color\": \"#EF553B\"}, \"name\": \"White men\", \"offsetgroup\": \"White men\", \"orientation\": \"v\", \"showlegend\": true, \"textposition\": \"auto\", \"x\": [\"White men\"], \"xaxis\": \"x\", \"y\": [3.5], \"yaxis\": \"y\", \"type\": \"bar\"}, {\"alignmentgroup\": \"True\", \"hovertemplate\": \"category=%{x}<br>date=2017-05-01<br>rate=%{y}<extra></extra>\", \"ids\": [\"White women\"], \"legendgroup\": \"White women\", \"marker\": {\"color\": \"#00cc96\"}, \"name\": \"White women\", \"offsetgroup\": \"White women\", \"orientation\": \"v\", \"showlegend\": true, \"textposition\": \"auto\", \"x\": [\"White women\"], \"xaxis\": \"x\", \"y\": [3.5], \"yaxis\": \"y\", \"type\": \"bar\"}, {\"alignmentgroup\": \"True\", \"hovertemplate\": \"category=%{x}<br>date=2017-05-01<br>rate=%{y}<extra></extra>\", \"ids\": [\"Black men\"], \"legendgroup\": \"Black men\", \"marker\": {\"color\": \"#ab63fa\"}, \"name\": \"Black men\", \"offsetgroup\": \"Black men\", \"orientation\": \"v\", \"showlegend\": true, \"textposition\": \"auto\", \"x\": [\"Black men\"], \"xaxis\": \"x\", \"y\": [6.8], \"yaxis\": \"y\", \"type\": \"bar\"}, {\"alignmentgroup\": \"True\", \"hovertemplate\": \"category=%{x}<br>date=2017-05-01<br>rate=%{y}<extra></extra>\", \"ids\": [\"Black women\"], \"legendgroup\": \"Black women\", \"marker\": {\"color\": \"#FFA15A\"}, \"name\": \"Black women\", \"offsetgroup\": \"Black women\", \"orientation\": \"v\", \"showlegend\": true, \"textposition\": \"auto\", \"x\": [\"Black women\"], \"xaxis\": \"x\", \"y\": [7.0], \"yaxis\": \"y\", \"type\": \"bar\"}, {\"alignmentgroup\": \"True\", \"hovertemplate\": \"category=%{x}<br>date=2017-05-01<br>rate=%{y}<extra></extra>\", \"ids\": [\"Hispanic men\"], \"legendgroup\": \"Hispanic men\", \"marker\": {\"color\": \"#19d3f3\"}, \"name\": \"Hispanic men\", \"offsetgroup\": \"Hispanic men\", \"orientation\": \"v\", \"showlegend\": true, \"textposition\": \"auto\", \"x\": [\"Hispanic men\"], \"xaxis\": \"x\", \"y\": [3.9], \"yaxis\": \"y\", \"type\": \"bar\"}, {\"alignmentgroup\": \"True\", \"hovertemplate\": \"category=%{x}<br>date=2017-05-01<br>rate=%{y}<extra></extra>\", \"ids\": [\"Hispanic women\"], \"legendgroup\": \"Hispanic women\", \"marker\": {\"color\": \"#FF6692\"}, \"name\": \"Hispanic women\", \"offsetgroup\": \"Hispanic women\", \"orientation\": \"v\", \"showlegend\": true, \"textposition\": \"auto\", \"x\": [\"Hispanic women\"], \"xaxis\": \"x\", \"y\": [5.0], \"yaxis\": \"y\", \"type\": \"bar\"}], \"name\": \"2017-05-01\"}, {\"data\": [{\"alignmentgroup\": \"True\", \"hovertemplate\": \"category=%{x}<br>date=2017-06-01<br>rate=%{y}<extra></extra>\", \"ids\": [\"Average\"], \"legendgroup\": \"Average\", \"marker\": {\"color\": \"#636efa\"}, \"name\": \"Average\", \"offsetgroup\": \"Average\", \"orientation\": \"v\", \"showlegend\": true, \"textposition\": \"auto\", \"x\": [\"Average\"], \"xaxis\": \"x\", \"y\": [4.0], \"yaxis\": \"y\", \"type\": \"bar\"}, {\"alignmentgroup\": \"True\", \"hovertemplate\": \"category=%{x}<br>date=2017-06-01<br>rate=%{y}<extra></extra>\", \"ids\": [\"White men\"], \"legendgroup\": \"White men\", \"marker\": {\"color\": \"#EF553B\"}, \"name\": \"White men\", \"offsetgroup\": \"White men\", \"orientation\": \"v\", \"showlegend\": true, \"textposition\": \"auto\", \"x\": [\"White men\"], \"xaxis\": \"x\", \"y\": [3.5], \"yaxis\": \"y\", \"type\": \"bar\"}, {\"alignmentgroup\": \"True\", \"hovertemplate\": \"category=%{x}<br>date=2017-06-01<br>rate=%{y}<extra></extra>\", \"ids\": [\"White women\"], \"legendgroup\": \"White women\", \"marker\": {\"color\": \"#00cc96\"}, \"name\": \"White women\", \"offsetgroup\": \"White women\", \"orientation\": \"v\", \"showlegend\": true, \"textposition\": \"auto\", \"x\": [\"White women\"], \"xaxis\": \"x\", \"y\": [3.4], \"yaxis\": \"y\", \"type\": \"bar\"}, {\"alignmentgroup\": \"True\", \"hovertemplate\": \"category=%{x}<br>date=2017-06-01<br>rate=%{y}<extra></extra>\", \"ids\": [\"Black men\"], \"legendgroup\": \"Black men\", \"marker\": {\"color\": \"#ab63fa\"}, \"name\": \"Black men\", \"offsetgroup\": \"Black men\", \"orientation\": \"v\", \"showlegend\": true, \"textposition\": \"auto\", \"x\": [\"Black men\"], \"xaxis\": \"x\", \"y\": [6.3], \"yaxis\": \"y\", \"type\": \"bar\"}, {\"alignmentgroup\": \"True\", \"hovertemplate\": \"category=%{x}<br>date=2017-06-01<br>rate=%{y}<extra></extra>\", \"ids\": [\"Black women\"], \"legendgroup\": \"Black women\", \"marker\": {\"color\": \"#FFA15A\"}, \"name\": \"Black women\", \"offsetgroup\": \"Black women\", \"orientation\": \"v\", \"showlegend\": true, \"textposition\": \"auto\", \"x\": [\"Black women\"], \"xaxis\": \"x\", \"y\": [6.8], \"yaxis\": \"y\", \"type\": \"bar\"}, {\"alignmentgroup\": \"True\", \"hovertemplate\": \"category=%{x}<br>date=2017-06-01<br>rate=%{y}<extra></extra>\", \"ids\": [\"Hispanic men\"], \"legendgroup\": \"Hispanic men\", \"marker\": {\"color\": \"#19d3f3\"}, \"name\": \"Hispanic men\", \"offsetgroup\": \"Hispanic men\", \"orientation\": \"v\", \"showlegend\": true, \"textposition\": \"auto\", \"x\": [\"Hispanic men\"], \"xaxis\": \"x\", \"y\": [3.5], \"yaxis\": \"y\", \"type\": \"bar\"}, {\"alignmentgroup\": \"True\", \"hovertemplate\": \"category=%{x}<br>date=2017-06-01<br>rate=%{y}<extra></extra>\", \"ids\": [\"Hispanic women\"], \"legendgroup\": \"Hispanic women\", \"marker\": {\"color\": \"#FF6692\"}, \"name\": \"Hispanic women\", \"offsetgroup\": \"Hispanic women\", \"orientation\": \"v\", \"showlegend\": true, \"textposition\": \"auto\", \"x\": [\"Hispanic women\"], \"xaxis\": \"x\", \"y\": [5.3], \"yaxis\": \"y\", \"type\": \"bar\"}], \"name\": \"2017-06-01\"}, {\"data\": [{\"alignmentgroup\": \"True\", \"hovertemplate\": \"category=%{x}<br>date=2017-07-01<br>rate=%{y}<extra></extra>\", \"ids\": [\"Average\"], \"legendgroup\": \"Average\", \"marker\": {\"color\": \"#636efa\"}, \"name\": \"Average\", \"offsetgroup\": \"Average\", \"orientation\": \"v\", \"showlegend\": true, \"textposition\": \"auto\", \"x\": [\"Average\"], \"xaxis\": \"x\", \"y\": [3.9], \"yaxis\": \"y\", \"type\": \"bar\"}, {\"alignmentgroup\": \"True\", \"hovertemplate\": \"category=%{x}<br>date=2017-07-01<br>rate=%{y}<extra></extra>\", \"ids\": [\"White men\"], \"legendgroup\": \"White men\", \"marker\": {\"color\": \"#EF553B\"}, \"name\": \"White men\", \"offsetgroup\": \"White men\", \"orientation\": \"v\", \"showlegend\": true, \"textposition\": \"auto\", \"x\": [\"White men\"], \"xaxis\": \"x\", \"y\": [3.4], \"yaxis\": \"y\", \"type\": \"bar\"}, {\"alignmentgroup\": \"True\", \"hovertemplate\": \"category=%{x}<br>date=2017-07-01<br>rate=%{y}<extra></extra>\", \"ids\": [\"White women\"], \"legendgroup\": \"White women\", \"marker\": {\"color\": \"#00cc96\"}, \"name\": \"White women\", \"offsetgroup\": \"White women\", \"orientation\": \"v\", \"showlegend\": true, \"textposition\": \"auto\", \"x\": [\"White women\"], \"xaxis\": \"x\", \"y\": [3.4], \"yaxis\": \"y\", \"type\": \"bar\"}, {\"alignmentgroup\": \"True\", \"hovertemplate\": \"category=%{x}<br>date=2017-07-01<br>rate=%{y}<extra></extra>\", \"ids\": [\"Black men\"], \"legendgroup\": \"Black men\", \"marker\": {\"color\": \"#ab63fa\"}, \"name\": \"Black men\", \"offsetgroup\": \"Black men\", \"orientation\": \"v\", \"showlegend\": true, \"textposition\": \"auto\", \"x\": [\"Black men\"], \"xaxis\": \"x\", \"y\": [7.2], \"yaxis\": \"y\", \"type\": \"bar\"}, {\"alignmentgroup\": \"True\", \"hovertemplate\": \"category=%{x}<br>date=2017-07-01<br>rate=%{y}<extra></extra>\", \"ids\": [\"Black women\"], \"legendgroup\": \"Black women\", \"marker\": {\"color\": \"#FFA15A\"}, \"name\": \"Black women\", \"offsetgroup\": \"Black women\", \"orientation\": \"v\", \"showlegend\": true, \"textposition\": \"auto\", \"x\": [\"Black women\"], \"xaxis\": \"x\", \"y\": [6.4], \"yaxis\": \"y\", \"type\": \"bar\"}, {\"alignmentgroup\": \"True\", \"hovertemplate\": \"category=%{x}<br>date=2017-07-01<br>rate=%{y}<extra></extra>\", \"ids\": [\"Hispanic men\"], \"legendgroup\": \"Hispanic men\", \"marker\": {\"color\": \"#19d3f3\"}, \"name\": \"Hispanic men\", \"offsetgroup\": \"Hispanic men\", \"orientation\": \"v\", \"showlegend\": true, \"textposition\": \"auto\", \"x\": [\"Hispanic men\"], \"xaxis\": \"x\", \"y\": [4.0], \"yaxis\": \"y\", \"type\": \"bar\"}, {\"alignmentgroup\": \"True\", \"hovertemplate\": \"category=%{x}<br>date=2017-07-01<br>rate=%{y}<extra></extra>\", \"ids\": [\"Hispanic women\"], \"legendgroup\": \"Hispanic women\", \"marker\": {\"color\": \"#FF6692\"}, \"name\": \"Hispanic women\", \"offsetgroup\": \"Hispanic women\", \"orientation\": \"v\", \"showlegend\": true, \"textposition\": \"auto\", \"x\": [\"Hispanic women\"], \"xaxis\": \"x\", \"y\": [5.7], \"yaxis\": \"y\", \"type\": \"bar\"}], \"name\": \"2017-07-01\"}, {\"data\": [{\"alignmentgroup\": \"True\", \"hovertemplate\": \"category=%{x}<br>date=2017-08-01<br>rate=%{y}<extra></extra>\", \"ids\": [\"Average\"], \"legendgroup\": \"Average\", \"marker\": {\"color\": \"#636efa\"}, \"name\": \"Average\", \"offsetgroup\": \"Average\", \"orientation\": \"v\", \"showlegend\": true, \"textposition\": \"auto\", \"x\": [\"Average\"], \"xaxis\": \"x\", \"y\": [4.1], \"yaxis\": \"y\", \"type\": \"bar\"}, {\"alignmentgroup\": \"True\", \"hovertemplate\": \"category=%{x}<br>date=2017-08-01<br>rate=%{y}<extra></extra>\", \"ids\": [\"White men\"], \"legendgroup\": \"White men\", \"marker\": {\"color\": \"#EF553B\"}, \"name\": \"White men\", \"offsetgroup\": \"White men\", \"orientation\": \"v\", \"showlegend\": true, \"textposition\": \"auto\", \"x\": [\"White men\"], \"xaxis\": \"x\", \"y\": [3.5], \"yaxis\": \"y\", \"type\": \"bar\"}, {\"alignmentgroup\": \"True\", \"hovertemplate\": \"category=%{x}<br>date=2017-08-01<br>rate=%{y}<extra></extra>\", \"ids\": [\"White women\"], \"legendgroup\": \"White women\", \"marker\": {\"color\": \"#00cc96\"}, \"name\": \"White women\", \"offsetgroup\": \"White women\", \"orientation\": \"v\", \"showlegend\": true, \"textposition\": \"auto\", \"x\": [\"White women\"], \"xaxis\": \"x\", \"y\": [3.5], \"yaxis\": \"y\", \"type\": \"bar\"}, {\"alignmentgroup\": \"True\", \"hovertemplate\": \"category=%{x}<br>date=2017-08-01<br>rate=%{y}<extra></extra>\", \"ids\": [\"Black men\"], \"legendgroup\": \"Black men\", \"marker\": {\"color\": \"#ab63fa\"}, \"name\": \"Black men\", \"offsetgroup\": \"Black men\", \"orientation\": \"v\", \"showlegend\": true, \"textposition\": \"auto\", \"x\": [\"Black men\"], \"xaxis\": \"x\", \"y\": [7.7], \"yaxis\": \"y\", \"type\": \"bar\"}, {\"alignmentgroup\": \"True\", \"hovertemplate\": \"category=%{x}<br>date=2017-08-01<br>rate=%{y}<extra></extra>\", \"ids\": [\"Black women\"], \"legendgroup\": \"Black women\", \"marker\": {\"color\": \"#FFA15A\"}, \"name\": \"Black women\", \"offsetgroup\": \"Black women\", \"orientation\": \"v\", \"showlegend\": true, \"textposition\": \"auto\", \"x\": [\"Black women\"], \"xaxis\": \"x\", \"y\": [6.4], \"yaxis\": \"y\", \"type\": \"bar\"}, {\"alignmentgroup\": \"True\", \"hovertemplate\": \"category=%{x}<br>date=2017-08-01<br>rate=%{y}<extra></extra>\", \"ids\": [\"Hispanic men\"], \"legendgroup\": \"Hispanic men\", \"marker\": {\"color\": \"#19d3f3\"}, \"name\": \"Hispanic men\", \"offsetgroup\": \"Hispanic men\", \"orientation\": \"v\", \"showlegend\": true, \"textposition\": \"auto\", \"x\": [\"Hispanic men\"], \"xaxis\": \"x\", \"y\": [4.5], \"yaxis\": \"y\", \"type\": \"bar\"}, {\"alignmentgroup\": \"True\", \"hovertemplate\": \"category=%{x}<br>date=2017-08-01<br>rate=%{y}<extra></extra>\", \"ids\": [\"Hispanic women\"], \"legendgroup\": \"Hispanic women\", \"marker\": {\"color\": \"#FF6692\"}, \"name\": \"Hispanic women\", \"offsetgroup\": \"Hispanic women\", \"orientation\": \"v\", \"showlegend\": true, \"textposition\": \"auto\", \"x\": [\"Hispanic women\"], \"xaxis\": \"x\", \"y\": [5.0], \"yaxis\": \"y\", \"type\": \"bar\"}], \"name\": \"2017-08-01\"}, {\"data\": [{\"alignmentgroup\": \"True\", \"hovertemplate\": \"category=%{x}<br>date=2017-09-01<br>rate=%{y}<extra></extra>\", \"ids\": [\"Average\"], \"legendgroup\": \"Average\", \"marker\": {\"color\": \"#636efa\"}, \"name\": \"Average\", \"offsetgroup\": \"Average\", \"orientation\": \"v\", \"showlegend\": true, \"textposition\": \"auto\", \"x\": [\"Average\"], \"xaxis\": \"x\", \"y\": [3.9], \"yaxis\": \"y\", \"type\": \"bar\"}, {\"alignmentgroup\": \"True\", \"hovertemplate\": \"category=%{x}<br>date=2017-09-01<br>rate=%{y}<extra></extra>\", \"ids\": [\"White men\"], \"legendgroup\": \"White men\", \"marker\": {\"color\": \"#EF553B\"}, \"name\": \"White men\", \"offsetgroup\": \"White men\", \"orientation\": \"v\", \"showlegend\": true, \"textposition\": \"auto\", \"x\": [\"White men\"], \"xaxis\": \"x\", \"y\": [3.4], \"yaxis\": \"y\", \"type\": \"bar\"}, {\"alignmentgroup\": \"True\", \"hovertemplate\": \"category=%{x}<br>date=2017-09-01<br>rate=%{y}<extra></extra>\", \"ids\": [\"White women\"], \"legendgroup\": \"White women\", \"marker\": {\"color\": \"#00cc96\"}, \"name\": \"White women\", \"offsetgroup\": \"White women\", \"orientation\": \"v\", \"showlegend\": true, \"textposition\": \"auto\", \"x\": [\"White women\"], \"xaxis\": \"x\", \"y\": [3.5], \"yaxis\": \"y\", \"type\": \"bar\"}, {\"alignmentgroup\": \"True\", \"hovertemplate\": \"category=%{x}<br>date=2017-09-01<br>rate=%{y}<extra></extra>\", \"ids\": [\"Black men\"], \"legendgroup\": \"Black men\", \"marker\": {\"color\": \"#ab63fa\"}, \"name\": \"Black men\", \"offsetgroup\": \"Black men\", \"orientation\": \"v\", \"showlegend\": true, \"textposition\": \"auto\", \"x\": [\"Black men\"], \"xaxis\": \"x\", \"y\": [6.9], \"yaxis\": \"y\", \"type\": \"bar\"}, {\"alignmentgroup\": \"True\", \"hovertemplate\": \"category=%{x}<br>date=2017-09-01<br>rate=%{y}<extra></extra>\", \"ids\": [\"Black women\"], \"legendgroup\": \"Black women\", \"marker\": {\"color\": \"#FFA15A\"}, \"name\": \"Black women\", \"offsetgroup\": \"Black women\", \"orientation\": \"v\", \"showlegend\": true, \"textposition\": \"auto\", \"x\": [\"Black women\"], \"xaxis\": \"x\", \"y\": [6.3], \"yaxis\": \"y\", \"type\": \"bar\"}, {\"alignmentgroup\": \"True\", \"hovertemplate\": \"category=%{x}<br>date=2017-09-01<br>rate=%{y}<extra></extra>\", \"ids\": [\"Hispanic men\"], \"legendgroup\": \"Hispanic men\", \"marker\": {\"color\": \"#19d3f3\"}, \"name\": \"Hispanic men\", \"offsetgroup\": \"Hispanic men\", \"orientation\": \"v\", \"showlegend\": true, \"textposition\": \"auto\", \"x\": [\"Hispanic men\"], \"xaxis\": \"x\", \"y\": [3.6], \"yaxis\": \"y\", \"type\": \"bar\"}, {\"alignmentgroup\": \"True\", \"hovertemplate\": \"category=%{x}<br>date=2017-09-01<br>rate=%{y}<extra></extra>\", \"ids\": [\"Hispanic women\"], \"legendgroup\": \"Hispanic women\", \"marker\": {\"color\": \"#FF6692\"}, \"name\": \"Hispanic women\", \"offsetgroup\": \"Hispanic women\", \"orientation\": \"v\", \"showlegend\": true, \"textposition\": \"auto\", \"x\": [\"Hispanic women\"], \"xaxis\": \"x\", \"y\": [5.5], \"yaxis\": \"y\", \"type\": \"bar\"}], \"name\": \"2017-09-01\"}, {\"data\": [{\"alignmentgroup\": \"True\", \"hovertemplate\": \"category=%{x}<br>date=2017-10-01<br>rate=%{y}<extra></extra>\", \"ids\": [\"Average\"], \"legendgroup\": \"Average\", \"marker\": {\"color\": \"#636efa\"}, \"name\": \"Average\", \"offsetgroup\": \"Average\", \"orientation\": \"v\", \"showlegend\": true, \"textposition\": \"auto\", \"x\": [\"Average\"], \"xaxis\": \"x\", \"y\": [3.7], \"yaxis\": \"y\", \"type\": \"bar\"}, {\"alignmentgroup\": \"True\", \"hovertemplate\": \"category=%{x}<br>date=2017-10-01<br>rate=%{y}<extra></extra>\", \"ids\": [\"White men\"], \"legendgroup\": \"White men\", \"marker\": {\"color\": \"#EF553B\"}, \"name\": \"White men\", \"offsetgroup\": \"White men\", \"orientation\": \"v\", \"showlegend\": true, \"textposition\": \"auto\", \"x\": [\"White men\"], \"xaxis\": \"x\", \"y\": [3.3], \"yaxis\": \"y\", \"type\": \"bar\"}, {\"alignmentgroup\": \"True\", \"hovertemplate\": \"category=%{x}<br>date=2017-10-01<br>rate=%{y}<extra></extra>\", \"ids\": [\"White women\"], \"legendgroup\": \"White women\", \"marker\": {\"color\": \"#00cc96\"}, \"name\": \"White women\", \"offsetgroup\": \"White women\", \"orientation\": \"v\", \"showlegend\": true, \"textposition\": \"auto\", \"x\": [\"White women\"], \"xaxis\": \"x\", \"y\": [3.2], \"yaxis\": \"y\", \"type\": \"bar\"}, {\"alignmentgroup\": \"True\", \"hovertemplate\": \"category=%{x}<br>date=2017-10-01<br>rate=%{y}<extra></extra>\", \"ids\": [\"Black men\"], \"legendgroup\": \"Black men\", \"marker\": {\"color\": \"#ab63fa\"}, \"name\": \"Black men\", \"offsetgroup\": \"Black men\", \"orientation\": \"v\", \"showlegend\": true, \"textposition\": \"auto\", \"x\": [\"Black men\"], \"xaxis\": \"x\", \"y\": [7.4], \"yaxis\": \"y\", \"type\": \"bar\"}, {\"alignmentgroup\": \"True\", \"hovertemplate\": \"category=%{x}<br>date=2017-10-01<br>rate=%{y}<extra></extra>\", \"ids\": [\"Black women\"], \"legendgroup\": \"Black women\", \"marker\": {\"color\": \"#FFA15A\"}, \"name\": \"Black women\", \"offsetgroup\": \"Black women\", \"orientation\": \"v\", \"showlegend\": true, \"textposition\": \"auto\", \"x\": [\"Black women\"], \"xaxis\": \"x\", \"y\": [6.4], \"yaxis\": \"y\", \"type\": \"bar\"}, {\"alignmentgroup\": \"True\", \"hovertemplate\": \"category=%{x}<br>date=2017-10-01<br>rate=%{y}<extra></extra>\", \"ids\": [\"Hispanic men\"], \"legendgroup\": \"Hispanic men\", \"marker\": {\"color\": \"#19d3f3\"}, \"name\": \"Hispanic men\", \"offsetgroup\": \"Hispanic men\", \"orientation\": \"v\", \"showlegend\": true, \"textposition\": \"auto\", \"x\": [\"Hispanic men\"], \"xaxis\": \"x\", \"y\": [3.5], \"yaxis\": \"y\", \"type\": \"bar\"}, {\"alignmentgroup\": \"True\", \"hovertemplate\": \"category=%{x}<br>date=2017-10-01<br>rate=%{y}<extra></extra>\", \"ids\": [\"Hispanic women\"], \"legendgroup\": \"Hispanic women\", \"marker\": {\"color\": \"#FF6692\"}, \"name\": \"Hispanic women\", \"offsetgroup\": \"Hispanic women\", \"orientation\": \"v\", \"showlegend\": true, \"textposition\": \"auto\", \"x\": [\"Hispanic women\"], \"xaxis\": \"x\", \"y\": [4.6], \"yaxis\": \"y\", \"type\": \"bar\"}], \"name\": \"2017-10-01\"}, {\"data\": [{\"alignmentgroup\": \"True\", \"hovertemplate\": \"category=%{x}<br>date=2017-11-01<br>rate=%{y}<extra></extra>\", \"ids\": [\"Average\"], \"legendgroup\": \"Average\", \"marker\": {\"color\": \"#636efa\"}, \"name\": \"Average\", \"offsetgroup\": \"Average\", \"orientation\": \"v\", \"showlegend\": true, \"textposition\": \"auto\", \"x\": [\"Average\"], \"xaxis\": \"x\", \"y\": [3.7], \"yaxis\": \"y\", \"type\": \"bar\"}, {\"alignmentgroup\": \"True\", \"hovertemplate\": \"category=%{x}<br>date=2017-11-01<br>rate=%{y}<extra></extra>\", \"ids\": [\"White men\"], \"legendgroup\": \"White men\", \"marker\": {\"color\": \"#EF553B\"}, \"name\": \"White men\", \"offsetgroup\": \"White men\", \"orientation\": \"v\", \"showlegend\": true, \"textposition\": \"auto\", \"x\": [\"White men\"], \"xaxis\": \"x\", \"y\": [3.3], \"yaxis\": \"y\", \"type\": \"bar\"}, {\"alignmentgroup\": \"True\", \"hovertemplate\": \"category=%{x}<br>date=2017-11-01<br>rate=%{y}<extra></extra>\", \"ids\": [\"White women\"], \"legendgroup\": \"White women\", \"marker\": {\"color\": \"#00cc96\"}, \"name\": \"White women\", \"offsetgroup\": \"White women\", \"orientation\": \"v\", \"showlegend\": true, \"textposition\": \"auto\", \"x\": [\"White women\"], \"xaxis\": \"x\", \"y\": [3.2], \"yaxis\": \"y\", \"type\": \"bar\"}, {\"alignmentgroup\": \"True\", \"hovertemplate\": \"category=%{x}<br>date=2017-11-01<br>rate=%{y}<extra></extra>\", \"ids\": [\"Black men\"], \"legendgroup\": \"Black men\", \"marker\": {\"color\": \"#ab63fa\"}, \"name\": \"Black men\", \"offsetgroup\": \"Black men\", \"orientation\": \"v\", \"showlegend\": true, \"textposition\": \"auto\", \"x\": [\"Black men\"], \"xaxis\": \"x\", \"y\": [7.6], \"yaxis\": \"y\", \"type\": \"bar\"}, {\"alignmentgroup\": \"True\", \"hovertemplate\": \"category=%{x}<br>date=2017-11-01<br>rate=%{y}<extra></extra>\", \"ids\": [\"Black women\"], \"legendgroup\": \"Black women\", \"marker\": {\"color\": \"#FFA15A\"}, \"name\": \"Black women\", \"offsetgroup\": \"Black women\", \"orientation\": \"v\", \"showlegend\": true, \"textposition\": \"auto\", \"x\": [\"Black women\"], \"xaxis\": \"x\", \"y\": [6.0], \"yaxis\": \"y\", \"type\": \"bar\"}, {\"alignmentgroup\": \"True\", \"hovertemplate\": \"category=%{x}<br>date=2017-11-01<br>rate=%{y}<extra></extra>\", \"ids\": [\"Hispanic men\"], \"legendgroup\": \"Hispanic men\", \"marker\": {\"color\": \"#19d3f3\"}, \"name\": \"Hispanic men\", \"offsetgroup\": \"Hispanic men\", \"orientation\": \"v\", \"showlegend\": true, \"textposition\": \"auto\", \"x\": [\"Hispanic men\"], \"xaxis\": \"x\", \"y\": [3.8], \"yaxis\": \"y\", \"type\": \"bar\"}, {\"alignmentgroup\": \"True\", \"hovertemplate\": \"category=%{x}<br>date=2017-11-01<br>rate=%{y}<extra></extra>\", \"ids\": [\"Hispanic women\"], \"legendgroup\": \"Hispanic women\", \"marker\": {\"color\": \"#FF6692\"}, \"name\": \"Hispanic women\", \"offsetgroup\": \"Hispanic women\", \"orientation\": \"v\", \"showlegend\": true, \"textposition\": \"auto\", \"x\": [\"Hispanic women\"], \"xaxis\": \"x\", \"y\": [4.8], \"yaxis\": \"y\", \"type\": \"bar\"}], \"name\": \"2017-11-01\"}, {\"data\": [{\"alignmentgroup\": \"True\", \"hovertemplate\": \"category=%{x}<br>date=2017-12-01<br>rate=%{y}<extra></extra>\", \"ids\": [\"Average\"], \"legendgroup\": \"Average\", \"marker\": {\"color\": \"#636efa\"}, \"name\": \"Average\", \"offsetgroup\": \"Average\", \"orientation\": \"v\", \"showlegend\": true, \"textposition\": \"auto\", \"x\": [\"Average\"], \"xaxis\": \"x\", \"y\": [3.7], \"yaxis\": \"y\", \"type\": \"bar\"}, {\"alignmentgroup\": \"True\", \"hovertemplate\": \"category=%{x}<br>date=2017-12-01<br>rate=%{y}<extra></extra>\", \"ids\": [\"White men\"], \"legendgroup\": \"White men\", \"marker\": {\"color\": \"#EF553B\"}, \"name\": \"White men\", \"offsetgroup\": \"White men\", \"orientation\": \"v\", \"showlegend\": true, \"textposition\": \"auto\", \"x\": [\"White men\"], \"xaxis\": \"x\", \"y\": [3.3], \"yaxis\": \"y\", \"type\": \"bar\"}, {\"alignmentgroup\": \"True\", \"hovertemplate\": \"category=%{x}<br>date=2017-12-01<br>rate=%{y}<extra></extra>\", \"ids\": [\"White women\"], \"legendgroup\": \"White women\", \"marker\": {\"color\": \"#00cc96\"}, \"name\": \"White women\", \"offsetgroup\": \"White women\", \"orientation\": \"v\", \"showlegend\": true, \"textposition\": \"auto\", \"x\": [\"White women\"], \"xaxis\": \"x\", \"y\": [3.4], \"yaxis\": \"y\", \"type\": \"bar\"}, {\"alignmentgroup\": \"True\", \"hovertemplate\": \"category=%{x}<br>date=2017-12-01<br>rate=%{y}<extra></extra>\", \"ids\": [\"Black men\"], \"legendgroup\": \"Black men\", \"marker\": {\"color\": \"#ab63fa\"}, \"name\": \"Black men\", \"offsetgroup\": \"Black men\", \"orientation\": \"v\", \"showlegend\": true, \"textposition\": \"auto\", \"x\": [\"Black men\"], \"xaxis\": \"x\", \"y\": [6.6], \"yaxis\": \"y\", \"type\": \"bar\"}, {\"alignmentgroup\": \"True\", \"hovertemplate\": \"category=%{x}<br>date=2017-12-01<br>rate=%{y}<extra></extra>\", \"ids\": [\"Black women\"], \"legendgroup\": \"Black women\", \"marker\": {\"color\": \"#FFA15A\"}, \"name\": \"Black women\", \"offsetgroup\": \"Black women\", \"orientation\": \"v\", \"showlegend\": true, \"textposition\": \"auto\", \"x\": [\"Black women\"], \"xaxis\": \"x\", \"y\": [5.5], \"yaxis\": \"y\", \"type\": \"bar\"}, {\"alignmentgroup\": \"True\", \"hovertemplate\": \"category=%{x}<br>date=2017-12-01<br>rate=%{y}<extra></extra>\", \"ids\": [\"Hispanic men\"], \"legendgroup\": \"Hispanic men\", \"marker\": {\"color\": \"#19d3f3\"}, \"name\": \"Hispanic men\", \"offsetgroup\": \"Hispanic men\", \"orientation\": \"v\", \"showlegend\": true, \"textposition\": \"auto\", \"x\": [\"Hispanic men\"], \"xaxis\": \"x\", \"y\": [4.2], \"yaxis\": \"y\", \"type\": \"bar\"}, {\"alignmentgroup\": \"True\", \"hovertemplate\": \"category=%{x}<br>date=2017-12-01<br>rate=%{y}<extra></extra>\", \"ids\": [\"Hispanic women\"], \"legendgroup\": \"Hispanic women\", \"marker\": {\"color\": \"#FF6692\"}, \"name\": \"Hispanic women\", \"offsetgroup\": \"Hispanic women\", \"orientation\": \"v\", \"showlegend\": true, \"textposition\": \"auto\", \"x\": [\"Hispanic women\"], \"xaxis\": \"x\", \"y\": [5.0], \"yaxis\": \"y\", \"type\": \"bar\"}], \"name\": \"2017-12-01\"}, {\"data\": [{\"alignmentgroup\": \"True\", \"hovertemplate\": \"category=%{x}<br>date=2018-01-01<br>rate=%{y}<extra></extra>\", \"ids\": [\"Average\"], \"legendgroup\": \"Average\", \"marker\": {\"color\": \"#636efa\"}, \"name\": \"Average\", \"offsetgroup\": \"Average\", \"orientation\": \"v\", \"showlegend\": true, \"textposition\": \"auto\", \"x\": [\"Average\"], \"xaxis\": \"x\", \"y\": [3.7], \"yaxis\": \"y\", \"type\": \"bar\"}, {\"alignmentgroup\": \"True\", \"hovertemplate\": \"category=%{x}<br>date=2018-01-01<br>rate=%{y}<extra></extra>\", \"ids\": [\"White men\"], \"legendgroup\": \"White men\", \"marker\": {\"color\": \"#EF553B\"}, \"name\": \"White men\", \"offsetgroup\": \"White men\", \"orientation\": \"v\", \"showlegend\": true, \"textposition\": \"auto\", \"x\": [\"White men\"], \"xaxis\": \"x\", \"y\": [3.3], \"yaxis\": \"y\", \"type\": \"bar\"}, {\"alignmentgroup\": \"True\", \"hovertemplate\": \"category=%{x}<br>date=2018-01-01<br>rate=%{y}<extra></extra>\", \"ids\": [\"White women\"], \"legendgroup\": \"White women\", \"marker\": {\"color\": \"#00cc96\"}, \"name\": \"White women\", \"offsetgroup\": \"White women\", \"orientation\": \"v\", \"showlegend\": true, \"textposition\": \"auto\", \"x\": [\"White women\"], \"xaxis\": \"x\", \"y\": [2.9], \"yaxis\": \"y\", \"type\": \"bar\"}, {\"alignmentgroup\": \"True\", \"hovertemplate\": \"category=%{x}<br>date=2018-01-01<br>rate=%{y}<extra></extra>\", \"ids\": [\"Black men\"], \"legendgroup\": \"Black men\", \"marker\": {\"color\": \"#ab63fa\"}, \"name\": \"Black men\", \"offsetgroup\": \"Black men\", \"orientation\": \"v\", \"showlegend\": true, \"textposition\": \"auto\", \"x\": [\"Black men\"], \"xaxis\": \"x\", \"y\": [7.2], \"yaxis\": \"y\", \"type\": \"bar\"}, {\"alignmentgroup\": \"True\", \"hovertemplate\": \"category=%{x}<br>date=2018-01-01<br>rate=%{y}<extra></extra>\", \"ids\": [\"Black women\"], \"legendgroup\": \"Black women\", \"marker\": {\"color\": \"#FFA15A\"}, \"name\": \"Black women\", \"offsetgroup\": \"Black women\", \"orientation\": \"v\", \"showlegend\": true, \"textposition\": \"auto\", \"x\": [\"Black women\"], \"xaxis\": \"x\", \"y\": [6.4], \"yaxis\": \"y\", \"type\": \"bar\"}, {\"alignmentgroup\": \"True\", \"hovertemplate\": \"category=%{x}<br>date=2018-01-01<br>rate=%{y}<extra></extra>\", \"ids\": [\"Hispanic men\"], \"legendgroup\": \"Hispanic men\", \"marker\": {\"color\": \"#19d3f3\"}, \"name\": \"Hispanic men\", \"offsetgroup\": \"Hispanic men\", \"orientation\": \"v\", \"showlegend\": true, \"textposition\": \"auto\", \"x\": [\"Hispanic men\"], \"xaxis\": \"x\", \"y\": [5.4], \"yaxis\": \"y\", \"type\": \"bar\"}, {\"alignmentgroup\": \"True\", \"hovertemplate\": \"category=%{x}<br>date=2018-01-01<br>rate=%{y}<extra></extra>\", \"ids\": [\"Hispanic women\"], \"legendgroup\": \"Hispanic women\", \"marker\": {\"color\": \"#FF6692\"}, \"name\": \"Hispanic women\", \"offsetgroup\": \"Hispanic women\", \"orientation\": \"v\", \"showlegend\": true, \"textposition\": \"auto\", \"x\": [\"Hispanic women\"], \"xaxis\": \"x\", \"y\": [5.0], \"yaxis\": \"y\", \"type\": \"bar\"}], \"name\": \"2018-01-01\"}, {\"data\": [{\"alignmentgroup\": \"True\", \"hovertemplate\": \"category=%{x}<br>date=2018-02-01<br>rate=%{y}<extra></extra>\", \"ids\": [\"Average\"], \"legendgroup\": \"Average\", \"marker\": {\"color\": \"#636efa\"}, \"name\": \"Average\", \"offsetgroup\": \"Average\", \"orientation\": \"v\", \"showlegend\": true, \"textposition\": \"auto\", \"x\": [\"Average\"], \"xaxis\": \"x\", \"y\": [3.7], \"yaxis\": \"y\", \"type\": \"bar\"}, {\"alignmentgroup\": \"True\", \"hovertemplate\": \"category=%{x}<br>date=2018-02-01<br>rate=%{y}<extra></extra>\", \"ids\": [\"White men\"], \"legendgroup\": \"White men\", \"marker\": {\"color\": \"#EF553B\"}, \"name\": \"White men\", \"offsetgroup\": \"White men\", \"orientation\": \"v\", \"showlegend\": true, \"textposition\": \"auto\", \"x\": [\"White men\"], \"xaxis\": \"x\", \"y\": [3.4], \"yaxis\": \"y\", \"type\": \"bar\"}, {\"alignmentgroup\": \"True\", \"hovertemplate\": \"category=%{x}<br>date=2018-02-01<br>rate=%{y}<extra></extra>\", \"ids\": [\"White women\"], \"legendgroup\": \"White women\", \"marker\": {\"color\": \"#00cc96\"}, \"name\": \"White women\", \"offsetgroup\": \"White women\", \"orientation\": \"v\", \"showlegend\": true, \"textposition\": \"auto\", \"x\": [\"White women\"], \"xaxis\": \"x\", \"y\": [3.3], \"yaxis\": \"y\", \"type\": \"bar\"}, {\"alignmentgroup\": \"True\", \"hovertemplate\": \"category=%{x}<br>date=2018-02-01<br>rate=%{y}<extra></extra>\", \"ids\": [\"Black men\"], \"legendgroup\": \"Black men\", \"marker\": {\"color\": \"#ab63fa\"}, \"name\": \"Black men\", \"offsetgroup\": \"Black men\", \"orientation\": \"v\", \"showlegend\": true, \"textposition\": \"auto\", \"x\": [\"Black men\"], \"xaxis\": \"x\", \"y\": [5.7], \"yaxis\": \"y\", \"type\": \"bar\"}, {\"alignmentgroup\": \"True\", \"hovertemplate\": \"category=%{x}<br>date=2018-02-01<br>rate=%{y}<extra></extra>\", \"ids\": [\"Black women\"], \"legendgroup\": \"Black women\", \"marker\": {\"color\": \"#FFA15A\"}, \"name\": \"Black women\", \"offsetgroup\": \"Black women\", \"orientation\": \"v\", \"showlegend\": true, \"textposition\": \"auto\", \"x\": [\"Black women\"], \"xaxis\": \"x\", \"y\": [6.1], \"yaxis\": \"y\", \"type\": \"bar\"}, {\"alignmentgroup\": \"True\", \"hovertemplate\": \"category=%{x}<br>date=2018-02-01<br>rate=%{y}<extra></extra>\", \"ids\": [\"Hispanic men\"], \"legendgroup\": \"Hispanic men\", \"marker\": {\"color\": \"#19d3f3\"}, \"name\": \"Hispanic men\", \"offsetgroup\": \"Hispanic men\", \"orientation\": \"v\", \"showlegend\": true, \"textposition\": \"auto\", \"x\": [\"Hispanic men\"], \"xaxis\": \"x\", \"y\": [4.7], \"yaxis\": \"y\", \"type\": \"bar\"}, {\"alignmentgroup\": \"True\", \"hovertemplate\": \"category=%{x}<br>date=2018-02-01<br>rate=%{y}<extra></extra>\", \"ids\": [\"Hispanic women\"], \"legendgroup\": \"Hispanic women\", \"marker\": {\"color\": \"#FF6692\"}, \"name\": \"Hispanic women\", \"offsetgroup\": \"Hispanic women\", \"orientation\": \"v\", \"showlegend\": true, \"textposition\": \"auto\", \"x\": [\"Hispanic women\"], \"xaxis\": \"x\", \"y\": [5.3], \"yaxis\": \"y\", \"type\": \"bar\"}], \"name\": \"2018-02-01\"}, {\"data\": [{\"alignmentgroup\": \"True\", \"hovertemplate\": \"category=%{x}<br>date=2018-03-01<br>rate=%{y}<extra></extra>\", \"ids\": [\"Average\"], \"legendgroup\": \"Average\", \"marker\": {\"color\": \"#636efa\"}, \"name\": \"Average\", \"offsetgroup\": \"Average\", \"orientation\": \"v\", \"showlegend\": true, \"textposition\": \"auto\", \"x\": [\"Average\"], \"xaxis\": \"x\", \"y\": [3.7], \"yaxis\": \"y\", \"type\": \"bar\"}, {\"alignmentgroup\": \"True\", \"hovertemplate\": \"category=%{x}<br>date=2018-03-01<br>rate=%{y}<extra></extra>\", \"ids\": [\"White men\"], \"legendgroup\": \"White men\", \"marker\": {\"color\": \"#EF553B\"}, \"name\": \"White men\", \"offsetgroup\": \"White men\", \"orientation\": \"v\", \"showlegend\": true, \"textposition\": \"auto\", \"x\": [\"White men\"], \"xaxis\": \"x\", \"y\": [3.3], \"yaxis\": \"y\", \"type\": \"bar\"}, {\"alignmentgroup\": \"True\", \"hovertemplate\": \"category=%{x}<br>date=2018-03-01<br>rate=%{y}<extra></extra>\", \"ids\": [\"White women\"], \"legendgroup\": \"White women\", \"marker\": {\"color\": \"#00cc96\"}, \"name\": \"White women\", \"offsetgroup\": \"White women\", \"orientation\": \"v\", \"showlegend\": true, \"textposition\": \"auto\", \"x\": [\"White women\"], \"xaxis\": \"x\", \"y\": [3.3], \"yaxis\": \"y\", \"type\": \"bar\"}, {\"alignmentgroup\": \"True\", \"hovertemplate\": \"category=%{x}<br>date=2018-03-01<br>rate=%{y}<extra></extra>\", \"ids\": [\"Black men\"], \"legendgroup\": \"Black men\", \"marker\": {\"color\": \"#ab63fa\"}, \"name\": \"Black men\", \"offsetgroup\": \"Black men\", \"orientation\": \"v\", \"showlegend\": true, \"textposition\": \"auto\", \"x\": [\"Black men\"], \"xaxis\": \"x\", \"y\": [6.0], \"yaxis\": \"y\", \"type\": \"bar\"}, {\"alignmentgroup\": \"True\", \"hovertemplate\": \"category=%{x}<br>date=2018-03-01<br>rate=%{y}<extra></extra>\", \"ids\": [\"Black women\"], \"legendgroup\": \"Black women\", \"marker\": {\"color\": \"#FFA15A\"}, \"name\": \"Black women\", \"offsetgroup\": \"Black women\", \"orientation\": \"v\", \"showlegend\": true, \"textposition\": \"auto\", \"x\": [\"Black women\"], \"xaxis\": \"x\", \"y\": [5.9], \"yaxis\": \"y\", \"type\": \"bar\"}, {\"alignmentgroup\": \"True\", \"hovertemplate\": \"category=%{x}<br>date=2018-03-01<br>rate=%{y}<extra></extra>\", \"ids\": [\"Hispanic men\"], \"legendgroup\": \"Hispanic men\", \"marker\": {\"color\": \"#19d3f3\"}, \"name\": \"Hispanic men\", \"offsetgroup\": \"Hispanic men\", \"orientation\": \"v\", \"showlegend\": true, \"textposition\": \"auto\", \"x\": [\"Hispanic men\"], \"xaxis\": \"x\", \"y\": [4.8], \"yaxis\": \"y\", \"type\": \"bar\"}, {\"alignmentgroup\": \"True\", \"hovertemplate\": \"category=%{x}<br>date=2018-03-01<br>rate=%{y}<extra></extra>\", \"ids\": [\"Hispanic women\"], \"legendgroup\": \"Hispanic women\", \"marker\": {\"color\": \"#FF6692\"}, \"name\": \"Hispanic women\", \"offsetgroup\": \"Hispanic women\", \"orientation\": \"v\", \"showlegend\": true, \"textposition\": \"auto\", \"x\": [\"Hispanic women\"], \"xaxis\": \"x\", \"y\": [5.0], \"yaxis\": \"y\", \"type\": \"bar\"}], \"name\": \"2018-03-01\"}, {\"data\": [{\"alignmentgroup\": \"True\", \"hovertemplate\": \"category=%{x}<br>date=2018-04-01<br>rate=%{y}<extra></extra>\", \"ids\": [\"Average\"], \"legendgroup\": \"Average\", \"marker\": {\"color\": \"#636efa\"}, \"name\": \"Average\", \"offsetgroup\": \"Average\", \"orientation\": \"v\", \"showlegend\": true, \"textposition\": \"auto\", \"x\": [\"Average\"], \"xaxis\": \"x\", \"y\": [3.6], \"yaxis\": \"y\", \"type\": \"bar\"}, {\"alignmentgroup\": \"True\", \"hovertemplate\": \"category=%{x}<br>date=2018-04-01<br>rate=%{y}<extra></extra>\", \"ids\": [\"White men\"], \"legendgroup\": \"White men\", \"marker\": {\"color\": \"#EF553B\"}, \"name\": \"White men\", \"offsetgroup\": \"White men\", \"orientation\": \"v\", \"showlegend\": true, \"textposition\": \"auto\", \"x\": [\"White men\"], \"xaxis\": \"x\", \"y\": [3.4], \"yaxis\": \"y\", \"type\": \"bar\"}, {\"alignmentgroup\": \"True\", \"hovertemplate\": \"category=%{x}<br>date=2018-04-01<br>rate=%{y}<extra></extra>\", \"ids\": [\"White women\"], \"legendgroup\": \"White women\", \"marker\": {\"color\": \"#00cc96\"}, \"name\": \"White women\", \"offsetgroup\": \"White women\", \"orientation\": \"v\", \"showlegend\": true, \"textposition\": \"auto\", \"x\": [\"White women\"], \"xaxis\": \"x\", \"y\": [3.2], \"yaxis\": \"y\", \"type\": \"bar\"}, {\"alignmentgroup\": \"True\", \"hovertemplate\": \"category=%{x}<br>date=2018-04-01<br>rate=%{y}<extra></extra>\", \"ids\": [\"Black men\"], \"legendgroup\": \"Black men\", \"marker\": {\"color\": \"#ab63fa\"}, \"name\": \"Black men\", \"offsetgroup\": \"Black men\", \"orientation\": \"v\", \"showlegend\": true, \"textposition\": \"auto\", \"x\": [\"Black men\"], \"xaxis\": \"x\", \"y\": [6.2], \"yaxis\": \"y\", \"type\": \"bar\"}, {\"alignmentgroup\": \"True\", \"hovertemplate\": \"category=%{x}<br>date=2018-04-01<br>rate=%{y}<extra></extra>\", \"ids\": [\"Black women\"], \"legendgroup\": \"Black women\", \"marker\": {\"color\": \"#FFA15A\"}, \"name\": \"Black women\", \"offsetgroup\": \"Black women\", \"orientation\": \"v\", \"showlegend\": true, \"textposition\": \"auto\", \"x\": [\"Black women\"], \"xaxis\": \"x\", \"y\": [5.1], \"yaxis\": \"y\", \"type\": \"bar\"}, {\"alignmentgroup\": \"True\", \"hovertemplate\": \"category=%{x}<br>date=2018-04-01<br>rate=%{y}<extra></extra>\", \"ids\": [\"Hispanic men\"], \"legendgroup\": \"Hispanic men\", \"marker\": {\"color\": \"#19d3f3\"}, \"name\": \"Hispanic men\", \"offsetgroup\": \"Hispanic men\", \"orientation\": \"v\", \"showlegend\": true, \"textposition\": \"auto\", \"x\": [\"Hispanic men\"], \"xaxis\": \"x\", \"y\": [3.7], \"yaxis\": \"y\", \"type\": \"bar\"}, {\"alignmentgroup\": \"True\", \"hovertemplate\": \"category=%{x}<br>date=2018-04-01<br>rate=%{y}<extra></extra>\", \"ids\": [\"Hispanic women\"], \"legendgroup\": \"Hispanic women\", \"marker\": {\"color\": \"#FF6692\"}, \"name\": \"Hispanic women\", \"offsetgroup\": \"Hispanic women\", \"orientation\": \"v\", \"showlegend\": true, \"textposition\": \"auto\", \"x\": [\"Hispanic women\"], \"xaxis\": \"x\", \"y\": [4.4], \"yaxis\": \"y\", \"type\": \"bar\"}], \"name\": \"2018-04-01\"}, {\"data\": [{\"alignmentgroup\": \"True\", \"hovertemplate\": \"category=%{x}<br>date=2018-05-01<br>rate=%{y}<extra></extra>\", \"ids\": [\"Average\"], \"legendgroup\": \"Average\", \"marker\": {\"color\": \"#636efa\"}, \"name\": \"Average\", \"offsetgroup\": \"Average\", \"orientation\": \"v\", \"showlegend\": true, \"textposition\": \"auto\", \"x\": [\"Average\"], \"xaxis\": \"x\", \"y\": [3.5], \"yaxis\": \"y\", \"type\": \"bar\"}, {\"alignmentgroup\": \"True\", \"hovertemplate\": \"category=%{x}<br>date=2018-05-01<br>rate=%{y}<extra></extra>\", \"ids\": [\"White men\"], \"legendgroup\": \"White men\", \"marker\": {\"color\": \"#EF553B\"}, \"name\": \"White men\", \"offsetgroup\": \"White men\", \"orientation\": \"v\", \"showlegend\": true, \"textposition\": \"auto\", \"x\": [\"White men\"], \"xaxis\": \"x\", \"y\": [3.2], \"yaxis\": \"y\", \"type\": \"bar\"}, {\"alignmentgroup\": \"True\", \"hovertemplate\": \"category=%{x}<br>date=2018-05-01<br>rate=%{y}<extra></extra>\", \"ids\": [\"White women\"], \"legendgroup\": \"White women\", \"marker\": {\"color\": \"#00cc96\"}, \"name\": \"White women\", \"offsetgroup\": \"White women\", \"orientation\": \"v\", \"showlegend\": true, \"textposition\": \"auto\", \"x\": [\"White women\"], \"xaxis\": \"x\", \"y\": [3.2], \"yaxis\": \"y\", \"type\": \"bar\"}, {\"alignmentgroup\": \"True\", \"hovertemplate\": \"category=%{x}<br>date=2018-05-01<br>rate=%{y}<extra></extra>\", \"ids\": [\"Black men\"], \"legendgroup\": \"Black men\", \"marker\": {\"color\": \"#ab63fa\"}, \"name\": \"Black men\", \"offsetgroup\": \"Black men\", \"orientation\": \"v\", \"showlegend\": true, \"textposition\": \"auto\", \"x\": [\"Black men\"], \"xaxis\": \"x\", \"y\": [6.3], \"yaxis\": \"y\", \"type\": \"bar\"}, {\"alignmentgroup\": \"True\", \"hovertemplate\": \"category=%{x}<br>date=2018-05-01<br>rate=%{y}<extra></extra>\", \"ids\": [\"Black women\"], \"legendgroup\": \"Black women\", \"marker\": {\"color\": \"#FFA15A\"}, \"name\": \"Black women\", \"offsetgroup\": \"Black women\", \"orientation\": \"v\", \"showlegend\": true, \"textposition\": \"auto\", \"x\": [\"Black women\"], \"xaxis\": \"x\", \"y\": [4.7], \"yaxis\": \"y\", \"type\": \"bar\"}, {\"alignmentgroup\": \"True\", \"hovertemplate\": \"category=%{x}<br>date=2018-05-01<br>rate=%{y}<extra></extra>\", \"ids\": [\"Hispanic men\"], \"legendgroup\": \"Hispanic men\", \"marker\": {\"color\": \"#19d3f3\"}, \"name\": \"Hispanic men\", \"offsetgroup\": \"Hispanic men\", \"orientation\": \"v\", \"showlegend\": true, \"textposition\": \"auto\", \"x\": [\"Hispanic men\"], \"xaxis\": \"x\", \"y\": [3.5], \"yaxis\": \"y\", \"type\": \"bar\"}, {\"alignmentgroup\": \"True\", \"hovertemplate\": \"category=%{x}<br>date=2018-05-01<br>rate=%{y}<extra></extra>\", \"ids\": [\"Hispanic women\"], \"legendgroup\": \"Hispanic women\", \"marker\": {\"color\": \"#FF6692\"}, \"name\": \"Hispanic women\", \"offsetgroup\": \"Hispanic women\", \"orientation\": \"v\", \"showlegend\": true, \"textposition\": \"auto\", \"x\": [\"Hispanic women\"], \"xaxis\": \"x\", \"y\": [4.7], \"yaxis\": \"y\", \"type\": \"bar\"}], \"name\": \"2018-05-01\"}, {\"data\": [{\"alignmentgroup\": \"True\", \"hovertemplate\": \"category=%{x}<br>date=2018-06-01<br>rate=%{y}<extra></extra>\", \"ids\": [\"Average\"], \"legendgroup\": \"Average\", \"marker\": {\"color\": \"#636efa\"}, \"name\": \"Average\", \"offsetgroup\": \"Average\", \"orientation\": \"v\", \"showlegend\": true, \"textposition\": \"auto\", \"x\": [\"Average\"], \"xaxis\": \"x\", \"y\": [3.7], \"yaxis\": \"y\", \"type\": \"bar\"}, {\"alignmentgroup\": \"True\", \"hovertemplate\": \"category=%{x}<br>date=2018-06-01<br>rate=%{y}<extra></extra>\", \"ids\": [\"White men\"], \"legendgroup\": \"White men\", \"marker\": {\"color\": \"#EF553B\"}, \"name\": \"White men\", \"offsetgroup\": \"White men\", \"orientation\": \"v\", \"showlegend\": true, \"textposition\": \"auto\", \"x\": [\"White men\"], \"xaxis\": \"x\", \"y\": [3.3], \"yaxis\": \"y\", \"type\": \"bar\"}, {\"alignmentgroup\": \"True\", \"hovertemplate\": \"category=%{x}<br>date=2018-06-01<br>rate=%{y}<extra></extra>\", \"ids\": [\"White women\"], \"legendgroup\": \"White women\", \"marker\": {\"color\": \"#00cc96\"}, \"name\": \"White women\", \"offsetgroup\": \"White women\", \"orientation\": \"v\", \"showlegend\": true, \"textposition\": \"auto\", \"x\": [\"White women\"], \"xaxis\": \"x\", \"y\": [3.2], \"yaxis\": \"y\", \"type\": \"bar\"}, {\"alignmentgroup\": \"True\", \"hovertemplate\": \"category=%{x}<br>date=2018-06-01<br>rate=%{y}<extra></extra>\", \"ids\": [\"Black men\"], \"legendgroup\": \"Black men\", \"marker\": {\"color\": \"#ab63fa\"}, \"name\": \"Black men\", \"offsetgroup\": \"Black men\", \"orientation\": \"v\", \"showlegend\": true, \"textposition\": \"auto\", \"x\": [\"Black men\"], \"xaxis\": \"x\", \"y\": [6.6], \"yaxis\": \"y\", \"type\": \"bar\"}, {\"alignmentgroup\": \"True\", \"hovertemplate\": \"category=%{x}<br>date=2018-06-01<br>rate=%{y}<extra></extra>\", \"ids\": [\"Black women\"], \"legendgroup\": \"Black women\", \"marker\": {\"color\": \"#FFA15A\"}, \"name\": \"Black women\", \"offsetgroup\": \"Black women\", \"orientation\": \"v\", \"showlegend\": true, \"textposition\": \"auto\", \"x\": [\"Black women\"], \"xaxis\": \"x\", \"y\": [5.4], \"yaxis\": \"y\", \"type\": \"bar\"}, {\"alignmentgroup\": \"True\", \"hovertemplate\": \"category=%{x}<br>date=2018-06-01<br>rate=%{y}<extra></extra>\", \"ids\": [\"Hispanic men\"], \"legendgroup\": \"Hispanic men\", \"marker\": {\"color\": \"#19d3f3\"}, \"name\": \"Hispanic men\", \"offsetgroup\": \"Hispanic men\", \"orientation\": \"v\", \"showlegend\": true, \"textposition\": \"auto\", \"x\": [\"Hispanic men\"], \"xaxis\": \"x\", \"y\": [3.5], \"yaxis\": \"y\", \"type\": \"bar\"}, {\"alignmentgroup\": \"True\", \"hovertemplate\": \"category=%{x}<br>date=2018-06-01<br>rate=%{y}<extra></extra>\", \"ids\": [\"Hispanic women\"], \"legendgroup\": \"Hispanic women\", \"marker\": {\"color\": \"#FF6692\"}, \"name\": \"Hispanic women\", \"offsetgroup\": \"Hispanic women\", \"orientation\": \"v\", \"showlegend\": true, \"textposition\": \"auto\", \"x\": [\"Hispanic women\"], \"xaxis\": \"x\", \"y\": [4.8], \"yaxis\": \"y\", \"type\": \"bar\"}], \"name\": \"2018-06-01\"}, {\"data\": [{\"alignmentgroup\": \"True\", \"hovertemplate\": \"category=%{x}<br>date=2018-07-01<br>rate=%{y}<extra></extra>\", \"ids\": [\"Average\"], \"legendgroup\": \"Average\", \"marker\": {\"color\": \"#636efa\"}, \"name\": \"Average\", \"offsetgroup\": \"Average\", \"orientation\": \"v\", \"showlegend\": true, \"textposition\": \"auto\", \"x\": [\"Average\"], \"xaxis\": \"x\", \"y\": [3.5], \"yaxis\": \"y\", \"type\": \"bar\"}, {\"alignmentgroup\": \"True\", \"hovertemplate\": \"category=%{x}<br>date=2018-07-01<br>rate=%{y}<extra></extra>\", \"ids\": [\"White men\"], \"legendgroup\": \"White men\", \"marker\": {\"color\": \"#EF553B\"}, \"name\": \"White men\", \"offsetgroup\": \"White men\", \"orientation\": \"v\", \"showlegend\": true, \"textposition\": \"auto\", \"x\": [\"White men\"], \"xaxis\": \"x\", \"y\": [2.9], \"yaxis\": \"y\", \"type\": \"bar\"}, {\"alignmentgroup\": \"True\", \"hovertemplate\": \"category=%{x}<br>date=2018-07-01<br>rate=%{y}<extra></extra>\", \"ids\": [\"White women\"], \"legendgroup\": \"White women\", \"marker\": {\"color\": \"#00cc96\"}, \"name\": \"White women\", \"offsetgroup\": \"White women\", \"orientation\": \"v\", \"showlegend\": true, \"textposition\": \"auto\", \"x\": [\"White women\"], \"xaxis\": \"x\", \"y\": [3.2], \"yaxis\": \"y\", \"type\": \"bar\"}, {\"alignmentgroup\": \"True\", \"hovertemplate\": \"category=%{x}<br>date=2018-07-01<br>rate=%{y}<extra></extra>\", \"ids\": [\"Black men\"], \"legendgroup\": \"Black men\", \"marker\": {\"color\": \"#ab63fa\"}, \"name\": \"Black men\", \"offsetgroup\": \"Black men\", \"orientation\": \"v\", \"showlegend\": true, \"textposition\": \"auto\", \"x\": [\"Black men\"], \"xaxis\": \"x\", \"y\": [6.2], \"yaxis\": \"y\", \"type\": \"bar\"}, {\"alignmentgroup\": \"True\", \"hovertemplate\": \"category=%{x}<br>date=2018-07-01<br>rate=%{y}<extra></extra>\", \"ids\": [\"Black women\"], \"legendgroup\": \"Black women\", \"marker\": {\"color\": \"#FFA15A\"}, \"name\": \"Black women\", \"offsetgroup\": \"Black women\", \"orientation\": \"v\", \"showlegend\": true, \"textposition\": \"auto\", \"x\": [\"Black women\"], \"xaxis\": \"x\", \"y\": [6.0], \"yaxis\": \"y\", \"type\": \"bar\"}, {\"alignmentgroup\": \"True\", \"hovertemplate\": \"category=%{x}<br>date=2018-07-01<br>rate=%{y}<extra></extra>\", \"ids\": [\"Hispanic men\"], \"legendgroup\": \"Hispanic men\", \"marker\": {\"color\": \"#19d3f3\"}, \"name\": \"Hispanic men\", \"offsetgroup\": \"Hispanic men\", \"orientation\": \"v\", \"showlegend\": true, \"textposition\": \"auto\", \"x\": [\"Hispanic men\"], \"xaxis\": \"x\", \"y\": [2.8], \"yaxis\": \"y\", \"type\": \"bar\"}, {\"alignmentgroup\": \"True\", \"hovertemplate\": \"category=%{x}<br>date=2018-07-01<br>rate=%{y}<extra></extra>\", \"ids\": [\"Hispanic women\"], \"legendgroup\": \"Hispanic women\", \"marker\": {\"color\": \"#FF6692\"}, \"name\": \"Hispanic women\", \"offsetgroup\": \"Hispanic women\", \"orientation\": \"v\", \"showlegend\": true, \"textposition\": \"auto\", \"x\": [\"Hispanic women\"], \"xaxis\": \"x\", \"y\": [5.1], \"yaxis\": \"y\", \"type\": \"bar\"}], \"name\": \"2018-07-01\"}, {\"data\": [{\"alignmentgroup\": \"True\", \"hovertemplate\": \"category=%{x}<br>date=2018-08-01<br>rate=%{y}<extra></extra>\", \"ids\": [\"Average\"], \"legendgroup\": \"Average\", \"marker\": {\"color\": \"#636efa\"}, \"name\": \"Average\", \"offsetgroup\": \"Average\", \"orientation\": \"v\", \"showlegend\": true, \"textposition\": \"auto\", \"x\": [\"Average\"], \"xaxis\": \"x\", \"y\": [3.5], \"yaxis\": \"y\", \"type\": \"bar\"}, {\"alignmentgroup\": \"True\", \"hovertemplate\": \"category=%{x}<br>date=2018-08-01<br>rate=%{y}<extra></extra>\", \"ids\": [\"White men\"], \"legendgroup\": \"White men\", \"marker\": {\"color\": \"#EF553B\"}, \"name\": \"White men\", \"offsetgroup\": \"White men\", \"orientation\": \"v\", \"showlegend\": true, \"textposition\": \"auto\", \"x\": [\"White men\"], \"xaxis\": \"x\", \"y\": [3.0], \"yaxis\": \"y\", \"type\": \"bar\"}, {\"alignmentgroup\": \"True\", \"hovertemplate\": \"category=%{x}<br>date=2018-08-01<br>rate=%{y}<extra></extra>\", \"ids\": [\"White women\"], \"legendgroup\": \"White women\", \"marker\": {\"color\": \"#00cc96\"}, \"name\": \"White women\", \"offsetgroup\": \"White women\", \"orientation\": \"v\", \"showlegend\": true, \"textposition\": \"auto\", \"x\": [\"White women\"], \"xaxis\": \"x\", \"y\": [3.1], \"yaxis\": \"y\", \"type\": \"bar\"}, {\"alignmentgroup\": \"True\", \"hovertemplate\": \"category=%{x}<br>date=2018-08-01<br>rate=%{y}<extra></extra>\", \"ids\": [\"Black men\"], \"legendgroup\": \"Black men\", \"marker\": {\"color\": \"#ab63fa\"}, \"name\": \"Black men\", \"offsetgroup\": \"Black men\", \"orientation\": \"v\", \"showlegend\": true, \"textposition\": \"auto\", \"x\": [\"Black men\"], \"xaxis\": \"x\", \"y\": [5.9], \"yaxis\": \"y\", \"type\": \"bar\"}, {\"alignmentgroup\": \"True\", \"hovertemplate\": \"category=%{x}<br>date=2018-08-01<br>rate=%{y}<extra></extra>\", \"ids\": [\"Black women\"], \"legendgroup\": \"Black women\", \"marker\": {\"color\": \"#FFA15A\"}, \"name\": \"Black women\", \"offsetgroup\": \"Black women\", \"orientation\": \"v\", \"showlegend\": true, \"textposition\": \"auto\", \"x\": [\"Black women\"], \"xaxis\": \"x\", \"y\": [5.9], \"yaxis\": \"y\", \"type\": \"bar\"}, {\"alignmentgroup\": \"True\", \"hovertemplate\": \"category=%{x}<br>date=2018-08-01<br>rate=%{y}<extra></extra>\", \"ids\": [\"Hispanic men\"], \"legendgroup\": \"Hispanic men\", \"marker\": {\"color\": \"#19d3f3\"}, \"name\": \"Hispanic men\", \"offsetgroup\": \"Hispanic men\", \"orientation\": \"v\", \"showlegend\": true, \"textposition\": \"auto\", \"x\": [\"Hispanic men\"], \"xaxis\": \"x\", \"y\": [3.4], \"yaxis\": \"y\", \"type\": \"bar\"}, {\"alignmentgroup\": \"True\", \"hovertemplate\": \"category=%{x}<br>date=2018-08-01<br>rate=%{y}<extra></extra>\", \"ids\": [\"Hispanic women\"], \"legendgroup\": \"Hispanic women\", \"marker\": {\"color\": \"#FF6692\"}, \"name\": \"Hispanic women\", \"offsetgroup\": \"Hispanic women\", \"orientation\": \"v\", \"showlegend\": true, \"textposition\": \"auto\", \"x\": [\"Hispanic women\"], \"xaxis\": \"x\", \"y\": [5.3], \"yaxis\": \"y\", \"type\": \"bar\"}], \"name\": \"2018-08-01\"}, {\"data\": [{\"alignmentgroup\": \"True\", \"hovertemplate\": \"category=%{x}<br>date=2018-09-01<br>rate=%{y}<extra></extra>\", \"ids\": [\"Average\"], \"legendgroup\": \"Average\", \"marker\": {\"color\": \"#636efa\"}, \"name\": \"Average\", \"offsetgroup\": \"Average\", \"orientation\": \"v\", \"showlegend\": true, \"textposition\": \"auto\", \"x\": [\"Average\"], \"xaxis\": \"x\", \"y\": [3.4], \"yaxis\": \"y\", \"type\": \"bar\"}, {\"alignmentgroup\": \"True\", \"hovertemplate\": \"category=%{x}<br>date=2018-09-01<br>rate=%{y}<extra></extra>\", \"ids\": [\"White men\"], \"legendgroup\": \"White men\", \"marker\": {\"color\": \"#EF553B\"}, \"name\": \"White men\", \"offsetgroup\": \"White men\", \"orientation\": \"v\", \"showlegend\": true, \"textposition\": \"auto\", \"x\": [\"White men\"], \"xaxis\": \"x\", \"y\": [3.0], \"yaxis\": \"y\", \"type\": \"bar\"}, {\"alignmentgroup\": \"True\", \"hovertemplate\": \"category=%{x}<br>date=2018-09-01<br>rate=%{y}<extra></extra>\", \"ids\": [\"White women\"], \"legendgroup\": \"White women\", \"marker\": {\"color\": \"#00cc96\"}, \"name\": \"White women\", \"offsetgroup\": \"White women\", \"orientation\": \"v\", \"showlegend\": true, \"textposition\": \"auto\", \"x\": [\"White women\"], \"xaxis\": \"x\", \"y\": [2.9], \"yaxis\": \"y\", \"type\": \"bar\"}, {\"alignmentgroup\": \"True\", \"hovertemplate\": \"category=%{x}<br>date=2018-09-01<br>rate=%{y}<extra></extra>\", \"ids\": [\"Black men\"], \"legendgroup\": \"Black men\", \"marker\": {\"color\": \"#ab63fa\"}, \"name\": \"Black men\", \"offsetgroup\": \"Black men\", \"orientation\": \"v\", \"showlegend\": true, \"textposition\": \"auto\", \"x\": [\"Black men\"], \"xaxis\": \"x\", \"y\": [6.0], \"yaxis\": \"y\", \"type\": \"bar\"}, {\"alignmentgroup\": \"True\", \"hovertemplate\": \"category=%{x}<br>date=2018-09-01<br>rate=%{y}<extra></extra>\", \"ids\": [\"Black women\"], \"legendgroup\": \"Black women\", \"marker\": {\"color\": \"#FFA15A\"}, \"name\": \"Black women\", \"offsetgroup\": \"Black women\", \"orientation\": \"v\", \"showlegend\": true, \"textposition\": \"auto\", \"x\": [\"Black women\"], \"xaxis\": \"x\", \"y\": [5.4], \"yaxis\": \"y\", \"type\": \"bar\"}, {\"alignmentgroup\": \"True\", \"hovertemplate\": \"category=%{x}<br>date=2018-09-01<br>rate=%{y}<extra></extra>\", \"ids\": [\"Hispanic men\"], \"legendgroup\": \"Hispanic men\", \"marker\": {\"color\": \"#19d3f3\"}, \"name\": \"Hispanic men\", \"offsetgroup\": \"Hispanic men\", \"orientation\": \"v\", \"showlegend\": true, \"textposition\": \"auto\", \"x\": [\"Hispanic men\"], \"xaxis\": \"x\", \"y\": [3.4], \"yaxis\": \"y\", \"type\": \"bar\"}, {\"alignmentgroup\": \"True\", \"hovertemplate\": \"category=%{x}<br>date=2018-09-01<br>rate=%{y}<extra></extra>\", \"ids\": [\"Hispanic women\"], \"legendgroup\": \"Hispanic women\", \"marker\": {\"color\": \"#FF6692\"}, \"name\": \"Hispanic women\", \"offsetgroup\": \"Hispanic women\", \"orientation\": \"v\", \"showlegend\": true, \"textposition\": \"auto\", \"x\": [\"Hispanic women\"], \"xaxis\": \"x\", \"y\": [4.3], \"yaxis\": \"y\", \"type\": \"bar\"}], \"name\": \"2018-09-01\"}, {\"data\": [{\"alignmentgroup\": \"True\", \"hovertemplate\": \"category=%{x}<br>date=2018-10-01<br>rate=%{y}<extra></extra>\", \"ids\": [\"Average\"], \"legendgroup\": \"Average\", \"marker\": {\"color\": \"#636efa\"}, \"name\": \"Average\", \"offsetgroup\": \"Average\", \"orientation\": \"v\", \"showlegend\": true, \"textposition\": \"auto\", \"x\": [\"Average\"], \"xaxis\": \"x\", \"y\": [3.4], \"yaxis\": \"y\", \"type\": \"bar\"}, {\"alignmentgroup\": \"True\", \"hovertemplate\": \"category=%{x}<br>date=2018-10-01<br>rate=%{y}<extra></extra>\", \"ids\": [\"White men\"], \"legendgroup\": \"White men\", \"marker\": {\"color\": \"#EF553B\"}, \"name\": \"White men\", \"offsetgroup\": \"White men\", \"orientation\": \"v\", \"showlegend\": true, \"textposition\": \"auto\", \"x\": [\"White men\"], \"xaxis\": \"x\", \"y\": [3.0], \"yaxis\": \"y\", \"type\": \"bar\"}, {\"alignmentgroup\": \"True\", \"hovertemplate\": \"category=%{x}<br>date=2018-10-01<br>rate=%{y}<extra></extra>\", \"ids\": [\"White women\"], \"legendgroup\": \"White women\", \"marker\": {\"color\": \"#00cc96\"}, \"name\": \"White women\", \"offsetgroup\": \"White women\", \"orientation\": \"v\", \"showlegend\": true, \"textposition\": \"auto\", \"x\": [\"White women\"], \"xaxis\": \"x\", \"y\": [3.1], \"yaxis\": \"y\", \"type\": \"bar\"}, {\"alignmentgroup\": \"True\", \"hovertemplate\": \"category=%{x}<br>date=2018-10-01<br>rate=%{y}<extra></extra>\", \"ids\": [\"Black men\"], \"legendgroup\": \"Black men\", \"marker\": {\"color\": \"#ab63fa\"}, \"name\": \"Black men\", \"offsetgroup\": \"Black men\", \"orientation\": \"v\", \"showlegend\": true, \"textposition\": \"auto\", \"x\": [\"Black men\"], \"xaxis\": \"x\", \"y\": [6.4], \"yaxis\": \"y\", \"type\": \"bar\"}, {\"alignmentgroup\": \"True\", \"hovertemplate\": \"category=%{x}<br>date=2018-10-01<br>rate=%{y}<extra></extra>\", \"ids\": [\"Black women\"], \"legendgroup\": \"Black women\", \"marker\": {\"color\": \"#FFA15A\"}, \"name\": \"Black women\", \"offsetgroup\": \"Black women\", \"orientation\": \"v\", \"showlegend\": true, \"textposition\": \"auto\", \"x\": [\"Black women\"], \"xaxis\": \"x\", \"y\": [4.9], \"yaxis\": \"y\", \"type\": \"bar\"}, {\"alignmentgroup\": \"True\", \"hovertemplate\": \"category=%{x}<br>date=2018-10-01<br>rate=%{y}<extra></extra>\", \"ids\": [\"Hispanic men\"], \"legendgroup\": \"Hispanic men\", \"marker\": {\"color\": \"#19d3f3\"}, \"name\": \"Hispanic men\", \"offsetgroup\": \"Hispanic men\", \"orientation\": \"v\", \"showlegend\": true, \"textposition\": \"auto\", \"x\": [\"Hispanic men\"], \"xaxis\": \"x\", \"y\": [3.5], \"yaxis\": \"y\", \"type\": \"bar\"}, {\"alignmentgroup\": \"True\", \"hovertemplate\": \"category=%{x}<br>date=2018-10-01<br>rate=%{y}<extra></extra>\", \"ids\": [\"Hispanic women\"], \"legendgroup\": \"Hispanic women\", \"marker\": {\"color\": \"#FF6692\"}, \"name\": \"Hispanic women\", \"offsetgroup\": \"Hispanic women\", \"orientation\": \"v\", \"showlegend\": true, \"textposition\": \"auto\", \"x\": [\"Hispanic women\"], \"xaxis\": \"x\", \"y\": [4.0], \"yaxis\": \"y\", \"type\": \"bar\"}], \"name\": \"2018-10-01\"}, {\"data\": [{\"alignmentgroup\": \"True\", \"hovertemplate\": \"category=%{x}<br>date=2018-11-01<br>rate=%{y}<extra></extra>\", \"ids\": [\"Average\"], \"legendgroup\": \"Average\", \"marker\": {\"color\": \"#636efa\"}, \"name\": \"Average\", \"offsetgroup\": \"Average\", \"orientation\": \"v\", \"showlegend\": true, \"textposition\": \"auto\", \"x\": [\"Average\"], \"xaxis\": \"x\", \"y\": [3.4], \"yaxis\": \"y\", \"type\": \"bar\"}, {\"alignmentgroup\": \"True\", \"hovertemplate\": \"category=%{x}<br>date=2018-11-01<br>rate=%{y}<extra></extra>\", \"ids\": [\"White men\"], \"legendgroup\": \"White men\", \"marker\": {\"color\": \"#EF553B\"}, \"name\": \"White men\", \"offsetgroup\": \"White men\", \"orientation\": \"v\", \"showlegend\": true, \"textposition\": \"auto\", \"x\": [\"White men\"], \"xaxis\": \"x\", \"y\": [3.0], \"yaxis\": \"y\", \"type\": \"bar\"}, {\"alignmentgroup\": \"True\", \"hovertemplate\": \"category=%{x}<br>date=2018-11-01<br>rate=%{y}<extra></extra>\", \"ids\": [\"White women\"], \"legendgroup\": \"White women\", \"marker\": {\"color\": \"#00cc96\"}, \"name\": \"White women\", \"offsetgroup\": \"White women\", \"orientation\": \"v\", \"showlegend\": true, \"textposition\": \"auto\", \"x\": [\"White women\"], \"xaxis\": \"x\", \"y\": [3.2], \"yaxis\": \"y\", \"type\": \"bar\"}, {\"alignmentgroup\": \"True\", \"hovertemplate\": \"category=%{x}<br>date=2018-11-01<br>rate=%{y}<extra></extra>\", \"ids\": [\"Black men\"], \"legendgroup\": \"Black men\", \"marker\": {\"color\": \"#ab63fa\"}, \"name\": \"Black men\", \"offsetgroup\": \"Black men\", \"orientation\": \"v\", \"showlegend\": true, \"textposition\": \"auto\", \"x\": [\"Black men\"], \"xaxis\": \"x\", \"y\": [6.0], \"yaxis\": \"y\", \"type\": \"bar\"}, {\"alignmentgroup\": \"True\", \"hovertemplate\": \"category=%{x}<br>date=2018-11-01<br>rate=%{y}<extra></extra>\", \"ids\": [\"Black women\"], \"legendgroup\": \"Black women\", \"marker\": {\"color\": \"#FFA15A\"}, \"name\": \"Black women\", \"offsetgroup\": \"Black women\", \"orientation\": \"v\", \"showlegend\": true, \"textposition\": \"auto\", \"x\": [\"Black women\"], \"xaxis\": \"x\", \"y\": [5.0], \"yaxis\": \"y\", \"type\": \"bar\"}, {\"alignmentgroup\": \"True\", \"hovertemplate\": \"category=%{x}<br>date=2018-11-01<br>rate=%{y}<extra></extra>\", \"ids\": [\"Hispanic men\"], \"legendgroup\": \"Hispanic men\", \"marker\": {\"color\": \"#19d3f3\"}, \"name\": \"Hispanic men\", \"offsetgroup\": \"Hispanic men\", \"orientation\": \"v\", \"showlegend\": true, \"textposition\": \"auto\", \"x\": [\"Hispanic men\"], \"xaxis\": \"x\", \"y\": [3.3], \"yaxis\": \"y\", \"type\": \"bar\"}, {\"alignmentgroup\": \"True\", \"hovertemplate\": \"category=%{x}<br>date=2018-11-01<br>rate=%{y}<extra></extra>\", \"ids\": [\"Hispanic women\"], \"legendgroup\": \"Hispanic women\", \"marker\": {\"color\": \"#FF6692\"}, \"name\": \"Hispanic women\", \"offsetgroup\": \"Hispanic women\", \"orientation\": \"v\", \"showlegend\": true, \"textposition\": \"auto\", \"x\": [\"Hispanic women\"], \"xaxis\": \"x\", \"y\": [4.6], \"yaxis\": \"y\", \"type\": \"bar\"}], \"name\": \"2018-11-01\"}, {\"data\": [{\"alignmentgroup\": \"True\", \"hovertemplate\": \"category=%{x}<br>date=2018-12-01<br>rate=%{y}<extra></extra>\", \"ids\": [\"Average\"], \"legendgroup\": \"Average\", \"marker\": {\"color\": \"#636efa\"}, \"name\": \"Average\", \"offsetgroup\": \"Average\", \"orientation\": \"v\", \"showlegend\": true, \"textposition\": \"auto\", \"x\": [\"Average\"], \"xaxis\": \"x\", \"y\": [3.5], \"yaxis\": \"y\", \"type\": \"bar\"}, {\"alignmentgroup\": \"True\", \"hovertemplate\": \"category=%{x}<br>date=2018-12-01<br>rate=%{y}<extra></extra>\", \"ids\": [\"White men\"], \"legendgroup\": \"White men\", \"marker\": {\"color\": \"#EF553B\"}, \"name\": \"White men\", \"offsetgroup\": \"White men\", \"orientation\": \"v\", \"showlegend\": true, \"textposition\": \"auto\", \"x\": [\"White men\"], \"xaxis\": \"x\", \"y\": [3.1], \"yaxis\": \"y\", \"type\": \"bar\"}, {\"alignmentgroup\": \"True\", \"hovertemplate\": \"category=%{x}<br>date=2018-12-01<br>rate=%{y}<extra></extra>\", \"ids\": [\"White women\"], \"legendgroup\": \"White women\", \"marker\": {\"color\": \"#00cc96\"}, \"name\": \"White women\", \"offsetgroup\": \"White women\", \"orientation\": \"v\", \"showlegend\": true, \"textposition\": \"auto\", \"x\": [\"White women\"], \"xaxis\": \"x\", \"y\": [3.1], \"yaxis\": \"y\", \"type\": \"bar\"}, {\"alignmentgroup\": \"True\", \"hovertemplate\": \"category=%{x}<br>date=2018-12-01<br>rate=%{y}<extra></extra>\", \"ids\": [\"Black men\"], \"legendgroup\": \"Black men\", \"marker\": {\"color\": \"#ab63fa\"}, \"name\": \"Black men\", \"offsetgroup\": \"Black men\", \"orientation\": \"v\", \"showlegend\": true, \"textposition\": \"auto\", \"x\": [\"Black men\"], \"xaxis\": \"x\", \"y\": [6.4], \"yaxis\": \"y\", \"type\": \"bar\"}, {\"alignmentgroup\": \"True\", \"hovertemplate\": \"category=%{x}<br>date=2018-12-01<br>rate=%{y}<extra></extra>\", \"ids\": [\"Black women\"], \"legendgroup\": \"Black women\", \"marker\": {\"color\": \"#FFA15A\"}, \"name\": \"Black women\", \"offsetgroup\": \"Black women\", \"orientation\": \"v\", \"showlegend\": true, \"textposition\": \"auto\", \"x\": [\"Black women\"], \"xaxis\": \"x\", \"y\": [5.6], \"yaxis\": \"y\", \"type\": \"bar\"}, {\"alignmentgroup\": \"True\", \"hovertemplate\": \"category=%{x}<br>date=2018-12-01<br>rate=%{y}<extra></extra>\", \"ids\": [\"Hispanic men\"], \"legendgroup\": \"Hispanic men\", \"marker\": {\"color\": \"#19d3f3\"}, \"name\": \"Hispanic men\", \"offsetgroup\": \"Hispanic men\", \"orientation\": \"v\", \"showlegend\": true, \"textposition\": \"auto\", \"x\": [\"Hispanic men\"], \"xaxis\": \"x\", \"y\": [3.8], \"yaxis\": \"y\", \"type\": \"bar\"}, {\"alignmentgroup\": \"True\", \"hovertemplate\": \"category=%{x}<br>date=2018-12-01<br>rate=%{y}<extra></extra>\", \"ids\": [\"Hispanic women\"], \"legendgroup\": \"Hispanic women\", \"marker\": {\"color\": \"#FF6692\"}, \"name\": \"Hispanic women\", \"offsetgroup\": \"Hispanic women\", \"orientation\": \"v\", \"showlegend\": true, \"textposition\": \"auto\", \"x\": [\"Hispanic women\"], \"xaxis\": \"x\", \"y\": [4.0], \"yaxis\": \"y\", \"type\": \"bar\"}], \"name\": \"2018-12-01\"}, {\"data\": [{\"alignmentgroup\": \"True\", \"hovertemplate\": \"category=%{x}<br>date=2019-01-01<br>rate=%{y}<extra></extra>\", \"ids\": [\"Average\"], \"legendgroup\": \"Average\", \"marker\": {\"color\": \"#636efa\"}, \"name\": \"Average\", \"offsetgroup\": \"Average\", \"orientation\": \"v\", \"showlegend\": true, \"textposition\": \"auto\", \"x\": [\"Average\"], \"xaxis\": \"x\", \"y\": [3.7], \"yaxis\": \"y\", \"type\": \"bar\"}, {\"alignmentgroup\": \"True\", \"hovertemplate\": \"category=%{x}<br>date=2019-01-01<br>rate=%{y}<extra></extra>\", \"ids\": [\"White men\"], \"legendgroup\": \"White men\", \"marker\": {\"color\": \"#EF553B\"}, \"name\": \"White men\", \"offsetgroup\": \"White men\", \"orientation\": \"v\", \"showlegend\": true, \"textposition\": \"auto\", \"x\": [\"White men\"], \"xaxis\": \"x\", \"y\": [3.3], \"yaxis\": \"y\", \"type\": \"bar\"}, {\"alignmentgroup\": \"True\", \"hovertemplate\": \"category=%{x}<br>date=2019-01-01<br>rate=%{y}<extra></extra>\", \"ids\": [\"White women\"], \"legendgroup\": \"White women\", \"marker\": {\"color\": \"#00cc96\"}, \"name\": \"White women\", \"offsetgroup\": \"White women\", \"orientation\": \"v\", \"showlegend\": true, \"textposition\": \"auto\", \"x\": [\"White women\"], \"xaxis\": \"x\", \"y\": [3.2], \"yaxis\": \"y\", \"type\": \"bar\"}, {\"alignmentgroup\": \"True\", \"hovertemplate\": \"category=%{x}<br>date=2019-01-01<br>rate=%{y}<extra></extra>\", \"ids\": [\"Black men\"], \"legendgroup\": \"Black men\", \"marker\": {\"color\": \"#ab63fa\"}, \"name\": \"Black men\", \"offsetgroup\": \"Black men\", \"orientation\": \"v\", \"showlegend\": true, \"textposition\": \"auto\", \"x\": [\"Black men\"], \"xaxis\": \"x\", \"y\": [7.0], \"yaxis\": \"y\", \"type\": \"bar\"}, {\"alignmentgroup\": \"True\", \"hovertemplate\": \"category=%{x}<br>date=2019-01-01<br>rate=%{y}<extra></extra>\", \"ids\": [\"Black women\"], \"legendgroup\": \"Black women\", \"marker\": {\"color\": \"#FFA15A\"}, \"name\": \"Black women\", \"offsetgroup\": \"Black women\", \"orientation\": \"v\", \"showlegend\": true, \"textposition\": \"auto\", \"x\": [\"Black women\"], \"xaxis\": \"x\", \"y\": [5.5], \"yaxis\": \"y\", \"type\": \"bar\"}, {\"alignmentgroup\": \"True\", \"hovertemplate\": \"category=%{x}<br>date=2019-01-01<br>rate=%{y}<extra></extra>\", \"ids\": [\"Hispanic men\"], \"legendgroup\": \"Hispanic men\", \"marker\": {\"color\": \"#19d3f3\"}, \"name\": \"Hispanic men\", \"offsetgroup\": \"Hispanic men\", \"orientation\": \"v\", \"showlegend\": true, \"textposition\": \"auto\", \"x\": [\"Hispanic men\"], \"xaxis\": \"x\", \"y\": [5.2], \"yaxis\": \"y\", \"type\": \"bar\"}, {\"alignmentgroup\": \"True\", \"hovertemplate\": \"category=%{x}<br>date=2019-01-01<br>rate=%{y}<extra></extra>\", \"ids\": [\"Hispanic women\"], \"legendgroup\": \"Hispanic women\", \"marker\": {\"color\": \"#FF6692\"}, \"name\": \"Hispanic women\", \"offsetgroup\": \"Hispanic women\", \"orientation\": \"v\", \"showlegend\": true, \"textposition\": \"auto\", \"x\": [\"Hispanic women\"], \"xaxis\": \"x\", \"y\": [5.1], \"yaxis\": \"y\", \"type\": \"bar\"}], \"name\": \"2019-01-01\"}, {\"data\": [{\"alignmentgroup\": \"True\", \"hovertemplate\": \"category=%{x}<br>date=2019-02-01<br>rate=%{y}<extra></extra>\", \"ids\": [\"Average\"], \"legendgroup\": \"Average\", \"marker\": {\"color\": \"#636efa\"}, \"name\": \"Average\", \"offsetgroup\": \"Average\", \"orientation\": \"v\", \"showlegend\": true, \"textposition\": \"auto\", \"x\": [\"Average\"], \"xaxis\": \"x\", \"y\": [3.4], \"yaxis\": \"y\", \"type\": \"bar\"}, {\"alignmentgroup\": \"True\", \"hovertemplate\": \"category=%{x}<br>date=2019-02-01<br>rate=%{y}<extra></extra>\", \"ids\": [\"White men\"], \"legendgroup\": \"White men\", \"marker\": {\"color\": \"#EF553B\"}, \"name\": \"White men\", \"offsetgroup\": \"White men\", \"orientation\": \"v\", \"showlegend\": true, \"textposition\": \"auto\", \"x\": [\"White men\"], \"xaxis\": \"x\", \"y\": [3.0], \"yaxis\": \"y\", \"type\": \"bar\"}, {\"alignmentgroup\": \"True\", \"hovertemplate\": \"category=%{x}<br>date=2019-02-01<br>rate=%{y}<extra></extra>\", \"ids\": [\"White women\"], \"legendgroup\": \"White women\", \"marker\": {\"color\": \"#00cc96\"}, \"name\": \"White women\", \"offsetgroup\": \"White women\", \"orientation\": \"v\", \"showlegend\": true, \"textposition\": \"auto\", \"x\": [\"White women\"], \"xaxis\": \"x\", \"y\": [3.0], \"yaxis\": \"y\", \"type\": \"bar\"}, {\"alignmentgroup\": \"True\", \"hovertemplate\": \"category=%{x}<br>date=2019-02-01<br>rate=%{y}<extra></extra>\", \"ids\": [\"Black men\"], \"legendgroup\": \"Black men\", \"marker\": {\"color\": \"#ab63fa\"}, \"name\": \"Black men\", \"offsetgroup\": \"Black men\", \"orientation\": \"v\", \"showlegend\": true, \"textposition\": \"auto\", \"x\": [\"Black men\"], \"xaxis\": \"x\", \"y\": [7.1], \"yaxis\": \"y\", \"type\": \"bar\"}, {\"alignmentgroup\": \"True\", \"hovertemplate\": \"category=%{x}<br>date=2019-02-01<br>rate=%{y}<extra></extra>\", \"ids\": [\"Black women\"], \"legendgroup\": \"Black women\", \"marker\": {\"color\": \"#FFA15A\"}, \"name\": \"Black women\", \"offsetgroup\": \"Black women\", \"orientation\": \"v\", \"showlegend\": true, \"textposition\": \"auto\", \"x\": [\"Black women\"], \"xaxis\": \"x\", \"y\": [5.2], \"yaxis\": \"y\", \"type\": \"bar\"}, {\"alignmentgroup\": \"True\", \"hovertemplate\": \"category=%{x}<br>date=2019-02-01<br>rate=%{y}<extra></extra>\", \"ids\": [\"Hispanic men\"], \"legendgroup\": \"Hispanic men\", \"marker\": {\"color\": \"#19d3f3\"}, \"name\": \"Hispanic men\", \"offsetgroup\": \"Hispanic men\", \"orientation\": \"v\", \"showlegend\": true, \"textposition\": \"auto\", \"x\": [\"Hispanic men\"], \"xaxis\": \"x\", \"y\": [4.3], \"yaxis\": \"y\", \"type\": \"bar\"}, {\"alignmentgroup\": \"True\", \"hovertemplate\": \"category=%{x}<br>date=2019-02-01<br>rate=%{y}<extra></extra>\", \"ids\": [\"Hispanic women\"], \"legendgroup\": \"Hispanic women\", \"marker\": {\"color\": \"#FF6692\"}, \"name\": \"Hispanic women\", \"offsetgroup\": \"Hispanic women\", \"orientation\": \"v\", \"showlegend\": true, \"textposition\": \"auto\", \"x\": [\"Hispanic women\"], \"xaxis\": \"x\", \"y\": [4.0], \"yaxis\": \"y\", \"type\": \"bar\"}], \"name\": \"2019-02-01\"}, {\"data\": [{\"alignmentgroup\": \"True\", \"hovertemplate\": \"category=%{x}<br>date=2019-03-01<br>rate=%{y}<extra></extra>\", \"ids\": [\"Average\"], \"legendgroup\": \"Average\", \"marker\": {\"color\": \"#636efa\"}, \"name\": \"Average\", \"offsetgroup\": \"Average\", \"orientation\": \"v\", \"showlegend\": true, \"textposition\": \"auto\", \"x\": [\"Average\"], \"xaxis\": \"x\", \"y\": [3.5], \"yaxis\": \"y\", \"type\": \"bar\"}, {\"alignmentgroup\": \"True\", \"hovertemplate\": \"category=%{x}<br>date=2019-03-01<br>rate=%{y}<extra></extra>\", \"ids\": [\"White men\"], \"legendgroup\": \"White men\", \"marker\": {\"color\": \"#EF553B\"}, \"name\": \"White men\", \"offsetgroup\": \"White men\", \"orientation\": \"v\", \"showlegend\": true, \"textposition\": \"auto\", \"x\": [\"White men\"], \"xaxis\": \"x\", \"y\": [3.2], \"yaxis\": \"y\", \"type\": \"bar\"}, {\"alignmentgroup\": \"True\", \"hovertemplate\": \"category=%{x}<br>date=2019-03-01<br>rate=%{y}<extra></extra>\", \"ids\": [\"White women\"], \"legendgroup\": \"White women\", \"marker\": {\"color\": \"#00cc96\"}, \"name\": \"White women\", \"offsetgroup\": \"White women\", \"orientation\": \"v\", \"showlegend\": true, \"textposition\": \"auto\", \"x\": [\"White women\"], \"xaxis\": \"x\", \"y\": [3.0], \"yaxis\": \"y\", \"type\": \"bar\"}, {\"alignmentgroup\": \"True\", \"hovertemplate\": \"category=%{x}<br>date=2019-03-01<br>rate=%{y}<extra></extra>\", \"ids\": [\"Black men\"], \"legendgroup\": \"Black men\", \"marker\": {\"color\": \"#ab63fa\"}, \"name\": \"Black men\", \"offsetgroup\": \"Black men\", \"orientation\": \"v\", \"showlegend\": true, \"textposition\": \"auto\", \"x\": [\"Black men\"], \"xaxis\": \"x\", \"y\": [6.7], \"yaxis\": \"y\", \"type\": \"bar\"}, {\"alignmentgroup\": \"True\", \"hovertemplate\": \"category=%{x}<br>date=2019-03-01<br>rate=%{y}<extra></extra>\", \"ids\": [\"Black women\"], \"legendgroup\": \"Black women\", \"marker\": {\"color\": \"#FFA15A\"}, \"name\": \"Black women\", \"offsetgroup\": \"Black women\", \"orientation\": \"v\", \"showlegend\": true, \"textposition\": \"auto\", \"x\": [\"Black women\"], \"xaxis\": \"x\", \"y\": [5.3], \"yaxis\": \"y\", \"type\": \"bar\"}, {\"alignmentgroup\": \"True\", \"hovertemplate\": \"category=%{x}<br>date=2019-03-01<br>rate=%{y}<extra></extra>\", \"ids\": [\"Hispanic men\"], \"legendgroup\": \"Hispanic men\", \"marker\": {\"color\": \"#19d3f3\"}, \"name\": \"Hispanic men\", \"offsetgroup\": \"Hispanic men\", \"orientation\": \"v\", \"showlegend\": true, \"textposition\": \"auto\", \"x\": [\"Hispanic men\"], \"xaxis\": \"x\", \"y\": [4.6], \"yaxis\": \"y\", \"type\": \"bar\"}, {\"alignmentgroup\": \"True\", \"hovertemplate\": \"category=%{x}<br>date=2019-03-01<br>rate=%{y}<extra></extra>\", \"ids\": [\"Hispanic women\"], \"legendgroup\": \"Hispanic women\", \"marker\": {\"color\": \"#FF6692\"}, \"name\": \"Hispanic women\", \"offsetgroup\": \"Hispanic women\", \"orientation\": \"v\", \"showlegend\": true, \"textposition\": \"auto\", \"x\": [\"Hispanic women\"], \"xaxis\": \"x\", \"y\": [4.4], \"yaxis\": \"y\", \"type\": \"bar\"}], \"name\": \"2019-03-01\"}, {\"data\": [{\"alignmentgroup\": \"True\", \"hovertemplate\": \"category=%{x}<br>date=2019-04-01<br>rate=%{y}<extra></extra>\", \"ids\": [\"Average\"], \"legendgroup\": \"Average\", \"marker\": {\"color\": \"#636efa\"}, \"name\": \"Average\", \"offsetgroup\": \"Average\", \"orientation\": \"v\", \"showlegend\": true, \"textposition\": \"auto\", \"x\": [\"Average\"], \"xaxis\": \"x\", \"y\": [3.3], \"yaxis\": \"y\", \"type\": \"bar\"}, {\"alignmentgroup\": \"True\", \"hovertemplate\": \"category=%{x}<br>date=2019-04-01<br>rate=%{y}<extra></extra>\", \"ids\": [\"White men\"], \"legendgroup\": \"White men\", \"marker\": {\"color\": \"#EF553B\"}, \"name\": \"White men\", \"offsetgroup\": \"White men\", \"orientation\": \"v\", \"showlegend\": true, \"textposition\": \"auto\", \"x\": [\"White men\"], \"xaxis\": \"x\", \"y\": [2.9], \"yaxis\": \"y\", \"type\": \"bar\"}, {\"alignmentgroup\": \"True\", \"hovertemplate\": \"category=%{x}<br>date=2019-04-01<br>rate=%{y}<extra></extra>\", \"ids\": [\"White women\"], \"legendgroup\": \"White women\", \"marker\": {\"color\": \"#00cc96\"}, \"name\": \"White women\", \"offsetgroup\": \"White women\", \"orientation\": \"v\", \"showlegend\": true, \"textposition\": \"auto\", \"x\": [\"White women\"], \"xaxis\": \"x\", \"y\": [2.8], \"yaxis\": \"y\", \"type\": \"bar\"}, {\"alignmentgroup\": \"True\", \"hovertemplate\": \"category=%{x}<br>date=2019-04-01<br>rate=%{y}<extra></extra>\", \"ids\": [\"Black men\"], \"legendgroup\": \"Black men\", \"marker\": {\"color\": \"#ab63fa\"}, \"name\": \"Black men\", \"offsetgroup\": \"Black men\", \"orientation\": \"v\", \"showlegend\": true, \"textposition\": \"auto\", \"x\": [\"Black men\"], \"xaxis\": \"x\", \"y\": [6.6], \"yaxis\": \"y\", \"type\": \"bar\"}, {\"alignmentgroup\": \"True\", \"hovertemplate\": \"category=%{x}<br>date=2019-04-01<br>rate=%{y}<extra></extra>\", \"ids\": [\"Black women\"], \"legendgroup\": \"Black women\", \"marker\": {\"color\": \"#FFA15A\"}, \"name\": \"Black women\", \"offsetgroup\": \"Black women\", \"orientation\": \"v\", \"showlegend\": true, \"textposition\": \"auto\", \"x\": [\"Black women\"], \"xaxis\": \"x\", \"y\": [5.3], \"yaxis\": \"y\", \"type\": \"bar\"}, {\"alignmentgroup\": \"True\", \"hovertemplate\": \"category=%{x}<br>date=2019-04-01<br>rate=%{y}<extra></extra>\", \"ids\": [\"Hispanic men\"], \"legendgroup\": \"Hispanic men\", \"marker\": {\"color\": \"#19d3f3\"}, \"name\": \"Hispanic men\", \"offsetgroup\": \"Hispanic men\", \"orientation\": \"v\", \"showlegend\": true, \"textposition\": \"auto\", \"x\": [\"Hispanic men\"], \"xaxis\": \"x\", \"y\": [3.3], \"yaxis\": \"y\", \"type\": \"bar\"}, {\"alignmentgroup\": \"True\", \"hovertemplate\": \"category=%{x}<br>date=2019-04-01<br>rate=%{y}<extra></extra>\", \"ids\": [\"Hispanic women\"], \"legendgroup\": \"Hispanic women\", \"marker\": {\"color\": \"#FF6692\"}, \"name\": \"Hispanic women\", \"offsetgroup\": \"Hispanic women\", \"orientation\": \"v\", \"showlegend\": true, \"textposition\": \"auto\", \"x\": [\"Hispanic women\"], \"xaxis\": \"x\", \"y\": [3.4], \"yaxis\": \"y\", \"type\": \"bar\"}], \"name\": \"2019-04-01\"}, {\"data\": [{\"alignmentgroup\": \"True\", \"hovertemplate\": \"category=%{x}<br>date=2019-05-01<br>rate=%{y}<extra></extra>\", \"ids\": [\"Average\"], \"legendgroup\": \"Average\", \"marker\": {\"color\": \"#636efa\"}, \"name\": \"Average\", \"offsetgroup\": \"Average\", \"orientation\": \"v\", \"showlegend\": true, \"textposition\": \"auto\", \"x\": [\"Average\"], \"xaxis\": \"x\", \"y\": [3.3], \"yaxis\": \"y\", \"type\": \"bar\"}, {\"alignmentgroup\": \"True\", \"hovertemplate\": \"category=%{x}<br>date=2019-05-01<br>rate=%{y}<extra></extra>\", \"ids\": [\"White men\"], \"legendgroup\": \"White men\", \"marker\": {\"color\": \"#EF553B\"}, \"name\": \"White men\", \"offsetgroup\": \"White men\", \"orientation\": \"v\", \"showlegend\": true, \"textposition\": \"auto\", \"x\": [\"White men\"], \"xaxis\": \"x\", \"y\": [2.9], \"yaxis\": \"y\", \"type\": \"bar\"}, {\"alignmentgroup\": \"True\", \"hovertemplate\": \"category=%{x}<br>date=2019-05-01<br>rate=%{y}<extra></extra>\", \"ids\": [\"White women\"], \"legendgroup\": \"White women\", \"marker\": {\"color\": \"#00cc96\"}, \"name\": \"White women\", \"offsetgroup\": \"White women\", \"orientation\": \"v\", \"showlegend\": true, \"textposition\": \"auto\", \"x\": [\"White women\"], \"xaxis\": \"x\", \"y\": [3.0], \"yaxis\": \"y\", \"type\": \"bar\"}, {\"alignmentgroup\": \"True\", \"hovertemplate\": \"category=%{x}<br>date=2019-05-01<br>rate=%{y}<extra></extra>\", \"ids\": [\"Black men\"], \"legendgroup\": \"Black men\", \"marker\": {\"color\": \"#ab63fa\"}, \"name\": \"Black men\", \"offsetgroup\": \"Black men\", \"orientation\": \"v\", \"showlegend\": true, \"textposition\": \"auto\", \"x\": [\"Black men\"], \"xaxis\": \"x\", \"y\": [6.1], \"yaxis\": \"y\", \"type\": \"bar\"}, {\"alignmentgroup\": \"True\", \"hovertemplate\": \"category=%{x}<br>date=2019-05-01<br>rate=%{y}<extra></extra>\", \"ids\": [\"Black women\"], \"legendgroup\": \"Black women\", \"marker\": {\"color\": \"#FFA15A\"}, \"name\": \"Black women\", \"offsetgroup\": \"Black women\", \"orientation\": \"v\", \"showlegend\": true, \"textposition\": \"auto\", \"x\": [\"Black women\"], \"xaxis\": \"x\", \"y\": [5.1], \"yaxis\": \"y\", \"type\": \"bar\"}, {\"alignmentgroup\": \"True\", \"hovertemplate\": \"category=%{x}<br>date=2019-05-01<br>rate=%{y}<extra></extra>\", \"ids\": [\"Hispanic men\"], \"legendgroup\": \"Hispanic men\", \"marker\": {\"color\": \"#19d3f3\"}, \"name\": \"Hispanic men\", \"offsetgroup\": \"Hispanic men\", \"orientation\": \"v\", \"showlegend\": true, \"textposition\": \"auto\", \"x\": [\"Hispanic men\"], \"xaxis\": \"x\", \"y\": [3.1], \"yaxis\": \"y\", \"type\": \"bar\"}, {\"alignmentgroup\": \"True\", \"hovertemplate\": \"category=%{x}<br>date=2019-05-01<br>rate=%{y}<extra></extra>\", \"ids\": [\"Hispanic women\"], \"legendgroup\": \"Hispanic women\", \"marker\": {\"color\": \"#FF6692\"}, \"name\": \"Hispanic women\", \"offsetgroup\": \"Hispanic women\", \"orientation\": \"v\", \"showlegend\": true, \"textposition\": \"auto\", \"x\": [\"Hispanic women\"], \"xaxis\": \"x\", \"y\": [3.7], \"yaxis\": \"y\", \"type\": \"bar\"}], \"name\": \"2019-05-01\"}, {\"data\": [{\"alignmentgroup\": \"True\", \"hovertemplate\": \"category=%{x}<br>date=2019-06-01<br>rate=%{y}<extra></extra>\", \"ids\": [\"Average\"], \"legendgroup\": \"Average\", \"marker\": {\"color\": \"#636efa\"}, \"name\": \"Average\", \"offsetgroup\": \"Average\", \"orientation\": \"v\", \"showlegend\": true, \"textposition\": \"auto\", \"x\": [\"Average\"], \"xaxis\": \"x\", \"y\": [3.3], \"yaxis\": \"y\", \"type\": \"bar\"}, {\"alignmentgroup\": \"True\", \"hovertemplate\": \"category=%{x}<br>date=2019-06-01<br>rate=%{y}<extra></extra>\", \"ids\": [\"White men\"], \"legendgroup\": \"White men\", \"marker\": {\"color\": \"#EF553B\"}, \"name\": \"White men\", \"offsetgroup\": \"White men\", \"orientation\": \"v\", \"showlegend\": true, \"textposition\": \"auto\", \"x\": [\"White men\"], \"xaxis\": \"x\", \"y\": [2.9], \"yaxis\": \"y\", \"type\": \"bar\"}, {\"alignmentgroup\": \"True\", \"hovertemplate\": \"category=%{x}<br>date=2019-06-01<br>rate=%{y}<extra></extra>\", \"ids\": [\"White women\"], \"legendgroup\": \"White women\", \"marker\": {\"color\": \"#00cc96\"}, \"name\": \"White women\", \"offsetgroup\": \"White women\", \"orientation\": \"v\", \"showlegend\": true, \"textposition\": \"auto\", \"x\": [\"White women\"], \"xaxis\": \"x\", \"y\": [3.1], \"yaxis\": \"y\", \"type\": \"bar\"}, {\"alignmentgroup\": \"True\", \"hovertemplate\": \"category=%{x}<br>date=2019-06-01<br>rate=%{y}<extra></extra>\", \"ids\": [\"Black men\"], \"legendgroup\": \"Black men\", \"marker\": {\"color\": \"#ab63fa\"}, \"name\": \"Black men\", \"offsetgroup\": \"Black men\", \"orientation\": \"v\", \"showlegend\": true, \"textposition\": \"auto\", \"x\": [\"Black men\"], \"xaxis\": \"x\", \"y\": [5.7], \"yaxis\": \"y\", \"type\": \"bar\"}, {\"alignmentgroup\": \"True\", \"hovertemplate\": \"category=%{x}<br>date=2019-06-01<br>rate=%{y}<extra></extra>\", \"ids\": [\"Black women\"], \"legendgroup\": \"Black women\", \"marker\": {\"color\": \"#FFA15A\"}, \"name\": \"Black women\", \"offsetgroup\": \"Black women\", \"orientation\": \"v\", \"showlegend\": true, \"textposition\": \"auto\", \"x\": [\"Black women\"], \"xaxis\": \"x\", \"y\": [5.2], \"yaxis\": \"y\", \"type\": \"bar\"}, {\"alignmentgroup\": \"True\", \"hovertemplate\": \"category=%{x}<br>date=2019-06-01<br>rate=%{y}<extra></extra>\", \"ids\": [\"Hispanic men\"], \"legendgroup\": \"Hispanic men\", \"marker\": {\"color\": \"#19d3f3\"}, \"name\": \"Hispanic men\", \"offsetgroup\": \"Hispanic men\", \"orientation\": \"v\", \"showlegend\": true, \"textposition\": \"auto\", \"x\": [\"Hispanic men\"], \"xaxis\": \"x\", \"y\": [3.3], \"yaxis\": \"y\", \"type\": \"bar\"}, {\"alignmentgroup\": \"True\", \"hovertemplate\": \"category=%{x}<br>date=2019-06-01<br>rate=%{y}<extra></extra>\", \"ids\": [\"Hispanic women\"], \"legendgroup\": \"Hispanic women\", \"marker\": {\"color\": \"#FF6692\"}, \"name\": \"Hispanic women\", \"offsetgroup\": \"Hispanic women\", \"orientation\": \"v\", \"showlegend\": true, \"textposition\": \"auto\", \"x\": [\"Hispanic women\"], \"xaxis\": \"x\", \"y\": [4.3], \"yaxis\": \"y\", \"type\": \"bar\"}], \"name\": \"2019-06-01\"}, {\"data\": [{\"alignmentgroup\": \"True\", \"hovertemplate\": \"category=%{x}<br>date=2019-07-01<br>rate=%{y}<extra></extra>\", \"ids\": [\"Average\"], \"legendgroup\": \"Average\", \"marker\": {\"color\": \"#636efa\"}, \"name\": \"Average\", \"offsetgroup\": \"Average\", \"orientation\": \"v\", \"showlegend\": true, \"textposition\": \"auto\", \"x\": [\"Average\"], \"xaxis\": \"x\", \"y\": [3.3], \"yaxis\": \"y\", \"type\": \"bar\"}, {\"alignmentgroup\": \"True\", \"hovertemplate\": \"category=%{x}<br>date=2019-07-01<br>rate=%{y}<extra></extra>\", \"ids\": [\"White men\"], \"legendgroup\": \"White men\", \"marker\": {\"color\": \"#EF553B\"}, \"name\": \"White men\", \"offsetgroup\": \"White men\", \"orientation\": \"v\", \"showlegend\": true, \"textposition\": \"auto\", \"x\": [\"White men\"], \"xaxis\": \"x\", \"y\": [3.0], \"yaxis\": \"y\", \"type\": \"bar\"}, {\"alignmentgroup\": \"True\", \"hovertemplate\": \"category=%{x}<br>date=2019-07-01<br>rate=%{y}<extra></extra>\", \"ids\": [\"White women\"], \"legendgroup\": \"White women\", \"marker\": {\"color\": \"#00cc96\"}, \"name\": \"White women\", \"offsetgroup\": \"White women\", \"orientation\": \"v\", \"showlegend\": true, \"textposition\": \"auto\", \"x\": [\"White women\"], \"xaxis\": \"x\", \"y\": [3.0], \"yaxis\": \"y\", \"type\": \"bar\"}, {\"alignmentgroup\": \"True\", \"hovertemplate\": \"category=%{x}<br>date=2019-07-01<br>rate=%{y}<extra></extra>\", \"ids\": [\"Black men\"], \"legendgroup\": \"Black men\", \"marker\": {\"color\": \"#ab63fa\"}, \"name\": \"Black men\", \"offsetgroup\": \"Black men\", \"orientation\": \"v\", \"showlegend\": true, \"textposition\": \"auto\", \"x\": [\"Black men\"], \"xaxis\": \"x\", \"y\": [5.7], \"yaxis\": \"y\", \"type\": \"bar\"}, {\"alignmentgroup\": \"True\", \"hovertemplate\": \"category=%{x}<br>date=2019-07-01<br>rate=%{y}<extra></extra>\", \"ids\": [\"Black women\"], \"legendgroup\": \"Black women\", \"marker\": {\"color\": \"#FFA15A\"}, \"name\": \"Black women\", \"offsetgroup\": \"Black women\", \"orientation\": \"v\", \"showlegend\": true, \"textposition\": \"auto\", \"x\": [\"Black women\"], \"xaxis\": \"x\", \"y\": [5.2], \"yaxis\": \"y\", \"type\": \"bar\"}, {\"alignmentgroup\": \"True\", \"hovertemplate\": \"category=%{x}<br>date=2019-07-01<br>rate=%{y}<extra></extra>\", \"ids\": [\"Hispanic men\"], \"legendgroup\": \"Hispanic men\", \"marker\": {\"color\": \"#19d3f3\"}, \"name\": \"Hispanic men\", \"offsetgroup\": \"Hispanic men\", \"orientation\": \"v\", \"showlegend\": true, \"textposition\": \"auto\", \"x\": [\"Hispanic men\"], \"xaxis\": \"x\", \"y\": [3.6], \"yaxis\": \"y\", \"type\": \"bar\"}, {\"alignmentgroup\": \"True\", \"hovertemplate\": \"category=%{x}<br>date=2019-07-01<br>rate=%{y}<extra></extra>\", \"ids\": [\"Hispanic women\"], \"legendgroup\": \"Hispanic women\", \"marker\": {\"color\": \"#FF6692\"}, \"name\": \"Hispanic women\", \"offsetgroup\": \"Hispanic women\", \"orientation\": \"v\", \"showlegend\": true, \"textposition\": \"auto\", \"x\": [\"Hispanic women\"], \"xaxis\": \"x\", \"y\": [4.1], \"yaxis\": \"y\", \"type\": \"bar\"}], \"name\": \"2019-07-01\"}, {\"data\": [{\"alignmentgroup\": \"True\", \"hovertemplate\": \"category=%{x}<br>date=2019-08-01<br>rate=%{y}<extra></extra>\", \"ids\": [\"Average\"], \"legendgroup\": \"Average\", \"marker\": {\"color\": \"#636efa\"}, \"name\": \"Average\", \"offsetgroup\": \"Average\", \"orientation\": \"v\", \"showlegend\": true, \"textposition\": \"auto\", \"x\": [\"Average\"], \"xaxis\": \"x\", \"y\": [3.3], \"yaxis\": \"y\", \"type\": \"bar\"}, {\"alignmentgroup\": \"True\", \"hovertemplate\": \"category=%{x}<br>date=2019-08-01<br>rate=%{y}<extra></extra>\", \"ids\": [\"White men\"], \"legendgroup\": \"White men\", \"marker\": {\"color\": \"#EF553B\"}, \"name\": \"White men\", \"offsetgroup\": \"White men\", \"orientation\": \"v\", \"showlegend\": true, \"textposition\": \"auto\", \"x\": [\"White men\"], \"xaxis\": \"x\", \"y\": [3.0], \"yaxis\": \"y\", \"type\": \"bar\"}, {\"alignmentgroup\": \"True\", \"hovertemplate\": \"category=%{x}<br>date=2019-08-01<br>rate=%{y}<extra></extra>\", \"ids\": [\"White women\"], \"legendgroup\": \"White women\", \"marker\": {\"color\": \"#00cc96\"}, \"name\": \"White women\", \"offsetgroup\": \"White women\", \"orientation\": \"v\", \"showlegend\": true, \"textposition\": \"auto\", \"x\": [\"White women\"], \"xaxis\": \"x\", \"y\": [3.2], \"yaxis\": \"y\", \"type\": \"bar\"}, {\"alignmentgroup\": \"True\", \"hovertemplate\": \"category=%{x}<br>date=2019-08-01<br>rate=%{y}<extra></extra>\", \"ids\": [\"Black men\"], \"legendgroup\": \"Black men\", \"marker\": {\"color\": \"#ab63fa\"}, \"name\": \"Black men\", \"offsetgroup\": \"Black men\", \"orientation\": \"v\", \"showlegend\": true, \"textposition\": \"auto\", \"x\": [\"Black men\"], \"xaxis\": \"x\", \"y\": [5.8], \"yaxis\": \"y\", \"type\": \"bar\"}, {\"alignmentgroup\": \"True\", \"hovertemplate\": \"category=%{x}<br>date=2019-08-01<br>rate=%{y}<extra></extra>\", \"ids\": [\"Black women\"], \"legendgroup\": \"Black women\", \"marker\": {\"color\": \"#FFA15A\"}, \"name\": \"Black women\", \"offsetgroup\": \"Black women\", \"orientation\": \"v\", \"showlegend\": true, \"textposition\": \"auto\", \"x\": [\"Black women\"], \"xaxis\": \"x\", \"y\": [4.4], \"yaxis\": \"y\", \"type\": \"bar\"}, {\"alignmentgroup\": \"True\", \"hovertemplate\": \"category=%{x}<br>date=2019-08-01<br>rate=%{y}<extra></extra>\", \"ids\": [\"Hispanic men\"], \"legendgroup\": \"Hispanic men\", \"marker\": {\"color\": \"#19d3f3\"}, \"name\": \"Hispanic men\", \"offsetgroup\": \"Hispanic men\", \"orientation\": \"v\", \"showlegend\": true, \"textposition\": \"auto\", \"x\": [\"Hispanic men\"], \"xaxis\": \"x\", \"y\": [3.1], \"yaxis\": \"y\", \"type\": \"bar\"}, {\"alignmentgroup\": \"True\", \"hovertemplate\": \"category=%{x}<br>date=2019-08-01<br>rate=%{y}<extra></extra>\", \"ids\": [\"Hispanic women\"], \"legendgroup\": \"Hispanic women\", \"marker\": {\"color\": \"#FF6692\"}, \"name\": \"Hispanic women\", \"offsetgroup\": \"Hispanic women\", \"orientation\": \"v\", \"showlegend\": true, \"textposition\": \"auto\", \"x\": [\"Hispanic women\"], \"xaxis\": \"x\", \"y\": [4.5], \"yaxis\": \"y\", \"type\": \"bar\"}], \"name\": \"2019-08-01\"}, {\"data\": [{\"alignmentgroup\": \"True\", \"hovertemplate\": \"category=%{x}<br>date=2019-09-01<br>rate=%{y}<extra></extra>\", \"ids\": [\"Average\"], \"legendgroup\": \"Average\", \"marker\": {\"color\": \"#636efa\"}, \"name\": \"Average\", \"offsetgroup\": \"Average\", \"orientation\": \"v\", \"showlegend\": true, \"textposition\": \"auto\", \"x\": [\"Average\"], \"xaxis\": \"x\", \"y\": [3.2], \"yaxis\": \"y\", \"type\": \"bar\"}, {\"alignmentgroup\": \"True\", \"hovertemplate\": \"category=%{x}<br>date=2019-09-01<br>rate=%{y}<extra></extra>\", \"ids\": [\"White men\"], \"legendgroup\": \"White men\", \"marker\": {\"color\": \"#EF553B\"}, \"name\": \"White men\", \"offsetgroup\": \"White men\", \"orientation\": \"v\", \"showlegend\": true, \"textposition\": \"auto\", \"x\": [\"White men\"], \"xaxis\": \"x\", \"y\": [2.9], \"yaxis\": \"y\", \"type\": \"bar\"}, {\"alignmentgroup\": \"True\", \"hovertemplate\": \"category=%{x}<br>date=2019-09-01<br>rate=%{y}<extra></extra>\", \"ids\": [\"White women\"], \"legendgroup\": \"White women\", \"marker\": {\"color\": \"#00cc96\"}, \"name\": \"White women\", \"offsetgroup\": \"White women\", \"orientation\": \"v\", \"showlegend\": true, \"textposition\": \"auto\", \"x\": [\"White women\"], \"xaxis\": \"x\", \"y\": [2.9], \"yaxis\": \"y\", \"type\": \"bar\"}, {\"alignmentgroup\": \"True\", \"hovertemplate\": \"category=%{x}<br>date=2019-09-01<br>rate=%{y}<extra></extra>\", \"ids\": [\"Black men\"], \"legendgroup\": \"Black men\", \"marker\": {\"color\": \"#ab63fa\"}, \"name\": \"Black men\", \"offsetgroup\": \"Black men\", \"orientation\": \"v\", \"showlegend\": true, \"textposition\": \"auto\", \"x\": [\"Black men\"], \"xaxis\": \"x\", \"y\": [5.4], \"yaxis\": \"y\", \"type\": \"bar\"}, {\"alignmentgroup\": \"True\", \"hovertemplate\": \"category=%{x}<br>date=2019-09-01<br>rate=%{y}<extra></extra>\", \"ids\": [\"Black women\"], \"legendgroup\": \"Black women\", \"marker\": {\"color\": \"#FFA15A\"}, \"name\": \"Black women\", \"offsetgroup\": \"Black women\", \"orientation\": \"v\", \"showlegend\": true, \"textposition\": \"auto\", \"x\": [\"Black women\"], \"xaxis\": \"x\", \"y\": [4.7], \"yaxis\": \"y\", \"type\": \"bar\"}, {\"alignmentgroup\": \"True\", \"hovertemplate\": \"category=%{x}<br>date=2019-09-01<br>rate=%{y}<extra></extra>\", \"ids\": [\"Hispanic men\"], \"legendgroup\": \"Hispanic men\", \"marker\": {\"color\": \"#19d3f3\"}, \"name\": \"Hispanic men\", \"offsetgroup\": \"Hispanic men\", \"orientation\": \"v\", \"showlegend\": true, \"textposition\": \"auto\", \"x\": [\"Hispanic men\"], \"xaxis\": \"x\", \"y\": [2.5], \"yaxis\": \"y\", \"type\": \"bar\"}, {\"alignmentgroup\": \"True\", \"hovertemplate\": \"category=%{x}<br>date=2019-09-01<br>rate=%{y}<extra></extra>\", \"ids\": [\"Hispanic women\"], \"legendgroup\": \"Hispanic women\", \"marker\": {\"color\": \"#FF6692\"}, \"name\": \"Hispanic women\", \"offsetgroup\": \"Hispanic women\", \"orientation\": \"v\", \"showlegend\": true, \"textposition\": \"auto\", \"x\": [\"Hispanic women\"], \"xaxis\": \"x\", \"y\": [3.9], \"yaxis\": \"y\", \"type\": \"bar\"}], \"name\": \"2019-09-01\"}, {\"data\": [{\"alignmentgroup\": \"True\", \"hovertemplate\": \"category=%{x}<br>date=2019-10-01<br>rate=%{y}<extra></extra>\", \"ids\": [\"Average\"], \"legendgroup\": \"Average\", \"marker\": {\"color\": \"#636efa\"}, \"name\": \"Average\", \"offsetgroup\": \"Average\", \"orientation\": \"v\", \"showlegend\": true, \"textposition\": \"auto\", \"x\": [\"Average\"], \"xaxis\": \"x\", \"y\": [3.2], \"yaxis\": \"y\", \"type\": \"bar\"}, {\"alignmentgroup\": \"True\", \"hovertemplate\": \"category=%{x}<br>date=2019-10-01<br>rate=%{y}<extra></extra>\", \"ids\": [\"White men\"], \"legendgroup\": \"White men\", \"marker\": {\"color\": \"#EF553B\"}, \"name\": \"White men\", \"offsetgroup\": \"White men\", \"orientation\": \"v\", \"showlegend\": true, \"textposition\": \"auto\", \"x\": [\"White men\"], \"xaxis\": \"x\", \"y\": [2.9], \"yaxis\": \"y\", \"type\": \"bar\"}, {\"alignmentgroup\": \"True\", \"hovertemplate\": \"category=%{x}<br>date=2019-10-01<br>rate=%{y}<extra></extra>\", \"ids\": [\"White women\"], \"legendgroup\": \"White women\", \"marker\": {\"color\": \"#00cc96\"}, \"name\": \"White women\", \"offsetgroup\": \"White women\", \"orientation\": \"v\", \"showlegend\": true, \"textposition\": \"auto\", \"x\": [\"White women\"], \"xaxis\": \"x\", \"y\": [2.9], \"yaxis\": \"y\", \"type\": \"bar\"}, {\"alignmentgroup\": \"True\", \"hovertemplate\": \"category=%{x}<br>date=2019-10-01<br>rate=%{y}<extra></extra>\", \"ids\": [\"Black men\"], \"legendgroup\": \"Black men\", \"marker\": {\"color\": \"#ab63fa\"}, \"name\": \"Black men\", \"offsetgroup\": \"Black men\", \"orientation\": \"v\", \"showlegend\": true, \"textposition\": \"auto\", \"x\": [\"Black men\"], \"xaxis\": \"x\", \"y\": [5.1], \"yaxis\": \"y\", \"type\": \"bar\"}, {\"alignmentgroup\": \"True\", \"hovertemplate\": \"category=%{x}<br>date=2019-10-01<br>rate=%{y}<extra></extra>\", \"ids\": [\"Black women\"], \"legendgroup\": \"Black women\", \"marker\": {\"color\": \"#FFA15A\"}, \"name\": \"Black women\", \"offsetgroup\": \"Black women\", \"orientation\": \"v\", \"showlegend\": true, \"textposition\": \"auto\", \"x\": [\"Black women\"], \"xaxis\": \"x\", \"y\": [4.9], \"yaxis\": \"y\", \"type\": \"bar\"}, {\"alignmentgroup\": \"True\", \"hovertemplate\": \"category=%{x}<br>date=2019-10-01<br>rate=%{y}<extra></extra>\", \"ids\": [\"Hispanic men\"], \"legendgroup\": \"Hispanic men\", \"marker\": {\"color\": \"#19d3f3\"}, \"name\": \"Hispanic men\", \"offsetgroup\": \"Hispanic men\", \"orientation\": \"v\", \"showlegend\": true, \"textposition\": \"auto\", \"x\": [\"Hispanic men\"], \"xaxis\": \"x\", \"y\": [3.0], \"yaxis\": \"y\", \"type\": \"bar\"}, {\"alignmentgroup\": \"True\", \"hovertemplate\": \"category=%{x}<br>date=2019-10-01<br>rate=%{y}<extra></extra>\", \"ids\": [\"Hispanic women\"], \"legendgroup\": \"Hispanic women\", \"marker\": {\"color\": \"#FF6692\"}, \"name\": \"Hispanic women\", \"offsetgroup\": \"Hispanic women\", \"orientation\": \"v\", \"showlegend\": true, \"textposition\": \"auto\", \"x\": [\"Hispanic women\"], \"xaxis\": \"x\", \"y\": [3.7], \"yaxis\": \"y\", \"type\": \"bar\"}], \"name\": \"2019-10-01\"}, {\"data\": [{\"alignmentgroup\": \"True\", \"hovertemplate\": \"category=%{x}<br>date=2019-11-01<br>rate=%{y}<extra></extra>\", \"ids\": [\"Average\"], \"legendgroup\": \"Average\", \"marker\": {\"color\": \"#636efa\"}, \"name\": \"Average\", \"offsetgroup\": \"Average\", \"orientation\": \"v\", \"showlegend\": true, \"textposition\": \"auto\", \"x\": [\"Average\"], \"xaxis\": \"x\", \"y\": [3.2], \"yaxis\": \"y\", \"type\": \"bar\"}, {\"alignmentgroup\": \"True\", \"hovertemplate\": \"category=%{x}<br>date=2019-11-01<br>rate=%{y}<extra></extra>\", \"ids\": [\"White men\"], \"legendgroup\": \"White men\", \"marker\": {\"color\": \"#EF553B\"}, \"name\": \"White men\", \"offsetgroup\": \"White men\", \"orientation\": \"v\", \"showlegend\": true, \"textposition\": \"auto\", \"x\": [\"White men\"], \"xaxis\": \"x\", \"y\": [3.0], \"yaxis\": \"y\", \"type\": \"bar\"}, {\"alignmentgroup\": \"True\", \"hovertemplate\": \"category=%{x}<br>date=2019-11-01<br>rate=%{y}<extra></extra>\", \"ids\": [\"White women\"], \"legendgroup\": \"White women\", \"marker\": {\"color\": \"#00cc96\"}, \"name\": \"White women\", \"offsetgroup\": \"White women\", \"orientation\": \"v\", \"showlegend\": true, \"textposition\": \"auto\", \"x\": [\"White women\"], \"xaxis\": \"x\", \"y\": [2.9], \"yaxis\": \"y\", \"type\": \"bar\"}, {\"alignmentgroup\": \"True\", \"hovertemplate\": \"category=%{x}<br>date=2019-11-01<br>rate=%{y}<extra></extra>\", \"ids\": [\"Black men\"], \"legendgroup\": \"Black men\", \"marker\": {\"color\": \"#ab63fa\"}, \"name\": \"Black men\", \"offsetgroup\": \"Black men\", \"orientation\": \"v\", \"showlegend\": true, \"textposition\": \"auto\", \"x\": [\"Black men\"], \"xaxis\": \"x\", \"y\": [5.1], \"yaxis\": \"y\", \"type\": \"bar\"}, {\"alignmentgroup\": \"True\", \"hovertemplate\": \"category=%{x}<br>date=2019-11-01<br>rate=%{y}<extra></extra>\", \"ids\": [\"Black women\"], \"legendgroup\": \"Black women\", \"marker\": {\"color\": \"#FFA15A\"}, \"name\": \"Black women\", \"offsetgroup\": \"Black women\", \"orientation\": \"v\", \"showlegend\": true, \"textposition\": \"auto\", \"x\": [\"Black women\"], \"xaxis\": \"x\", \"y\": [4.9], \"yaxis\": \"y\", \"type\": \"bar\"}, {\"alignmentgroup\": \"True\", \"hovertemplate\": \"category=%{x}<br>date=2019-11-01<br>rate=%{y}<extra></extra>\", \"ids\": [\"Hispanic men\"], \"legendgroup\": \"Hispanic men\", \"marker\": {\"color\": \"#19d3f3\"}, \"name\": \"Hispanic men\", \"offsetgroup\": \"Hispanic men\", \"orientation\": \"v\", \"showlegend\": true, \"textposition\": \"auto\", \"x\": [\"Hispanic men\"], \"xaxis\": \"x\", \"y\": [2.9], \"yaxis\": \"y\", \"type\": \"bar\"}, {\"alignmentgroup\": \"True\", \"hovertemplate\": \"category=%{x}<br>date=2019-11-01<br>rate=%{y}<extra></extra>\", \"ids\": [\"Hispanic women\"], \"legendgroup\": \"Hispanic women\", \"marker\": {\"color\": \"#FF6692\"}, \"name\": \"Hispanic women\", \"offsetgroup\": \"Hispanic women\", \"orientation\": \"v\", \"showlegend\": true, \"textposition\": \"auto\", \"x\": [\"Hispanic women\"], \"xaxis\": \"x\", \"y\": [4.2], \"yaxis\": \"y\", \"type\": \"bar\"}], \"name\": \"2019-11-01\"}, {\"data\": [{\"alignmentgroup\": \"True\", \"hovertemplate\": \"category=%{x}<br>date=2019-12-01<br>rate=%{y}<extra></extra>\", \"ids\": [\"Average\"], \"legendgroup\": \"Average\", \"marker\": {\"color\": \"#636efa\"}, \"name\": \"Average\", \"offsetgroup\": \"Average\", \"orientation\": \"v\", \"showlegend\": true, \"textposition\": \"auto\", \"x\": [\"Average\"], \"xaxis\": \"x\", \"y\": [3.2], \"yaxis\": \"y\", \"type\": \"bar\"}, {\"alignmentgroup\": \"True\", \"hovertemplate\": \"category=%{x}<br>date=2019-12-01<br>rate=%{y}<extra></extra>\", \"ids\": [\"White men\"], \"legendgroup\": \"White men\", \"marker\": {\"color\": \"#EF553B\"}, \"name\": \"White men\", \"offsetgroup\": \"White men\", \"orientation\": \"v\", \"showlegend\": true, \"textposition\": \"auto\", \"x\": [\"White men\"], \"xaxis\": \"x\", \"y\": [2.8], \"yaxis\": \"y\", \"type\": \"bar\"}, {\"alignmentgroup\": \"True\", \"hovertemplate\": \"category=%{x}<br>date=2019-12-01<br>rate=%{y}<extra></extra>\", \"ids\": [\"White women\"], \"legendgroup\": \"White women\", \"marker\": {\"color\": \"#00cc96\"}, \"name\": \"White women\", \"offsetgroup\": \"White women\", \"orientation\": \"v\", \"showlegend\": true, \"textposition\": \"auto\", \"x\": [\"White women\"], \"xaxis\": \"x\", \"y\": [2.8], \"yaxis\": \"y\", \"type\": \"bar\"}, {\"alignmentgroup\": \"True\", \"hovertemplate\": \"category=%{x}<br>date=2019-12-01<br>rate=%{y}<extra></extra>\", \"ids\": [\"Black men\"], \"legendgroup\": \"Black men\", \"marker\": {\"color\": \"#ab63fa\"}, \"name\": \"Black men\", \"offsetgroup\": \"Black men\", \"orientation\": \"v\", \"showlegend\": true, \"textposition\": \"auto\", \"x\": [\"Black men\"], \"xaxis\": \"x\", \"y\": [5.8], \"yaxis\": \"y\", \"type\": \"bar\"}, {\"alignmentgroup\": \"True\", \"hovertemplate\": \"category=%{x}<br>date=2019-12-01<br>rate=%{y}<extra></extra>\", \"ids\": [\"Black women\"], \"legendgroup\": \"Black women\", \"marker\": {\"color\": \"#FFA15A\"}, \"name\": \"Black women\", \"offsetgroup\": \"Black women\", \"orientation\": \"v\", \"showlegend\": true, \"textposition\": \"auto\", \"x\": [\"Black women\"], \"xaxis\": \"x\", \"y\": [5.0], \"yaxis\": \"y\", \"type\": \"bar\"}, {\"alignmentgroup\": \"True\", \"hovertemplate\": \"category=%{x}<br>date=2019-12-01<br>rate=%{y}<extra></extra>\", \"ids\": [\"Hispanic men\"], \"legendgroup\": \"Hispanic men\", \"marker\": {\"color\": \"#19d3f3\"}, \"name\": \"Hispanic men\", \"offsetgroup\": \"Hispanic men\", \"orientation\": \"v\", \"showlegend\": true, \"textposition\": \"auto\", \"x\": [\"Hispanic men\"], \"xaxis\": \"x\", \"y\": [3.3], \"yaxis\": \"y\", \"type\": \"bar\"}, {\"alignmentgroup\": \"True\", \"hovertemplate\": \"category=%{x}<br>date=2019-12-01<br>rate=%{y}<extra></extra>\", \"ids\": [\"Hispanic women\"], \"legendgroup\": \"Hispanic women\", \"marker\": {\"color\": \"#FF6692\"}, \"name\": \"Hispanic women\", \"offsetgroup\": \"Hispanic women\", \"orientation\": \"v\", \"showlegend\": true, \"textposition\": \"auto\", \"x\": [\"Hispanic women\"], \"xaxis\": \"x\", \"y\": [4.3], \"yaxis\": \"y\", \"type\": \"bar\"}], \"name\": \"2019-12-01\"}, {\"data\": [{\"alignmentgroup\": \"True\", \"hovertemplate\": \"category=%{x}<br>date=2020-01-01<br>rate=%{y}<extra></extra>\", \"ids\": [\"Average\"], \"legendgroup\": \"Average\", \"marker\": {\"color\": \"#636efa\"}, \"name\": \"Average\", \"offsetgroup\": \"Average\", \"orientation\": \"v\", \"showlegend\": true, \"textposition\": \"auto\", \"x\": [\"Average\"], \"xaxis\": \"x\", \"y\": [3.3], \"yaxis\": \"y\", \"type\": \"bar\"}, {\"alignmentgroup\": \"True\", \"hovertemplate\": \"category=%{x}<br>date=2020-01-01<br>rate=%{y}<extra></extra>\", \"ids\": [\"White men\"], \"legendgroup\": \"White men\", \"marker\": {\"color\": \"#EF553B\"}, \"name\": \"White men\", \"offsetgroup\": \"White men\", \"orientation\": \"v\", \"showlegend\": true, \"textposition\": \"auto\", \"x\": [\"White men\"], \"xaxis\": \"x\", \"y\": [2.9], \"yaxis\": \"y\", \"type\": \"bar\"}, {\"alignmentgroup\": \"True\", \"hovertemplate\": \"category=%{x}<br>date=2020-01-01<br>rate=%{y}<extra></extra>\", \"ids\": [\"White women\"], \"legendgroup\": \"White women\", \"marker\": {\"color\": \"#00cc96\"}, \"name\": \"White women\", \"offsetgroup\": \"White women\", \"orientation\": \"v\", \"showlegend\": true, \"textposition\": \"auto\", \"x\": [\"White women\"], \"xaxis\": \"x\", \"y\": [2.7], \"yaxis\": \"y\", \"type\": \"bar\"}, {\"alignmentgroup\": \"True\", \"hovertemplate\": \"category=%{x}<br>date=2020-01-01<br>rate=%{y}<extra></extra>\", \"ids\": [\"Black men\"], \"legendgroup\": \"Black men\", \"marker\": {\"color\": \"#ab63fa\"}, \"name\": \"Black men\", \"offsetgroup\": \"Black men\", \"orientation\": \"v\", \"showlegend\": true, \"textposition\": \"auto\", \"x\": [\"Black men\"], \"xaxis\": \"x\", \"y\": [5.6], \"yaxis\": \"y\", \"type\": \"bar\"}, {\"alignmentgroup\": \"True\", \"hovertemplate\": \"category=%{x}<br>date=2020-01-01<br>rate=%{y}<extra></extra>\", \"ids\": [\"Black women\"], \"legendgroup\": \"Black women\", \"marker\": {\"color\": \"#FFA15A\"}, \"name\": \"Black women\", \"offsetgroup\": \"Black women\", \"orientation\": \"v\", \"showlegend\": true, \"textposition\": \"auto\", \"x\": [\"Black women\"], \"xaxis\": \"x\", \"y\": [5.2], \"yaxis\": \"y\", \"type\": \"bar\"}, {\"alignmentgroup\": \"True\", \"hovertemplate\": \"category=%{x}<br>date=2020-01-01<br>rate=%{y}<extra></extra>\", \"ids\": [\"Hispanic men\"], \"legendgroup\": \"Hispanic men\", \"marker\": {\"color\": \"#19d3f3\"}, \"name\": \"Hispanic men\", \"offsetgroup\": \"Hispanic men\", \"orientation\": \"v\", \"showlegend\": true, \"textposition\": \"auto\", \"x\": [\"Hispanic men\"], \"xaxis\": \"x\", \"y\": [4.6], \"yaxis\": \"y\", \"type\": \"bar\"}, {\"alignmentgroup\": \"True\", \"hovertemplate\": \"category=%{x}<br>date=2020-01-01<br>rate=%{y}<extra></extra>\", \"ids\": [\"Hispanic women\"], \"legendgroup\": \"Hispanic women\", \"marker\": {\"color\": \"#FF6692\"}, \"name\": \"Hispanic women\", \"offsetgroup\": \"Hispanic women\", \"orientation\": \"v\", \"showlegend\": true, \"textposition\": \"auto\", \"x\": [\"Hispanic women\"], \"xaxis\": \"x\", \"y\": [4.8], \"yaxis\": \"y\", \"type\": \"bar\"}], \"name\": \"2020-01-01\"}, {\"data\": [{\"alignmentgroup\": \"True\", \"hovertemplate\": \"category=%{x}<br>date=2020-02-01<br>rate=%{y}<extra></extra>\", \"ids\": [\"Average\"], \"legendgroup\": \"Average\", \"marker\": {\"color\": \"#636efa\"}, \"name\": \"Average\", \"offsetgroup\": \"Average\", \"orientation\": \"v\", \"showlegend\": true, \"textposition\": \"auto\", \"x\": [\"Average\"], \"xaxis\": \"x\", \"y\": [3.2], \"yaxis\": \"y\", \"type\": \"bar\"}, {\"alignmentgroup\": \"True\", \"hovertemplate\": \"category=%{x}<br>date=2020-02-01<br>rate=%{y}<extra></extra>\", \"ids\": [\"White men\"], \"legendgroup\": \"White men\", \"marker\": {\"color\": \"#EF553B\"}, \"name\": \"White men\", \"offsetgroup\": \"White men\", \"orientation\": \"v\", \"showlegend\": true, \"textposition\": \"auto\", \"x\": [\"White men\"], \"xaxis\": \"x\", \"y\": [2.9], \"yaxis\": \"y\", \"type\": \"bar\"}, {\"alignmentgroup\": \"True\", \"hovertemplate\": \"category=%{x}<br>date=2020-02-01<br>rate=%{y}<extra></extra>\", \"ids\": [\"White women\"], \"legendgroup\": \"White women\", \"marker\": {\"color\": \"#00cc96\"}, \"name\": \"White women\", \"offsetgroup\": \"White women\", \"orientation\": \"v\", \"showlegend\": true, \"textposition\": \"auto\", \"x\": [\"White women\"], \"xaxis\": \"x\", \"y\": [2.8], \"yaxis\": \"y\", \"type\": \"bar\"}, {\"alignmentgroup\": \"True\", \"hovertemplate\": \"category=%{x}<br>date=2020-02-01<br>rate=%{y}<extra></extra>\", \"ids\": [\"Black men\"], \"legendgroup\": \"Black men\", \"marker\": {\"color\": \"#ab63fa\"}, \"name\": \"Black men\", \"offsetgroup\": \"Black men\", \"orientation\": \"v\", \"showlegend\": true, \"textposition\": \"auto\", \"x\": [\"Black men\"], \"xaxis\": \"x\", \"y\": [5.8], \"yaxis\": \"y\", \"type\": \"bar\"}, {\"alignmentgroup\": \"True\", \"hovertemplate\": \"category=%{x}<br>date=2020-02-01<br>rate=%{y}<extra></extra>\", \"ids\": [\"Black women\"], \"legendgroup\": \"Black women\", \"marker\": {\"color\": \"#FFA15A\"}, \"name\": \"Black women\", \"offsetgroup\": \"Black women\", \"orientation\": \"v\", \"showlegend\": true, \"textposition\": \"auto\", \"x\": [\"Black women\"], \"xaxis\": \"x\", \"y\": [4.8], \"yaxis\": \"y\", \"type\": \"bar\"}, {\"alignmentgroup\": \"True\", \"hovertemplate\": \"category=%{x}<br>date=2020-02-01<br>rate=%{y}<extra></extra>\", \"ids\": [\"Hispanic men\"], \"legendgroup\": \"Hispanic men\", \"marker\": {\"color\": \"#19d3f3\"}, \"name\": \"Hispanic men\", \"offsetgroup\": \"Hispanic men\", \"orientation\": \"v\", \"showlegend\": true, \"textposition\": \"auto\", \"x\": [\"Hispanic men\"], \"xaxis\": \"x\", \"y\": [3.9], \"yaxis\": \"y\", \"type\": \"bar\"}, {\"alignmentgroup\": \"True\", \"hovertemplate\": \"category=%{x}<br>date=2020-02-01<br>rate=%{y}<extra></extra>\", \"ids\": [\"Hispanic women\"], \"legendgroup\": \"Hispanic women\", \"marker\": {\"color\": \"#FF6692\"}, \"name\": \"Hispanic women\", \"offsetgroup\": \"Hispanic women\", \"orientation\": \"v\", \"showlegend\": true, \"textposition\": \"auto\", \"x\": [\"Hispanic women\"], \"xaxis\": \"x\", \"y\": [5.0], \"yaxis\": \"y\", \"type\": \"bar\"}], \"name\": \"2020-02-01\"}, {\"data\": [{\"alignmentgroup\": \"True\", \"hovertemplate\": \"category=%{x}<br>date=2020-03-01<br>rate=%{y}<extra></extra>\", \"ids\": [\"Average\"], \"legendgroup\": \"Average\", \"marker\": {\"color\": \"#636efa\"}, \"name\": \"Average\", \"offsetgroup\": \"Average\", \"orientation\": \"v\", \"showlegend\": true, \"textposition\": \"auto\", \"x\": [\"Average\"], \"xaxis\": \"x\", \"y\": [4.0], \"yaxis\": \"y\", \"type\": \"bar\"}, {\"alignmentgroup\": \"True\", \"hovertemplate\": \"category=%{x}<br>date=2020-03-01<br>rate=%{y}<extra></extra>\", \"ids\": [\"White men\"], \"legendgroup\": \"White men\", \"marker\": {\"color\": \"#EF553B\"}, \"name\": \"White men\", \"offsetgroup\": \"White men\", \"orientation\": \"v\", \"showlegend\": true, \"textposition\": \"auto\", \"x\": [\"White men\"], \"xaxis\": \"x\", \"y\": [3.7], \"yaxis\": \"y\", \"type\": \"bar\"}, {\"alignmentgroup\": \"True\", \"hovertemplate\": \"category=%{x}<br>date=2020-03-01<br>rate=%{y}<extra></extra>\", \"ids\": [\"White women\"], \"legendgroup\": \"White women\", \"marker\": {\"color\": \"#00cc96\"}, \"name\": \"White women\", \"offsetgroup\": \"White women\", \"orientation\": \"v\", \"showlegend\": true, \"textposition\": \"auto\", \"x\": [\"White women\"], \"xaxis\": \"x\", \"y\": [3.6], \"yaxis\": \"y\", \"type\": \"bar\"}, {\"alignmentgroup\": \"True\", \"hovertemplate\": \"category=%{x}<br>date=2020-03-01<br>rate=%{y}<extra></extra>\", \"ids\": [\"Black men\"], \"legendgroup\": \"Black men\", \"marker\": {\"color\": \"#ab63fa\"}, \"name\": \"Black men\", \"offsetgroup\": \"Black men\", \"orientation\": \"v\", \"showlegend\": true, \"textposition\": \"auto\", \"x\": [\"Black men\"], \"xaxis\": \"x\", \"y\": [7.0], \"yaxis\": \"y\", \"type\": \"bar\"}, {\"alignmentgroup\": \"True\", \"hovertemplate\": \"category=%{x}<br>date=2020-03-01<br>rate=%{y}<extra></extra>\", \"ids\": [\"Black women\"], \"legendgroup\": \"Black women\", \"marker\": {\"color\": \"#FFA15A\"}, \"name\": \"Black women\", \"offsetgroup\": \"Black women\", \"orientation\": \"v\", \"showlegend\": true, \"textposition\": \"auto\", \"x\": [\"Black women\"], \"xaxis\": \"x\", \"y\": [5.2], \"yaxis\": \"y\", \"type\": \"bar\"}, {\"alignmentgroup\": \"True\", \"hovertemplate\": \"category=%{x}<br>date=2020-03-01<br>rate=%{y}<extra></extra>\", \"ids\": [\"Hispanic men\"], \"legendgroup\": \"Hispanic men\", \"marker\": {\"color\": \"#19d3f3\"}, \"name\": \"Hispanic men\", \"offsetgroup\": \"Hispanic men\", \"orientation\": \"v\", \"showlegend\": true, \"textposition\": \"auto\", \"x\": [\"Hispanic men\"], \"xaxis\": \"x\", \"y\": [5.6], \"yaxis\": \"y\", \"type\": \"bar\"}, {\"alignmentgroup\": \"True\", \"hovertemplate\": \"category=%{x}<br>date=2020-03-01<br>rate=%{y}<extra></extra>\", \"ids\": [\"Hispanic women\"], \"legendgroup\": \"Hispanic women\", \"marker\": {\"color\": \"#FF6692\"}, \"name\": \"Hispanic women\", \"offsetgroup\": \"Hispanic women\", \"orientation\": \"v\", \"showlegend\": true, \"textposition\": \"auto\", \"x\": [\"Hispanic women\"], \"xaxis\": \"x\", \"y\": [6.1], \"yaxis\": \"y\", \"type\": \"bar\"}], \"name\": \"2020-03-01\"}, {\"data\": [{\"alignmentgroup\": \"True\", \"hovertemplate\": \"category=%{x}<br>date=2020-04-01<br>rate=%{y}<extra></extra>\", \"ids\": [\"Average\"], \"legendgroup\": \"Average\", \"marker\": {\"color\": \"#636efa\"}, \"name\": \"Average\", \"offsetgroup\": \"Average\", \"orientation\": \"v\", \"showlegend\": true, \"textposition\": \"auto\", \"x\": [\"Average\"], \"xaxis\": \"x\", \"y\": [14.2], \"yaxis\": \"y\", \"type\": \"bar\"}, {\"alignmentgroup\": \"True\", \"hovertemplate\": \"category=%{x}<br>date=2020-04-01<br>rate=%{y}<extra></extra>\", \"ids\": [\"White men\"], \"legendgroup\": \"White men\", \"marker\": {\"color\": \"#EF553B\"}, \"name\": \"White men\", \"offsetgroup\": \"White men\", \"orientation\": \"v\", \"showlegend\": true, \"textposition\": \"auto\", \"x\": [\"White men\"], \"xaxis\": \"x\", \"y\": [12.4], \"yaxis\": \"y\", \"type\": \"bar\"}, {\"alignmentgroup\": \"True\", \"hovertemplate\": \"category=%{x}<br>date=2020-04-01<br>rate=%{y}<extra></extra>\", \"ids\": [\"White women\"], \"legendgroup\": \"White women\", \"marker\": {\"color\": \"#00cc96\"}, \"name\": \"White women\", \"offsetgroup\": \"White women\", \"orientation\": \"v\", \"showlegend\": true, \"textposition\": \"auto\", \"x\": [\"White women\"], \"xaxis\": \"x\", \"y\": [15.0], \"yaxis\": \"y\", \"type\": \"bar\"}, {\"alignmentgroup\": \"True\", \"hovertemplate\": \"category=%{x}<br>date=2020-04-01<br>rate=%{y}<extra></extra>\", \"ids\": [\"Black men\"], \"legendgroup\": \"Black men\", \"marker\": {\"color\": \"#ab63fa\"}, \"name\": \"Black men\", \"offsetgroup\": \"Black men\", \"orientation\": \"v\", \"showlegend\": true, \"textposition\": \"auto\", \"x\": [\"Black men\"], \"xaxis\": \"x\", \"y\": [16.1], \"yaxis\": \"y\", \"type\": \"bar\"}, {\"alignmentgroup\": \"True\", \"hovertemplate\": \"category=%{x}<br>date=2020-04-01<br>rate=%{y}<extra></extra>\", \"ids\": [\"Black women\"], \"legendgroup\": \"Black women\", \"marker\": {\"color\": \"#FFA15A\"}, \"name\": \"Black women\", \"offsetgroup\": \"Black women\", \"orientation\": \"v\", \"showlegend\": true, \"textposition\": \"auto\", \"x\": [\"Black women\"], \"xaxis\": \"x\", \"y\": [16.4], \"yaxis\": \"y\", \"type\": \"bar\"}, {\"alignmentgroup\": \"True\", \"hovertemplate\": \"category=%{x}<br>date=2020-04-01<br>rate=%{y}<extra></extra>\", \"ids\": [\"Hispanic men\"], \"legendgroup\": \"Hispanic men\", \"marker\": {\"color\": \"#19d3f3\"}, \"name\": \"Hispanic men\", \"offsetgroup\": \"Hispanic men\", \"orientation\": \"v\", \"showlegend\": true, \"textposition\": \"auto\", \"x\": [\"Hispanic men\"], \"xaxis\": \"x\", \"y\": [16.3], \"yaxis\": \"y\", \"type\": \"bar\"}, {\"alignmentgroup\": \"True\", \"hovertemplate\": \"category=%{x}<br>date=2020-04-01<br>rate=%{y}<extra></extra>\", \"ids\": [\"Hispanic women\"], \"legendgroup\": \"Hispanic women\", \"marker\": {\"color\": \"#FF6692\"}, \"name\": \"Hispanic women\", \"offsetgroup\": \"Hispanic women\", \"orientation\": \"v\", \"showlegend\": true, \"textposition\": \"auto\", \"x\": [\"Hispanic women\"], \"xaxis\": \"x\", \"y\": [19.8], \"yaxis\": \"y\", \"type\": \"bar\"}], \"name\": \"2020-04-01\"}, {\"data\": [{\"alignmentgroup\": \"True\", \"hovertemplate\": \"category=%{x}<br>date=2020-05-01<br>rate=%{y}<extra></extra>\", \"ids\": [\"Average\"], \"legendgroup\": \"Average\", \"marker\": {\"color\": \"#636efa\"}, \"name\": \"Average\", \"offsetgroup\": \"Average\", \"orientation\": \"v\", \"showlegend\": true, \"textposition\": \"auto\", \"x\": [\"Average\"], \"xaxis\": \"x\", \"y\": [12.6], \"yaxis\": \"y\", \"type\": \"bar\"}, {\"alignmentgroup\": \"True\", \"hovertemplate\": \"category=%{x}<br>date=2020-05-01<br>rate=%{y}<extra></extra>\", \"ids\": [\"White men\"], \"legendgroup\": \"White men\", \"marker\": {\"color\": \"#EF553B\"}, \"name\": \"White men\", \"offsetgroup\": \"White men\", \"orientation\": \"v\", \"showlegend\": true, \"textposition\": \"auto\", \"x\": [\"White men\"], \"xaxis\": \"x\", \"y\": [10.7], \"yaxis\": \"y\", \"type\": \"bar\"}, {\"alignmentgroup\": \"True\", \"hovertemplate\": \"category=%{x}<br>date=2020-05-01<br>rate=%{y}<extra></extra>\", \"ids\": [\"White women\"], \"legendgroup\": \"White women\", \"marker\": {\"color\": \"#00cc96\"}, \"name\": \"White women\", \"offsetgroup\": \"White women\", \"orientation\": \"v\", \"showlegend\": true, \"textposition\": \"auto\", \"x\": [\"White women\"], \"xaxis\": \"x\", \"y\": [13.1], \"yaxis\": \"y\", \"type\": \"bar\"}, {\"alignmentgroup\": \"True\", \"hovertemplate\": \"category=%{x}<br>date=2020-05-01<br>rate=%{y}<extra></extra>\", \"ids\": [\"Black men\"], \"legendgroup\": \"Black men\", \"marker\": {\"color\": \"#ab63fa\"}, \"name\": \"Black men\", \"offsetgroup\": \"Black men\", \"orientation\": \"v\", \"showlegend\": true, \"textposition\": \"auto\", \"x\": [\"Black men\"], \"xaxis\": \"x\", \"y\": [15.5], \"yaxis\": \"y\", \"type\": \"bar\"}, {\"alignmentgroup\": \"True\", \"hovertemplate\": \"category=%{x}<br>date=2020-05-01<br>rate=%{y}<extra></extra>\", \"ids\": [\"Black women\"], \"legendgroup\": \"Black women\", \"marker\": {\"color\": \"#FFA15A\"}, \"name\": \"Black women\", \"offsetgroup\": \"Black women\", \"orientation\": \"v\", \"showlegend\": true, \"textposition\": \"auto\", \"x\": [\"Black women\"], \"xaxis\": \"x\", \"y\": [16.5], \"yaxis\": \"y\", \"type\": \"bar\"}, {\"alignmentgroup\": \"True\", \"hovertemplate\": \"category=%{x}<br>date=2020-05-01<br>rate=%{y}<extra></extra>\", \"ids\": [\"Hispanic men\"], \"legendgroup\": \"Hispanic men\", \"marker\": {\"color\": \"#19d3f3\"}, \"name\": \"Hispanic men\", \"offsetgroup\": \"Hispanic men\", \"orientation\": \"v\", \"showlegend\": true, \"textposition\": \"auto\", \"x\": [\"Hispanic men\"], \"xaxis\": \"x\", \"y\": [14.7], \"yaxis\": \"y\", \"type\": \"bar\"}, {\"alignmentgroup\": \"True\", \"hovertemplate\": \"category=%{x}<br>date=2020-05-01<br>rate=%{y}<extra></extra>\", \"ids\": [\"Hispanic women\"], \"legendgroup\": \"Hispanic women\", \"marker\": {\"color\": \"#FF6692\"}, \"name\": \"Hispanic women\", \"offsetgroup\": \"Hispanic women\", \"orientation\": \"v\", \"showlegend\": true, \"textposition\": \"auto\", \"x\": [\"Hispanic women\"], \"xaxis\": \"x\", \"y\": [18.6], \"yaxis\": \"y\", \"type\": \"bar\"}], \"name\": \"2020-05-01\"}]);\n",
       "                        }).then(function(){\n",
       "                            \n",
       "var gd = document.getElementById('c5e21e7f-617c-4408-a7a1-88ceac6632ee');\n",
       "var x = new MutationObserver(function (mutations, observer) {{\n",
       "        var display = window.getComputedStyle(gd).display;\n",
       "        if (!display || display === 'none') {{\n",
       "            console.log([gd, 'removed!']);\n",
       "            Plotly.purge(gd);\n",
       "            observer.disconnect();\n",
       "        }}\n",
       "}});\n",
       "\n",
       "// Listen for the removal of the full notebook cells\n",
       "var notebookContainer = gd.closest('#notebook-container');\n",
       "if (notebookContainer) {{\n",
       "    x.observe(notebookContainer, {childList: true});\n",
       "}}\n",
       "\n",
       "// Listen for the clearing of the current output cell\n",
       "var outputEl = gd.closest('.output');\n",
       "if (outputEl) {{\n",
       "    x.observe(outputEl, {childList: true});\n",
       "}}\n",
       "\n",
       "                        })\n",
       "                };\n",
       "                });\n",
       "            </script>\n",
       "        </div>"
      ]
     },
     "metadata": {},
     "output_type": "display_data"
    }
   ],
   "source": [
    "fig1 = px.bar(df, x=\"category\", y=\"rate\", color=\"category\", \n",
    "  animation_frame=\"date\", animation_group=\"category\", range_y=[0,20])\n",
    "fig1.update_layout(\n",
    "    height=600,\n",
    "    title_text='Over 20 Unemployment Rate in USA from'+datefrom+' to May 2020'\n",
    ")\n",
    "fig1.show()  "
   ]
  },
  {
   "cell_type": "code",
   "execution_count": 7,
   "metadata": {
    "ExecuteTime": {
     "end_time": "2020-06-26T15:04:49.248921Z",
     "start_time": "2020-06-26T15:04:49.150214Z"
    }
   },
   "outputs": [
    {
     "data": {
      "application/vnd.plotly.v1+json": {
       "config": {
        "plotlyServerURL": "https://plot.ly"
       },
       "data": [
        {
         "hovertemplate": "category=Average<br>date=%{x}<br>rate=%{y}<extra></extra>",
         "legendgroup": "Average",
         "line": {
          "color": "#636efa",
          "dash": "solid"
         },
         "mode": "lines",
         "name": "Average",
         "showlegend": true,
         "type": "scattergl",
         "x": [
          "1948-01-01",
          "1948-02-01",
          "1948-03-01",
          "1948-04-01",
          "1948-05-01",
          "1948-06-01",
          "1948-07-01",
          "1948-08-01",
          "1948-09-01",
          "1948-10-01",
          "1948-11-01",
          "1948-12-01",
          "1949-01-01",
          "1949-02-01",
          "1949-03-01",
          "1949-04-01",
          "1949-05-01",
          "1949-06-01",
          "1949-07-01",
          "1949-08-01",
          "1949-09-01",
          "1949-10-01",
          "1949-11-01",
          "1949-12-01",
          "1950-01-01",
          "1950-02-01",
          "1950-03-01",
          "1950-04-01",
          "1950-05-01",
          "1950-06-01",
          "1950-07-01",
          "1950-08-01",
          "1950-09-01",
          "1950-10-01",
          "1950-11-01",
          "1950-12-01",
          "1951-01-01",
          "1951-02-01",
          "1951-03-01",
          "1951-04-01",
          "1951-05-01",
          "1951-06-01",
          "1951-07-01",
          "1951-08-01",
          "1951-09-01",
          "1951-10-01",
          "1951-11-01",
          "1951-12-01",
          "1952-01-01",
          "1952-02-01",
          "1952-03-01",
          "1952-04-01",
          "1952-05-01",
          "1952-06-01",
          "1952-07-01",
          "1952-08-01",
          "1952-09-01",
          "1952-10-01",
          "1952-11-01",
          "1952-12-01",
          "1953-01-01",
          "1953-02-01",
          "1953-03-01",
          "1953-04-01",
          "1953-05-01",
          "1953-06-01",
          "1953-07-01",
          "1953-08-01",
          "1953-09-01",
          "1953-10-01",
          "1953-11-01",
          "1953-12-01",
          "1954-01-01",
          "1954-02-01",
          "1954-03-01",
          "1954-04-01",
          "1954-05-01",
          "1954-06-01",
          "1954-07-01",
          "1954-08-01",
          "1954-09-01",
          "1954-10-01",
          "1954-11-01",
          "1954-12-01",
          "1955-01-01",
          "1955-02-01",
          "1955-03-01",
          "1955-04-01",
          "1955-05-01",
          "1955-06-01",
          "1955-07-01",
          "1955-08-01",
          "1955-09-01",
          "1955-10-01",
          "1955-11-01",
          "1955-12-01",
          "1956-01-01",
          "1956-02-01",
          "1956-03-01",
          "1956-04-01",
          "1956-05-01",
          "1956-06-01",
          "1956-07-01",
          "1956-08-01",
          "1956-09-01",
          "1956-10-01",
          "1956-11-01",
          "1956-12-01",
          "1957-01-01",
          "1957-02-01",
          "1957-03-01",
          "1957-04-01",
          "1957-05-01",
          "1957-06-01",
          "1957-07-01",
          "1957-08-01",
          "1957-09-01",
          "1957-10-01",
          "1957-11-01",
          "1957-12-01",
          "1958-01-01",
          "1958-02-01",
          "1958-03-01",
          "1958-04-01",
          "1958-05-01",
          "1958-06-01",
          "1958-07-01",
          "1958-08-01",
          "1958-09-01",
          "1958-10-01",
          "1958-11-01",
          "1958-12-01",
          "1959-01-01",
          "1959-02-01",
          "1959-03-01",
          "1959-04-01",
          "1959-05-01",
          "1959-06-01",
          "1959-07-01",
          "1959-08-01",
          "1959-09-01",
          "1959-10-01",
          "1959-11-01",
          "1959-12-01",
          "1960-01-01",
          "1960-02-01",
          "1960-03-01",
          "1960-04-01",
          "1960-05-01",
          "1960-06-01",
          "1960-07-01",
          "1960-08-01",
          "1960-09-01",
          "1960-10-01",
          "1960-11-01",
          "1960-12-01",
          "1961-01-01",
          "1961-02-01",
          "1961-03-01",
          "1961-04-01",
          "1961-05-01",
          "1961-06-01",
          "1961-07-01",
          "1961-08-01",
          "1961-09-01",
          "1961-10-01",
          "1961-11-01",
          "1961-12-01",
          "1962-01-01",
          "1962-02-01",
          "1962-03-01",
          "1962-04-01",
          "1962-05-01",
          "1962-06-01",
          "1962-07-01",
          "1962-08-01",
          "1962-09-01",
          "1962-10-01",
          "1962-11-01",
          "1962-12-01",
          "1963-01-01",
          "1963-02-01",
          "1963-03-01",
          "1963-04-01",
          "1963-05-01",
          "1963-06-01",
          "1963-07-01",
          "1963-08-01",
          "1963-09-01",
          "1963-10-01",
          "1963-11-01",
          "1963-12-01",
          "1964-01-01",
          "1964-02-01",
          "1964-03-01",
          "1964-04-01",
          "1964-05-01",
          "1964-06-01",
          "1964-07-01",
          "1964-08-01",
          "1964-09-01",
          "1964-10-01",
          "1964-11-01",
          "1964-12-01",
          "1965-01-01",
          "1965-02-01",
          "1965-03-01",
          "1965-04-01",
          "1965-05-01",
          "1965-06-01",
          "1965-07-01",
          "1965-08-01",
          "1965-09-01",
          "1965-10-01",
          "1965-11-01",
          "1965-12-01",
          "1966-01-01",
          "1966-02-01",
          "1966-03-01",
          "1966-04-01",
          "1966-05-01",
          "1966-06-01",
          "1966-07-01",
          "1966-08-01",
          "1966-09-01",
          "1966-10-01",
          "1966-11-01",
          "1966-12-01",
          "1967-01-01",
          "1967-02-01",
          "1967-03-01",
          "1967-04-01",
          "1967-05-01",
          "1967-06-01",
          "1967-07-01",
          "1967-08-01",
          "1967-09-01",
          "1967-10-01",
          "1967-11-01",
          "1967-12-01",
          "1968-01-01",
          "1968-02-01",
          "1968-03-01",
          "1968-04-01",
          "1968-05-01",
          "1968-06-01",
          "1968-07-01",
          "1968-08-01",
          "1968-09-01",
          "1968-10-01",
          "1968-11-01",
          "1968-12-01",
          "1969-01-01",
          "1969-02-01",
          "1969-03-01",
          "1969-04-01",
          "1969-05-01",
          "1969-06-01",
          "1969-07-01",
          "1969-08-01",
          "1969-09-01",
          "1969-10-01",
          "1969-11-01",
          "1969-12-01",
          "1970-01-01",
          "1970-02-01",
          "1970-03-01",
          "1970-04-01",
          "1970-05-01",
          "1970-06-01",
          "1970-07-01",
          "1970-08-01",
          "1970-09-01",
          "1970-10-01",
          "1970-11-01",
          "1970-12-01",
          "1971-01-01",
          "1971-02-01",
          "1971-03-01",
          "1971-04-01",
          "1971-05-01",
          "1971-06-01",
          "1971-07-01",
          "1971-08-01",
          "1971-09-01",
          "1971-10-01",
          "1971-11-01",
          "1971-12-01",
          "1972-01-01",
          "1972-02-01",
          "1972-03-01",
          "1972-04-01",
          "1972-05-01",
          "1972-06-01",
          "1972-07-01",
          "1972-08-01",
          "1972-09-01",
          "1972-10-01",
          "1972-11-01",
          "1972-12-01",
          "1973-01-01",
          "1973-02-01",
          "1973-03-01",
          "1973-04-01",
          "1973-05-01",
          "1973-06-01",
          "1973-07-01",
          "1973-08-01",
          "1973-09-01",
          "1973-10-01",
          "1973-11-01",
          "1973-12-01",
          "1974-01-01",
          "1974-02-01",
          "1974-03-01",
          "1974-04-01",
          "1974-05-01",
          "1974-06-01",
          "1974-07-01",
          "1974-08-01",
          "1974-09-01",
          "1974-10-01",
          "1974-11-01",
          "1974-12-01",
          "1975-01-01",
          "1975-02-01",
          "1975-03-01",
          "1975-04-01",
          "1975-05-01",
          "1975-06-01",
          "1975-07-01",
          "1975-08-01",
          "1975-09-01",
          "1975-10-01",
          "1975-11-01",
          "1975-12-01",
          "1976-01-01",
          "1976-02-01",
          "1976-03-01",
          "1976-04-01",
          "1976-05-01",
          "1976-06-01",
          "1976-07-01",
          "1976-08-01",
          "1976-09-01",
          "1976-10-01",
          "1976-11-01",
          "1976-12-01",
          "1977-01-01",
          "1977-02-01",
          "1977-03-01",
          "1977-04-01",
          "1977-05-01",
          "1977-06-01",
          "1977-07-01",
          "1977-08-01",
          "1977-09-01",
          "1977-10-01",
          "1977-11-01",
          "1977-12-01",
          "1978-01-01",
          "1978-02-01",
          "1978-03-01",
          "1978-04-01",
          "1978-05-01",
          "1978-06-01",
          "1978-07-01",
          "1978-08-01",
          "1978-09-01",
          "1978-10-01",
          "1978-11-01",
          "1978-12-01",
          "1979-01-01",
          "1979-02-01",
          "1979-03-01",
          "1979-04-01",
          "1979-05-01",
          "1979-06-01",
          "1979-07-01",
          "1979-08-01",
          "1979-09-01",
          "1979-10-01",
          "1979-11-01",
          "1979-12-01",
          "1980-01-01",
          "1980-02-01",
          "1980-03-01",
          "1980-04-01",
          "1980-05-01",
          "1980-06-01",
          "1980-07-01",
          "1980-08-01",
          "1980-09-01",
          "1980-10-01",
          "1980-11-01",
          "1980-12-01",
          "1981-01-01",
          "1981-02-01",
          "1981-03-01",
          "1981-04-01",
          "1981-05-01",
          "1981-06-01",
          "1981-07-01",
          "1981-08-01",
          "1981-09-01",
          "1981-10-01",
          "1981-11-01",
          "1981-12-01",
          "1982-01-01",
          "1982-02-01",
          "1982-03-01",
          "1982-04-01",
          "1982-05-01",
          "1982-06-01",
          "1982-07-01",
          "1982-08-01",
          "1982-09-01",
          "1982-10-01",
          "1982-11-01",
          "1982-12-01",
          "1983-01-01",
          "1983-02-01",
          "1983-03-01",
          "1983-04-01",
          "1983-05-01",
          "1983-06-01",
          "1983-07-01",
          "1983-08-01",
          "1983-09-01",
          "1983-10-01",
          "1983-11-01",
          "1983-12-01",
          "1984-01-01",
          "1984-02-01",
          "1984-03-01",
          "1984-04-01",
          "1984-05-01",
          "1984-06-01",
          "1984-07-01",
          "1984-08-01",
          "1984-09-01",
          "1984-10-01",
          "1984-11-01",
          "1984-12-01",
          "1985-01-01",
          "1985-02-01",
          "1985-03-01",
          "1985-04-01",
          "1985-05-01",
          "1985-06-01",
          "1985-07-01",
          "1985-08-01",
          "1985-09-01",
          "1985-10-01",
          "1985-11-01",
          "1985-12-01",
          "1986-01-01",
          "1986-02-01",
          "1986-03-01",
          "1986-04-01",
          "1986-05-01",
          "1986-06-01",
          "1986-07-01",
          "1986-08-01",
          "1986-09-01",
          "1986-10-01",
          "1986-11-01",
          "1986-12-01",
          "1987-01-01",
          "1987-02-01",
          "1987-03-01",
          "1987-04-01",
          "1987-05-01",
          "1987-06-01",
          "1987-07-01",
          "1987-08-01",
          "1987-09-01",
          "1987-10-01",
          "1987-11-01",
          "1987-12-01",
          "1988-01-01",
          "1988-02-01",
          "1988-03-01",
          "1988-04-01",
          "1988-05-01",
          "1988-06-01",
          "1988-07-01",
          "1988-08-01",
          "1988-09-01",
          "1988-10-01",
          "1988-11-01",
          "1988-12-01",
          "1989-01-01",
          "1989-02-01",
          "1989-03-01",
          "1989-04-01",
          "1989-05-01",
          "1989-06-01",
          "1989-07-01",
          "1989-08-01",
          "1989-09-01",
          "1989-10-01",
          "1989-11-01",
          "1989-12-01",
          "1990-01-01",
          "1990-02-01",
          "1990-03-01",
          "1990-04-01",
          "1990-05-01",
          "1990-06-01",
          "1990-07-01",
          "1990-08-01",
          "1990-09-01",
          "1990-10-01",
          "1990-11-01",
          "1990-12-01",
          "1991-01-01",
          "1991-02-01",
          "1991-03-01",
          "1991-04-01",
          "1991-05-01",
          "1991-06-01",
          "1991-07-01",
          "1991-08-01",
          "1991-09-01",
          "1991-10-01",
          "1991-11-01",
          "1991-12-01",
          "1992-01-01",
          "1992-02-01",
          "1992-03-01",
          "1992-04-01",
          "1992-05-01",
          "1992-06-01",
          "1992-07-01",
          "1992-08-01",
          "1992-09-01",
          "1992-10-01",
          "1992-11-01",
          "1992-12-01",
          "1993-01-01",
          "1993-02-01",
          "1993-03-01",
          "1993-04-01",
          "1993-05-01",
          "1993-06-01",
          "1993-07-01",
          "1993-08-01",
          "1993-09-01",
          "1993-10-01",
          "1993-11-01",
          "1993-12-01",
          "1994-01-01",
          "1994-02-01",
          "1994-03-01",
          "1994-04-01",
          "1994-05-01",
          "1994-06-01",
          "1994-07-01",
          "1994-08-01",
          "1994-09-01",
          "1994-10-01",
          "1994-11-01",
          "1994-12-01",
          "1995-01-01",
          "1995-02-01",
          "1995-03-01",
          "1995-04-01",
          "1995-05-01",
          "1995-06-01",
          "1995-07-01",
          "1995-08-01",
          "1995-09-01",
          "1995-10-01",
          "1995-11-01",
          "1995-12-01",
          "1996-01-01",
          "1996-02-01",
          "1996-03-01",
          "1996-04-01",
          "1996-05-01",
          "1996-06-01",
          "1996-07-01",
          "1996-08-01",
          "1996-09-01",
          "1996-10-01",
          "1996-11-01",
          "1996-12-01",
          "1997-01-01",
          "1997-02-01",
          "1997-03-01",
          "1997-04-01",
          "1997-05-01",
          "1997-06-01",
          "1997-07-01",
          "1997-08-01",
          "1997-09-01",
          "1997-10-01",
          "1997-11-01",
          "1997-12-01",
          "1998-01-01",
          "1998-02-01",
          "1998-03-01",
          "1998-04-01",
          "1998-05-01",
          "1998-06-01",
          "1998-07-01",
          "1998-08-01",
          "1998-09-01",
          "1998-10-01",
          "1998-11-01",
          "1998-12-01",
          "1999-01-01",
          "1999-02-01",
          "1999-03-01",
          "1999-04-01",
          "1999-05-01",
          "1999-06-01",
          "1999-07-01",
          "1999-08-01",
          "1999-09-01",
          "1999-10-01",
          "1999-11-01",
          "1999-12-01",
          "2000-01-01",
          "2000-02-01",
          "2000-03-01",
          "2000-04-01",
          "2000-05-01",
          "2000-06-01",
          "2000-07-01",
          "2000-08-01",
          "2000-09-01",
          "2000-10-01",
          "2000-11-01",
          "2000-12-01",
          "2001-01-01",
          "2001-02-01",
          "2001-03-01",
          "2001-04-01",
          "2001-05-01",
          "2001-06-01",
          "2001-07-01",
          "2001-08-01",
          "2001-09-01",
          "2001-10-01",
          "2001-11-01",
          "2001-12-01",
          "2002-01-01",
          "2002-02-01",
          "2002-03-01",
          "2002-04-01",
          "2002-05-01",
          "2002-06-01",
          "2002-07-01",
          "2002-08-01",
          "2002-09-01",
          "2002-10-01",
          "2002-11-01",
          "2002-12-01",
          "2003-01-01",
          "2003-02-01",
          "2003-03-01",
          "2003-04-01",
          "2003-05-01",
          "2003-06-01",
          "2003-07-01",
          "2003-08-01",
          "2003-09-01",
          "2003-10-01",
          "2003-11-01",
          "2003-12-01",
          "2004-01-01",
          "2004-02-01",
          "2004-03-01",
          "2004-04-01",
          "2004-05-01",
          "2004-06-01",
          "2004-07-01",
          "2004-08-01",
          "2004-09-01",
          "2004-10-01",
          "2004-11-01",
          "2004-12-01",
          "2005-01-01",
          "2005-02-01",
          "2005-03-01",
          "2005-04-01",
          "2005-05-01",
          "2005-06-01",
          "2005-07-01",
          "2005-08-01",
          "2005-09-01",
          "2005-10-01",
          "2005-11-01",
          "2005-12-01",
          "2006-01-01",
          "2006-02-01",
          "2006-03-01",
          "2006-04-01",
          "2006-05-01",
          "2006-06-01",
          "2006-07-01",
          "2006-08-01",
          "2006-09-01",
          "2006-10-01",
          "2006-11-01",
          "2006-12-01",
          "2007-01-01",
          "2007-02-01",
          "2007-03-01",
          "2007-04-01",
          "2007-05-01",
          "2007-06-01",
          "2007-07-01",
          "2007-08-01",
          "2007-09-01",
          "2007-10-01",
          "2007-11-01",
          "2007-12-01",
          "2008-01-01",
          "2008-02-01",
          "2008-03-01",
          "2008-04-01",
          "2008-05-01",
          "2008-06-01",
          "2008-07-01",
          "2008-08-01",
          "2008-09-01",
          "2008-10-01",
          "2008-11-01",
          "2008-12-01",
          "2009-01-01",
          "2009-02-01",
          "2009-03-01",
          "2009-04-01",
          "2009-05-01",
          "2009-06-01",
          "2009-07-01",
          "2009-08-01",
          "2009-09-01",
          "2009-10-01",
          "2009-11-01",
          "2009-12-01",
          "2010-01-01",
          "2010-02-01",
          "2010-03-01",
          "2010-04-01",
          "2010-05-01",
          "2010-06-01",
          "2010-07-01",
          "2010-08-01",
          "2010-09-01",
          "2010-10-01",
          "2010-11-01",
          "2010-12-01",
          "2011-01-01",
          "2011-02-01",
          "2011-03-01",
          "2011-04-01",
          "2011-05-01",
          "2011-06-01",
          "2011-07-01",
          "2011-08-01",
          "2011-09-01",
          "2011-10-01",
          "2011-11-01",
          "2011-12-01",
          "2012-01-01",
          "2012-02-01",
          "2012-03-01",
          "2012-04-01",
          "2012-05-01",
          "2012-06-01",
          "2012-07-01",
          "2012-08-01",
          "2012-09-01",
          "2012-10-01",
          "2012-11-01",
          "2012-12-01",
          "2013-01-01",
          "2013-02-01",
          "2013-03-01",
          "2013-04-01",
          "2013-05-01",
          "2013-06-01",
          "2013-07-01",
          "2013-08-01",
          "2013-09-01",
          "2013-10-01",
          "2013-11-01",
          "2013-12-01",
          "2014-01-01",
          "2014-02-01",
          "2014-03-01",
          "2014-04-01",
          "2014-05-01",
          "2014-06-01",
          "2014-07-01",
          "2014-08-01",
          "2014-09-01",
          "2014-10-01",
          "2014-11-01",
          "2014-12-01",
          "2015-01-01",
          "2015-02-01",
          "2015-03-01",
          "2015-04-01",
          "2015-05-01",
          "2015-06-01",
          "2015-07-01",
          "2015-08-01",
          "2015-09-01",
          "2015-10-01",
          "2015-11-01",
          "2015-12-01",
          "2016-01-01",
          "2016-02-01",
          "2016-03-01",
          "2016-04-01",
          "2016-05-01",
          "2016-06-01",
          "2016-07-01",
          "2016-08-01",
          "2016-09-01",
          "2016-10-01",
          "2016-11-01",
          "2016-12-01",
          "2017-01-01",
          "2017-02-01",
          "2017-03-01",
          "2017-04-01",
          "2017-05-01",
          "2017-06-01",
          "2017-07-01",
          "2017-08-01",
          "2017-09-01",
          "2017-10-01",
          "2017-11-01",
          "2017-12-01",
          "2018-01-01",
          "2018-02-01",
          "2018-03-01",
          "2018-04-01",
          "2018-05-01",
          "2018-06-01",
          "2018-07-01",
          "2018-08-01",
          "2018-09-01",
          "2018-10-01",
          "2018-11-01",
          "2018-12-01",
          "2019-01-01",
          "2019-02-01",
          "2019-03-01",
          "2019-04-01",
          "2019-05-01",
          "2019-06-01",
          "2019-07-01",
          "2019-08-01",
          "2019-09-01",
          "2019-10-01",
          "2019-11-01",
          "2019-12-01",
          "2020-01-01",
          "2020-02-01",
          "2020-03-01",
          "2020-04-01",
          "2020-05-01"
         ],
         "xaxis": "x",
         "y": [
          3,
          3.3,
          3.5,
          3.5,
          3.3,
          3.2,
          3.1,
          3.4,
          3.4,
          3.4,
          3.4,
          3.6,
          3.8,
          4.2,
          4.4,
          4.7,
          5.5,
          5.6,
          6.2,
          6.2,
          6,
          7.3,
          5.9,
          5.9,
          5.9,
          5.7,
          5.7,
          5.3,
          5,
          4.9,
          4.6,
          4,
          4,
          3.7,
          3.8,
          3.8,
          3.4,
          3.1,
          3,
          2.8,
          2.7,
          2.9,
          2.7,
          2.8,
          3,
          3.2,
          3.1,
          2.8,
          2.7,
          2.8,
          2.6,
          2.6,
          2.6,
          2.6,
          2.8,
          3,
          2.7,
          2.6,
          2.4,
          2.3,
          2.6,
          2.3,
          2.3,
          2.4,
          2.3,
          2.2,
          2.3,
          2.3,
          2.6,
          2.7,
          3.2,
          4,
          4.4,
          4.6,
          5.1,
          5.3,
          5.4,
          5.3,
          5.3,
          5.5,
          5.6,
          5.3,
          4.9,
          4.6,
          4.5,
          4.2,
          4.2,
          4.3,
          3.8,
          3.8,
          3.6,
          3.8,
          3.6,
          3.8,
          3.7,
          3.7,
          3.6,
          3.4,
          3.7,
          3.5,
          3.8,
          3.8,
          3.9,
          3.6,
          3.5,
          3.4,
          3.7,
          3.8,
          3.7,
          3.5,
          3.2,
          3.4,
          3.6,
          3.7,
          3.6,
          3.6,
          3.9,
          4.1,
          4.6,
          4.6,
          5.2,
          5.9,
          6.1,
          6.8,
          6.8,
          6.8,
          6.8,
          6.8,
          6.3,
          6.1,
          5.5,
          5.6,
          5.4,
          5.4,
          5,
          4.5,
          4.5,
          4.4,
          4.5,
          4.5,
          4.8,
          5,
          5.2,
          4.6,
          4.6,
          4.2,
          4.7,
          4.5,
          4.5,
          4.7,
          4.9,
          4.9,
          4.9,
          5.3,
          5.5,
          5.8,
          5.8,
          6.1,
          6.1,
          6.3,
          6.5,
          6.2,
          6.2,
          5.8,
          5.8,
          5.7,
          5.3,
          5.3,
          5,
          4.7,
          4.8,
          4.8,
          4.8,
          4.8,
          4.8,
          5,
          4.9,
          4.7,
          4.9,
          4.9,
          5,
          5.1,
          4.8,
          4.8,
          4.9,
          4.7,
          4.7,
          4.6,
          4.5,
          4.6,
          4.8,
          4.7,
          4.7,
          4.6,
          4.6,
          4.4,
          4.2,
          4.3,
          4.2,
          4.1,
          4.2,
          4.2,
          4,
          4,
          3.9,
          4.1,
          3.8,
          3.9,
          3.7,
          3.7,
          3.5,
          3.5,
          3.4,
          3.3,
          3.3,
          3.2,
          3.1,
          3,
          3,
          2.9,
          3,
          2.9,
          2.9,
          3,
          2.8,
          2.8,
          2.8,
          3,
          3.1,
          3,
          3.1,
          3,
          3,
          3,
          2.9,
          2.9,
          3,
          3.1,
          3,
          3,
          3,
          3,
          2.9,
          2.7,
          2.6,
          2.8,
          2.7,
          2.7,
          2.6,
          2.6,
          2.6,
          2.5,
          2.6,
          2.6,
          2.6,
          2.6,
          2.6,
          2.7,
          2.7,
          2.7,
          2.9,
          2.9,
          2.7,
          2.7,
          3,
          3.3,
          3.5,
          3.6,
          3.8,
          3.9,
          4.1,
          4.1,
          4.3,
          4.4,
          4.8,
          5,
          4.9,
          4.9,
          4.9,
          4.9,
          4.9,
          4.8,
          4.8,
          5,
          4.9,
          4.8,
          5,
          4.9,
          4.7,
          4.5,
          4.7,
          4.6,
          4.7,
          4.6,
          4.6,
          4.5,
          4.5,
          4.5,
          4.2,
          4.1,
          4.1,
          4,
          4,
          3.9,
          3.8,
          3.9,
          3.8,
          3.9,
          3.8,
          3.5,
          3.8,
          3.9,
          4.1,
          4.1,
          4,
          4.1,
          4,
          4.2,
          4.3,
          4.5,
          4.7,
          4.8,
          5.4,
          6,
          6.8,
          6.9,
          7.4,
          7.6,
          7.8,
          7.5,
          7.4,
          7.1,
          7.3,
          7.2,
          7.2,
          7,
          6.7,
          6.5,
          6.4,
          6.4,
          6.2,
          6.5,
          6.6,
          6.5,
          6.5,
          6.5,
          6.7,
          6.6,
          6.3,
          6.5,
          6.3,
          6,
          5.9,
          6,
          5.8,
          5.9,
          5.6,
          5.7,
          5.7,
          5.4,
          5.4,
          5.1,
          5.1,
          5,
          5,
          4.9,
          5.1,
          4.9,
          4.9,
          4.7,
          4.8,
          4.9,
          4.8,
          4.9,
          4.8,
          4.8,
          4.6,
          4.7,
          4.7,
          5,
          4.8,
          4.9,
          4.9,
          4.9,
          5.3,
          5.3,
          5.3,
          6,
          6.4,
          6.5,
          6.7,
          6.7,
          6.5,
          6.5,
          6.4,
          6.2,
          6.4,
          6.3,
          6.3,
          6.1,
          6.4,
          6.4,
          6.2,
          6.4,
          6.5,
          6.8,
          7.1,
          7.4,
          7.5,
          7.7,
          7.9,
          8.2,
          8.2,
          8.5,
          8.7,
          8.7,
          9,
          9.3,
          9.6,
          9.8,
          9.4,
          9.5,
          9.3,
          9.1,
          9.1,
          8.9,
          8.4,
          8.4,
          8.2,
          7.9,
          7.6,
          7.4,
          7.2,
          6.9,
          6.9,
          6.9,
          6.6,
          6.4,
          6.6,
          6.7,
          6.5,
          6.5,
          6.4,
          6.4,
          6.5,
          6.4,
          6.4,
          6.5,
          6.4,
          6.6,
          6.4,
          6.3,
          6.3,
          6.2,
          6.2,
          6.1,
          5.9,
          6.3,
          6.3,
          6.2,
          6.3,
          6.3,
          6.2,
          6.1,
          6.2,
          6.2,
          6.1,
          5.9,
          5.9,
          5.8,
          5.8,
          5.5,
          5.5,
          5.5,
          5.4,
          5.3,
          5.2,
          5.2,
          5.1,
          5,
          5,
          5,
          4.9,
          4.7,
          4.9,
          4.8,
          4.8,
          4.9,
          4.7,
          4.7,
          4.7,
          4.7,
          4.7,
          4.5,
          4.4,
          4.6,
          4.5,
          4.6,
          4.6,
          4.6,
          4.6,
          4.7,
          4.7,
          4.7,
          4.7,
          4.6,
          4.6,
          4.8,
          4.7,
          4.7,
          4.9,
          5,
          5.2,
          5.2,
          5.5,
          5.6,
          5.6,
          5.9,
          6.1,
          6,
          6.2,
          6.2,
          6.1,
          6.2,
          6.2,
          6.3,
          6.3,
          6.5,
          6.6,
          6.7,
          6.7,
          6.7,
          6.9,
          6.9,
          6.9,
          6.9,
          6.8,
          6.7,
          6.7,
          6.7,
          6.5,
          6.4,
          6.3,
          6.4,
          6.3,
          6.3,
          6.2,
          6.1,
          6.1,
          6.1,
          5.9,
          5.9,
          5.9,
          5.9,
          5.8,
          5.6,
          5.3,
          5.4,
          5.4,
          5.4,
          5.2,
          5.1,
          5,
          4.8,
          4.9,
          4.7,
          4.7,
          5,
          4.9,
          4.9,
          4.9,
          4.9,
          4.9,
          4.8,
          4.9,
          4.8,
          4.9,
          4.8,
          4.8,
          4.8,
          4.9,
          4.6,
          4.7,
          4.4,
          4.5,
          4.5,
          4.7,
          4.7,
          4.6,
          4.5,
          4.5,
          4.4,
          4.2,
          4.3,
          4.1,
          4.1,
          4.2,
          4.1,
          4,
          4.2,
          4.1,
          4,
          4,
          3.8,
          3.7,
          3.9,
          3.9,
          3.8,
          3.9,
          3.8,
          3.8,
          3.8,
          3.6,
          3.8,
          3.5,
          3.7,
          3.6,
          3.7,
          3.7,
          3.6,
          3.6,
          3.5,
          3.5,
          3.4,
          3.5,
          3.5,
          3.4,
          3.3,
          3.5,
          3.4,
          3.5,
          3.5,
          3.4,
          3.3,
          3.4,
          3.4,
          3.6,
          3.7,
          3.7,
          3.8,
          3.8,
          4,
          4,
          4.3,
          4.4,
          4.7,
          4.9,
          5.1,
          5.1,
          5.1,
          5.1,
          5.3,
          5.2,
          5.2,
          5.2,
          5.1,
          5.1,
          5.2,
          5.3,
          5.4,
          5.2,
          5.3,
          5.3,
          5.4,
          5.5,
          5.6,
          5.5,
          5.5,
          5.5,
          5.4,
          5.3,
          5.1,
          5.1,
          5,
          5.2,
          5,
          5,
          5.1,
          4.9,
          4.8,
          4.8,
          4.8,
          4.8,
          4.7,
          4.7,
          4.8,
          4.6,
          4.5,
          4.5,
          4.5,
          4.4,
          4.3,
          4.5,
          4.4,
          4.4,
          4.3,
          4.2,
          4.2,
          4.1,
          4.2,
          4.1,
          4.1,
          4.2,
          4.1,
          3.9,
          3.9,
          4,
          3.9,
          4.1,
          4,
          3.9,
          3.9,
          3.9,
          4,
          4.2,
          4.1,
          4.1,
          4.2,
          4.2,
          4.4,
          4.4,
          4.3,
          4.6,
          4.4,
          4.8,
          4.9,
          5.1,
          5.5,
          5.5,
          5.9,
          6.2,
          6.7,
          7.2,
          7.7,
          8.1,
          8.4,
          8.7,
          8.8,
          8.8,
          8.9,
          9.1,
          9.3,
          9.2,
          9.2,
          9.1,
          9.2,
          9.2,
          9.3,
          9,
          8.8,
          8.8,
          8.9,
          8.8,
          8.7,
          9.2,
          8.7,
          8.5,
          8.4,
          8.4,
          8.5,
          8.5,
          8.5,
          8.4,
          8.4,
          8.4,
          8.2,
          8,
          7.9,
          7.7,
          7.7,
          7.6,
          7.5,
          7.5,
          7.6,
          7.6,
          7.4,
          7.2,
          7.2,
          7.1,
          7.3,
          7.4,
          7,
          6.9,
          6.9,
          6.8,
          6.9,
          6.7,
          6.7,
          6.7,
          6.6,
          6.4,
          6.2,
          6.1,
          6.1,
          6.1,
          5.8,
          5.8,
          5.5,
          5.6,
          5.7,
          5.4,
          5.2,
          5.4,
          5.1,
          5.2,
          5.1,
          5,
          5,
          5.1,
          4.8,
          4.8,
          4.6,
          4.6,
          4.6,
          4.7,
          4.6,
          4.5,
          4.5,
          4.6,
          4.6,
          4.4,
          4.5,
          4.4,
          4.5,
          4.5,
          4.5,
          4.3,
          4.3,
          4.3,
          4.3,
          4.1,
          4,
          4,
          4,
          3.9,
          4.1,
          3.9,
          3.7,
          3.7,
          3.7,
          3.7,
          3.7,
          3.7,
          3.6,
          3.5,
          3.7,
          3.5,
          3.5,
          3.4,
          3.4,
          3.4,
          3.5,
          3.7,
          3.4,
          3.5,
          3.3,
          3.3,
          3.3,
          3.3,
          3.3,
          3.2,
          3.2,
          3.2,
          3.2,
          3.3,
          3.2,
          4,
          14.2,
          12.6
         ],
         "yaxis": "y"
        },
        {
         "hovertemplate": "category=White men<br>date=%{x}<br>rate=%{y}<extra></extra>",
         "legendgroup": "White men",
         "line": {
          "color": "#EF553B",
          "dash": "solid"
         },
         "mode": "lines",
         "name": "White men",
         "showlegend": true,
         "type": "scattergl",
         "x": [
          "1954-01-01",
          "1954-02-01",
          "1954-03-01",
          "1954-04-01",
          "1954-05-01",
          "1954-06-01",
          "1954-07-01",
          "1954-08-01",
          "1954-09-01",
          "1954-10-01",
          "1954-11-01",
          "1954-12-01",
          "1955-01-01",
          "1955-02-01",
          "1955-03-01",
          "1955-04-01",
          "1955-05-01",
          "1955-06-01",
          "1955-07-01",
          "1955-08-01",
          "1955-09-01",
          "1955-10-01",
          "1955-11-01",
          "1955-12-01",
          "1956-01-01",
          "1956-02-01",
          "1956-03-01",
          "1956-04-01",
          "1956-05-01",
          "1956-06-01",
          "1956-07-01",
          "1956-08-01",
          "1956-09-01",
          "1956-10-01",
          "1956-11-01",
          "1956-12-01",
          "1957-01-01",
          "1957-02-01",
          "1957-03-01",
          "1957-04-01",
          "1957-05-01",
          "1957-06-01",
          "1957-07-01",
          "1957-08-01",
          "1957-09-01",
          "1957-10-01",
          "1957-11-01",
          "1957-12-01",
          "1958-01-01",
          "1958-02-01",
          "1958-03-01",
          "1958-04-01",
          "1958-05-01",
          "1958-06-01",
          "1958-07-01",
          "1958-08-01",
          "1958-09-01",
          "1958-10-01",
          "1958-11-01",
          "1958-12-01",
          "1959-01-01",
          "1959-02-01",
          "1959-03-01",
          "1959-04-01",
          "1959-05-01",
          "1959-06-01",
          "1959-07-01",
          "1959-08-01",
          "1959-09-01",
          "1959-10-01",
          "1959-11-01",
          "1959-12-01",
          "1960-01-01",
          "1960-02-01",
          "1960-03-01",
          "1960-04-01",
          "1960-05-01",
          "1960-06-01",
          "1960-07-01",
          "1960-08-01",
          "1960-09-01",
          "1960-10-01",
          "1960-11-01",
          "1960-12-01",
          "1961-01-01",
          "1961-02-01",
          "1961-03-01",
          "1961-04-01",
          "1961-05-01",
          "1961-06-01",
          "1961-07-01",
          "1961-08-01",
          "1961-09-01",
          "1961-10-01",
          "1961-11-01",
          "1961-12-01",
          "1962-01-01",
          "1962-02-01",
          "1962-03-01",
          "1962-04-01",
          "1962-05-01",
          "1962-06-01",
          "1962-07-01",
          "1962-08-01",
          "1962-09-01",
          "1962-10-01",
          "1962-11-01",
          "1962-12-01",
          "1963-01-01",
          "1963-02-01",
          "1963-03-01",
          "1963-04-01",
          "1963-05-01",
          "1963-06-01",
          "1963-07-01",
          "1963-08-01",
          "1963-09-01",
          "1963-10-01",
          "1963-11-01",
          "1963-12-01",
          "1964-01-01",
          "1964-02-01",
          "1964-03-01",
          "1964-04-01",
          "1964-05-01",
          "1964-06-01",
          "1964-07-01",
          "1964-08-01",
          "1964-09-01",
          "1964-10-01",
          "1964-11-01",
          "1964-12-01",
          "1965-01-01",
          "1965-02-01",
          "1965-03-01",
          "1965-04-01",
          "1965-05-01",
          "1965-06-01",
          "1965-07-01",
          "1965-08-01",
          "1965-09-01",
          "1965-10-01",
          "1965-11-01",
          "1965-12-01",
          "1966-01-01",
          "1966-02-01",
          "1966-03-01",
          "1966-04-01",
          "1966-05-01",
          "1966-06-01",
          "1966-07-01",
          "1966-08-01",
          "1966-09-01",
          "1966-10-01",
          "1966-11-01",
          "1966-12-01",
          "1967-01-01",
          "1967-02-01",
          "1967-03-01",
          "1967-04-01",
          "1967-05-01",
          "1967-06-01",
          "1967-07-01",
          "1967-08-01",
          "1967-09-01",
          "1967-10-01",
          "1967-11-01",
          "1967-12-01",
          "1968-01-01",
          "1968-02-01",
          "1968-03-01",
          "1968-04-01",
          "1968-05-01",
          "1968-06-01",
          "1968-07-01",
          "1968-08-01",
          "1968-09-01",
          "1968-10-01",
          "1968-11-01",
          "1968-12-01",
          "1969-01-01",
          "1969-02-01",
          "1969-03-01",
          "1969-04-01",
          "1969-05-01",
          "1969-06-01",
          "1969-07-01",
          "1969-08-01",
          "1969-09-01",
          "1969-10-01",
          "1969-11-01",
          "1969-12-01",
          "1970-01-01",
          "1970-02-01",
          "1970-03-01",
          "1970-04-01",
          "1970-05-01",
          "1970-06-01",
          "1970-07-01",
          "1970-08-01",
          "1970-09-01",
          "1970-10-01",
          "1970-11-01",
          "1970-12-01",
          "1971-01-01",
          "1971-02-01",
          "1971-03-01",
          "1971-04-01",
          "1971-05-01",
          "1971-06-01",
          "1971-07-01",
          "1971-08-01",
          "1971-09-01",
          "1971-10-01",
          "1971-11-01",
          "1971-12-01",
          "1972-01-01",
          "1972-02-01",
          "1972-03-01",
          "1972-04-01",
          "1972-05-01",
          "1972-06-01",
          "1972-07-01",
          "1972-08-01",
          "1972-09-01",
          "1972-10-01",
          "1972-11-01",
          "1972-12-01",
          "1973-01-01",
          "1973-02-01",
          "1973-03-01",
          "1973-04-01",
          "1973-05-01",
          "1973-06-01",
          "1973-07-01",
          "1973-08-01",
          "1973-09-01",
          "1973-10-01",
          "1973-11-01",
          "1973-12-01",
          "1974-01-01",
          "1974-02-01",
          "1974-03-01",
          "1974-04-01",
          "1974-05-01",
          "1974-06-01",
          "1974-07-01",
          "1974-08-01",
          "1974-09-01",
          "1974-10-01",
          "1974-11-01",
          "1974-12-01",
          "1975-01-01",
          "1975-02-01",
          "1975-03-01",
          "1975-04-01",
          "1975-05-01",
          "1975-06-01",
          "1975-07-01",
          "1975-08-01",
          "1975-09-01",
          "1975-10-01",
          "1975-11-01",
          "1975-12-01",
          "1976-01-01",
          "1976-02-01",
          "1976-03-01",
          "1976-04-01",
          "1976-05-01",
          "1976-06-01",
          "1976-07-01",
          "1976-08-01",
          "1976-09-01",
          "1976-10-01",
          "1976-11-01",
          "1976-12-01",
          "1977-01-01",
          "1977-02-01",
          "1977-03-01",
          "1977-04-01",
          "1977-05-01",
          "1977-06-01",
          "1977-07-01",
          "1977-08-01",
          "1977-09-01",
          "1977-10-01",
          "1977-11-01",
          "1977-12-01",
          "1978-01-01",
          "1978-02-01",
          "1978-03-01",
          "1978-04-01",
          "1978-05-01",
          "1978-06-01",
          "1978-07-01",
          "1978-08-01",
          "1978-09-01",
          "1978-10-01",
          "1978-11-01",
          "1978-12-01",
          "1979-01-01",
          "1979-02-01",
          "1979-03-01",
          "1979-04-01",
          "1979-05-01",
          "1979-06-01",
          "1979-07-01",
          "1979-08-01",
          "1979-09-01",
          "1979-10-01",
          "1979-11-01",
          "1979-12-01",
          "1980-01-01",
          "1980-02-01",
          "1980-03-01",
          "1980-04-01",
          "1980-05-01",
          "1980-06-01",
          "1980-07-01",
          "1980-08-01",
          "1980-09-01",
          "1980-10-01",
          "1980-11-01",
          "1980-12-01",
          "1981-01-01",
          "1981-02-01",
          "1981-03-01",
          "1981-04-01",
          "1981-05-01",
          "1981-06-01",
          "1981-07-01",
          "1981-08-01",
          "1981-09-01",
          "1981-10-01",
          "1981-11-01",
          "1981-12-01",
          "1982-01-01",
          "1982-02-01",
          "1982-03-01",
          "1982-04-01",
          "1982-05-01",
          "1982-06-01",
          "1982-07-01",
          "1982-08-01",
          "1982-09-01",
          "1982-10-01",
          "1982-11-01",
          "1982-12-01",
          "1983-01-01",
          "1983-02-01",
          "1983-03-01",
          "1983-04-01",
          "1983-05-01",
          "1983-06-01",
          "1983-07-01",
          "1983-08-01",
          "1983-09-01",
          "1983-10-01",
          "1983-11-01",
          "1983-12-01",
          "1984-01-01",
          "1984-02-01",
          "1984-03-01",
          "1984-04-01",
          "1984-05-01",
          "1984-06-01",
          "1984-07-01",
          "1984-08-01",
          "1984-09-01",
          "1984-10-01",
          "1984-11-01",
          "1984-12-01",
          "1985-01-01",
          "1985-02-01",
          "1985-03-01",
          "1985-04-01",
          "1985-05-01",
          "1985-06-01",
          "1985-07-01",
          "1985-08-01",
          "1985-09-01",
          "1985-10-01",
          "1985-11-01",
          "1985-12-01",
          "1986-01-01",
          "1986-02-01",
          "1986-03-01",
          "1986-04-01",
          "1986-05-01",
          "1986-06-01",
          "1986-07-01",
          "1986-08-01",
          "1986-09-01",
          "1986-10-01",
          "1986-11-01",
          "1986-12-01",
          "1987-01-01",
          "1987-02-01",
          "1987-03-01",
          "1987-04-01",
          "1987-05-01",
          "1987-06-01",
          "1987-07-01",
          "1987-08-01",
          "1987-09-01",
          "1987-10-01",
          "1987-11-01",
          "1987-12-01",
          "1988-01-01",
          "1988-02-01",
          "1988-03-01",
          "1988-04-01",
          "1988-05-01",
          "1988-06-01",
          "1988-07-01",
          "1988-08-01",
          "1988-09-01",
          "1988-10-01",
          "1988-11-01",
          "1988-12-01",
          "1989-01-01",
          "1989-02-01",
          "1989-03-01",
          "1989-04-01",
          "1989-05-01",
          "1989-06-01",
          "1989-07-01",
          "1989-08-01",
          "1989-09-01",
          "1989-10-01",
          "1989-11-01",
          "1989-12-01",
          "1990-01-01",
          "1990-02-01",
          "1990-03-01",
          "1990-04-01",
          "1990-05-01",
          "1990-06-01",
          "1990-07-01",
          "1990-08-01",
          "1990-09-01",
          "1990-10-01",
          "1990-11-01",
          "1990-12-01",
          "1991-01-01",
          "1991-02-01",
          "1991-03-01",
          "1991-04-01",
          "1991-05-01",
          "1991-06-01",
          "1991-07-01",
          "1991-08-01",
          "1991-09-01",
          "1991-10-01",
          "1991-11-01",
          "1991-12-01",
          "1992-01-01",
          "1992-02-01",
          "1992-03-01",
          "1992-04-01",
          "1992-05-01",
          "1992-06-01",
          "1992-07-01",
          "1992-08-01",
          "1992-09-01",
          "1992-10-01",
          "1992-11-01",
          "1992-12-01",
          "1993-01-01",
          "1993-02-01",
          "1993-03-01",
          "1993-04-01",
          "1993-05-01",
          "1993-06-01",
          "1993-07-01",
          "1993-08-01",
          "1993-09-01",
          "1993-10-01",
          "1993-11-01",
          "1993-12-01",
          "1994-01-01",
          "1994-02-01",
          "1994-03-01",
          "1994-04-01",
          "1994-05-01",
          "1994-06-01",
          "1994-07-01",
          "1994-08-01",
          "1994-09-01",
          "1994-10-01",
          "1994-11-01",
          "1994-12-01",
          "1995-01-01",
          "1995-02-01",
          "1995-03-01",
          "1995-04-01",
          "1995-05-01",
          "1995-06-01",
          "1995-07-01",
          "1995-08-01",
          "1995-09-01",
          "1995-10-01",
          "1995-11-01",
          "1995-12-01",
          "1996-01-01",
          "1996-02-01",
          "1996-03-01",
          "1996-04-01",
          "1996-05-01",
          "1996-06-01",
          "1996-07-01",
          "1996-08-01",
          "1996-09-01",
          "1996-10-01",
          "1996-11-01",
          "1996-12-01",
          "1997-01-01",
          "1997-02-01",
          "1997-03-01",
          "1997-04-01",
          "1997-05-01",
          "1997-06-01",
          "1997-07-01",
          "1997-08-01",
          "1997-09-01",
          "1997-10-01",
          "1997-11-01",
          "1997-12-01",
          "1998-01-01",
          "1998-02-01",
          "1998-03-01",
          "1998-04-01",
          "1998-05-01",
          "1998-06-01",
          "1998-07-01",
          "1998-08-01",
          "1998-09-01",
          "1998-10-01",
          "1998-11-01",
          "1998-12-01",
          "1999-01-01",
          "1999-02-01",
          "1999-03-01",
          "1999-04-01",
          "1999-05-01",
          "1999-06-01",
          "1999-07-01",
          "1999-08-01",
          "1999-09-01",
          "1999-10-01",
          "1999-11-01",
          "1999-12-01",
          "2000-01-01",
          "2000-02-01",
          "2000-03-01",
          "2000-04-01",
          "2000-05-01",
          "2000-06-01",
          "2000-07-01",
          "2000-08-01",
          "2000-09-01",
          "2000-10-01",
          "2000-11-01",
          "2000-12-01",
          "2001-01-01",
          "2001-02-01",
          "2001-03-01",
          "2001-04-01",
          "2001-05-01",
          "2001-06-01",
          "2001-07-01",
          "2001-08-01",
          "2001-09-01",
          "2001-10-01",
          "2001-11-01",
          "2001-12-01",
          "2002-01-01",
          "2002-02-01",
          "2002-03-01",
          "2002-04-01",
          "2002-05-01",
          "2002-06-01",
          "2002-07-01",
          "2002-08-01",
          "2002-09-01",
          "2002-10-01",
          "2002-11-01",
          "2002-12-01",
          "2003-01-01",
          "2003-02-01",
          "2003-03-01",
          "2003-04-01",
          "2003-05-01",
          "2003-06-01",
          "2003-07-01",
          "2003-08-01",
          "2003-09-01",
          "2003-10-01",
          "2003-11-01",
          "2003-12-01",
          "2004-01-01",
          "2004-02-01",
          "2004-03-01",
          "2004-04-01",
          "2004-05-01",
          "2004-06-01",
          "2004-07-01",
          "2004-08-01",
          "2004-09-01",
          "2004-10-01",
          "2004-11-01",
          "2004-12-01",
          "2005-01-01",
          "2005-02-01",
          "2005-03-01",
          "2005-04-01",
          "2005-05-01",
          "2005-06-01",
          "2005-07-01",
          "2005-08-01",
          "2005-09-01",
          "2005-10-01",
          "2005-11-01",
          "2005-12-01",
          "2006-01-01",
          "2006-02-01",
          "2006-03-01",
          "2006-04-01",
          "2006-05-01",
          "2006-06-01",
          "2006-07-01",
          "2006-08-01",
          "2006-09-01",
          "2006-10-01",
          "2006-11-01",
          "2006-12-01",
          "2007-01-01",
          "2007-02-01",
          "2007-03-01",
          "2007-04-01",
          "2007-05-01",
          "2007-06-01",
          "2007-07-01",
          "2007-08-01",
          "2007-09-01",
          "2007-10-01",
          "2007-11-01",
          "2007-12-01",
          "2008-01-01",
          "2008-02-01",
          "2008-03-01",
          "2008-04-01",
          "2008-05-01",
          "2008-06-01",
          "2008-07-01",
          "2008-08-01",
          "2008-09-01",
          "2008-10-01",
          "2008-11-01",
          "2008-12-01",
          "2009-01-01",
          "2009-02-01",
          "2009-03-01",
          "2009-04-01",
          "2009-05-01",
          "2009-06-01",
          "2009-07-01",
          "2009-08-01",
          "2009-09-01",
          "2009-10-01",
          "2009-11-01",
          "2009-12-01",
          "2010-01-01",
          "2010-02-01",
          "2010-03-01",
          "2010-04-01",
          "2010-05-01",
          "2010-06-01",
          "2010-07-01",
          "2010-08-01",
          "2010-09-01",
          "2010-10-01",
          "2010-11-01",
          "2010-12-01",
          "2011-01-01",
          "2011-02-01",
          "2011-03-01",
          "2011-04-01",
          "2011-05-01",
          "2011-06-01",
          "2011-07-01",
          "2011-08-01",
          "2011-09-01",
          "2011-10-01",
          "2011-11-01",
          "2011-12-01",
          "2012-01-01",
          "2012-02-01",
          "2012-03-01",
          "2012-04-01",
          "2012-05-01",
          "2012-06-01",
          "2012-07-01",
          "2012-08-01",
          "2012-09-01",
          "2012-10-01",
          "2012-11-01",
          "2012-12-01",
          "2013-01-01",
          "2013-02-01",
          "2013-03-01",
          "2013-04-01",
          "2013-05-01",
          "2013-06-01",
          "2013-07-01",
          "2013-08-01",
          "2013-09-01",
          "2013-10-01",
          "2013-11-01",
          "2013-12-01",
          "2014-01-01",
          "2014-02-01",
          "2014-03-01",
          "2014-04-01",
          "2014-05-01",
          "2014-06-01",
          "2014-07-01",
          "2014-08-01",
          "2014-09-01",
          "2014-10-01",
          "2014-11-01",
          "2014-12-01",
          "2015-01-01",
          "2015-02-01",
          "2015-03-01",
          "2015-04-01",
          "2015-05-01",
          "2015-06-01",
          "2015-07-01",
          "2015-08-01",
          "2015-09-01",
          "2015-10-01",
          "2015-11-01",
          "2015-12-01",
          "2016-01-01",
          "2016-02-01",
          "2016-03-01",
          "2016-04-01",
          "2016-05-01",
          "2016-06-01",
          "2016-07-01",
          "2016-08-01",
          "2016-09-01",
          "2016-10-01",
          "2016-11-01",
          "2016-12-01",
          "2017-01-01",
          "2017-02-01",
          "2017-03-01",
          "2017-04-01",
          "2017-05-01",
          "2017-06-01",
          "2017-07-01",
          "2017-08-01",
          "2017-09-01",
          "2017-10-01",
          "2017-11-01",
          "2017-12-01",
          "2018-01-01",
          "2018-02-01",
          "2018-03-01",
          "2018-04-01",
          "2018-05-01",
          "2018-06-01",
          "2018-07-01",
          "2018-08-01",
          "2018-09-01",
          "2018-10-01",
          "2018-11-01",
          "2018-12-01",
          "2019-01-01",
          "2019-02-01",
          "2019-03-01",
          "2019-04-01",
          "2019-05-01",
          "2019-06-01",
          "2019-07-01",
          "2019-08-01",
          "2019-09-01",
          "2019-10-01",
          "2019-11-01",
          "2019-12-01",
          "2020-01-01",
          "2020-02-01",
          "2020-03-01",
          "2020-04-01",
          "2020-05-01"
         ],
         "xaxis": "x",
         "y": [
          3.6,
          3.8,
          4.1,
          4.7,
          4.6,
          4.5,
          4.6,
          5.1,
          5.4,
          4.7,
          4.1,
          3.8,
          3.8,
          3.5,
          3.5,
          3.9,
          3.2,
          3.1,
          3,
          2.9,
          2.8,
          2.9,
          3,
          3,
          2.9,
          3,
          3,
          2.9,
          3.1,
          3,
          3,
          2.8,
          2.9,
          2.8,
          3,
          3.1,
          3,
          2.9,
          2.6,
          3,
          2.9,
          3.1,
          3,
          3.1,
          3.4,
          3.6,
          3.9,
          4.2,
          4.6,
          5.1,
          5.5,
          6,
          6.1,
          6.2,
          6.3,
          6.3,
          5.8,
          5.5,
          5,
          4.9,
          4.6,
          4.5,
          4.1,
          3.7,
          3.6,
          3.6,
          3.6,
          3.6,
          4.3,
          4.1,
          4.7,
          3.8,
          3.9,
          3.5,
          4,
          3.9,
          3.9,
          4,
          4.2,
          4.4,
          4.5,
          4.7,
          4.8,
          5.1,
          5.2,
          5.3,
          5.3,
          5.4,
          5.7,
          5.2,
          5.4,
          5.1,
          4.9,
          4.7,
          4.5,
          4.4,
          4.1,
          3.9,
          4,
          4,
          4,
          4,
          3.9,
          4.1,
          4,
          3.9,
          4.2,
          4,
          4.2,
          4.3,
          4.1,
          4.1,
          3.9,
          3.8,
          3.8,
          3.8,
          3.5,
          3.7,
          3.9,
          3.8,
          3.7,
          3.6,
          3.6,
          3.5,
          3.3,
          3.6,
          3.3,
          3.3,
          3.4,
          3.6,
          3.1,
          3.1,
          3.1,
          3.2,
          3.1,
          3.2,
          3.1,
          2.9,
          2.8,
          2.8,
          2.7,
          2.6,
          2.5,
          2.5,
          2.5,
          2.4,
          2.3,
          2.2,
          2.2,
          2.2,
          2.2,
          2.2,
          2.1,
          2,
          2.1,
          2.1,
          2.1,
          2,
          2.1,
          2.2,
          2.1,
          2.2,
          2.1,
          2.1,
          2.1,
          2.1,
          2.1,
          2.2,
          2.1,
          2.2,
          2.1,
          1.9,
          1.9,
          2.1,
          1.9,
          2,
          1.9,
          1.9,
          1.8,
          1.7,
          1.8,
          1.8,
          1.8,
          1.8,
          1.8,
          1.8,
          2,
          1.9,
          2.1,
          2.2,
          2,
          2.1,
          2.4,
          2.6,
          2.7,
          2.9,
          3,
          3.2,
          3.4,
          3.5,
          3.6,
          3.9,
          4,
          4.2,
          4.1,
          4,
          4,
          4,
          4.1,
          4,
          4,
          4.2,
          4.1,
          4,
          4.1,
          4,
          3.9,
          3.7,
          3.8,
          3.8,
          3.7,
          3.8,
          3.6,
          3.5,
          3.6,
          3.8,
          3.4,
          3.2,
          3.2,
          3.1,
          3.1,
          3,
          3,
          3,
          2.8,
          2.9,
          2.9,
          2.7,
          2.8,
          2.9,
          3.1,
          3.1,
          3,
          3.2,
          3.1,
          3.2,
          3.3,
          3.5,
          3.6,
          3.9,
          4.2,
          4.8,
          5.5,
          5.7,
          6.1,
          6.4,
          6.8,
          6.5,
          6.5,
          6.2,
          6.5,
          6.3,
          6.2,
          5.8,
          5.5,
          5.2,
          5.2,
          5.2,
          5.2,
          5.5,
          5.5,
          5.4,
          5.5,
          5.4,
          5.5,
          5.4,
          5.2,
          5.3,
          5,
          4.9,
          4.8,
          4.6,
          4.5,
          4.4,
          4.2,
          4.3,
          4.2,
          4.1,
          4,
          4,
          4,
          3.7,
          3.7,
          3.5,
          3.6,
          3.5,
          3.6,
          3.6,
          3.4,
          3.7,
          3.6,
          3.5,
          3.5,
          3.5,
          3.3,
          3.4,
          3.6,
          3.7,
          3.7,
          3.8,
          3.8,
          3.8,
          4.2,
          4.2,
          4.5,
          5.2,
          5.7,
          5.8,
          6,
          5.9,
          5.8,
          5.6,
          5.5,
          5.2,
          5.5,
          5.5,
          5.4,
          5.2,
          5.5,
          5.4,
          5.1,
          5.3,
          5.4,
          5.8,
          6.1,
          6.6,
          6.6,
          6.8,
          7.1,
          7.3,
          7.3,
          7.8,
          8,
          8.1,
          8.5,
          8.7,
          9,
          9,
          8.4,
          8.8,
          8.6,
          8.6,
          8.5,
          8,
          7.7,
          7.7,
          7.6,
          7.3,
          6.9,
          6.6,
          6.3,
          6.1,
          5.9,
          5.9,
          5.6,
          5.4,
          5.4,
          5.5,
          5.6,
          5.5,
          5.4,
          5.5,
          5.5,
          5.4,
          5.3,
          5.5,
          5.2,
          5.8,
          5.5,
          5.4,
          5.3,
          5.2,
          5.1,
          5.1,
          4.9,
          5.4,
          5.4,
          5.3,
          5.5,
          5.4,
          5.5,
          5.1,
          5.4,
          5.4,
          5.3,
          5.3,
          5.2,
          5.1,
          5.1,
          4.9,
          4.8,
          4.9,
          4.7,
          4.6,
          4.4,
          4.6,
          4.4,
          4.3,
          4.4,
          4.2,
          4.2,
          3.9,
          4.2,
          4,
          4,
          4.3,
          4.1,
          4.1,
          4.2,
          4.1,
          4,
          3.8,
          3.6,
          3.9,
          3.7,
          3.8,
          3.8,
          3.8,
          4.2,
          3.9,
          4,
          4,
          4,
          3.9,
          4,
          4.2,
          4.1,
          4.1,
          4.2,
          4.4,
          4.4,
          4.7,
          4.9,
          5.1,
          5.2,
          5.5,
          5.8,
          5.7,
          5.7,
          5.9,
          6,
          5.9,
          6.1,
          6,
          6.1,
          6.1,
          6.3,
          6.3,
          6.2,
          6.3,
          6.5,
          6.6,
          6.4,
          6.4,
          6.4,
          6.4,
          6.3,
          6.1,
          5.9,
          5.9,
          5.9,
          5.8,
          5.8,
          5.8,
          5.8,
          5.7,
          5.6,
          5.7,
          5.1,
          5.4,
          5.2,
          5.2,
          5.1,
          5,
          4.7,
          4.7,
          4.8,
          4.7,
          4.4,
          4.5,
          4.3,
          4.2,
          4.3,
          4.1,
          4.2,
          4.4,
          4.5,
          4.3,
          4.2,
          4.3,
          4.2,
          4.1,
          4.4,
          4.2,
          4.2,
          4.2,
          4.2,
          4.2,
          4.3,
          4.1,
          4,
          3.8,
          3.9,
          3.8,
          4,
          3.8,
          4,
          3.8,
          3.7,
          3.7,
          3.3,
          3.5,
          3.5,
          3.6,
          3.5,
          3.5,
          3.4,
          3.5,
          3.3,
          3.2,
          3.3,
          3,
          3.1,
          3.2,
          3.3,
          3.3,
          3.3,
          3.2,
          3.1,
          3.2,
          3.1,
          3.3,
          2.8,
          3,
          3.1,
          3.2,
          3.1,
          3.3,
          2.9,
          2.9,
          2.8,
          2.8,
          2.8,
          2.9,
          2.8,
          2.7,
          2.8,
          2.8,
          2.8,
          2.8,
          2.9,
          2.9,
          2.9,
          3,
          3.2,
          3.3,
          3.3,
          3.4,
          3.3,
          3.5,
          3.5,
          3.8,
          3.8,
          4.4,
          4.6,
          4.6,
          4.7,
          4.6,
          4.6,
          4.8,
          4.7,
          4.7,
          4.7,
          4.7,
          4.8,
          4.8,
          4.9,
          4.9,
          5,
          4.8,
          4.7,
          5.1,
          5.1,
          5.3,
          5.3,
          5.2,
          5,
          4.9,
          5,
          4.7,
          4.6,
          4.5,
          4.7,
          4.6,
          4.7,
          4.6,
          4.2,
          4.3,
          4.3,
          4.2,
          4.2,
          4.1,
          4,
          4.1,
          4,
          3.8,
          3.8,
          3.7,
          3.7,
          3.7,
          4,
          3.8,
          3.7,
          3.7,
          3.6,
          3.7,
          3.5,
          3.6,
          3.6,
          3.6,
          3.6,
          3.6,
          3.2,
          3.4,
          3.5,
          3.5,
          3.8,
          3.8,
          3.4,
          3.6,
          3.5,
          3.6,
          3.8,
          3.8,
          3.8,
          3.8,
          3.7,
          3.9,
          4,
          4,
          4.2,
          4.2,
          4.4,
          4.5,
          4.8,
          5,
          5.3,
          5.7,
          6,
          6.6,
          7.1,
          7.7,
          8.3,
          8.6,
          9,
          9.1,
          9,
          9.2,
          9.4,
          9.6,
          9.6,
          9.3,
          9.3,
          9.3,
          9.1,
          9.4,
          8.7,
          8.7,
          8.7,
          8.8,
          8.7,
          8.6,
          9.1,
          8.5,
          8,
          8,
          7.9,
          8,
          7.8,
          7.9,
          7.8,
          7.6,
          7.6,
          7.7,
          7.2,
          7.2,
          7,
          6.9,
          6.8,
          6.8,
          6.9,
          7,
          6.8,
          6.7,
          6.6,
          6.5,
          6.4,
          6.3,
          6.7,
          6.3,
          6.1,
          6.4,
          6.4,
          6.2,
          6.3,
          6.2,
          6.1,
          6.1,
          5.9,
          5.6,
          5.4,
          5.5,
          5.2,
          5,
          5,
          4.9,
          4.7,
          4.9,
          4.4,
          4.2,
          4.6,
          4.3,
          4.5,
          4.5,
          4.4,
          4.4,
          4.3,
          4.2,
          4.2,
          4.1,
          4.1,
          4.1,
          4.1,
          4.1,
          3.8,
          3.9,
          4,
          4,
          3.9,
          4,
          4.1,
          4.1,
          4.1,
          4.1,
          4,
          4,
          3.9,
          3.7,
          3.6,
          3.4,
          3.5,
          3.5,
          3.4,
          3.5,
          3.4,
          3.3,
          3.3,
          3.3,
          3.3,
          3.4,
          3.3,
          3.4,
          3.2,
          3.3,
          2.9,
          3,
          3,
          3,
          3,
          3.1,
          3.3,
          3,
          3.2,
          2.9,
          2.9,
          2.9,
          3,
          3,
          2.9,
          2.9,
          3,
          2.8,
          2.9,
          2.9,
          3.7,
          12.4,
          10.7
         ],
         "yaxis": "y"
        },
        {
         "hovertemplate": "category=White women<br>date=%{x}<br>rate=%{y}<extra></extra>",
         "legendgroup": "White women",
         "line": {
          "color": "#00cc96",
          "dash": "solid"
         },
         "mode": "lines",
         "name": "White women",
         "showlegend": true,
         "type": "scattergl",
         "x": [
          "1954-01-01",
          "1954-02-01",
          "1954-03-01",
          "1954-04-01",
          "1954-05-01",
          "1954-06-01",
          "1954-07-01",
          "1954-08-01",
          "1954-09-01",
          "1954-10-01",
          "1954-11-01",
          "1954-12-01",
          "1955-01-01",
          "1955-02-01",
          "1955-03-01",
          "1955-04-01",
          "1955-05-01",
          "1955-06-01",
          "1955-07-01",
          "1955-08-01",
          "1955-09-01",
          "1955-10-01",
          "1955-11-01",
          "1955-12-01",
          "1956-01-01",
          "1956-02-01",
          "1956-03-01",
          "1956-04-01",
          "1956-05-01",
          "1956-06-01",
          "1956-07-01",
          "1956-08-01",
          "1956-09-01",
          "1956-10-01",
          "1956-11-01",
          "1956-12-01",
          "1957-01-01",
          "1957-02-01",
          "1957-03-01",
          "1957-04-01",
          "1957-05-01",
          "1957-06-01",
          "1957-07-01",
          "1957-08-01",
          "1957-09-01",
          "1957-10-01",
          "1957-11-01",
          "1957-12-01",
          "1958-01-01",
          "1958-02-01",
          "1958-03-01",
          "1958-04-01",
          "1958-05-01",
          "1958-06-01",
          "1958-07-01",
          "1958-08-01",
          "1958-09-01",
          "1958-10-01",
          "1958-11-01",
          "1958-12-01",
          "1959-01-01",
          "1959-02-01",
          "1959-03-01",
          "1959-04-01",
          "1959-05-01",
          "1959-06-01",
          "1959-07-01",
          "1959-08-01",
          "1959-09-01",
          "1959-10-01",
          "1959-11-01",
          "1959-12-01",
          "1960-01-01",
          "1960-02-01",
          "1960-03-01",
          "1960-04-01",
          "1960-05-01",
          "1960-06-01",
          "1960-07-01",
          "1960-08-01",
          "1960-09-01",
          "1960-10-01",
          "1960-11-01",
          "1960-12-01",
          "1961-01-01",
          "1961-02-01",
          "1961-03-01",
          "1961-04-01",
          "1961-05-01",
          "1961-06-01",
          "1961-07-01",
          "1961-08-01",
          "1961-09-01",
          "1961-10-01",
          "1961-11-01",
          "1961-12-01",
          "1962-01-01",
          "1962-02-01",
          "1962-03-01",
          "1962-04-01",
          "1962-05-01",
          "1962-06-01",
          "1962-07-01",
          "1962-08-01",
          "1962-09-01",
          "1962-10-01",
          "1962-11-01",
          "1962-12-01",
          "1963-01-01",
          "1963-02-01",
          "1963-03-01",
          "1963-04-01",
          "1963-05-01",
          "1963-06-01",
          "1963-07-01",
          "1963-08-01",
          "1963-09-01",
          "1963-10-01",
          "1963-11-01",
          "1963-12-01",
          "1964-01-01",
          "1964-02-01",
          "1964-03-01",
          "1964-04-01",
          "1964-05-01",
          "1964-06-01",
          "1964-07-01",
          "1964-08-01",
          "1964-09-01",
          "1964-10-01",
          "1964-11-01",
          "1964-12-01",
          "1965-01-01",
          "1965-02-01",
          "1965-03-01",
          "1965-04-01",
          "1965-05-01",
          "1965-06-01",
          "1965-07-01",
          "1965-08-01",
          "1965-09-01",
          "1965-10-01",
          "1965-11-01",
          "1965-12-01",
          "1966-01-01",
          "1966-02-01",
          "1966-03-01",
          "1966-04-01",
          "1966-05-01",
          "1966-06-01",
          "1966-07-01",
          "1966-08-01",
          "1966-09-01",
          "1966-10-01",
          "1966-11-01",
          "1966-12-01",
          "1967-01-01",
          "1967-02-01",
          "1967-03-01",
          "1967-04-01",
          "1967-05-01",
          "1967-06-01",
          "1967-07-01",
          "1967-08-01",
          "1967-09-01",
          "1967-10-01",
          "1967-11-01",
          "1967-12-01",
          "1968-01-01",
          "1968-02-01",
          "1968-03-01",
          "1968-04-01",
          "1968-05-01",
          "1968-06-01",
          "1968-07-01",
          "1968-08-01",
          "1968-09-01",
          "1968-10-01",
          "1968-11-01",
          "1968-12-01",
          "1969-01-01",
          "1969-02-01",
          "1969-03-01",
          "1969-04-01",
          "1969-05-01",
          "1969-06-01",
          "1969-07-01",
          "1969-08-01",
          "1969-09-01",
          "1969-10-01",
          "1969-11-01",
          "1969-12-01",
          "1970-01-01",
          "1970-02-01",
          "1970-03-01",
          "1970-04-01",
          "1970-05-01",
          "1970-06-01",
          "1970-07-01",
          "1970-08-01",
          "1970-09-01",
          "1970-10-01",
          "1970-11-01",
          "1970-12-01",
          "1971-01-01",
          "1971-02-01",
          "1971-03-01",
          "1971-04-01",
          "1971-05-01",
          "1971-06-01",
          "1971-07-01",
          "1971-08-01",
          "1971-09-01",
          "1971-10-01",
          "1971-11-01",
          "1971-12-01",
          "1972-01-01",
          "1972-02-01",
          "1972-03-01",
          "1972-04-01",
          "1972-05-01",
          "1972-06-01",
          "1972-07-01",
          "1972-08-01",
          "1972-09-01",
          "1972-10-01",
          "1972-11-01",
          "1972-12-01",
          "1973-01-01",
          "1973-02-01",
          "1973-03-01",
          "1973-04-01",
          "1973-05-01",
          "1973-06-01",
          "1973-07-01",
          "1973-08-01",
          "1973-09-01",
          "1973-10-01",
          "1973-11-01",
          "1973-12-01",
          "1974-01-01",
          "1974-02-01",
          "1974-03-01",
          "1974-04-01",
          "1974-05-01",
          "1974-06-01",
          "1974-07-01",
          "1974-08-01",
          "1974-09-01",
          "1974-10-01",
          "1974-11-01",
          "1974-12-01",
          "1975-01-01",
          "1975-02-01",
          "1975-03-01",
          "1975-04-01",
          "1975-05-01",
          "1975-06-01",
          "1975-07-01",
          "1975-08-01",
          "1975-09-01",
          "1975-10-01",
          "1975-11-01",
          "1975-12-01",
          "1976-01-01",
          "1976-02-01",
          "1976-03-01",
          "1976-04-01",
          "1976-05-01",
          "1976-06-01",
          "1976-07-01",
          "1976-08-01",
          "1976-09-01",
          "1976-10-01",
          "1976-11-01",
          "1976-12-01",
          "1977-01-01",
          "1977-02-01",
          "1977-03-01",
          "1977-04-01",
          "1977-05-01",
          "1977-06-01",
          "1977-07-01",
          "1977-08-01",
          "1977-09-01",
          "1977-10-01",
          "1977-11-01",
          "1977-12-01",
          "1978-01-01",
          "1978-02-01",
          "1978-03-01",
          "1978-04-01",
          "1978-05-01",
          "1978-06-01",
          "1978-07-01",
          "1978-08-01",
          "1978-09-01",
          "1978-10-01",
          "1978-11-01",
          "1978-12-01",
          "1979-01-01",
          "1979-02-01",
          "1979-03-01",
          "1979-04-01",
          "1979-05-01",
          "1979-06-01",
          "1979-07-01",
          "1979-08-01",
          "1979-09-01",
          "1979-10-01",
          "1979-11-01",
          "1979-12-01",
          "1980-01-01",
          "1980-02-01",
          "1980-03-01",
          "1980-04-01",
          "1980-05-01",
          "1980-06-01",
          "1980-07-01",
          "1980-08-01",
          "1980-09-01",
          "1980-10-01",
          "1980-11-01",
          "1980-12-01",
          "1981-01-01",
          "1981-02-01",
          "1981-03-01",
          "1981-04-01",
          "1981-05-01",
          "1981-06-01",
          "1981-07-01",
          "1981-08-01",
          "1981-09-01",
          "1981-10-01",
          "1981-11-01",
          "1981-12-01",
          "1982-01-01",
          "1982-02-01",
          "1982-03-01",
          "1982-04-01",
          "1982-05-01",
          "1982-06-01",
          "1982-07-01",
          "1982-08-01",
          "1982-09-01",
          "1982-10-01",
          "1982-11-01",
          "1982-12-01",
          "1983-01-01",
          "1983-02-01",
          "1983-03-01",
          "1983-04-01",
          "1983-05-01",
          "1983-06-01",
          "1983-07-01",
          "1983-08-01",
          "1983-09-01",
          "1983-10-01",
          "1983-11-01",
          "1983-12-01",
          "1984-01-01",
          "1984-02-01",
          "1984-03-01",
          "1984-04-01",
          "1984-05-01",
          "1984-06-01",
          "1984-07-01",
          "1984-08-01",
          "1984-09-01",
          "1984-10-01",
          "1984-11-01",
          "1984-12-01",
          "1985-01-01",
          "1985-02-01",
          "1985-03-01",
          "1985-04-01",
          "1985-05-01",
          "1985-06-01",
          "1985-07-01",
          "1985-08-01",
          "1985-09-01",
          "1985-10-01",
          "1985-11-01",
          "1985-12-01",
          "1986-01-01",
          "1986-02-01",
          "1986-03-01",
          "1986-04-01",
          "1986-05-01",
          "1986-06-01",
          "1986-07-01",
          "1986-08-01",
          "1986-09-01",
          "1986-10-01",
          "1986-11-01",
          "1986-12-01",
          "1987-01-01",
          "1987-02-01",
          "1987-03-01",
          "1987-04-01",
          "1987-05-01",
          "1987-06-01",
          "1987-07-01",
          "1987-08-01",
          "1987-09-01",
          "1987-10-01",
          "1987-11-01",
          "1987-12-01",
          "1988-01-01",
          "1988-02-01",
          "1988-03-01",
          "1988-04-01",
          "1988-05-01",
          "1988-06-01",
          "1988-07-01",
          "1988-08-01",
          "1988-09-01",
          "1988-10-01",
          "1988-11-01",
          "1988-12-01",
          "1989-01-01",
          "1989-02-01",
          "1989-03-01",
          "1989-04-01",
          "1989-05-01",
          "1989-06-01",
          "1989-07-01",
          "1989-08-01",
          "1989-09-01",
          "1989-10-01",
          "1989-11-01",
          "1989-12-01",
          "1990-01-01",
          "1990-02-01",
          "1990-03-01",
          "1990-04-01",
          "1990-05-01",
          "1990-06-01",
          "1990-07-01",
          "1990-08-01",
          "1990-09-01",
          "1990-10-01",
          "1990-11-01",
          "1990-12-01",
          "1991-01-01",
          "1991-02-01",
          "1991-03-01",
          "1991-04-01",
          "1991-05-01",
          "1991-06-01",
          "1991-07-01",
          "1991-08-01",
          "1991-09-01",
          "1991-10-01",
          "1991-11-01",
          "1991-12-01",
          "1992-01-01",
          "1992-02-01",
          "1992-03-01",
          "1992-04-01",
          "1992-05-01",
          "1992-06-01",
          "1992-07-01",
          "1992-08-01",
          "1992-09-01",
          "1992-10-01",
          "1992-11-01",
          "1992-12-01",
          "1993-01-01",
          "1993-02-01",
          "1993-03-01",
          "1993-04-01",
          "1993-05-01",
          "1993-06-01",
          "1993-07-01",
          "1993-08-01",
          "1993-09-01",
          "1993-10-01",
          "1993-11-01",
          "1993-12-01",
          "1994-01-01",
          "1994-02-01",
          "1994-03-01",
          "1994-04-01",
          "1994-05-01",
          "1994-06-01",
          "1994-07-01",
          "1994-08-01",
          "1994-09-01",
          "1994-10-01",
          "1994-11-01",
          "1994-12-01",
          "1995-01-01",
          "1995-02-01",
          "1995-03-01",
          "1995-04-01",
          "1995-05-01",
          "1995-06-01",
          "1995-07-01",
          "1995-08-01",
          "1995-09-01",
          "1995-10-01",
          "1995-11-01",
          "1995-12-01",
          "1996-01-01",
          "1996-02-01",
          "1996-03-01",
          "1996-04-01",
          "1996-05-01",
          "1996-06-01",
          "1996-07-01",
          "1996-08-01",
          "1996-09-01",
          "1996-10-01",
          "1996-11-01",
          "1996-12-01",
          "1997-01-01",
          "1997-02-01",
          "1997-03-01",
          "1997-04-01",
          "1997-05-01",
          "1997-06-01",
          "1997-07-01",
          "1997-08-01",
          "1997-09-01",
          "1997-10-01",
          "1997-11-01",
          "1997-12-01",
          "1998-01-01",
          "1998-02-01",
          "1998-03-01",
          "1998-04-01",
          "1998-05-01",
          "1998-06-01",
          "1998-07-01",
          "1998-08-01",
          "1998-09-01",
          "1998-10-01",
          "1998-11-01",
          "1998-12-01",
          "1999-01-01",
          "1999-02-01",
          "1999-03-01",
          "1999-04-01",
          "1999-05-01",
          "1999-06-01",
          "1999-07-01",
          "1999-08-01",
          "1999-09-01",
          "1999-10-01",
          "1999-11-01",
          "1999-12-01",
          "2000-01-01",
          "2000-02-01",
          "2000-03-01",
          "2000-04-01",
          "2000-05-01",
          "2000-06-01",
          "2000-07-01",
          "2000-08-01",
          "2000-09-01",
          "2000-10-01",
          "2000-11-01",
          "2000-12-01",
          "2001-01-01",
          "2001-02-01",
          "2001-03-01",
          "2001-04-01",
          "2001-05-01",
          "2001-06-01",
          "2001-07-01",
          "2001-08-01",
          "2001-09-01",
          "2001-10-01",
          "2001-11-01",
          "2001-12-01",
          "2002-01-01",
          "2002-02-01",
          "2002-03-01",
          "2002-04-01",
          "2002-05-01",
          "2002-06-01",
          "2002-07-01",
          "2002-08-01",
          "2002-09-01",
          "2002-10-01",
          "2002-11-01",
          "2002-12-01",
          "2003-01-01",
          "2003-02-01",
          "2003-03-01",
          "2003-04-01",
          "2003-05-01",
          "2003-06-01",
          "2003-07-01",
          "2003-08-01",
          "2003-09-01",
          "2003-10-01",
          "2003-11-01",
          "2003-12-01",
          "2004-01-01",
          "2004-02-01",
          "2004-03-01",
          "2004-04-01",
          "2004-05-01",
          "2004-06-01",
          "2004-07-01",
          "2004-08-01",
          "2004-09-01",
          "2004-10-01",
          "2004-11-01",
          "2004-12-01",
          "2005-01-01",
          "2005-02-01",
          "2005-03-01",
          "2005-04-01",
          "2005-05-01",
          "2005-06-01",
          "2005-07-01",
          "2005-08-01",
          "2005-09-01",
          "2005-10-01",
          "2005-11-01",
          "2005-12-01",
          "2006-01-01",
          "2006-02-01",
          "2006-03-01",
          "2006-04-01",
          "2006-05-01",
          "2006-06-01",
          "2006-07-01",
          "2006-08-01",
          "2006-09-01",
          "2006-10-01",
          "2006-11-01",
          "2006-12-01",
          "2007-01-01",
          "2007-02-01",
          "2007-03-01",
          "2007-04-01",
          "2007-05-01",
          "2007-06-01",
          "2007-07-01",
          "2007-08-01",
          "2007-09-01",
          "2007-10-01",
          "2007-11-01",
          "2007-12-01",
          "2008-01-01",
          "2008-02-01",
          "2008-03-01",
          "2008-04-01",
          "2008-05-01",
          "2008-06-01",
          "2008-07-01",
          "2008-08-01",
          "2008-09-01",
          "2008-10-01",
          "2008-11-01",
          "2008-12-01",
          "2009-01-01",
          "2009-02-01",
          "2009-03-01",
          "2009-04-01",
          "2009-05-01",
          "2009-06-01",
          "2009-07-01",
          "2009-08-01",
          "2009-09-01",
          "2009-10-01",
          "2009-11-01",
          "2009-12-01",
          "2010-01-01",
          "2010-02-01",
          "2010-03-01",
          "2010-04-01",
          "2010-05-01",
          "2010-06-01",
          "2010-07-01",
          "2010-08-01",
          "2010-09-01",
          "2010-10-01",
          "2010-11-01",
          "2010-12-01",
          "2011-01-01",
          "2011-02-01",
          "2011-03-01",
          "2011-04-01",
          "2011-05-01",
          "2011-06-01",
          "2011-07-01",
          "2011-08-01",
          "2011-09-01",
          "2011-10-01",
          "2011-11-01",
          "2011-12-01",
          "2012-01-01",
          "2012-02-01",
          "2012-03-01",
          "2012-04-01",
          "2012-05-01",
          "2012-06-01",
          "2012-07-01",
          "2012-08-01",
          "2012-09-01",
          "2012-10-01",
          "2012-11-01",
          "2012-12-01",
          "2013-01-01",
          "2013-02-01",
          "2013-03-01",
          "2013-04-01",
          "2013-05-01",
          "2013-06-01",
          "2013-07-01",
          "2013-08-01",
          "2013-09-01",
          "2013-10-01",
          "2013-11-01",
          "2013-12-01",
          "2014-01-01",
          "2014-02-01",
          "2014-03-01",
          "2014-04-01",
          "2014-05-01",
          "2014-06-01",
          "2014-07-01",
          "2014-08-01",
          "2014-09-01",
          "2014-10-01",
          "2014-11-01",
          "2014-12-01",
          "2015-01-01",
          "2015-02-01",
          "2015-03-01",
          "2015-04-01",
          "2015-05-01",
          "2015-06-01",
          "2015-07-01",
          "2015-08-01",
          "2015-09-01",
          "2015-10-01",
          "2015-11-01",
          "2015-12-01",
          "2016-01-01",
          "2016-02-01",
          "2016-03-01",
          "2016-04-01",
          "2016-05-01",
          "2016-06-01",
          "2016-07-01",
          "2016-08-01",
          "2016-09-01",
          "2016-10-01",
          "2016-11-01",
          "2016-12-01",
          "2017-01-01",
          "2017-02-01",
          "2017-03-01",
          "2017-04-01",
          "2017-05-01",
          "2017-06-01",
          "2017-07-01",
          "2017-08-01",
          "2017-09-01",
          "2017-10-01",
          "2017-11-01",
          "2017-12-01",
          "2018-01-01",
          "2018-02-01",
          "2018-03-01",
          "2018-04-01",
          "2018-05-01",
          "2018-06-01",
          "2018-07-01",
          "2018-08-01",
          "2018-09-01",
          "2018-10-01",
          "2018-11-01",
          "2018-12-01",
          "2019-01-01",
          "2019-02-01",
          "2019-03-01",
          "2019-04-01",
          "2019-05-01",
          "2019-06-01",
          "2019-07-01",
          "2019-08-01",
          "2019-09-01",
          "2019-10-01",
          "2019-11-01",
          "2019-12-01",
          "2020-01-01",
          "2020-02-01",
          "2020-03-01",
          "2020-04-01",
          "2020-05-01"
         ],
         "xaxis": "x",
         "y": [
          4.8,
          5.2,
          5.6,
          5.6,
          5.4,
          5.2,
          5.3,
          5.1,
          5.1,
          4.6,
          4.8,
          4.1,
          4.4,
          4,
          4,
          3.8,
          3.7,
          3.8,
          3.6,
          3.7,
          4,
          4.1,
          3.6,
          3.9,
          3.5,
          3.3,
          3.8,
          3.7,
          3.8,
          3.6,
          4.4,
          3.7,
          3.6,
          3.5,
          3.8,
          4,
          4,
          3.6,
          3.6,
          3.4,
          3.7,
          3.8,
          3.6,
          3.7,
          3.7,
          3.9,
          4.4,
          4.1,
          4.9,
          5.4,
          5.4,
          6.1,
          6.2,
          6,
          5.9,
          6.1,
          5.6,
          5.4,
          5,
          5.1,
          5,
          5.1,
          4.9,
          4.8,
          4.5,
          4.4,
          4.5,
          4.4,
          4.6,
          4.7,
          4.7,
          4.5,
          4.4,
          4.2,
          4.5,
          4.2,
          4.2,
          4.4,
          4.7,
          4.7,
          4.4,
          5.1,
          5.1,
          5.6,
          5.3,
          5.8,
          5.9,
          6,
          5.9,
          6.1,
          6.1,
          5.4,
          5.5,
          5.6,
          5.1,
          5.2,
          5,
          4.6,
          4.7,
          4.4,
          4.6,
          4.5,
          4.6,
          4.9,
          5,
          4.8,
          4.8,
          4.7,
          4.8,
          4.7,
          4.5,
          4.8,
          5,
          4.8,
          4.9,
          4.8,
          4.8,
          4.7,
          4.9,
          4.8,
          5,
          5.1,
          5,
          4.9,
          4.5,
          4.5,
          4.3,
          4.3,
          4.3,
          4.3,
          4.4,
          4.2,
          4.2,
          4.6,
          4.2,
          4.1,
          4,
          4.3,
          3.7,
          4,
          3.7,
          3.6,
          4,
          3.6,
          3.4,
          3.3,
          3.4,
          3.3,
          3.7,
          3.3,
          3.3,
          3.2,
          3.2,
          3.4,
          3.2,
          3.4,
          4,
          3.6,
          3.8,
          3.8,
          3.8,
          3.8,
          3.7,
          3.6,
          3.9,
          4.1,
          3.7,
          3.7,
          3.6,
          3.6,
          3.5,
          3.4,
          3.3,
          3.4,
          3.3,
          3.4,
          3.2,
          3.2,
          3.3,
          3.2,
          3.4,
          3.4,
          3.3,
          3.3,
          3.3,
          3.5,
          3.1,
          3.4,
          3.6,
          3.6,
          3.4,
          3.3,
          3.5,
          3.8,
          4.2,
          4,
          4.5,
          4.2,
          4.6,
          4.4,
          4.8,
          4.8,
          5.3,
          5.4,
          5.4,
          5.2,
          5.5,
          5.4,
          5.2,
          5.3,
          5.1,
          5.4,
          5.2,
          5.1,
          5.5,
          5.3,
          4.9,
          4.6,
          4.9,
          5.1,
          5.3,
          5,
          5.3,
          5.1,
          4.9,
          4.9,
          4.5,
          4.5,
          4.7,
          4.4,
          4.3,
          4.3,
          4.1,
          4.4,
          4.4,
          4.5,
          4.4,
          4,
          4.2,
          4.4,
          4.5,
          4.6,
          4.6,
          4.5,
          4.7,
          4.8,
          4.8,
          5,
          5.5,
          5.1,
          6.1,
          6.4,
          7.5,
          7.5,
          7.7,
          8,
          8.1,
          7.7,
          7.5,
          7.2,
          7,
          7.2,
          7.2,
          7.3,
          7.1,
          6.8,
          6.8,
          6.8,
          6.5,
          6.6,
          7,
          7,
          6.8,
          6.9,
          6.8,
          6.6,
          6.5,
          6.6,
          6.6,
          6.3,
          5.9,
          6.4,
          6.2,
          6.2,
          6.1,
          6,
          6,
          5.7,
          5.6,
          5.3,
          5,
          5.3,
          5.3,
          5.3,
          5.5,
          5.2,
          5.3,
          4.8,
          5.1,
          5.1,
          5,
          5.1,
          5.1,
          4.9,
          4.9,
          4.9,
          4.7,
          5.2,
          5,
          5,
          4.9,
          5,
          5.1,
          5.3,
          5,
          5.4,
          5.5,
          5.7,
          5.8,
          5.9,
          5.7,
          5.8,
          5.7,
          5.8,
          6,
          5.7,
          5.6,
          5.7,
          5.8,
          5.7,
          5.8,
          5.6,
          5.9,
          6.1,
          6.3,
          6.5,
          6.4,
          6.7,
          6.9,
          7.1,
          7.1,
          7.1,
          7.3,
          7.2,
          7.4,
          7.6,
          8.1,
          8.3,
          7.8,
          7.8,
          7.4,
          7.2,
          7.2,
          7.5,
          6.7,
          6.6,
          6.6,
          6.3,
          6.2,
          6.1,
          6,
          5.9,
          5.8,
          5.9,
          5.8,
          5.6,
          5.8,
          5.9,
          5.7,
          5.9,
          5.6,
          5.7,
          5.8,
          5.7,
          5.8,
          5.8,
          5.8,
          5.9,
          5.7,
          5.7,
          5.7,
          5.5,
          5.3,
          5.5,
          5.3,
          5.9,
          5.7,
          5.5,
          5.5,
          5.5,
          5.3,
          5.2,
          5.2,
          5.2,
          5.1,
          4.9,
          5,
          4.8,
          4.8,
          4.7,
          4.6,
          4.5,
          4.4,
          4.4,
          4.5,
          4.4,
          4.4,
          4.4,
          4.3,
          4.5,
          4,
          3.9,
          4,
          4.1,
          4.2,
          4.1,
          4.1,
          4,
          4,
          3.9,
          4,
          3.6,
          3.8,
          4,
          4.1,
          4.1,
          4.2,
          4.1,
          3.8,
          4.1,
          4,
          4.1,
          4,
          4,
          3.9,
          4.1,
          4,
          4,
          4.1,
          4.2,
          4.3,
          4.4,
          4.4,
          4.4,
          4.6,
          4.8,
          4.9,
          4.8,
          5.2,
          5.1,
          4.9,
          5,
          4.9,
          5,
          5.2,
          5.3,
          5.2,
          5.4,
          5.4,
          5.5,
          5.4,
          5.4,
          5.7,
          5.7,
          5.7,
          5.5,
          5.3,
          5.6,
          5.4,
          5.3,
          5.1,
          5.2,
          5.3,
          5.2,
          5.1,
          5,
          5.1,
          5.3,
          5.1,
          5,
          5,
          4.9,
          5,
          4.7,
          4.6,
          4.7,
          4.7,
          4.6,
          4.7,
          4.3,
          4.3,
          4.1,
          4.2,
          4.1,
          4.2,
          4.5,
          4.3,
          4.4,
          4.3,
          4.3,
          4.3,
          4.4,
          4.2,
          4.3,
          4.3,
          4.3,
          4.1,
          4.2,
          4.4,
          4,
          4.1,
          3.9,
          4,
          4,
          4.1,
          4.4,
          3.8,
          3.9,
          3.8,
          3.7,
          3.8,
          3.6,
          3.5,
          3.6,
          3.7,
          3.5,
          3.3,
          3.5,
          3.7,
          3.6,
          3.6,
          3.4,
          3.3,
          3.4,
          3.3,
          3.5,
          3.3,
          3.4,
          3.4,
          3.4,
          3.4,
          3.3,
          3.3,
          3.6,
          3.2,
          3.4,
          3.3,
          3.2,
          3.2,
          3.1,
          3.1,
          3,
          3.1,
          3.1,
          3.2,
          3,
          3.3,
          3.2,
          3.3,
          3.4,
          3.1,
          2.9,
          3,
          3,
          3.1,
          3.3,
          3.2,
          3.4,
          3.3,
          3.4,
          3.5,
          3.7,
          3.8,
          4,
          4.2,
          4.5,
          4.3,
          4.4,
          4.3,
          4.5,
          4.5,
          4.4,
          4.4,
          4.4,
          4.3,
          4.4,
          4.2,
          4.3,
          4.2,
          4.3,
          4.4,
          4.3,
          4.6,
          4.4,
          4.3,
          4.4,
          4.5,
          4.4,
          4.3,
          4.3,
          4.4,
          4.2,
          4.6,
          4.2,
          4.1,
          4.4,
          4.1,
          4,
          3.9,
          4,
          4,
          3.9,
          3.9,
          3.9,
          3.9,
          4,
          4,
          3.9,
          3.9,
          3.7,
          4,
          4.1,
          3.9,
          3.8,
          3.7,
          3.7,
          3.6,
          3.7,
          3.6,
          3.6,
          3.7,
          3.6,
          3.7,
          3.5,
          3.5,
          3.4,
          3.6,
          3.4,
          3.3,
          3.5,
          3.4,
          3.5,
          3.7,
          3.7,
          3.6,
          3.6,
          3.7,
          3.9,
          3.8,
          3.8,
          4,
          3.7,
          4,
          4.2,
          4.3,
          4.8,
          4.3,
          4.9,
          5.1,
          5.6,
          6,
          6.1,
          6.5,
          6.4,
          6.8,
          6.9,
          6.9,
          7,
          7.1,
          7.3,
          7.4,
          7.3,
          6.9,
          7.3,
          7.3,
          7.3,
          7.3,
          7.1,
          7,
          7.1,
          7.1,
          7.2,
          7.6,
          7.2,
          7,
          7.1,
          6.9,
          7,
          7.1,
          7.1,
          6.9,
          7,
          7.1,
          7,
          6.9,
          6.8,
          6.8,
          6.8,
          6.6,
          6.9,
          6.7,
          6.6,
          6.7,
          6.5,
          6.2,
          6.2,
          6.2,
          6.3,
          6.4,
          6,
          6,
          5.7,
          5.8,
          6,
          5.6,
          5.4,
          5.5,
          5.4,
          5.3,
          5.3,
          5.1,
          5.2,
          5.4,
          4.7,
          4.9,
          4.7,
          4.8,
          4.7,
          4.7,
          4.6,
          4.5,
          4.4,
          4.4,
          4.2,
          4.2,
          4.2,
          4.4,
          4.2,
          4.2,
          4,
          3.9,
          4,
          4,
          3.9,
          3.9,
          3.9,
          4,
          4,
          3.8,
          3.9,
          3.5,
          3.8,
          3.8,
          3.8,
          3.7,
          3.8,
          3.9,
          3.7,
          3.6,
          3.6,
          3.5,
          3.4,
          3.4,
          3.5,
          3.5,
          3.2,
          3.2,
          3.4,
          2.9,
          3.3,
          3.3,
          3.2,
          3.2,
          3.2,
          3.2,
          3.1,
          2.9,
          3.1,
          3.2,
          3.1,
          3.2,
          3,
          3,
          2.8,
          3,
          3.1,
          3,
          3.2,
          2.9,
          2.9,
          2.9,
          2.8,
          2.7,
          2.8,
          3.6,
          15,
          13.1
         ],
         "yaxis": "y"
        },
        {
         "hovertemplate": "category=Black men<br>date=%{x}<br>rate=%{y}<extra></extra>",
         "legendgroup": "Black men",
         "line": {
          "color": "#ab63fa",
          "dash": "solid"
         },
         "mode": "lines",
         "name": "Black men",
         "showlegend": true,
         "type": "scattergl",
         "x": [
          "1972-01-01",
          "1972-02-01",
          "1972-03-01",
          "1972-04-01",
          "1972-05-01",
          "1972-06-01",
          "1972-07-01",
          "1972-08-01",
          "1972-09-01",
          "1972-10-01",
          "1972-11-01",
          "1972-12-01",
          "1973-01-01",
          "1973-02-01",
          "1973-03-01",
          "1973-04-01",
          "1973-05-01",
          "1973-06-01",
          "1973-07-01",
          "1973-08-01",
          "1973-09-01",
          "1973-10-01",
          "1973-11-01",
          "1973-12-01",
          "1974-01-01",
          "1974-02-01",
          "1974-03-01",
          "1974-04-01",
          "1974-05-01",
          "1974-06-01",
          "1974-07-01",
          "1974-08-01",
          "1974-09-01",
          "1974-10-01",
          "1974-11-01",
          "1974-12-01",
          "1975-01-01",
          "1975-02-01",
          "1975-03-01",
          "1975-04-01",
          "1975-05-01",
          "1975-06-01",
          "1975-07-01",
          "1975-08-01",
          "1975-09-01",
          "1975-10-01",
          "1975-11-01",
          "1975-12-01",
          "1976-01-01",
          "1976-02-01",
          "1976-03-01",
          "1976-04-01",
          "1976-05-01",
          "1976-06-01",
          "1976-07-01",
          "1976-08-01",
          "1976-09-01",
          "1976-10-01",
          "1976-11-01",
          "1976-12-01",
          "1977-01-01",
          "1977-02-01",
          "1977-03-01",
          "1977-04-01",
          "1977-05-01",
          "1977-06-01",
          "1977-07-01",
          "1977-08-01",
          "1977-09-01",
          "1977-10-01",
          "1977-11-01",
          "1977-12-01",
          "1978-01-01",
          "1978-02-01",
          "1978-03-01",
          "1978-04-01",
          "1978-05-01",
          "1978-06-01",
          "1978-07-01",
          "1978-08-01",
          "1978-09-01",
          "1978-10-01",
          "1978-11-01",
          "1978-12-01",
          "1979-01-01",
          "1979-02-01",
          "1979-03-01",
          "1979-04-01",
          "1979-05-01",
          "1979-06-01",
          "1979-07-01",
          "1979-08-01",
          "1979-09-01",
          "1979-10-01",
          "1979-11-01",
          "1979-12-01",
          "1980-01-01",
          "1980-02-01",
          "1980-03-01",
          "1980-04-01",
          "1980-05-01",
          "1980-06-01",
          "1980-07-01",
          "1980-08-01",
          "1980-09-01",
          "1980-10-01",
          "1980-11-01",
          "1980-12-01",
          "1981-01-01",
          "1981-02-01",
          "1981-03-01",
          "1981-04-01",
          "1981-05-01",
          "1981-06-01",
          "1981-07-01",
          "1981-08-01",
          "1981-09-01",
          "1981-10-01",
          "1981-11-01",
          "1981-12-01",
          "1982-01-01",
          "1982-02-01",
          "1982-03-01",
          "1982-04-01",
          "1982-05-01",
          "1982-06-01",
          "1982-07-01",
          "1982-08-01",
          "1982-09-01",
          "1982-10-01",
          "1982-11-01",
          "1982-12-01",
          "1983-01-01",
          "1983-02-01",
          "1983-03-01",
          "1983-04-01",
          "1983-05-01",
          "1983-06-01",
          "1983-07-01",
          "1983-08-01",
          "1983-09-01",
          "1983-10-01",
          "1983-11-01",
          "1983-12-01",
          "1984-01-01",
          "1984-02-01",
          "1984-03-01",
          "1984-04-01",
          "1984-05-01",
          "1984-06-01",
          "1984-07-01",
          "1984-08-01",
          "1984-09-01",
          "1984-10-01",
          "1984-11-01",
          "1984-12-01",
          "1985-01-01",
          "1985-02-01",
          "1985-03-01",
          "1985-04-01",
          "1985-05-01",
          "1985-06-01",
          "1985-07-01",
          "1985-08-01",
          "1985-09-01",
          "1985-10-01",
          "1985-11-01",
          "1985-12-01",
          "1986-01-01",
          "1986-02-01",
          "1986-03-01",
          "1986-04-01",
          "1986-05-01",
          "1986-06-01",
          "1986-07-01",
          "1986-08-01",
          "1986-09-01",
          "1986-10-01",
          "1986-11-01",
          "1986-12-01",
          "1987-01-01",
          "1987-02-01",
          "1987-03-01",
          "1987-04-01",
          "1987-05-01",
          "1987-06-01",
          "1987-07-01",
          "1987-08-01",
          "1987-09-01",
          "1987-10-01",
          "1987-11-01",
          "1987-12-01",
          "1988-01-01",
          "1988-02-01",
          "1988-03-01",
          "1988-04-01",
          "1988-05-01",
          "1988-06-01",
          "1988-07-01",
          "1988-08-01",
          "1988-09-01",
          "1988-10-01",
          "1988-11-01",
          "1988-12-01",
          "1989-01-01",
          "1989-02-01",
          "1989-03-01",
          "1989-04-01",
          "1989-05-01",
          "1989-06-01",
          "1989-07-01",
          "1989-08-01",
          "1989-09-01",
          "1989-10-01",
          "1989-11-01",
          "1989-12-01",
          "1990-01-01",
          "1990-02-01",
          "1990-03-01",
          "1990-04-01",
          "1990-05-01",
          "1990-06-01",
          "1990-07-01",
          "1990-08-01",
          "1990-09-01",
          "1990-10-01",
          "1990-11-01",
          "1990-12-01",
          "1991-01-01",
          "1991-02-01",
          "1991-03-01",
          "1991-04-01",
          "1991-05-01",
          "1991-06-01",
          "1991-07-01",
          "1991-08-01",
          "1991-09-01",
          "1991-10-01",
          "1991-11-01",
          "1991-12-01",
          "1992-01-01",
          "1992-02-01",
          "1992-03-01",
          "1992-04-01",
          "1992-05-01",
          "1992-06-01",
          "1992-07-01",
          "1992-08-01",
          "1992-09-01",
          "1992-10-01",
          "1992-11-01",
          "1992-12-01",
          "1993-01-01",
          "1993-02-01",
          "1993-03-01",
          "1993-04-01",
          "1993-05-01",
          "1993-06-01",
          "1993-07-01",
          "1993-08-01",
          "1993-09-01",
          "1993-10-01",
          "1993-11-01",
          "1993-12-01",
          "1994-01-01",
          "1994-02-01",
          "1994-03-01",
          "1994-04-01",
          "1994-05-01",
          "1994-06-01",
          "1994-07-01",
          "1994-08-01",
          "1994-09-01",
          "1994-10-01",
          "1994-11-01",
          "1994-12-01",
          "1995-01-01",
          "1995-02-01",
          "1995-03-01",
          "1995-04-01",
          "1995-05-01",
          "1995-06-01",
          "1995-07-01",
          "1995-08-01",
          "1995-09-01",
          "1995-10-01",
          "1995-11-01",
          "1995-12-01",
          "1996-01-01",
          "1996-02-01",
          "1996-03-01",
          "1996-04-01",
          "1996-05-01",
          "1996-06-01",
          "1996-07-01",
          "1996-08-01",
          "1996-09-01",
          "1996-10-01",
          "1996-11-01",
          "1996-12-01",
          "1997-01-01",
          "1997-02-01",
          "1997-03-01",
          "1997-04-01",
          "1997-05-01",
          "1997-06-01",
          "1997-07-01",
          "1997-08-01",
          "1997-09-01",
          "1997-10-01",
          "1997-11-01",
          "1997-12-01",
          "1998-01-01",
          "1998-02-01",
          "1998-03-01",
          "1998-04-01",
          "1998-05-01",
          "1998-06-01",
          "1998-07-01",
          "1998-08-01",
          "1998-09-01",
          "1998-10-01",
          "1998-11-01",
          "1998-12-01",
          "1999-01-01",
          "1999-02-01",
          "1999-03-01",
          "1999-04-01",
          "1999-05-01",
          "1999-06-01",
          "1999-07-01",
          "1999-08-01",
          "1999-09-01",
          "1999-10-01",
          "1999-11-01",
          "1999-12-01",
          "2000-01-01",
          "2000-02-01",
          "2000-03-01",
          "2000-04-01",
          "2000-05-01",
          "2000-06-01",
          "2000-07-01",
          "2000-08-01",
          "2000-09-01",
          "2000-10-01",
          "2000-11-01",
          "2000-12-01",
          "2001-01-01",
          "2001-02-01",
          "2001-03-01",
          "2001-04-01",
          "2001-05-01",
          "2001-06-01",
          "2001-07-01",
          "2001-08-01",
          "2001-09-01",
          "2001-10-01",
          "2001-11-01",
          "2001-12-01",
          "2002-01-01",
          "2002-02-01",
          "2002-03-01",
          "2002-04-01",
          "2002-05-01",
          "2002-06-01",
          "2002-07-01",
          "2002-08-01",
          "2002-09-01",
          "2002-10-01",
          "2002-11-01",
          "2002-12-01",
          "2003-01-01",
          "2003-02-01",
          "2003-03-01",
          "2003-04-01",
          "2003-05-01",
          "2003-06-01",
          "2003-07-01",
          "2003-08-01",
          "2003-09-01",
          "2003-10-01",
          "2003-11-01",
          "2003-12-01",
          "2004-01-01",
          "2004-02-01",
          "2004-03-01",
          "2004-04-01",
          "2004-05-01",
          "2004-06-01",
          "2004-07-01",
          "2004-08-01",
          "2004-09-01",
          "2004-10-01",
          "2004-11-01",
          "2004-12-01",
          "2005-01-01",
          "2005-02-01",
          "2005-03-01",
          "2005-04-01",
          "2005-05-01",
          "2005-06-01",
          "2005-07-01",
          "2005-08-01",
          "2005-09-01",
          "2005-10-01",
          "2005-11-01",
          "2005-12-01",
          "2006-01-01",
          "2006-02-01",
          "2006-03-01",
          "2006-04-01",
          "2006-05-01",
          "2006-06-01",
          "2006-07-01",
          "2006-08-01",
          "2006-09-01",
          "2006-10-01",
          "2006-11-01",
          "2006-12-01",
          "2007-01-01",
          "2007-02-01",
          "2007-03-01",
          "2007-04-01",
          "2007-05-01",
          "2007-06-01",
          "2007-07-01",
          "2007-08-01",
          "2007-09-01",
          "2007-10-01",
          "2007-11-01",
          "2007-12-01",
          "2008-01-01",
          "2008-02-01",
          "2008-03-01",
          "2008-04-01",
          "2008-05-01",
          "2008-06-01",
          "2008-07-01",
          "2008-08-01",
          "2008-09-01",
          "2008-10-01",
          "2008-11-01",
          "2008-12-01",
          "2009-01-01",
          "2009-02-01",
          "2009-03-01",
          "2009-04-01",
          "2009-05-01",
          "2009-06-01",
          "2009-07-01",
          "2009-08-01",
          "2009-09-01",
          "2009-10-01",
          "2009-11-01",
          "2009-12-01",
          "2010-01-01",
          "2010-02-01",
          "2010-03-01",
          "2010-04-01",
          "2010-05-01",
          "2010-06-01",
          "2010-07-01",
          "2010-08-01",
          "2010-09-01",
          "2010-10-01",
          "2010-11-01",
          "2010-12-01",
          "2011-01-01",
          "2011-02-01",
          "2011-03-01",
          "2011-04-01",
          "2011-05-01",
          "2011-06-01",
          "2011-07-01",
          "2011-08-01",
          "2011-09-01",
          "2011-10-01",
          "2011-11-01",
          "2011-12-01",
          "2012-01-01",
          "2012-02-01",
          "2012-03-01",
          "2012-04-01",
          "2012-05-01",
          "2012-06-01",
          "2012-07-01",
          "2012-08-01",
          "2012-09-01",
          "2012-10-01",
          "2012-11-01",
          "2012-12-01",
          "2013-01-01",
          "2013-02-01",
          "2013-03-01",
          "2013-04-01",
          "2013-05-01",
          "2013-06-01",
          "2013-07-01",
          "2013-08-01",
          "2013-09-01",
          "2013-10-01",
          "2013-11-01",
          "2013-12-01",
          "2014-01-01",
          "2014-02-01",
          "2014-03-01",
          "2014-04-01",
          "2014-05-01",
          "2014-06-01",
          "2014-07-01",
          "2014-08-01",
          "2014-09-01",
          "2014-10-01",
          "2014-11-01",
          "2014-12-01",
          "2015-01-01",
          "2015-02-01",
          "2015-03-01",
          "2015-04-01",
          "2015-05-01",
          "2015-06-01",
          "2015-07-01",
          "2015-08-01",
          "2015-09-01",
          "2015-10-01",
          "2015-11-01",
          "2015-12-01",
          "2016-01-01",
          "2016-02-01",
          "2016-03-01",
          "2016-04-01",
          "2016-05-01",
          "2016-06-01",
          "2016-07-01",
          "2016-08-01",
          "2016-09-01",
          "2016-10-01",
          "2016-11-01",
          "2016-12-01",
          "2017-01-01",
          "2017-02-01",
          "2017-03-01",
          "2017-04-01",
          "2017-05-01",
          "2017-06-01",
          "2017-07-01",
          "2017-08-01",
          "2017-09-01",
          "2017-10-01",
          "2017-11-01",
          "2017-12-01",
          "2018-01-01",
          "2018-02-01",
          "2018-03-01",
          "2018-04-01",
          "2018-05-01",
          "2018-06-01",
          "2018-07-01",
          "2018-08-01",
          "2018-09-01",
          "2018-10-01",
          "2018-11-01",
          "2018-12-01",
          "2019-01-01",
          "2019-02-01",
          "2019-03-01",
          "2019-04-01",
          "2019-05-01",
          "2019-06-01",
          "2019-07-01",
          "2019-08-01",
          "2019-09-01",
          "2019-10-01",
          "2019-11-01",
          "2019-12-01",
          "2020-01-01",
          "2020-02-01",
          "2020-03-01",
          "2020-04-01",
          "2020-05-01"
         ],
         "xaxis": "x",
         "y": [
          8.1,
          7.6,
          7,
          6.7,
          7,
          6.5,
          7.8,
          7.2,
          7,
          6.6,
          6.3,
          6,
          5.7,
          5.8,
          6.1,
          6.3,
          6.4,
          6.1,
          6.4,
          6.1,
          5.9,
          6,
          5.8,
          5.2,
          6.3,
          6.9,
          6.8,
          6.7,
          6.7,
          7.2,
          6.3,
          7.3,
          7.9,
          8.4,
          9,
          10,
          11.1,
          11.6,
          12.5,
          13,
          12.6,
          13.1,
          12.5,
          12.5,
          13.2,
          12.4,
          12.9,
          12.9,
          12,
          11.9,
          11.2,
          10.9,
          10.4,
          11.7,
          11.5,
          10.9,
          10.8,
          11.1,
          11.9,
          11.6,
          10.8,
          10.6,
          10.5,
          8.9,
          10.8,
          10.4,
          10.6,
          12.1,
          11.5,
          11.7,
          10.7,
          10,
          10.8,
          9.8,
          9.2,
          9.6,
          9.2,
          8.9,
          8.9,
          9,
          8.5,
          8.8,
          9.4,
          9.4,
          9.2,
          9.9,
          10,
          9.4,
          9.2,
          8.7,
          9.2,
          9.1,
          8.6,
          9.3,
          9.2,
          9.7,
          11,
          10.6,
          10.5,
          12.1,
          12.5,
          13.2,
          13.9,
          13.5,
          14,
          12.9,
          12.8,
          12,
          11.6,
          12.2,
          12.5,
          11.9,
          12.9,
          13.7,
          12.9,
          13.8,
          14,
          14.6,
          15.5,
          16.1,
          16.6,
          16.5,
          16.4,
          16.5,
          16.9,
          17,
          17.2,
          17.4,
          19.2,
          19.6,
          19.3,
          20.7,
          20.4,
          19.1,
          19.1,
          19.4,
          19.5,
          18.9,
          18.4,
          18.2,
          17,
          16.1,
          15.5,
          15.2,
          15.3,
          14.3,
          15.3,
          15.4,
          14.1,
          14.8,
          15.7,
          14.2,
          13.5,
          13.2,
          12.5,
          13.5,
          13.1,
          13.9,
          13.4,
          13.4,
          13.3,
          12.4,
          12.9,
          12,
          13.2,
          13.7,
          13.5,
          13.4,
          12.9,
          12.8,
          12.6,
          12.8,
          12.6,
          13.3,
          13,
          13.4,
          13.7,
          13.5,
          12.9,
          11.8,
          12.1,
          11.5,
          11.4,
          10.9,
          12.1,
          11.5,
          11.4,
          10.9,
          10.4,
          10,
          10.2,
          10.1,
          10,
          10.8,
          11,
          10.4,
          10.7,
          10.1,
          9.8,
          9.7,
          9.1,
          9.6,
          9.6,
          9.8,
          10.1,
          10.4,
          9.8,
          10,
          9.7,
          9.5,
          9.4,
          9.8,
          10,
          10.2,
          10.5,
          10.8,
          10.3,
          9.8,
          9.7,
          9.7,
          9.4,
          9.4,
          10.5,
          10.6,
          11.5,
          11.5,
          11.7,
          11.5,
          10.7,
          11.6,
          11.3,
          12.1,
          12.4,
          12.1,
          11.6,
          11.4,
          10.9,
          11.3,
          11,
          12.1,
          12.9,
          13.7,
          14,
          13.3,
          14,
          13.6,
          13.7,
          13.6,
          13.1,
          13.7,
          12.8,
          13.4,
          12.7,
          12.4,
          13.4,
          13.2,
          12.4,
          12.7,
          11.7,
          11.6,
          11.7,
          10.9,
          12.1,
          10.4,
          12.1,
          12.1,
          10.5,
          10.4,
          10.2,
          10,
          10.2,
          10.3,
          9.5,
          9.7,
          9.6,
          8.3,
          9,
          8.1,
          7.7,
          8.9,
          8.7,
          9.1,
          9.2,
          9.7,
          9.3,
          8.1,
          8.5,
          9.3,
          9.2,
          9.8,
          10.1,
          9.7,
          9.6,
          9.5,
          9.2,
          8.6,
          9.7,
          9.3,
          9.5,
          8.2,
          9.1,
          8.8,
          9.2,
          8.7,
          8.5,
          9.5,
          8.1,
          7.7,
          7.9,
          8.1,
          7.7,
          8.4,
          8,
          7.7,
          7.8,
          7.7,
          6.8,
          7.4,
          8.5,
          7.5,
          7.2,
          6.7,
          7,
          6.5,
          6,
          6.6,
          6,
          6.3,
          6.5,
          6.4,
          7.3,
          6.1,
          7.4,
          7.7,
          7.1,
          6.9,
          7.7,
          7.5,
          6.6,
          6.5,
          7,
          6.8,
          6.7,
          7.1,
          6.6,
          6.9,
          6.8,
          7.1,
          6.9,
          6.7,
          7.9,
          8.1,
          7.8,
          7.8,
          8,
          9.1,
          7.8,
          8.1,
          8.5,
          9,
          8.9,
          8.9,
          9.6,
          9.3,
          8.7,
          10.2,
          9.2,
          9.1,
          9.2,
          9.7,
          10.4,
          10.5,
          10.4,
          10.3,
          9.6,
          10.6,
          11.1,
          11.1,
          10.2,
          10.5,
          10.9,
          10.4,
          9.9,
          9.3,
          9.6,
          9.2,
          9.4,
          9.4,
          9.3,
          9.3,
          10.5,
          10.5,
          10.2,
          10.2,
          10.5,
          10.6,
          10.5,
          10.8,
          9.4,
          9.1,
          8.9,
          9.4,
          8.1,
          8.6,
          8.7,
          8.4,
          9.6,
          8.7,
          7.6,
          8.8,
          8.4,
          8.8,
          8.8,
          8,
          9.1,
          8.5,
          8.3,
          8.2,
          8,
          7.3,
          7.5,
          7.6,
          8.8,
          8.3,
          8.1,
          8.2,
          7.6,
          6.8,
          7.4,
          8.2,
          8.1,
          8.5,
          8.3,
          8,
          8.5,
          8.4,
          8.9,
          9.5,
          10.5,
          10.5,
          11.9,
          12,
          12.5,
          13.9,
          14.4,
          15.2,
          15.6,
          17.2,
          16.6,
          16.3,
          16.1,
          16.6,
          16.2,
          17.3,
          17,
          16.7,
          17.9,
          18.1,
          19.3,
          17.9,
          16.8,
          17.3,
          16.6,
          16.7,
          17.2,
          16.2,
          16.9,
          16.4,
          16.8,
          16.7,
          17.2,
          17.5,
          17.3,
          17,
          16.9,
          17.5,
          16.3,
          15.8,
          16.6,
          15.1,
          12.8,
          14.4,
          14.1,
          14,
          14.1,
          14.3,
          15.1,
          13.8,
          14,
          13.9,
          13.2,
          13.7,
          13.3,
          12.6,
          12.8,
          13.1,
          13.5,
          13.2,
          12.6,
          13.4,
          14.1,
          12.7,
          12,
          11.4,
          12,
          12.6,
          11.9,
          11.1,
          11.7,
          11,
          11.6,
          10.8,
          11,
          10.3,
          11,
          10.9,
          10.5,
          10,
          9.9,
          9.2,
          10.6,
          9.5,
          8.9,
          9.2,
          8.9,
          8.8,
          10,
          8.7,
          8.4,
          8.3,
          8.6,
          9.4,
          7.8,
          8.3,
          8.3,
          7.5,
          8.3,
          8.3,
          7.7,
          7.7,
          7.2,
          7.7,
          8.3,
          7.1,
          6.8,
          6.3,
          7.2,
          7.7,
          6.9,
          7.4,
          7.6,
          6.6,
          7.2,
          5.7,
          6,
          6.2,
          6.3,
          6.6,
          6.2,
          5.9,
          6,
          6.4,
          6,
          6.4,
          7,
          7.1,
          6.7,
          6.6,
          6.1,
          5.7,
          5.7,
          5.8,
          5.4,
          5.1,
          5.1,
          5.8,
          5.6,
          5.8,
          7,
          16.1,
          15.5
         ],
         "yaxis": "y"
        },
        {
         "hovertemplate": "category=Black women<br>date=%{x}<br>rate=%{y}<extra></extra>",
         "legendgroup": "Black women",
         "line": {
          "color": "#FFA15A",
          "dash": "solid"
         },
         "mode": "lines",
         "name": "Black women",
         "showlegend": true,
         "type": "scattergl",
         "x": [
          "1972-01-01",
          "1972-02-01",
          "1972-03-01",
          "1972-04-01",
          "1972-05-01",
          "1972-06-01",
          "1972-07-01",
          "1972-08-01",
          "1972-09-01",
          "1972-10-01",
          "1972-11-01",
          "1972-12-01",
          "1973-01-01",
          "1973-02-01",
          "1973-03-01",
          "1973-04-01",
          "1973-05-01",
          "1973-06-01",
          "1973-07-01",
          "1973-08-01",
          "1973-09-01",
          "1973-10-01",
          "1973-11-01",
          "1973-12-01",
          "1974-01-01",
          "1974-02-01",
          "1974-03-01",
          "1974-04-01",
          "1974-05-01",
          "1974-06-01",
          "1974-07-01",
          "1974-08-01",
          "1974-09-01",
          "1974-10-01",
          "1974-11-01",
          "1974-12-01",
          "1975-01-01",
          "1975-02-01",
          "1975-03-01",
          "1975-04-01",
          "1975-05-01",
          "1975-06-01",
          "1975-07-01",
          "1975-08-01",
          "1975-09-01",
          "1975-10-01",
          "1975-11-01",
          "1975-12-01",
          "1976-01-01",
          "1976-02-01",
          "1976-03-01",
          "1976-04-01",
          "1976-05-01",
          "1976-06-01",
          "1976-07-01",
          "1976-08-01",
          "1976-09-01",
          "1976-10-01",
          "1976-11-01",
          "1976-12-01",
          "1977-01-01",
          "1977-02-01",
          "1977-03-01",
          "1977-04-01",
          "1977-05-01",
          "1977-06-01",
          "1977-07-01",
          "1977-08-01",
          "1977-09-01",
          "1977-10-01",
          "1977-11-01",
          "1977-12-01",
          "1978-01-01",
          "1978-02-01",
          "1978-03-01",
          "1978-04-01",
          "1978-05-01",
          "1978-06-01",
          "1978-07-01",
          "1978-08-01",
          "1978-09-01",
          "1978-10-01",
          "1978-11-01",
          "1978-12-01",
          "1979-01-01",
          "1979-02-01",
          "1979-03-01",
          "1979-04-01",
          "1979-05-01",
          "1979-06-01",
          "1979-07-01",
          "1979-08-01",
          "1979-09-01",
          "1979-10-01",
          "1979-11-01",
          "1979-12-01",
          "1980-01-01",
          "1980-02-01",
          "1980-03-01",
          "1980-04-01",
          "1980-05-01",
          "1980-06-01",
          "1980-07-01",
          "1980-08-01",
          "1980-09-01",
          "1980-10-01",
          "1980-11-01",
          "1980-12-01",
          "1981-01-01",
          "1981-02-01",
          "1981-03-01",
          "1981-04-01",
          "1981-05-01",
          "1981-06-01",
          "1981-07-01",
          "1981-08-01",
          "1981-09-01",
          "1981-10-01",
          "1981-11-01",
          "1981-12-01",
          "1982-01-01",
          "1982-02-01",
          "1982-03-01",
          "1982-04-01",
          "1982-05-01",
          "1982-06-01",
          "1982-07-01",
          "1982-08-01",
          "1982-09-01",
          "1982-10-01",
          "1982-11-01",
          "1982-12-01",
          "1983-01-01",
          "1983-02-01",
          "1983-03-01",
          "1983-04-01",
          "1983-05-01",
          "1983-06-01",
          "1983-07-01",
          "1983-08-01",
          "1983-09-01",
          "1983-10-01",
          "1983-11-01",
          "1983-12-01",
          "1984-01-01",
          "1984-02-01",
          "1984-03-01",
          "1984-04-01",
          "1984-05-01",
          "1984-06-01",
          "1984-07-01",
          "1984-08-01",
          "1984-09-01",
          "1984-10-01",
          "1984-11-01",
          "1984-12-01",
          "1985-01-01",
          "1985-02-01",
          "1985-03-01",
          "1985-04-01",
          "1985-05-01",
          "1985-06-01",
          "1985-07-01",
          "1985-08-01",
          "1985-09-01",
          "1985-10-01",
          "1985-11-01",
          "1985-12-01",
          "1986-01-01",
          "1986-02-01",
          "1986-03-01",
          "1986-04-01",
          "1986-05-01",
          "1986-06-01",
          "1986-07-01",
          "1986-08-01",
          "1986-09-01",
          "1986-10-01",
          "1986-11-01",
          "1986-12-01",
          "1987-01-01",
          "1987-02-01",
          "1987-03-01",
          "1987-04-01",
          "1987-05-01",
          "1987-06-01",
          "1987-07-01",
          "1987-08-01",
          "1987-09-01",
          "1987-10-01",
          "1987-11-01",
          "1987-12-01",
          "1988-01-01",
          "1988-02-01",
          "1988-03-01",
          "1988-04-01",
          "1988-05-01",
          "1988-06-01",
          "1988-07-01",
          "1988-08-01",
          "1988-09-01",
          "1988-10-01",
          "1988-11-01",
          "1988-12-01",
          "1989-01-01",
          "1989-02-01",
          "1989-03-01",
          "1989-04-01",
          "1989-05-01",
          "1989-06-01",
          "1989-07-01",
          "1989-08-01",
          "1989-09-01",
          "1989-10-01",
          "1989-11-01",
          "1989-12-01",
          "1990-01-01",
          "1990-02-01",
          "1990-03-01",
          "1990-04-01",
          "1990-05-01",
          "1990-06-01",
          "1990-07-01",
          "1990-08-01",
          "1990-09-01",
          "1990-10-01",
          "1990-11-01",
          "1990-12-01",
          "1991-01-01",
          "1991-02-01",
          "1991-03-01",
          "1991-04-01",
          "1991-05-01",
          "1991-06-01",
          "1991-07-01",
          "1991-08-01",
          "1991-09-01",
          "1991-10-01",
          "1991-11-01",
          "1991-12-01",
          "1992-01-01",
          "1992-02-01",
          "1992-03-01",
          "1992-04-01",
          "1992-05-01",
          "1992-06-01",
          "1992-07-01",
          "1992-08-01",
          "1992-09-01",
          "1992-10-01",
          "1992-11-01",
          "1992-12-01",
          "1993-01-01",
          "1993-02-01",
          "1993-03-01",
          "1993-04-01",
          "1993-05-01",
          "1993-06-01",
          "1993-07-01",
          "1993-08-01",
          "1993-09-01",
          "1993-10-01",
          "1993-11-01",
          "1993-12-01",
          "1994-01-01",
          "1994-02-01",
          "1994-03-01",
          "1994-04-01",
          "1994-05-01",
          "1994-06-01",
          "1994-07-01",
          "1994-08-01",
          "1994-09-01",
          "1994-10-01",
          "1994-11-01",
          "1994-12-01",
          "1995-01-01",
          "1995-02-01",
          "1995-03-01",
          "1995-04-01",
          "1995-05-01",
          "1995-06-01",
          "1995-07-01",
          "1995-08-01",
          "1995-09-01",
          "1995-10-01",
          "1995-11-01",
          "1995-12-01",
          "1996-01-01",
          "1996-02-01",
          "1996-03-01",
          "1996-04-01",
          "1996-05-01",
          "1996-06-01",
          "1996-07-01",
          "1996-08-01",
          "1996-09-01",
          "1996-10-01",
          "1996-11-01",
          "1996-12-01",
          "1997-01-01",
          "1997-02-01",
          "1997-03-01",
          "1997-04-01",
          "1997-05-01",
          "1997-06-01",
          "1997-07-01",
          "1997-08-01",
          "1997-09-01",
          "1997-10-01",
          "1997-11-01",
          "1997-12-01",
          "1998-01-01",
          "1998-02-01",
          "1998-03-01",
          "1998-04-01",
          "1998-05-01",
          "1998-06-01",
          "1998-07-01",
          "1998-08-01",
          "1998-09-01",
          "1998-10-01",
          "1998-11-01",
          "1998-12-01",
          "1999-01-01",
          "1999-02-01",
          "1999-03-01",
          "1999-04-01",
          "1999-05-01",
          "1999-06-01",
          "1999-07-01",
          "1999-08-01",
          "1999-09-01",
          "1999-10-01",
          "1999-11-01",
          "1999-12-01",
          "2000-01-01",
          "2000-02-01",
          "2000-03-01",
          "2000-04-01",
          "2000-05-01",
          "2000-06-01",
          "2000-07-01",
          "2000-08-01",
          "2000-09-01",
          "2000-10-01",
          "2000-11-01",
          "2000-12-01",
          "2001-01-01",
          "2001-02-01",
          "2001-03-01",
          "2001-04-01",
          "2001-05-01",
          "2001-06-01",
          "2001-07-01",
          "2001-08-01",
          "2001-09-01",
          "2001-10-01",
          "2001-11-01",
          "2001-12-01",
          "2002-01-01",
          "2002-02-01",
          "2002-03-01",
          "2002-04-01",
          "2002-05-01",
          "2002-06-01",
          "2002-07-01",
          "2002-08-01",
          "2002-09-01",
          "2002-10-01",
          "2002-11-01",
          "2002-12-01",
          "2003-01-01",
          "2003-02-01",
          "2003-03-01",
          "2003-04-01",
          "2003-05-01",
          "2003-06-01",
          "2003-07-01",
          "2003-08-01",
          "2003-09-01",
          "2003-10-01",
          "2003-11-01",
          "2003-12-01",
          "2004-01-01",
          "2004-02-01",
          "2004-03-01",
          "2004-04-01",
          "2004-05-01",
          "2004-06-01",
          "2004-07-01",
          "2004-08-01",
          "2004-09-01",
          "2004-10-01",
          "2004-11-01",
          "2004-12-01",
          "2005-01-01",
          "2005-02-01",
          "2005-03-01",
          "2005-04-01",
          "2005-05-01",
          "2005-06-01",
          "2005-07-01",
          "2005-08-01",
          "2005-09-01",
          "2005-10-01",
          "2005-11-01",
          "2005-12-01",
          "2006-01-01",
          "2006-02-01",
          "2006-03-01",
          "2006-04-01",
          "2006-05-01",
          "2006-06-01",
          "2006-07-01",
          "2006-08-01",
          "2006-09-01",
          "2006-10-01",
          "2006-11-01",
          "2006-12-01",
          "2007-01-01",
          "2007-02-01",
          "2007-03-01",
          "2007-04-01",
          "2007-05-01",
          "2007-06-01",
          "2007-07-01",
          "2007-08-01",
          "2007-09-01",
          "2007-10-01",
          "2007-11-01",
          "2007-12-01",
          "2008-01-01",
          "2008-02-01",
          "2008-03-01",
          "2008-04-01",
          "2008-05-01",
          "2008-06-01",
          "2008-07-01",
          "2008-08-01",
          "2008-09-01",
          "2008-10-01",
          "2008-11-01",
          "2008-12-01",
          "2009-01-01",
          "2009-02-01",
          "2009-03-01",
          "2009-04-01",
          "2009-05-01",
          "2009-06-01",
          "2009-07-01",
          "2009-08-01",
          "2009-09-01",
          "2009-10-01",
          "2009-11-01",
          "2009-12-01",
          "2010-01-01",
          "2010-02-01",
          "2010-03-01",
          "2010-04-01",
          "2010-05-01",
          "2010-06-01",
          "2010-07-01",
          "2010-08-01",
          "2010-09-01",
          "2010-10-01",
          "2010-11-01",
          "2010-12-01",
          "2011-01-01",
          "2011-02-01",
          "2011-03-01",
          "2011-04-01",
          "2011-05-01",
          "2011-06-01",
          "2011-07-01",
          "2011-08-01",
          "2011-09-01",
          "2011-10-01",
          "2011-11-01",
          "2011-12-01",
          "2012-01-01",
          "2012-02-01",
          "2012-03-01",
          "2012-04-01",
          "2012-05-01",
          "2012-06-01",
          "2012-07-01",
          "2012-08-01",
          "2012-09-01",
          "2012-10-01",
          "2012-11-01",
          "2012-12-01",
          "2013-01-01",
          "2013-02-01",
          "2013-03-01",
          "2013-04-01",
          "2013-05-01",
          "2013-06-01",
          "2013-07-01",
          "2013-08-01",
          "2013-09-01",
          "2013-10-01",
          "2013-11-01",
          "2013-12-01",
          "2014-01-01",
          "2014-02-01",
          "2014-03-01",
          "2014-04-01",
          "2014-05-01",
          "2014-06-01",
          "2014-07-01",
          "2014-08-01",
          "2014-09-01",
          "2014-10-01",
          "2014-11-01",
          "2014-12-01",
          "2015-01-01",
          "2015-02-01",
          "2015-03-01",
          "2015-04-01",
          "2015-05-01",
          "2015-06-01",
          "2015-07-01",
          "2015-08-01",
          "2015-09-01",
          "2015-10-01",
          "2015-11-01",
          "2015-12-01",
          "2016-01-01",
          "2016-02-01",
          "2016-03-01",
          "2016-04-01",
          "2016-05-01",
          "2016-06-01",
          "2016-07-01",
          "2016-08-01",
          "2016-09-01",
          "2016-10-01",
          "2016-11-01",
          "2016-12-01",
          "2017-01-01",
          "2017-02-01",
          "2017-03-01",
          "2017-04-01",
          "2017-05-01",
          "2017-06-01",
          "2017-07-01",
          "2017-08-01",
          "2017-09-01",
          "2017-10-01",
          "2017-11-01",
          "2017-12-01",
          "2018-01-01",
          "2018-02-01",
          "2018-03-01",
          "2018-04-01",
          "2018-05-01",
          "2018-06-01",
          "2018-07-01",
          "2018-08-01",
          "2018-09-01",
          "2018-10-01",
          "2018-11-01",
          "2018-12-01",
          "2019-01-01",
          "2019-02-01",
          "2019-03-01",
          "2019-04-01",
          "2019-05-01",
          "2019-06-01",
          "2019-07-01",
          "2019-08-01",
          "2019-09-01",
          "2019-10-01",
          "2019-11-01",
          "2019-12-01",
          "2020-01-01",
          "2020-02-01",
          "2020-03-01",
          "2020-04-01",
          "2020-05-01"
         ],
         "xaxis": "x",
         "y": [
          9.3,
          8.9,
          9.4,
          8.2,
          9.1,
          9.7,
          8.8,
          9.2,
          9.5,
          9.9,
          8.7,
          7.6,
          8.6,
          9,
          8.9,
          8.9,
          8.4,
          9.1,
          8.6,
          8.3,
          8.4,
          7.6,
          8.8,
          8.6,
          8.3,
          8.1,
          7.4,
          8,
          8.2,
          8,
          8.6,
          8.3,
          8.9,
          9.6,
          10.5,
          11.1,
          11.3,
          12,
          12.5,
          12.4,
          12.8,
          12.2,
          11.5,
          12.9,
          12.7,
          12.4,
          11.8,
          11.4,
          11.9,
          12.5,
          11,
          11.5,
          10.7,
          11.8,
          12.2,
          12.2,
          11.7,
          11.9,
          11.2,
          12,
          12,
          13.4,
          12.6,
          12.5,
          11.8,
          11.9,
          11.5,
          12.3,
          12.4,
          12.2,
          13.3,
          12,
          11.7,
          11.1,
          11.4,
          11,
          11.5,
          11.5,
          12.1,
          10.8,
          10.8,
          10.5,
          11.1,
          10.8,
          11.4,
          11.5,
          10.8,
          11.1,
          10.8,
          11.2,
          10.9,
          11.4,
          10.7,
          10.7,
          10.2,
          10.4,
          10.5,
          10.4,
          10.9,
          11.8,
          12.1,
          11.8,
          12.3,
          11.6,
          10.9,
          13,
          13.3,
          13.5,
          12.6,
          12.9,
          13.3,
          12.7,
          13,
          13.5,
          13.2,
          13.9,
          14,
          13.9,
          13.6,
          14.2,
          13.7,
          14.4,
          15,
          15.4,
          15.1,
          15.2,
          15.6,
          15.3,
          15.6,
          16.2,
          16.5,
          16.7,
          18.2,
          16.8,
          17.6,
          17,
          16.9,
          17.4,
          16,
          16.1,
          15.8,
          15.7,
          15.1,
          16,
          15,
          14.2,
          13.8,
          13.6,
          13.4,
          12.8,
          13.8,
          13.7,
          12.3,
          13.5,
          13.4,
          13,
          13.1,
          13.6,
          13,
          13.2,
          13.4,
          12.7,
          13.2,
          13.1,
          13.4,
          12.2,
          13.7,
          12.5,
          12,
          12.3,
          12.2,
          12.5,
          12.7,
          12.9,
          12.1,
          12.6,
          12.4,
          12.5,
          12.7,
          12.1,
          12.4,
          12.6,
          12.9,
          11.5,
          11.6,
          11.3,
          11.3,
          11.5,
          11.9,
          11.1,
          10.8,
          10.7,
          10.9,
          10.4,
          11.2,
          11.2,
          10.7,
          10.5,
          10.3,
          10.1,
          9.7,
          9.8,
          9.6,
          10,
          10.3,
          10.3,
          9.6,
          9,
          9.6,
          10.3,
          9.9,
          9.6,
          9.6,
          10,
          10,
          9.6,
          9.5,
          9.8,
          9.6,
          9.4,
          9.3,
          8.8,
          9.6,
          9.9,
          10.2,
          10.1,
          10,
          10.4,
          10.1,
          10,
          10.3,
          10.4,
          11,
          10.5,
          9.5,
          10.5,
          10.6,
          12.2,
          11.4,
          11.1,
          11.3,
          11.6,
          11.5,
          12,
          12.4,
          12.4,
          12,
          12,
          11,
          11.6,
          12.1,
          12.1,
          12.2,
          11.4,
          10.4,
          11,
          10.7,
          10.9,
          10.9,
          10.5,
          10.3,
          10,
          10,
          10.1,
          11.5,
          10.9,
          11.5,
          10.5,
          10.1,
          9.6,
          8.3,
          9.3,
          8.9,
          9.3,
          9.2,
          8.6,
          8.7,
          8.9,
          8.9,
          9.3,
          7.9,
          8.7,
          8.9,
          8.7,
          9.3,
          8.8,
          7.8,
          7.7,
          9.1,
          7.6,
          8.3,
          8.6,
          8.2,
          8.5,
          8.9,
          9.1,
          8.6,
          9,
          8.9,
          9.6,
          9.3,
          9.7,
          9.1,
          8.7,
          9,
          9.1,
          8.3,
          8.5,
          8.4,
          8.4,
          8.3,
          8.3,
          8.1,
          8.3,
          8.2,
          8.4,
          8.1,
          7.8,
          7.8,
          7.6,
          8,
          7.7,
          7.4,
          7,
          6.5,
          7.1,
          7.2,
          7,
          6.2,
          6.6,
          7.8,
          6.9,
          6.8,
          6.2,
          6.4,
          6.8,
          6.9,
          6.6,
          6.1,
          5.9,
          6.5,
          6.5,
          6.5,
          6.4,
          6,
          5.6,
          6.1,
          5.5,
          7.1,
          5.9,
          6.3,
          5.5,
          6.3,
          6.7,
          6.2,
          7.1,
          7.9,
          8.4,
          8.3,
          8.4,
          8.7,
          8.6,
          8.9,
          9.3,
          9.6,
          8.7,
          8.8,
          8.5,
          8.3,
          8.4,
          9,
          9.3,
          8.6,
          9.1,
          8.7,
          9.2,
          8.4,
          9.5,
          9.4,
          9.8,
          9.2,
          9.9,
          8.9,
          9.2,
          9.1,
          8.8,
          9.3,
          8.7,
          8.8,
          8.9,
          9,
          8.8,
          8.8,
          9,
          8.8,
          8.8,
          8.9,
          9.2,
          9.1,
          8.9,
          8.4,
          8.8,
          8,
          8.2,
          7.9,
          7.6,
          8.8,
          8.4,
          8.1,
          7.9,
          7.8,
          7.9,
          7.1,
          7.6,
          7.6,
          7.2,
          7.4,
          6.8,
          7.2,
          7.6,
          6.5,
          6.5,
          6.3,
          6.1,
          6.6,
          6.5,
          6.8,
          6.3,
          6.8,
          7.2,
          7.1,
          7.1,
          7.4,
          6.6,
          7.8,
          7.4,
          8.1,
          7.6,
          7.4,
          8.9,
          9.1,
          8.9,
          9.2,
          8.8,
          9.3,
          10.3,
          10.4,
          11.3,
          11.5,
          11.6,
          11.8,
          11.8,
          12.5,
          12.5,
          11.9,
          12.8,
          13.2,
          12.2,
          12.7,
          13.8,
          12.5,
          11.6,
          13,
          13.1,
          12.8,
          12.7,
          13.3,
          12.7,
          12.7,
          12.9,
          12.5,
          13.7,
          13.6,
          13.8,
          13.6,
          13.3,
          13.6,
          12.1,
          12.9,
          13.7,
          12.4,
          12.1,
          11.8,
          10.8,
          11.4,
          12.9,
          11.7,
          12,
          11.3,
          12.1,
          11.3,
          12.4,
          12.3,
          12.4,
          11.6,
          11.4,
          11.1,
          12.7,
          10.4,
          10.4,
          10.4,
          11.3,
          10.9,
          10.8,
          10.4,
          9.7,
          10.6,
          10.2,
          9.8,
          9.6,
          10.2,
          10.6,
          9.6,
          9.2,
          9.4,
          8.6,
          8.6,
          8.7,
          8.8,
          8.9,
          8.6,
          8.1,
          8,
          8.1,
          8.2,
          8,
          8,
          7.1,
          7.8,
          7.7,
          7.9,
          7,
          7.3,
          7.3,
          7.3,
          7.1,
          7.3,
          7,
          7.2,
          6.8,
          6.4,
          6.9,
          6.4,
          7.1,
          7,
          6.8,
          6.4,
          6.4,
          6.3,
          6.4,
          6,
          5.5,
          6.4,
          6.1,
          5.9,
          5.1,
          4.7,
          5.4,
          6,
          5.9,
          5.4,
          4.9,
          5,
          5.6,
          5.5,
          5.2,
          5.3,
          5.3,
          5.1,
          5.2,
          5.2,
          4.4,
          4.7,
          4.9,
          4.9,
          5,
          5.2,
          4.8,
          5.2,
          16.4,
          16.5
         ],
         "yaxis": "y"
        }
       ],
       "layout": {
        "height": 600,
        "legend": {
         "title": {
          "text": "category"
         },
         "tracegroupgap": 0
        },
        "margin": {
         "t": 60
        },
        "template": {
         "data": {
          "bar": [
           {
            "error_x": {
             "color": "#2a3f5f"
            },
            "error_y": {
             "color": "#2a3f5f"
            },
            "marker": {
             "line": {
              "color": "#E5ECF6",
              "width": 0.5
             }
            },
            "type": "bar"
           }
          ],
          "barpolar": [
           {
            "marker": {
             "line": {
              "color": "#E5ECF6",
              "width": 0.5
             }
            },
            "type": "barpolar"
           }
          ],
          "carpet": [
           {
            "aaxis": {
             "endlinecolor": "#2a3f5f",
             "gridcolor": "white",
             "linecolor": "white",
             "minorgridcolor": "white",
             "startlinecolor": "#2a3f5f"
            },
            "baxis": {
             "endlinecolor": "#2a3f5f",
             "gridcolor": "white",
             "linecolor": "white",
             "minorgridcolor": "white",
             "startlinecolor": "#2a3f5f"
            },
            "type": "carpet"
           }
          ],
          "choropleth": [
           {
            "colorbar": {
             "outlinewidth": 0,
             "ticks": ""
            },
            "type": "choropleth"
           }
          ],
          "contour": [
           {
            "colorbar": {
             "outlinewidth": 0,
             "ticks": ""
            },
            "colorscale": [
             [
              0,
              "#0d0887"
             ],
             [
              0.1111111111111111,
              "#46039f"
             ],
             [
              0.2222222222222222,
              "#7201a8"
             ],
             [
              0.3333333333333333,
              "#9c179e"
             ],
             [
              0.4444444444444444,
              "#bd3786"
             ],
             [
              0.5555555555555556,
              "#d8576b"
             ],
             [
              0.6666666666666666,
              "#ed7953"
             ],
             [
              0.7777777777777778,
              "#fb9f3a"
             ],
             [
              0.8888888888888888,
              "#fdca26"
             ],
             [
              1,
              "#f0f921"
             ]
            ],
            "type": "contour"
           }
          ],
          "contourcarpet": [
           {
            "colorbar": {
             "outlinewidth": 0,
             "ticks": ""
            },
            "type": "contourcarpet"
           }
          ],
          "heatmap": [
           {
            "colorbar": {
             "outlinewidth": 0,
             "ticks": ""
            },
            "colorscale": [
             [
              0,
              "#0d0887"
             ],
             [
              0.1111111111111111,
              "#46039f"
             ],
             [
              0.2222222222222222,
              "#7201a8"
             ],
             [
              0.3333333333333333,
              "#9c179e"
             ],
             [
              0.4444444444444444,
              "#bd3786"
             ],
             [
              0.5555555555555556,
              "#d8576b"
             ],
             [
              0.6666666666666666,
              "#ed7953"
             ],
             [
              0.7777777777777778,
              "#fb9f3a"
             ],
             [
              0.8888888888888888,
              "#fdca26"
             ],
             [
              1,
              "#f0f921"
             ]
            ],
            "type": "heatmap"
           }
          ],
          "heatmapgl": [
           {
            "colorbar": {
             "outlinewidth": 0,
             "ticks": ""
            },
            "colorscale": [
             [
              0,
              "#0d0887"
             ],
             [
              0.1111111111111111,
              "#46039f"
             ],
             [
              0.2222222222222222,
              "#7201a8"
             ],
             [
              0.3333333333333333,
              "#9c179e"
             ],
             [
              0.4444444444444444,
              "#bd3786"
             ],
             [
              0.5555555555555556,
              "#d8576b"
             ],
             [
              0.6666666666666666,
              "#ed7953"
             ],
             [
              0.7777777777777778,
              "#fb9f3a"
             ],
             [
              0.8888888888888888,
              "#fdca26"
             ],
             [
              1,
              "#f0f921"
             ]
            ],
            "type": "heatmapgl"
           }
          ],
          "histogram": [
           {
            "marker": {
             "colorbar": {
              "outlinewidth": 0,
              "ticks": ""
             }
            },
            "type": "histogram"
           }
          ],
          "histogram2d": [
           {
            "colorbar": {
             "outlinewidth": 0,
             "ticks": ""
            },
            "colorscale": [
             [
              0,
              "#0d0887"
             ],
             [
              0.1111111111111111,
              "#46039f"
             ],
             [
              0.2222222222222222,
              "#7201a8"
             ],
             [
              0.3333333333333333,
              "#9c179e"
             ],
             [
              0.4444444444444444,
              "#bd3786"
             ],
             [
              0.5555555555555556,
              "#d8576b"
             ],
             [
              0.6666666666666666,
              "#ed7953"
             ],
             [
              0.7777777777777778,
              "#fb9f3a"
             ],
             [
              0.8888888888888888,
              "#fdca26"
             ],
             [
              1,
              "#f0f921"
             ]
            ],
            "type": "histogram2d"
           }
          ],
          "histogram2dcontour": [
           {
            "colorbar": {
             "outlinewidth": 0,
             "ticks": ""
            },
            "colorscale": [
             [
              0,
              "#0d0887"
             ],
             [
              0.1111111111111111,
              "#46039f"
             ],
             [
              0.2222222222222222,
              "#7201a8"
             ],
             [
              0.3333333333333333,
              "#9c179e"
             ],
             [
              0.4444444444444444,
              "#bd3786"
             ],
             [
              0.5555555555555556,
              "#d8576b"
             ],
             [
              0.6666666666666666,
              "#ed7953"
             ],
             [
              0.7777777777777778,
              "#fb9f3a"
             ],
             [
              0.8888888888888888,
              "#fdca26"
             ],
             [
              1,
              "#f0f921"
             ]
            ],
            "type": "histogram2dcontour"
           }
          ],
          "mesh3d": [
           {
            "colorbar": {
             "outlinewidth": 0,
             "ticks": ""
            },
            "type": "mesh3d"
           }
          ],
          "parcoords": [
           {
            "line": {
             "colorbar": {
              "outlinewidth": 0,
              "ticks": ""
             }
            },
            "type": "parcoords"
           }
          ],
          "pie": [
           {
            "automargin": true,
            "type": "pie"
           }
          ],
          "scatter": [
           {
            "marker": {
             "colorbar": {
              "outlinewidth": 0,
              "ticks": ""
             }
            },
            "type": "scatter"
           }
          ],
          "scatter3d": [
           {
            "line": {
             "colorbar": {
              "outlinewidth": 0,
              "ticks": ""
             }
            },
            "marker": {
             "colorbar": {
              "outlinewidth": 0,
              "ticks": ""
             }
            },
            "type": "scatter3d"
           }
          ],
          "scattercarpet": [
           {
            "marker": {
             "colorbar": {
              "outlinewidth": 0,
              "ticks": ""
             }
            },
            "type": "scattercarpet"
           }
          ],
          "scattergeo": [
           {
            "marker": {
             "colorbar": {
              "outlinewidth": 0,
              "ticks": ""
             }
            },
            "type": "scattergeo"
           }
          ],
          "scattergl": [
           {
            "marker": {
             "colorbar": {
              "outlinewidth": 0,
              "ticks": ""
             }
            },
            "type": "scattergl"
           }
          ],
          "scattermapbox": [
           {
            "marker": {
             "colorbar": {
              "outlinewidth": 0,
              "ticks": ""
             }
            },
            "type": "scattermapbox"
           }
          ],
          "scatterpolar": [
           {
            "marker": {
             "colorbar": {
              "outlinewidth": 0,
              "ticks": ""
             }
            },
            "type": "scatterpolar"
           }
          ],
          "scatterpolargl": [
           {
            "marker": {
             "colorbar": {
              "outlinewidth": 0,
              "ticks": ""
             }
            },
            "type": "scatterpolargl"
           }
          ],
          "scatterternary": [
           {
            "marker": {
             "colorbar": {
              "outlinewidth": 0,
              "ticks": ""
             }
            },
            "type": "scatterternary"
           }
          ],
          "surface": [
           {
            "colorbar": {
             "outlinewidth": 0,
             "ticks": ""
            },
            "colorscale": [
             [
              0,
              "#0d0887"
             ],
             [
              0.1111111111111111,
              "#46039f"
             ],
             [
              0.2222222222222222,
              "#7201a8"
             ],
             [
              0.3333333333333333,
              "#9c179e"
             ],
             [
              0.4444444444444444,
              "#bd3786"
             ],
             [
              0.5555555555555556,
              "#d8576b"
             ],
             [
              0.6666666666666666,
              "#ed7953"
             ],
             [
              0.7777777777777778,
              "#fb9f3a"
             ],
             [
              0.8888888888888888,
              "#fdca26"
             ],
             [
              1,
              "#f0f921"
             ]
            ],
            "type": "surface"
           }
          ],
          "table": [
           {
            "cells": {
             "fill": {
              "color": "#EBF0F8"
             },
             "line": {
              "color": "white"
             }
            },
            "header": {
             "fill": {
              "color": "#C8D4E3"
             },
             "line": {
              "color": "white"
             }
            },
            "type": "table"
           }
          ]
         },
         "layout": {
          "annotationdefaults": {
           "arrowcolor": "#2a3f5f",
           "arrowhead": 0,
           "arrowwidth": 1
          },
          "coloraxis": {
           "colorbar": {
            "outlinewidth": 0,
            "ticks": ""
           }
          },
          "colorscale": {
           "diverging": [
            [
             0,
             "#8e0152"
            ],
            [
             0.1,
             "#c51b7d"
            ],
            [
             0.2,
             "#de77ae"
            ],
            [
             0.3,
             "#f1b6da"
            ],
            [
             0.4,
             "#fde0ef"
            ],
            [
             0.5,
             "#f7f7f7"
            ],
            [
             0.6,
             "#e6f5d0"
            ],
            [
             0.7,
             "#b8e186"
            ],
            [
             0.8,
             "#7fbc41"
            ],
            [
             0.9,
             "#4d9221"
            ],
            [
             1,
             "#276419"
            ]
           ],
           "sequential": [
            [
             0,
             "#0d0887"
            ],
            [
             0.1111111111111111,
             "#46039f"
            ],
            [
             0.2222222222222222,
             "#7201a8"
            ],
            [
             0.3333333333333333,
             "#9c179e"
            ],
            [
             0.4444444444444444,
             "#bd3786"
            ],
            [
             0.5555555555555556,
             "#d8576b"
            ],
            [
             0.6666666666666666,
             "#ed7953"
            ],
            [
             0.7777777777777778,
             "#fb9f3a"
            ],
            [
             0.8888888888888888,
             "#fdca26"
            ],
            [
             1,
             "#f0f921"
            ]
           ],
           "sequentialminus": [
            [
             0,
             "#0d0887"
            ],
            [
             0.1111111111111111,
             "#46039f"
            ],
            [
             0.2222222222222222,
             "#7201a8"
            ],
            [
             0.3333333333333333,
             "#9c179e"
            ],
            [
             0.4444444444444444,
             "#bd3786"
            ],
            [
             0.5555555555555556,
             "#d8576b"
            ],
            [
             0.6666666666666666,
             "#ed7953"
            ],
            [
             0.7777777777777778,
             "#fb9f3a"
            ],
            [
             0.8888888888888888,
             "#fdca26"
            ],
            [
             1,
             "#f0f921"
            ]
           ]
          },
          "colorway": [
           "#636efa",
           "#EF553B",
           "#00cc96",
           "#ab63fa",
           "#FFA15A",
           "#19d3f3",
           "#FF6692",
           "#B6E880",
           "#FF97FF",
           "#FECB52"
          ],
          "font": {
           "color": "#2a3f5f"
          },
          "geo": {
           "bgcolor": "white",
           "lakecolor": "white",
           "landcolor": "#E5ECF6",
           "showlakes": true,
           "showland": true,
           "subunitcolor": "white"
          },
          "hoverlabel": {
           "align": "left"
          },
          "hovermode": "closest",
          "mapbox": {
           "style": "light"
          },
          "paper_bgcolor": "white",
          "plot_bgcolor": "#E5ECF6",
          "polar": {
           "angularaxis": {
            "gridcolor": "white",
            "linecolor": "white",
            "ticks": ""
           },
           "bgcolor": "#E5ECF6",
           "radialaxis": {
            "gridcolor": "white",
            "linecolor": "white",
            "ticks": ""
           }
          },
          "scene": {
           "xaxis": {
            "backgroundcolor": "#E5ECF6",
            "gridcolor": "white",
            "gridwidth": 2,
            "linecolor": "white",
            "showbackground": true,
            "ticks": "",
            "zerolinecolor": "white"
           },
           "yaxis": {
            "backgroundcolor": "#E5ECF6",
            "gridcolor": "white",
            "gridwidth": 2,
            "linecolor": "white",
            "showbackground": true,
            "ticks": "",
            "zerolinecolor": "white"
           },
           "zaxis": {
            "backgroundcolor": "#E5ECF6",
            "gridcolor": "white",
            "gridwidth": 2,
            "linecolor": "white",
            "showbackground": true,
            "ticks": "",
            "zerolinecolor": "white"
           }
          },
          "shapedefaults": {
           "line": {
            "color": "#2a3f5f"
           }
          },
          "ternary": {
           "aaxis": {
            "gridcolor": "white",
            "linecolor": "white",
            "ticks": ""
           },
           "baxis": {
            "gridcolor": "white",
            "linecolor": "white",
            "ticks": ""
           },
           "bgcolor": "#E5ECF6",
           "caxis": {
            "gridcolor": "white",
            "linecolor": "white",
            "ticks": ""
           }
          },
          "title": {
           "x": 0.05
          },
          "xaxis": {
           "automargin": true,
           "gridcolor": "white",
           "linecolor": "white",
           "ticks": "",
           "title": {
            "standoff": 15
           },
           "zerolinecolor": "white",
           "zerolinewidth": 2
          },
          "yaxis": {
           "automargin": true,
           "gridcolor": "white",
           "linecolor": "white",
           "ticks": "",
           "title": {
            "standoff": 15
           },
           "zerolinecolor": "white",
           "zerolinewidth": 2
          }
         }
        },
        "title": {
         "text": "Over 20 Unemployment Rate in USA from1972-01-01 to May 2020"
        },
        "xaxis": {
         "anchor": "y",
         "domain": [
          0,
          1
         ],
         "range": [
          "1972-01-01",
          "2020-07-30"
         ],
         "title": {
          "text": "date"
         }
        },
        "yaxis": {
         "anchor": "x",
         "domain": [
          0,
          1
         ],
         "title": {
          "text": "rate"
         }
        }
       }
      },
      "text/html": [
       "<div>\n",
       "        \n",
       "        \n",
       "            <div id=\"1a751aa5-484c-4909-8fce-9b7b10fa8ccc\" class=\"plotly-graph-div\" style=\"height:600px; width:100%;\"></div>\n",
       "            <script type=\"text/javascript\">\n",
       "                require([\"plotly\"], function(Plotly) {\n",
       "                    window.PLOTLYENV=window.PLOTLYENV || {};\n",
       "                    \n",
       "                if (document.getElementById(\"1a751aa5-484c-4909-8fce-9b7b10fa8ccc\")) {\n",
       "                    Plotly.newPlot(\n",
       "                        '1a751aa5-484c-4909-8fce-9b7b10fa8ccc',\n",
       "                        [{\"hovertemplate\": \"category=Average<br>date=%{x}<br>rate=%{y}<extra></extra>\", \"legendgroup\": \"Average\", \"line\": {\"color\": \"#636efa\", \"dash\": \"solid\"}, \"mode\": \"lines\", \"name\": \"Average\", \"showlegend\": true, \"type\": \"scattergl\", \"x\": [\"1948-01-01\", \"1948-02-01\", \"1948-03-01\", \"1948-04-01\", \"1948-05-01\", \"1948-06-01\", \"1948-07-01\", \"1948-08-01\", \"1948-09-01\", \"1948-10-01\", \"1948-11-01\", \"1948-12-01\", \"1949-01-01\", \"1949-02-01\", \"1949-03-01\", \"1949-04-01\", \"1949-05-01\", \"1949-06-01\", \"1949-07-01\", \"1949-08-01\", \"1949-09-01\", \"1949-10-01\", \"1949-11-01\", \"1949-12-01\", \"1950-01-01\", \"1950-02-01\", \"1950-03-01\", \"1950-04-01\", \"1950-05-01\", \"1950-06-01\", \"1950-07-01\", \"1950-08-01\", \"1950-09-01\", \"1950-10-01\", \"1950-11-01\", \"1950-12-01\", \"1951-01-01\", \"1951-02-01\", \"1951-03-01\", \"1951-04-01\", \"1951-05-01\", \"1951-06-01\", \"1951-07-01\", \"1951-08-01\", \"1951-09-01\", \"1951-10-01\", \"1951-11-01\", \"1951-12-01\", \"1952-01-01\", \"1952-02-01\", \"1952-03-01\", \"1952-04-01\", \"1952-05-01\", \"1952-06-01\", \"1952-07-01\", \"1952-08-01\", \"1952-09-01\", \"1952-10-01\", \"1952-11-01\", \"1952-12-01\", \"1953-01-01\", \"1953-02-01\", \"1953-03-01\", \"1953-04-01\", \"1953-05-01\", \"1953-06-01\", \"1953-07-01\", \"1953-08-01\", \"1953-09-01\", \"1953-10-01\", \"1953-11-01\", \"1953-12-01\", \"1954-01-01\", \"1954-02-01\", \"1954-03-01\", \"1954-04-01\", \"1954-05-01\", \"1954-06-01\", \"1954-07-01\", \"1954-08-01\", \"1954-09-01\", \"1954-10-01\", \"1954-11-01\", \"1954-12-01\", \"1955-01-01\", \"1955-02-01\", \"1955-03-01\", \"1955-04-01\", \"1955-05-01\", \"1955-06-01\", \"1955-07-01\", \"1955-08-01\", \"1955-09-01\", \"1955-10-01\", \"1955-11-01\", \"1955-12-01\", \"1956-01-01\", \"1956-02-01\", \"1956-03-01\", \"1956-04-01\", \"1956-05-01\", \"1956-06-01\", \"1956-07-01\", \"1956-08-01\", \"1956-09-01\", \"1956-10-01\", \"1956-11-01\", \"1956-12-01\", \"1957-01-01\", \"1957-02-01\", \"1957-03-01\", \"1957-04-01\", \"1957-05-01\", \"1957-06-01\", \"1957-07-01\", \"1957-08-01\", \"1957-09-01\", \"1957-10-01\", \"1957-11-01\", \"1957-12-01\", \"1958-01-01\", \"1958-02-01\", \"1958-03-01\", \"1958-04-01\", \"1958-05-01\", \"1958-06-01\", \"1958-07-01\", \"1958-08-01\", \"1958-09-01\", \"1958-10-01\", \"1958-11-01\", \"1958-12-01\", \"1959-01-01\", \"1959-02-01\", \"1959-03-01\", \"1959-04-01\", \"1959-05-01\", \"1959-06-01\", \"1959-07-01\", \"1959-08-01\", \"1959-09-01\", \"1959-10-01\", \"1959-11-01\", \"1959-12-01\", \"1960-01-01\", \"1960-02-01\", \"1960-03-01\", \"1960-04-01\", \"1960-05-01\", \"1960-06-01\", \"1960-07-01\", \"1960-08-01\", \"1960-09-01\", \"1960-10-01\", \"1960-11-01\", \"1960-12-01\", \"1961-01-01\", \"1961-02-01\", \"1961-03-01\", \"1961-04-01\", \"1961-05-01\", \"1961-06-01\", \"1961-07-01\", \"1961-08-01\", \"1961-09-01\", \"1961-10-01\", \"1961-11-01\", \"1961-12-01\", \"1962-01-01\", \"1962-02-01\", \"1962-03-01\", \"1962-04-01\", \"1962-05-01\", \"1962-06-01\", \"1962-07-01\", \"1962-08-01\", \"1962-09-01\", \"1962-10-01\", \"1962-11-01\", \"1962-12-01\", \"1963-01-01\", \"1963-02-01\", \"1963-03-01\", \"1963-04-01\", \"1963-05-01\", \"1963-06-01\", \"1963-07-01\", \"1963-08-01\", \"1963-09-01\", \"1963-10-01\", \"1963-11-01\", \"1963-12-01\", \"1964-01-01\", \"1964-02-01\", \"1964-03-01\", \"1964-04-01\", \"1964-05-01\", \"1964-06-01\", \"1964-07-01\", \"1964-08-01\", \"1964-09-01\", \"1964-10-01\", \"1964-11-01\", \"1964-12-01\", \"1965-01-01\", \"1965-02-01\", \"1965-03-01\", \"1965-04-01\", \"1965-05-01\", \"1965-06-01\", \"1965-07-01\", \"1965-08-01\", \"1965-09-01\", \"1965-10-01\", \"1965-11-01\", \"1965-12-01\", \"1966-01-01\", \"1966-02-01\", \"1966-03-01\", \"1966-04-01\", \"1966-05-01\", \"1966-06-01\", \"1966-07-01\", \"1966-08-01\", \"1966-09-01\", \"1966-10-01\", \"1966-11-01\", \"1966-12-01\", \"1967-01-01\", \"1967-02-01\", \"1967-03-01\", \"1967-04-01\", \"1967-05-01\", \"1967-06-01\", \"1967-07-01\", \"1967-08-01\", \"1967-09-01\", \"1967-10-01\", \"1967-11-01\", \"1967-12-01\", \"1968-01-01\", \"1968-02-01\", \"1968-03-01\", \"1968-04-01\", \"1968-05-01\", \"1968-06-01\", \"1968-07-01\", \"1968-08-01\", \"1968-09-01\", \"1968-10-01\", \"1968-11-01\", \"1968-12-01\", \"1969-01-01\", \"1969-02-01\", \"1969-03-01\", \"1969-04-01\", \"1969-05-01\", \"1969-06-01\", \"1969-07-01\", \"1969-08-01\", \"1969-09-01\", \"1969-10-01\", \"1969-11-01\", \"1969-12-01\", \"1970-01-01\", \"1970-02-01\", \"1970-03-01\", \"1970-04-01\", \"1970-05-01\", \"1970-06-01\", \"1970-07-01\", \"1970-08-01\", \"1970-09-01\", \"1970-10-01\", \"1970-11-01\", \"1970-12-01\", \"1971-01-01\", \"1971-02-01\", \"1971-03-01\", \"1971-04-01\", \"1971-05-01\", \"1971-06-01\", \"1971-07-01\", \"1971-08-01\", \"1971-09-01\", \"1971-10-01\", \"1971-11-01\", \"1971-12-01\", \"1972-01-01\", \"1972-02-01\", \"1972-03-01\", \"1972-04-01\", \"1972-05-01\", \"1972-06-01\", \"1972-07-01\", \"1972-08-01\", \"1972-09-01\", \"1972-10-01\", \"1972-11-01\", \"1972-12-01\", \"1973-01-01\", \"1973-02-01\", \"1973-03-01\", \"1973-04-01\", \"1973-05-01\", \"1973-06-01\", \"1973-07-01\", \"1973-08-01\", \"1973-09-01\", \"1973-10-01\", \"1973-11-01\", \"1973-12-01\", \"1974-01-01\", \"1974-02-01\", \"1974-03-01\", \"1974-04-01\", \"1974-05-01\", \"1974-06-01\", \"1974-07-01\", \"1974-08-01\", \"1974-09-01\", \"1974-10-01\", \"1974-11-01\", \"1974-12-01\", \"1975-01-01\", \"1975-02-01\", \"1975-03-01\", \"1975-04-01\", \"1975-05-01\", \"1975-06-01\", \"1975-07-01\", \"1975-08-01\", \"1975-09-01\", \"1975-10-01\", \"1975-11-01\", \"1975-12-01\", \"1976-01-01\", \"1976-02-01\", \"1976-03-01\", \"1976-04-01\", \"1976-05-01\", \"1976-06-01\", \"1976-07-01\", \"1976-08-01\", \"1976-09-01\", \"1976-10-01\", \"1976-11-01\", \"1976-12-01\", \"1977-01-01\", \"1977-02-01\", \"1977-03-01\", \"1977-04-01\", \"1977-05-01\", \"1977-06-01\", \"1977-07-01\", \"1977-08-01\", \"1977-09-01\", \"1977-10-01\", \"1977-11-01\", \"1977-12-01\", \"1978-01-01\", \"1978-02-01\", \"1978-03-01\", \"1978-04-01\", \"1978-05-01\", \"1978-06-01\", \"1978-07-01\", \"1978-08-01\", \"1978-09-01\", \"1978-10-01\", \"1978-11-01\", \"1978-12-01\", \"1979-01-01\", \"1979-02-01\", \"1979-03-01\", \"1979-04-01\", \"1979-05-01\", \"1979-06-01\", \"1979-07-01\", \"1979-08-01\", \"1979-09-01\", \"1979-10-01\", \"1979-11-01\", \"1979-12-01\", \"1980-01-01\", \"1980-02-01\", \"1980-03-01\", \"1980-04-01\", \"1980-05-01\", \"1980-06-01\", \"1980-07-01\", \"1980-08-01\", \"1980-09-01\", \"1980-10-01\", \"1980-11-01\", \"1980-12-01\", \"1981-01-01\", \"1981-02-01\", \"1981-03-01\", \"1981-04-01\", \"1981-05-01\", \"1981-06-01\", \"1981-07-01\", \"1981-08-01\", \"1981-09-01\", \"1981-10-01\", \"1981-11-01\", \"1981-12-01\", \"1982-01-01\", \"1982-02-01\", \"1982-03-01\", \"1982-04-01\", \"1982-05-01\", \"1982-06-01\", \"1982-07-01\", \"1982-08-01\", \"1982-09-01\", \"1982-10-01\", \"1982-11-01\", \"1982-12-01\", \"1983-01-01\", \"1983-02-01\", \"1983-03-01\", \"1983-04-01\", \"1983-05-01\", \"1983-06-01\", \"1983-07-01\", \"1983-08-01\", \"1983-09-01\", \"1983-10-01\", \"1983-11-01\", \"1983-12-01\", \"1984-01-01\", \"1984-02-01\", \"1984-03-01\", \"1984-04-01\", \"1984-05-01\", \"1984-06-01\", \"1984-07-01\", \"1984-08-01\", \"1984-09-01\", \"1984-10-01\", \"1984-11-01\", \"1984-12-01\", \"1985-01-01\", \"1985-02-01\", \"1985-03-01\", \"1985-04-01\", \"1985-05-01\", \"1985-06-01\", \"1985-07-01\", \"1985-08-01\", \"1985-09-01\", \"1985-10-01\", \"1985-11-01\", \"1985-12-01\", \"1986-01-01\", \"1986-02-01\", \"1986-03-01\", \"1986-04-01\", \"1986-05-01\", \"1986-06-01\", \"1986-07-01\", \"1986-08-01\", \"1986-09-01\", \"1986-10-01\", \"1986-11-01\", \"1986-12-01\", \"1987-01-01\", \"1987-02-01\", \"1987-03-01\", \"1987-04-01\", \"1987-05-01\", \"1987-06-01\", \"1987-07-01\", \"1987-08-01\", \"1987-09-01\", \"1987-10-01\", \"1987-11-01\", \"1987-12-01\", \"1988-01-01\", \"1988-02-01\", \"1988-03-01\", \"1988-04-01\", \"1988-05-01\", \"1988-06-01\", \"1988-07-01\", \"1988-08-01\", \"1988-09-01\", \"1988-10-01\", \"1988-11-01\", \"1988-12-01\", \"1989-01-01\", \"1989-02-01\", \"1989-03-01\", \"1989-04-01\", \"1989-05-01\", \"1989-06-01\", \"1989-07-01\", \"1989-08-01\", \"1989-09-01\", \"1989-10-01\", \"1989-11-01\", \"1989-12-01\", \"1990-01-01\", \"1990-02-01\", \"1990-03-01\", \"1990-04-01\", \"1990-05-01\", \"1990-06-01\", \"1990-07-01\", \"1990-08-01\", \"1990-09-01\", \"1990-10-01\", \"1990-11-01\", \"1990-12-01\", \"1991-01-01\", \"1991-02-01\", \"1991-03-01\", \"1991-04-01\", \"1991-05-01\", \"1991-06-01\", \"1991-07-01\", \"1991-08-01\", \"1991-09-01\", \"1991-10-01\", \"1991-11-01\", \"1991-12-01\", \"1992-01-01\", \"1992-02-01\", \"1992-03-01\", \"1992-04-01\", \"1992-05-01\", \"1992-06-01\", \"1992-07-01\", \"1992-08-01\", \"1992-09-01\", \"1992-10-01\", \"1992-11-01\", \"1992-12-01\", \"1993-01-01\", \"1993-02-01\", \"1993-03-01\", \"1993-04-01\", \"1993-05-01\", \"1993-06-01\", \"1993-07-01\", \"1993-08-01\", \"1993-09-01\", \"1993-10-01\", \"1993-11-01\", \"1993-12-01\", \"1994-01-01\", \"1994-02-01\", \"1994-03-01\", \"1994-04-01\", \"1994-05-01\", \"1994-06-01\", \"1994-07-01\", \"1994-08-01\", \"1994-09-01\", \"1994-10-01\", \"1994-11-01\", \"1994-12-01\", \"1995-01-01\", \"1995-02-01\", \"1995-03-01\", \"1995-04-01\", \"1995-05-01\", \"1995-06-01\", \"1995-07-01\", \"1995-08-01\", \"1995-09-01\", \"1995-10-01\", \"1995-11-01\", \"1995-12-01\", \"1996-01-01\", \"1996-02-01\", \"1996-03-01\", \"1996-04-01\", \"1996-05-01\", \"1996-06-01\", \"1996-07-01\", \"1996-08-01\", \"1996-09-01\", \"1996-10-01\", \"1996-11-01\", \"1996-12-01\", \"1997-01-01\", \"1997-02-01\", \"1997-03-01\", \"1997-04-01\", \"1997-05-01\", \"1997-06-01\", \"1997-07-01\", \"1997-08-01\", \"1997-09-01\", \"1997-10-01\", \"1997-11-01\", \"1997-12-01\", \"1998-01-01\", \"1998-02-01\", \"1998-03-01\", \"1998-04-01\", \"1998-05-01\", \"1998-06-01\", \"1998-07-01\", \"1998-08-01\", \"1998-09-01\", \"1998-10-01\", \"1998-11-01\", \"1998-12-01\", \"1999-01-01\", \"1999-02-01\", \"1999-03-01\", \"1999-04-01\", \"1999-05-01\", \"1999-06-01\", \"1999-07-01\", \"1999-08-01\", \"1999-09-01\", \"1999-10-01\", \"1999-11-01\", \"1999-12-01\", \"2000-01-01\", \"2000-02-01\", \"2000-03-01\", \"2000-04-01\", \"2000-05-01\", \"2000-06-01\", \"2000-07-01\", \"2000-08-01\", \"2000-09-01\", \"2000-10-01\", \"2000-11-01\", \"2000-12-01\", \"2001-01-01\", \"2001-02-01\", \"2001-03-01\", \"2001-04-01\", \"2001-05-01\", \"2001-06-01\", \"2001-07-01\", \"2001-08-01\", \"2001-09-01\", \"2001-10-01\", \"2001-11-01\", \"2001-12-01\", \"2002-01-01\", \"2002-02-01\", \"2002-03-01\", \"2002-04-01\", \"2002-05-01\", \"2002-06-01\", \"2002-07-01\", \"2002-08-01\", \"2002-09-01\", \"2002-10-01\", \"2002-11-01\", \"2002-12-01\", \"2003-01-01\", \"2003-02-01\", \"2003-03-01\", \"2003-04-01\", \"2003-05-01\", \"2003-06-01\", \"2003-07-01\", \"2003-08-01\", \"2003-09-01\", \"2003-10-01\", \"2003-11-01\", \"2003-12-01\", \"2004-01-01\", \"2004-02-01\", \"2004-03-01\", \"2004-04-01\", \"2004-05-01\", \"2004-06-01\", \"2004-07-01\", \"2004-08-01\", \"2004-09-01\", \"2004-10-01\", \"2004-11-01\", \"2004-12-01\", \"2005-01-01\", \"2005-02-01\", \"2005-03-01\", \"2005-04-01\", \"2005-05-01\", \"2005-06-01\", \"2005-07-01\", \"2005-08-01\", \"2005-09-01\", \"2005-10-01\", \"2005-11-01\", \"2005-12-01\", \"2006-01-01\", \"2006-02-01\", \"2006-03-01\", \"2006-04-01\", \"2006-05-01\", \"2006-06-01\", \"2006-07-01\", \"2006-08-01\", \"2006-09-01\", \"2006-10-01\", \"2006-11-01\", \"2006-12-01\", \"2007-01-01\", \"2007-02-01\", \"2007-03-01\", \"2007-04-01\", \"2007-05-01\", \"2007-06-01\", \"2007-07-01\", \"2007-08-01\", \"2007-09-01\", \"2007-10-01\", \"2007-11-01\", \"2007-12-01\", \"2008-01-01\", \"2008-02-01\", \"2008-03-01\", \"2008-04-01\", \"2008-05-01\", \"2008-06-01\", \"2008-07-01\", \"2008-08-01\", \"2008-09-01\", \"2008-10-01\", \"2008-11-01\", \"2008-12-01\", \"2009-01-01\", \"2009-02-01\", \"2009-03-01\", \"2009-04-01\", \"2009-05-01\", \"2009-06-01\", \"2009-07-01\", \"2009-08-01\", \"2009-09-01\", \"2009-10-01\", \"2009-11-01\", \"2009-12-01\", \"2010-01-01\", \"2010-02-01\", \"2010-03-01\", \"2010-04-01\", \"2010-05-01\", \"2010-06-01\", \"2010-07-01\", \"2010-08-01\", \"2010-09-01\", \"2010-10-01\", \"2010-11-01\", \"2010-12-01\", \"2011-01-01\", \"2011-02-01\", \"2011-03-01\", \"2011-04-01\", \"2011-05-01\", \"2011-06-01\", \"2011-07-01\", \"2011-08-01\", \"2011-09-01\", \"2011-10-01\", \"2011-11-01\", \"2011-12-01\", \"2012-01-01\", \"2012-02-01\", \"2012-03-01\", \"2012-04-01\", \"2012-05-01\", \"2012-06-01\", \"2012-07-01\", \"2012-08-01\", \"2012-09-01\", \"2012-10-01\", \"2012-11-01\", \"2012-12-01\", \"2013-01-01\", \"2013-02-01\", \"2013-03-01\", \"2013-04-01\", \"2013-05-01\", \"2013-06-01\", \"2013-07-01\", \"2013-08-01\", \"2013-09-01\", \"2013-10-01\", \"2013-11-01\", \"2013-12-01\", \"2014-01-01\", \"2014-02-01\", \"2014-03-01\", \"2014-04-01\", \"2014-05-01\", \"2014-06-01\", \"2014-07-01\", \"2014-08-01\", \"2014-09-01\", \"2014-10-01\", \"2014-11-01\", \"2014-12-01\", \"2015-01-01\", \"2015-02-01\", \"2015-03-01\", \"2015-04-01\", \"2015-05-01\", \"2015-06-01\", \"2015-07-01\", \"2015-08-01\", \"2015-09-01\", \"2015-10-01\", \"2015-11-01\", \"2015-12-01\", \"2016-01-01\", \"2016-02-01\", \"2016-03-01\", \"2016-04-01\", \"2016-05-01\", \"2016-06-01\", \"2016-07-01\", \"2016-08-01\", \"2016-09-01\", \"2016-10-01\", \"2016-11-01\", \"2016-12-01\", \"2017-01-01\", \"2017-02-01\", \"2017-03-01\", \"2017-04-01\", \"2017-05-01\", \"2017-06-01\", \"2017-07-01\", \"2017-08-01\", \"2017-09-01\", \"2017-10-01\", \"2017-11-01\", \"2017-12-01\", \"2018-01-01\", \"2018-02-01\", \"2018-03-01\", \"2018-04-01\", \"2018-05-01\", \"2018-06-01\", \"2018-07-01\", \"2018-08-01\", \"2018-09-01\", \"2018-10-01\", \"2018-11-01\", \"2018-12-01\", \"2019-01-01\", \"2019-02-01\", \"2019-03-01\", \"2019-04-01\", \"2019-05-01\", \"2019-06-01\", \"2019-07-01\", \"2019-08-01\", \"2019-09-01\", \"2019-10-01\", \"2019-11-01\", \"2019-12-01\", \"2020-01-01\", \"2020-02-01\", \"2020-03-01\", \"2020-04-01\", \"2020-05-01\"], \"xaxis\": \"x\", \"y\": [3.0, 3.3, 3.5, 3.5, 3.3, 3.2, 3.1, 3.4, 3.4, 3.4, 3.4, 3.6, 3.8, 4.2, 4.4, 4.7, 5.5, 5.6, 6.2, 6.2, 6.0, 7.3, 5.9, 5.9, 5.9, 5.7, 5.7, 5.3, 5.0, 4.9, 4.6, 4.0, 4.0, 3.7, 3.8, 3.8, 3.4, 3.1, 3.0, 2.8, 2.7, 2.9, 2.7, 2.8, 3.0, 3.2, 3.1, 2.8, 2.7, 2.8, 2.6, 2.6, 2.6, 2.6, 2.8, 3.0, 2.7, 2.6, 2.4, 2.3, 2.6, 2.3, 2.3, 2.4, 2.3, 2.2, 2.3, 2.3, 2.6, 2.7, 3.2, 4.0, 4.4, 4.6, 5.1, 5.3, 5.4, 5.3, 5.3, 5.5, 5.6, 5.3, 4.9, 4.6, 4.5, 4.2, 4.2, 4.3, 3.8, 3.8, 3.6, 3.8, 3.6, 3.8, 3.7, 3.7, 3.6, 3.4, 3.7, 3.5, 3.8, 3.8, 3.9, 3.6, 3.5, 3.4, 3.7, 3.8, 3.7, 3.5, 3.2, 3.4, 3.6, 3.7, 3.6, 3.6, 3.9, 4.1, 4.6, 4.6, 5.2, 5.9, 6.1, 6.8, 6.8, 6.8, 6.8, 6.8, 6.3, 6.1, 5.5, 5.6, 5.4, 5.4, 5.0, 4.5, 4.5, 4.4, 4.5, 4.5, 4.8, 5.0, 5.2, 4.6, 4.6, 4.2, 4.7, 4.5, 4.5, 4.7, 4.9, 4.9, 4.9, 5.3, 5.5, 5.8, 5.8, 6.1, 6.1, 6.3, 6.5, 6.2, 6.2, 5.8, 5.8, 5.7, 5.3, 5.3, 5.0, 4.7, 4.8, 4.8, 4.8, 4.8, 4.8, 5.0, 4.9, 4.7, 4.9, 4.9, 5.0, 5.1, 4.8, 4.8, 4.9, 4.7, 4.7, 4.6, 4.5, 4.6, 4.8, 4.7, 4.7, 4.6, 4.6, 4.4, 4.2, 4.3, 4.2, 4.1, 4.2, 4.2, 4.0, 4.0, 3.9, 4.1, 3.8, 3.9, 3.7, 3.7, 3.5, 3.5, 3.4, 3.3, 3.3, 3.2, 3.1, 3.0, 3.0, 2.9, 3.0, 2.9, 2.9, 3.0, 2.8, 2.8, 2.8, 3.0, 3.1, 3.0, 3.1, 3.0, 3.0, 3.0, 2.9, 2.9, 3.0, 3.1, 3.0, 3.0, 3.0, 3.0, 2.9, 2.7, 2.6, 2.8, 2.7, 2.7, 2.6, 2.6, 2.6, 2.5, 2.6, 2.6, 2.6, 2.6, 2.6, 2.7, 2.7, 2.7, 2.9, 2.9, 2.7, 2.7, 3.0, 3.3, 3.5, 3.6, 3.8, 3.9, 4.1, 4.1, 4.3, 4.4, 4.8, 5.0, 4.9, 4.9, 4.9, 4.9, 4.9, 4.8, 4.8, 5.0, 4.9, 4.8, 5.0, 4.9, 4.7, 4.5, 4.7, 4.6, 4.7, 4.6, 4.6, 4.5, 4.5, 4.5, 4.2, 4.1, 4.1, 4.0, 4.0, 3.9, 3.8, 3.9, 3.8, 3.9, 3.8, 3.5, 3.8, 3.9, 4.1, 4.1, 4.0, 4.1, 4.0, 4.2, 4.3, 4.5, 4.7, 4.8, 5.4, 6.0, 6.8, 6.9, 7.4, 7.6, 7.8, 7.5, 7.4, 7.1, 7.3, 7.2, 7.2, 7.0, 6.7, 6.5, 6.4, 6.4, 6.2, 6.5, 6.6, 6.5, 6.5, 6.5, 6.7, 6.6, 6.3, 6.5, 6.3, 6.0, 5.9, 6.0, 5.8, 5.9, 5.6, 5.7, 5.7, 5.4, 5.4, 5.1, 5.1, 5.0, 5.0, 4.9, 5.1, 4.9, 4.9, 4.7, 4.8, 4.9, 4.8, 4.9, 4.8, 4.8, 4.6, 4.7, 4.7, 5.0, 4.8, 4.9, 4.9, 4.9, 5.3, 5.3, 5.3, 6.0, 6.4, 6.5, 6.7, 6.7, 6.5, 6.5, 6.4, 6.2, 6.4, 6.3, 6.3, 6.1, 6.4, 6.4, 6.2, 6.4, 6.5, 6.8, 7.1, 7.4, 7.5, 7.7, 7.9, 8.2, 8.2, 8.5, 8.7, 8.7, 9.0, 9.3, 9.6, 9.8, 9.4, 9.5, 9.3, 9.1, 9.1, 8.9, 8.4, 8.4, 8.2, 7.9, 7.6, 7.4, 7.2, 6.9, 6.9, 6.9, 6.6, 6.4, 6.6, 6.7, 6.5, 6.5, 6.4, 6.4, 6.5, 6.4, 6.4, 6.5, 6.4, 6.6, 6.4, 6.3, 6.3, 6.2, 6.2, 6.1, 5.9, 6.3, 6.3, 6.2, 6.3, 6.3, 6.2, 6.1, 6.2, 6.2, 6.1, 5.9, 5.9, 5.8, 5.8, 5.5, 5.5, 5.5, 5.4, 5.3, 5.2, 5.2, 5.1, 5.0, 5.0, 5.0, 4.9, 4.7, 4.9, 4.8, 4.8, 4.9, 4.7, 4.7, 4.7, 4.7, 4.7, 4.5, 4.4, 4.6, 4.5, 4.6, 4.6, 4.6, 4.6, 4.7, 4.7, 4.7, 4.7, 4.6, 4.6, 4.8, 4.7, 4.7, 4.9, 5.0, 5.2, 5.2, 5.5, 5.6, 5.6, 5.9, 6.1, 6.0, 6.2, 6.2, 6.1, 6.2, 6.2, 6.3, 6.3, 6.5, 6.6, 6.7, 6.7, 6.7, 6.9, 6.9, 6.9, 6.9, 6.8, 6.7, 6.7, 6.7, 6.5, 6.4, 6.3, 6.4, 6.3, 6.3, 6.2, 6.1, 6.1, 6.1, 5.9, 5.9, 5.9, 5.9, 5.8, 5.6, 5.3, 5.4, 5.4, 5.4, 5.2, 5.1, 5.0, 4.8, 4.9, 4.7, 4.7, 5.0, 4.9, 4.9, 4.9, 4.9, 4.9, 4.8, 4.9, 4.8, 4.9, 4.8, 4.8, 4.8, 4.9, 4.6, 4.7, 4.4, 4.5, 4.5, 4.7, 4.7, 4.6, 4.5, 4.5, 4.4, 4.2, 4.3, 4.1, 4.1, 4.2, 4.1, 4.0, 4.2, 4.1, 4.0, 4.0, 3.8, 3.7, 3.9, 3.9, 3.8, 3.9, 3.8, 3.8, 3.8, 3.6, 3.8, 3.5, 3.7, 3.6, 3.7, 3.7, 3.6, 3.6, 3.5, 3.5, 3.4, 3.5, 3.5, 3.4, 3.3, 3.5, 3.4, 3.5, 3.5, 3.4, 3.3, 3.4, 3.4, 3.6, 3.7, 3.7, 3.8, 3.8, 4.0, 4.0, 4.3, 4.4, 4.7, 4.9, 5.1, 5.1, 5.1, 5.1, 5.3, 5.2, 5.2, 5.2, 5.1, 5.1, 5.2, 5.3, 5.4, 5.2, 5.3, 5.3, 5.4, 5.5, 5.6, 5.5, 5.5, 5.5, 5.4, 5.3, 5.1, 5.1, 5.0, 5.2, 5.0, 5.0, 5.1, 4.9, 4.8, 4.8, 4.8, 4.8, 4.7, 4.7, 4.8, 4.6, 4.5, 4.5, 4.5, 4.4, 4.3, 4.5, 4.4, 4.4, 4.3, 4.2, 4.2, 4.1, 4.2, 4.1, 4.1, 4.2, 4.1, 3.9, 3.9, 4.0, 3.9, 4.1, 4.0, 3.9, 3.9, 3.9, 4.0, 4.2, 4.1, 4.1, 4.2, 4.2, 4.4, 4.4, 4.3, 4.6, 4.4, 4.8, 4.9, 5.1, 5.5, 5.5, 5.9, 6.2, 6.7, 7.2, 7.7, 8.1, 8.4, 8.7, 8.8, 8.8, 8.9, 9.1, 9.3, 9.2, 9.2, 9.1, 9.2, 9.2, 9.3, 9.0, 8.8, 8.8, 8.9, 8.8, 8.7, 9.2, 8.7, 8.5, 8.4, 8.4, 8.5, 8.5, 8.5, 8.4, 8.4, 8.4, 8.2, 8.0, 7.9, 7.7, 7.7, 7.6, 7.5, 7.5, 7.6, 7.6, 7.4, 7.2, 7.2, 7.1, 7.3, 7.4, 7.0, 6.9, 6.9, 6.8, 6.9, 6.7, 6.7, 6.7, 6.6, 6.4, 6.2, 6.1, 6.1, 6.1, 5.8, 5.8, 5.5, 5.6, 5.7, 5.4, 5.2, 5.4, 5.1, 5.2, 5.1, 5.0, 5.0, 5.1, 4.8, 4.8, 4.6, 4.6, 4.6, 4.7, 4.6, 4.5, 4.5, 4.6, 4.6, 4.4, 4.5, 4.4, 4.5, 4.5, 4.5, 4.3, 4.3, 4.3, 4.3, 4.1, 4.0, 4.0, 4.0, 3.9, 4.1, 3.9, 3.7, 3.7, 3.7, 3.7, 3.7, 3.7, 3.6, 3.5, 3.7, 3.5, 3.5, 3.4, 3.4, 3.4, 3.5, 3.7, 3.4, 3.5, 3.3, 3.3, 3.3, 3.3, 3.3, 3.2, 3.2, 3.2, 3.2, 3.3, 3.2, 4.0, 14.2, 12.6], \"yaxis\": \"y\"}, {\"hovertemplate\": \"category=White men<br>date=%{x}<br>rate=%{y}<extra></extra>\", \"legendgroup\": \"White men\", \"line\": {\"color\": \"#EF553B\", \"dash\": \"solid\"}, \"mode\": \"lines\", \"name\": \"White men\", \"showlegend\": true, \"type\": \"scattergl\", \"x\": [\"1954-01-01\", \"1954-02-01\", \"1954-03-01\", \"1954-04-01\", \"1954-05-01\", \"1954-06-01\", \"1954-07-01\", \"1954-08-01\", \"1954-09-01\", \"1954-10-01\", \"1954-11-01\", \"1954-12-01\", \"1955-01-01\", \"1955-02-01\", \"1955-03-01\", \"1955-04-01\", \"1955-05-01\", \"1955-06-01\", \"1955-07-01\", \"1955-08-01\", \"1955-09-01\", \"1955-10-01\", \"1955-11-01\", \"1955-12-01\", \"1956-01-01\", \"1956-02-01\", \"1956-03-01\", \"1956-04-01\", \"1956-05-01\", \"1956-06-01\", \"1956-07-01\", \"1956-08-01\", \"1956-09-01\", \"1956-10-01\", \"1956-11-01\", \"1956-12-01\", \"1957-01-01\", \"1957-02-01\", \"1957-03-01\", \"1957-04-01\", \"1957-05-01\", \"1957-06-01\", \"1957-07-01\", \"1957-08-01\", \"1957-09-01\", \"1957-10-01\", \"1957-11-01\", \"1957-12-01\", \"1958-01-01\", \"1958-02-01\", \"1958-03-01\", \"1958-04-01\", \"1958-05-01\", \"1958-06-01\", \"1958-07-01\", \"1958-08-01\", \"1958-09-01\", \"1958-10-01\", \"1958-11-01\", \"1958-12-01\", \"1959-01-01\", \"1959-02-01\", \"1959-03-01\", \"1959-04-01\", \"1959-05-01\", \"1959-06-01\", \"1959-07-01\", \"1959-08-01\", \"1959-09-01\", \"1959-10-01\", \"1959-11-01\", \"1959-12-01\", \"1960-01-01\", \"1960-02-01\", \"1960-03-01\", \"1960-04-01\", \"1960-05-01\", \"1960-06-01\", \"1960-07-01\", \"1960-08-01\", \"1960-09-01\", \"1960-10-01\", \"1960-11-01\", \"1960-12-01\", \"1961-01-01\", \"1961-02-01\", \"1961-03-01\", \"1961-04-01\", \"1961-05-01\", \"1961-06-01\", \"1961-07-01\", \"1961-08-01\", \"1961-09-01\", \"1961-10-01\", \"1961-11-01\", \"1961-12-01\", \"1962-01-01\", \"1962-02-01\", \"1962-03-01\", \"1962-04-01\", \"1962-05-01\", \"1962-06-01\", \"1962-07-01\", \"1962-08-01\", \"1962-09-01\", \"1962-10-01\", \"1962-11-01\", \"1962-12-01\", \"1963-01-01\", \"1963-02-01\", \"1963-03-01\", \"1963-04-01\", \"1963-05-01\", \"1963-06-01\", \"1963-07-01\", \"1963-08-01\", \"1963-09-01\", \"1963-10-01\", \"1963-11-01\", \"1963-12-01\", \"1964-01-01\", \"1964-02-01\", \"1964-03-01\", \"1964-04-01\", \"1964-05-01\", \"1964-06-01\", \"1964-07-01\", \"1964-08-01\", \"1964-09-01\", \"1964-10-01\", \"1964-11-01\", \"1964-12-01\", \"1965-01-01\", \"1965-02-01\", \"1965-03-01\", \"1965-04-01\", \"1965-05-01\", \"1965-06-01\", \"1965-07-01\", \"1965-08-01\", \"1965-09-01\", \"1965-10-01\", \"1965-11-01\", \"1965-12-01\", \"1966-01-01\", \"1966-02-01\", \"1966-03-01\", \"1966-04-01\", \"1966-05-01\", \"1966-06-01\", \"1966-07-01\", \"1966-08-01\", \"1966-09-01\", \"1966-10-01\", \"1966-11-01\", \"1966-12-01\", \"1967-01-01\", \"1967-02-01\", \"1967-03-01\", \"1967-04-01\", \"1967-05-01\", \"1967-06-01\", \"1967-07-01\", \"1967-08-01\", \"1967-09-01\", \"1967-10-01\", \"1967-11-01\", \"1967-12-01\", \"1968-01-01\", \"1968-02-01\", \"1968-03-01\", \"1968-04-01\", \"1968-05-01\", \"1968-06-01\", \"1968-07-01\", \"1968-08-01\", \"1968-09-01\", \"1968-10-01\", \"1968-11-01\", \"1968-12-01\", \"1969-01-01\", \"1969-02-01\", \"1969-03-01\", \"1969-04-01\", \"1969-05-01\", \"1969-06-01\", \"1969-07-01\", \"1969-08-01\", \"1969-09-01\", \"1969-10-01\", \"1969-11-01\", \"1969-12-01\", \"1970-01-01\", \"1970-02-01\", \"1970-03-01\", \"1970-04-01\", \"1970-05-01\", \"1970-06-01\", \"1970-07-01\", \"1970-08-01\", \"1970-09-01\", \"1970-10-01\", \"1970-11-01\", \"1970-12-01\", \"1971-01-01\", \"1971-02-01\", \"1971-03-01\", \"1971-04-01\", \"1971-05-01\", \"1971-06-01\", \"1971-07-01\", \"1971-08-01\", \"1971-09-01\", \"1971-10-01\", \"1971-11-01\", \"1971-12-01\", \"1972-01-01\", \"1972-02-01\", \"1972-03-01\", \"1972-04-01\", \"1972-05-01\", \"1972-06-01\", \"1972-07-01\", \"1972-08-01\", \"1972-09-01\", \"1972-10-01\", \"1972-11-01\", \"1972-12-01\", \"1973-01-01\", \"1973-02-01\", \"1973-03-01\", \"1973-04-01\", \"1973-05-01\", \"1973-06-01\", \"1973-07-01\", \"1973-08-01\", \"1973-09-01\", \"1973-10-01\", \"1973-11-01\", \"1973-12-01\", \"1974-01-01\", \"1974-02-01\", \"1974-03-01\", \"1974-04-01\", \"1974-05-01\", \"1974-06-01\", \"1974-07-01\", \"1974-08-01\", \"1974-09-01\", \"1974-10-01\", \"1974-11-01\", \"1974-12-01\", \"1975-01-01\", \"1975-02-01\", \"1975-03-01\", \"1975-04-01\", \"1975-05-01\", \"1975-06-01\", \"1975-07-01\", \"1975-08-01\", \"1975-09-01\", \"1975-10-01\", \"1975-11-01\", \"1975-12-01\", \"1976-01-01\", \"1976-02-01\", \"1976-03-01\", \"1976-04-01\", \"1976-05-01\", \"1976-06-01\", \"1976-07-01\", \"1976-08-01\", \"1976-09-01\", \"1976-10-01\", \"1976-11-01\", \"1976-12-01\", \"1977-01-01\", \"1977-02-01\", \"1977-03-01\", \"1977-04-01\", \"1977-05-01\", \"1977-06-01\", \"1977-07-01\", \"1977-08-01\", \"1977-09-01\", \"1977-10-01\", \"1977-11-01\", \"1977-12-01\", \"1978-01-01\", \"1978-02-01\", \"1978-03-01\", \"1978-04-01\", \"1978-05-01\", \"1978-06-01\", \"1978-07-01\", \"1978-08-01\", \"1978-09-01\", \"1978-10-01\", \"1978-11-01\", \"1978-12-01\", \"1979-01-01\", \"1979-02-01\", \"1979-03-01\", \"1979-04-01\", \"1979-05-01\", \"1979-06-01\", \"1979-07-01\", \"1979-08-01\", \"1979-09-01\", \"1979-10-01\", \"1979-11-01\", \"1979-12-01\", \"1980-01-01\", \"1980-02-01\", \"1980-03-01\", \"1980-04-01\", \"1980-05-01\", \"1980-06-01\", \"1980-07-01\", \"1980-08-01\", \"1980-09-01\", \"1980-10-01\", \"1980-11-01\", \"1980-12-01\", \"1981-01-01\", \"1981-02-01\", \"1981-03-01\", \"1981-04-01\", \"1981-05-01\", \"1981-06-01\", \"1981-07-01\", \"1981-08-01\", \"1981-09-01\", \"1981-10-01\", \"1981-11-01\", \"1981-12-01\", \"1982-01-01\", \"1982-02-01\", \"1982-03-01\", \"1982-04-01\", \"1982-05-01\", \"1982-06-01\", \"1982-07-01\", \"1982-08-01\", \"1982-09-01\", \"1982-10-01\", \"1982-11-01\", \"1982-12-01\", \"1983-01-01\", \"1983-02-01\", \"1983-03-01\", \"1983-04-01\", \"1983-05-01\", \"1983-06-01\", \"1983-07-01\", \"1983-08-01\", \"1983-09-01\", \"1983-10-01\", \"1983-11-01\", \"1983-12-01\", \"1984-01-01\", \"1984-02-01\", \"1984-03-01\", \"1984-04-01\", \"1984-05-01\", \"1984-06-01\", \"1984-07-01\", \"1984-08-01\", \"1984-09-01\", \"1984-10-01\", \"1984-11-01\", \"1984-12-01\", \"1985-01-01\", \"1985-02-01\", \"1985-03-01\", \"1985-04-01\", \"1985-05-01\", \"1985-06-01\", \"1985-07-01\", \"1985-08-01\", \"1985-09-01\", \"1985-10-01\", \"1985-11-01\", \"1985-12-01\", \"1986-01-01\", \"1986-02-01\", \"1986-03-01\", \"1986-04-01\", \"1986-05-01\", \"1986-06-01\", \"1986-07-01\", \"1986-08-01\", \"1986-09-01\", \"1986-10-01\", \"1986-11-01\", \"1986-12-01\", \"1987-01-01\", \"1987-02-01\", \"1987-03-01\", \"1987-04-01\", \"1987-05-01\", \"1987-06-01\", \"1987-07-01\", \"1987-08-01\", \"1987-09-01\", \"1987-10-01\", \"1987-11-01\", \"1987-12-01\", \"1988-01-01\", \"1988-02-01\", \"1988-03-01\", \"1988-04-01\", \"1988-05-01\", \"1988-06-01\", \"1988-07-01\", \"1988-08-01\", \"1988-09-01\", \"1988-10-01\", \"1988-11-01\", \"1988-12-01\", \"1989-01-01\", \"1989-02-01\", \"1989-03-01\", \"1989-04-01\", \"1989-05-01\", \"1989-06-01\", \"1989-07-01\", \"1989-08-01\", \"1989-09-01\", \"1989-10-01\", \"1989-11-01\", \"1989-12-01\", \"1990-01-01\", \"1990-02-01\", \"1990-03-01\", \"1990-04-01\", \"1990-05-01\", \"1990-06-01\", \"1990-07-01\", \"1990-08-01\", \"1990-09-01\", \"1990-10-01\", \"1990-11-01\", \"1990-12-01\", \"1991-01-01\", \"1991-02-01\", \"1991-03-01\", \"1991-04-01\", \"1991-05-01\", \"1991-06-01\", \"1991-07-01\", \"1991-08-01\", \"1991-09-01\", \"1991-10-01\", \"1991-11-01\", \"1991-12-01\", \"1992-01-01\", \"1992-02-01\", \"1992-03-01\", \"1992-04-01\", \"1992-05-01\", \"1992-06-01\", \"1992-07-01\", \"1992-08-01\", \"1992-09-01\", \"1992-10-01\", \"1992-11-01\", \"1992-12-01\", \"1993-01-01\", \"1993-02-01\", \"1993-03-01\", \"1993-04-01\", \"1993-05-01\", \"1993-06-01\", \"1993-07-01\", \"1993-08-01\", \"1993-09-01\", \"1993-10-01\", \"1993-11-01\", \"1993-12-01\", \"1994-01-01\", \"1994-02-01\", \"1994-03-01\", \"1994-04-01\", \"1994-05-01\", \"1994-06-01\", \"1994-07-01\", \"1994-08-01\", \"1994-09-01\", \"1994-10-01\", \"1994-11-01\", \"1994-12-01\", \"1995-01-01\", \"1995-02-01\", \"1995-03-01\", \"1995-04-01\", \"1995-05-01\", \"1995-06-01\", \"1995-07-01\", \"1995-08-01\", \"1995-09-01\", \"1995-10-01\", \"1995-11-01\", \"1995-12-01\", \"1996-01-01\", \"1996-02-01\", \"1996-03-01\", \"1996-04-01\", \"1996-05-01\", \"1996-06-01\", \"1996-07-01\", \"1996-08-01\", \"1996-09-01\", \"1996-10-01\", \"1996-11-01\", \"1996-12-01\", \"1997-01-01\", \"1997-02-01\", \"1997-03-01\", \"1997-04-01\", \"1997-05-01\", \"1997-06-01\", \"1997-07-01\", \"1997-08-01\", \"1997-09-01\", \"1997-10-01\", \"1997-11-01\", \"1997-12-01\", \"1998-01-01\", \"1998-02-01\", \"1998-03-01\", \"1998-04-01\", \"1998-05-01\", \"1998-06-01\", \"1998-07-01\", \"1998-08-01\", \"1998-09-01\", \"1998-10-01\", \"1998-11-01\", \"1998-12-01\", \"1999-01-01\", \"1999-02-01\", \"1999-03-01\", \"1999-04-01\", \"1999-05-01\", \"1999-06-01\", \"1999-07-01\", \"1999-08-01\", \"1999-09-01\", \"1999-10-01\", \"1999-11-01\", \"1999-12-01\", \"2000-01-01\", \"2000-02-01\", \"2000-03-01\", \"2000-04-01\", \"2000-05-01\", \"2000-06-01\", \"2000-07-01\", \"2000-08-01\", \"2000-09-01\", \"2000-10-01\", \"2000-11-01\", \"2000-12-01\", \"2001-01-01\", \"2001-02-01\", \"2001-03-01\", \"2001-04-01\", \"2001-05-01\", \"2001-06-01\", \"2001-07-01\", \"2001-08-01\", \"2001-09-01\", \"2001-10-01\", \"2001-11-01\", \"2001-12-01\", \"2002-01-01\", \"2002-02-01\", \"2002-03-01\", \"2002-04-01\", \"2002-05-01\", \"2002-06-01\", \"2002-07-01\", \"2002-08-01\", \"2002-09-01\", \"2002-10-01\", \"2002-11-01\", \"2002-12-01\", \"2003-01-01\", \"2003-02-01\", \"2003-03-01\", \"2003-04-01\", \"2003-05-01\", \"2003-06-01\", \"2003-07-01\", \"2003-08-01\", \"2003-09-01\", \"2003-10-01\", \"2003-11-01\", \"2003-12-01\", \"2004-01-01\", \"2004-02-01\", \"2004-03-01\", \"2004-04-01\", \"2004-05-01\", \"2004-06-01\", \"2004-07-01\", \"2004-08-01\", \"2004-09-01\", \"2004-10-01\", \"2004-11-01\", \"2004-12-01\", \"2005-01-01\", \"2005-02-01\", \"2005-03-01\", \"2005-04-01\", \"2005-05-01\", \"2005-06-01\", \"2005-07-01\", \"2005-08-01\", \"2005-09-01\", \"2005-10-01\", \"2005-11-01\", \"2005-12-01\", \"2006-01-01\", \"2006-02-01\", \"2006-03-01\", \"2006-04-01\", \"2006-05-01\", \"2006-06-01\", \"2006-07-01\", \"2006-08-01\", \"2006-09-01\", \"2006-10-01\", \"2006-11-01\", \"2006-12-01\", \"2007-01-01\", \"2007-02-01\", \"2007-03-01\", \"2007-04-01\", \"2007-05-01\", \"2007-06-01\", \"2007-07-01\", \"2007-08-01\", \"2007-09-01\", \"2007-10-01\", \"2007-11-01\", \"2007-12-01\", \"2008-01-01\", \"2008-02-01\", \"2008-03-01\", \"2008-04-01\", \"2008-05-01\", \"2008-06-01\", \"2008-07-01\", \"2008-08-01\", \"2008-09-01\", \"2008-10-01\", \"2008-11-01\", \"2008-12-01\", \"2009-01-01\", \"2009-02-01\", \"2009-03-01\", \"2009-04-01\", \"2009-05-01\", \"2009-06-01\", \"2009-07-01\", \"2009-08-01\", \"2009-09-01\", \"2009-10-01\", \"2009-11-01\", \"2009-12-01\", \"2010-01-01\", \"2010-02-01\", \"2010-03-01\", \"2010-04-01\", \"2010-05-01\", \"2010-06-01\", \"2010-07-01\", \"2010-08-01\", \"2010-09-01\", \"2010-10-01\", \"2010-11-01\", \"2010-12-01\", \"2011-01-01\", \"2011-02-01\", \"2011-03-01\", \"2011-04-01\", \"2011-05-01\", \"2011-06-01\", \"2011-07-01\", \"2011-08-01\", \"2011-09-01\", \"2011-10-01\", \"2011-11-01\", \"2011-12-01\", \"2012-01-01\", \"2012-02-01\", \"2012-03-01\", \"2012-04-01\", \"2012-05-01\", \"2012-06-01\", \"2012-07-01\", \"2012-08-01\", \"2012-09-01\", \"2012-10-01\", \"2012-11-01\", \"2012-12-01\", \"2013-01-01\", \"2013-02-01\", \"2013-03-01\", \"2013-04-01\", \"2013-05-01\", \"2013-06-01\", \"2013-07-01\", \"2013-08-01\", \"2013-09-01\", \"2013-10-01\", \"2013-11-01\", \"2013-12-01\", \"2014-01-01\", \"2014-02-01\", \"2014-03-01\", \"2014-04-01\", \"2014-05-01\", \"2014-06-01\", \"2014-07-01\", \"2014-08-01\", \"2014-09-01\", \"2014-10-01\", \"2014-11-01\", \"2014-12-01\", \"2015-01-01\", \"2015-02-01\", \"2015-03-01\", \"2015-04-01\", \"2015-05-01\", \"2015-06-01\", \"2015-07-01\", \"2015-08-01\", \"2015-09-01\", \"2015-10-01\", \"2015-11-01\", \"2015-12-01\", \"2016-01-01\", \"2016-02-01\", \"2016-03-01\", \"2016-04-01\", \"2016-05-01\", \"2016-06-01\", \"2016-07-01\", \"2016-08-01\", \"2016-09-01\", \"2016-10-01\", \"2016-11-01\", \"2016-12-01\", \"2017-01-01\", \"2017-02-01\", \"2017-03-01\", \"2017-04-01\", \"2017-05-01\", \"2017-06-01\", \"2017-07-01\", \"2017-08-01\", \"2017-09-01\", \"2017-10-01\", \"2017-11-01\", \"2017-12-01\", \"2018-01-01\", \"2018-02-01\", \"2018-03-01\", \"2018-04-01\", \"2018-05-01\", \"2018-06-01\", \"2018-07-01\", \"2018-08-01\", \"2018-09-01\", \"2018-10-01\", \"2018-11-01\", \"2018-12-01\", \"2019-01-01\", \"2019-02-01\", \"2019-03-01\", \"2019-04-01\", \"2019-05-01\", \"2019-06-01\", \"2019-07-01\", \"2019-08-01\", \"2019-09-01\", \"2019-10-01\", \"2019-11-01\", \"2019-12-01\", \"2020-01-01\", \"2020-02-01\", \"2020-03-01\", \"2020-04-01\", \"2020-05-01\"], \"xaxis\": \"x\", \"y\": [3.6, 3.8, 4.1, 4.7, 4.6, 4.5, 4.6, 5.1, 5.4, 4.7, 4.1, 3.8, 3.8, 3.5, 3.5, 3.9, 3.2, 3.1, 3.0, 2.9, 2.8, 2.9, 3.0, 3.0, 2.9, 3.0, 3.0, 2.9, 3.1, 3.0, 3.0, 2.8, 2.9, 2.8, 3.0, 3.1, 3.0, 2.9, 2.6, 3.0, 2.9, 3.1, 3.0, 3.1, 3.4, 3.6, 3.9, 4.2, 4.6, 5.1, 5.5, 6.0, 6.1, 6.2, 6.3, 6.3, 5.8, 5.5, 5.0, 4.9, 4.6, 4.5, 4.1, 3.7, 3.6, 3.6, 3.6, 3.6, 4.3, 4.1, 4.7, 3.8, 3.9, 3.5, 4.0, 3.9, 3.9, 4.0, 4.2, 4.4, 4.5, 4.7, 4.8, 5.1, 5.2, 5.3, 5.3, 5.4, 5.7, 5.2, 5.4, 5.1, 4.9, 4.7, 4.5, 4.4, 4.1, 3.9, 4.0, 4.0, 4.0, 4.0, 3.9, 4.1, 4.0, 3.9, 4.2, 4.0, 4.2, 4.3, 4.1, 4.1, 3.9, 3.8, 3.8, 3.8, 3.5, 3.7, 3.9, 3.8, 3.7, 3.6, 3.6, 3.5, 3.3, 3.6, 3.3, 3.3, 3.4, 3.6, 3.1, 3.1, 3.1, 3.2, 3.1, 3.2, 3.1, 2.9, 2.8, 2.8, 2.7, 2.6, 2.5, 2.5, 2.5, 2.4, 2.3, 2.2, 2.2, 2.2, 2.2, 2.2, 2.1, 2.0, 2.1, 2.1, 2.1, 2.0, 2.1, 2.2, 2.1, 2.2, 2.1, 2.1, 2.1, 2.1, 2.1, 2.2, 2.1, 2.2, 2.1, 1.9, 1.9, 2.1, 1.9, 2.0, 1.9, 1.9, 1.8, 1.7, 1.8, 1.8, 1.8, 1.8, 1.8, 1.8, 2.0, 1.9, 2.1, 2.2, 2.0, 2.1, 2.4, 2.6, 2.7, 2.9, 3.0, 3.2, 3.4, 3.5, 3.6, 3.9, 4.0, 4.2, 4.1, 4.0, 4.0, 4.0, 4.1, 4.0, 4.0, 4.2, 4.1, 4.0, 4.1, 4.0, 3.9, 3.7, 3.8, 3.8, 3.7, 3.8, 3.6, 3.5, 3.6, 3.8, 3.4, 3.2, 3.2, 3.1, 3.1, 3.0, 3.0, 3.0, 2.8, 2.9, 2.9, 2.7, 2.8, 2.9, 3.1, 3.1, 3.0, 3.2, 3.1, 3.2, 3.3, 3.5, 3.6, 3.9, 4.2, 4.8, 5.5, 5.7, 6.1, 6.4, 6.8, 6.5, 6.5, 6.2, 6.5, 6.3, 6.2, 5.8, 5.5, 5.2, 5.2, 5.2, 5.2, 5.5, 5.5, 5.4, 5.5, 5.4, 5.5, 5.4, 5.2, 5.3, 5.0, 4.9, 4.8, 4.6, 4.5, 4.4, 4.2, 4.3, 4.2, 4.1, 4.0, 4.0, 4.0, 3.7, 3.7, 3.5, 3.6, 3.5, 3.6, 3.6, 3.4, 3.7, 3.6, 3.5, 3.5, 3.5, 3.3, 3.4, 3.6, 3.7, 3.7, 3.8, 3.8, 3.8, 4.2, 4.2, 4.5, 5.2, 5.7, 5.8, 6.0, 5.9, 5.8, 5.6, 5.5, 5.2, 5.5, 5.5, 5.4, 5.2, 5.5, 5.4, 5.1, 5.3, 5.4, 5.8, 6.1, 6.6, 6.6, 6.8, 7.1, 7.3, 7.3, 7.8, 8.0, 8.1, 8.5, 8.7, 9.0, 9.0, 8.4, 8.8, 8.6, 8.6, 8.5, 8.0, 7.7, 7.7, 7.6, 7.3, 6.9, 6.6, 6.3, 6.1, 5.9, 5.9, 5.6, 5.4, 5.4, 5.5, 5.6, 5.5, 5.4, 5.5, 5.5, 5.4, 5.3, 5.5, 5.2, 5.8, 5.5, 5.4, 5.3, 5.2, 5.1, 5.1, 4.9, 5.4, 5.4, 5.3, 5.5, 5.4, 5.5, 5.1, 5.4, 5.4, 5.3, 5.3, 5.2, 5.1, 5.1, 4.9, 4.8, 4.9, 4.7, 4.6, 4.4, 4.6, 4.4, 4.3, 4.4, 4.2, 4.2, 3.9, 4.2, 4.0, 4.0, 4.3, 4.1, 4.1, 4.2, 4.1, 4.0, 3.8, 3.6, 3.9, 3.7, 3.8, 3.8, 3.8, 4.2, 3.9, 4.0, 4.0, 4.0, 3.9, 4.0, 4.2, 4.1, 4.1, 4.2, 4.4, 4.4, 4.7, 4.9, 5.1, 5.2, 5.5, 5.8, 5.7, 5.7, 5.9, 6.0, 5.9, 6.1, 6.0, 6.1, 6.1, 6.3, 6.3, 6.2, 6.3, 6.5, 6.6, 6.4, 6.4, 6.4, 6.4, 6.3, 6.1, 5.9, 5.9, 5.9, 5.8, 5.8, 5.8, 5.8, 5.7, 5.6, 5.7, 5.1, 5.4, 5.2, 5.2, 5.1, 5.0, 4.7, 4.7, 4.8, 4.7, 4.4, 4.5, 4.3, 4.2, 4.3, 4.1, 4.2, 4.4, 4.5, 4.3, 4.2, 4.3, 4.2, 4.1, 4.4, 4.2, 4.2, 4.2, 4.2, 4.2, 4.3, 4.1, 4.0, 3.8, 3.9, 3.8, 4.0, 3.8, 4.0, 3.8, 3.7, 3.7, 3.3, 3.5, 3.5, 3.6, 3.5, 3.5, 3.4, 3.5, 3.3, 3.2, 3.3, 3.0, 3.1, 3.2, 3.3, 3.3, 3.3, 3.2, 3.1, 3.2, 3.1, 3.3, 2.8, 3.0, 3.1, 3.2, 3.1, 3.3, 2.9, 2.9, 2.8, 2.8, 2.8, 2.9, 2.8, 2.7, 2.8, 2.8, 2.8, 2.8, 2.9, 2.9, 2.9, 3.0, 3.2, 3.3, 3.3, 3.4, 3.3, 3.5, 3.5, 3.8, 3.8, 4.4, 4.6, 4.6, 4.7, 4.6, 4.6, 4.8, 4.7, 4.7, 4.7, 4.7, 4.8, 4.8, 4.9, 4.9, 5.0, 4.8, 4.7, 5.1, 5.1, 5.3, 5.3, 5.2, 5.0, 4.9, 5.0, 4.7, 4.6, 4.5, 4.7, 4.6, 4.7, 4.6, 4.2, 4.3, 4.3, 4.2, 4.2, 4.1, 4.0, 4.1, 4.0, 3.8, 3.8, 3.7, 3.7, 3.7, 4.0, 3.8, 3.7, 3.7, 3.6, 3.7, 3.5, 3.6, 3.6, 3.6, 3.6, 3.6, 3.2, 3.4, 3.5, 3.5, 3.8, 3.8, 3.4, 3.6, 3.5, 3.6, 3.8, 3.8, 3.8, 3.8, 3.7, 3.9, 4.0, 4.0, 4.2, 4.2, 4.4, 4.5, 4.8, 5.0, 5.3, 5.7, 6.0, 6.6, 7.1, 7.7, 8.3, 8.6, 9.0, 9.1, 9.0, 9.2, 9.4, 9.6, 9.6, 9.3, 9.3, 9.3, 9.1, 9.4, 8.7, 8.7, 8.7, 8.8, 8.7, 8.6, 9.1, 8.5, 8.0, 8.0, 7.9, 8.0, 7.8, 7.9, 7.8, 7.6, 7.6, 7.7, 7.2, 7.2, 7.0, 6.9, 6.8, 6.8, 6.9, 7.0, 6.8, 6.7, 6.6, 6.5, 6.4, 6.3, 6.7, 6.3, 6.1, 6.4, 6.4, 6.2, 6.3, 6.2, 6.1, 6.1, 5.9, 5.6, 5.4, 5.5, 5.2, 5.0, 5.0, 4.9, 4.7, 4.9, 4.4, 4.2, 4.6, 4.3, 4.5, 4.5, 4.4, 4.4, 4.3, 4.2, 4.2, 4.1, 4.1, 4.1, 4.1, 4.1, 3.8, 3.9, 4.0, 4.0, 3.9, 4.0, 4.1, 4.1, 4.1, 4.1, 4.0, 4.0, 3.9, 3.7, 3.6, 3.4, 3.5, 3.5, 3.4, 3.5, 3.4, 3.3, 3.3, 3.3, 3.3, 3.4, 3.3, 3.4, 3.2, 3.3, 2.9, 3.0, 3.0, 3.0, 3.0, 3.1, 3.3, 3.0, 3.2, 2.9, 2.9, 2.9, 3.0, 3.0, 2.9, 2.9, 3.0, 2.8, 2.9, 2.9, 3.7, 12.4, 10.7], \"yaxis\": \"y\"}, {\"hovertemplate\": \"category=White women<br>date=%{x}<br>rate=%{y}<extra></extra>\", \"legendgroup\": \"White women\", \"line\": {\"color\": \"#00cc96\", \"dash\": \"solid\"}, \"mode\": \"lines\", \"name\": \"White women\", \"showlegend\": true, \"type\": \"scattergl\", \"x\": [\"1954-01-01\", \"1954-02-01\", \"1954-03-01\", \"1954-04-01\", \"1954-05-01\", \"1954-06-01\", \"1954-07-01\", \"1954-08-01\", \"1954-09-01\", \"1954-10-01\", \"1954-11-01\", \"1954-12-01\", \"1955-01-01\", \"1955-02-01\", \"1955-03-01\", \"1955-04-01\", \"1955-05-01\", \"1955-06-01\", \"1955-07-01\", \"1955-08-01\", \"1955-09-01\", \"1955-10-01\", \"1955-11-01\", \"1955-12-01\", \"1956-01-01\", \"1956-02-01\", \"1956-03-01\", \"1956-04-01\", \"1956-05-01\", \"1956-06-01\", \"1956-07-01\", \"1956-08-01\", \"1956-09-01\", \"1956-10-01\", \"1956-11-01\", \"1956-12-01\", \"1957-01-01\", \"1957-02-01\", \"1957-03-01\", \"1957-04-01\", \"1957-05-01\", \"1957-06-01\", \"1957-07-01\", \"1957-08-01\", \"1957-09-01\", \"1957-10-01\", \"1957-11-01\", \"1957-12-01\", \"1958-01-01\", \"1958-02-01\", \"1958-03-01\", \"1958-04-01\", \"1958-05-01\", \"1958-06-01\", \"1958-07-01\", \"1958-08-01\", \"1958-09-01\", \"1958-10-01\", \"1958-11-01\", \"1958-12-01\", \"1959-01-01\", \"1959-02-01\", \"1959-03-01\", \"1959-04-01\", \"1959-05-01\", \"1959-06-01\", \"1959-07-01\", \"1959-08-01\", \"1959-09-01\", \"1959-10-01\", \"1959-11-01\", \"1959-12-01\", \"1960-01-01\", \"1960-02-01\", \"1960-03-01\", \"1960-04-01\", \"1960-05-01\", \"1960-06-01\", \"1960-07-01\", \"1960-08-01\", \"1960-09-01\", \"1960-10-01\", \"1960-11-01\", \"1960-12-01\", \"1961-01-01\", \"1961-02-01\", \"1961-03-01\", \"1961-04-01\", \"1961-05-01\", \"1961-06-01\", \"1961-07-01\", \"1961-08-01\", \"1961-09-01\", \"1961-10-01\", \"1961-11-01\", \"1961-12-01\", \"1962-01-01\", \"1962-02-01\", \"1962-03-01\", \"1962-04-01\", \"1962-05-01\", \"1962-06-01\", \"1962-07-01\", \"1962-08-01\", \"1962-09-01\", \"1962-10-01\", \"1962-11-01\", \"1962-12-01\", \"1963-01-01\", \"1963-02-01\", \"1963-03-01\", \"1963-04-01\", \"1963-05-01\", \"1963-06-01\", \"1963-07-01\", \"1963-08-01\", \"1963-09-01\", \"1963-10-01\", \"1963-11-01\", \"1963-12-01\", \"1964-01-01\", \"1964-02-01\", \"1964-03-01\", \"1964-04-01\", \"1964-05-01\", \"1964-06-01\", \"1964-07-01\", \"1964-08-01\", \"1964-09-01\", \"1964-10-01\", \"1964-11-01\", \"1964-12-01\", \"1965-01-01\", \"1965-02-01\", \"1965-03-01\", \"1965-04-01\", \"1965-05-01\", \"1965-06-01\", \"1965-07-01\", \"1965-08-01\", \"1965-09-01\", \"1965-10-01\", \"1965-11-01\", \"1965-12-01\", \"1966-01-01\", \"1966-02-01\", \"1966-03-01\", \"1966-04-01\", \"1966-05-01\", \"1966-06-01\", \"1966-07-01\", \"1966-08-01\", \"1966-09-01\", \"1966-10-01\", \"1966-11-01\", \"1966-12-01\", \"1967-01-01\", \"1967-02-01\", \"1967-03-01\", \"1967-04-01\", \"1967-05-01\", \"1967-06-01\", \"1967-07-01\", \"1967-08-01\", \"1967-09-01\", \"1967-10-01\", \"1967-11-01\", \"1967-12-01\", \"1968-01-01\", \"1968-02-01\", \"1968-03-01\", \"1968-04-01\", \"1968-05-01\", \"1968-06-01\", \"1968-07-01\", \"1968-08-01\", \"1968-09-01\", \"1968-10-01\", \"1968-11-01\", \"1968-12-01\", \"1969-01-01\", \"1969-02-01\", \"1969-03-01\", \"1969-04-01\", \"1969-05-01\", \"1969-06-01\", \"1969-07-01\", \"1969-08-01\", \"1969-09-01\", \"1969-10-01\", \"1969-11-01\", \"1969-12-01\", \"1970-01-01\", \"1970-02-01\", \"1970-03-01\", \"1970-04-01\", \"1970-05-01\", \"1970-06-01\", \"1970-07-01\", \"1970-08-01\", \"1970-09-01\", \"1970-10-01\", \"1970-11-01\", \"1970-12-01\", \"1971-01-01\", \"1971-02-01\", \"1971-03-01\", \"1971-04-01\", \"1971-05-01\", \"1971-06-01\", \"1971-07-01\", \"1971-08-01\", \"1971-09-01\", \"1971-10-01\", \"1971-11-01\", \"1971-12-01\", \"1972-01-01\", \"1972-02-01\", \"1972-03-01\", \"1972-04-01\", \"1972-05-01\", \"1972-06-01\", \"1972-07-01\", \"1972-08-01\", \"1972-09-01\", \"1972-10-01\", \"1972-11-01\", \"1972-12-01\", \"1973-01-01\", \"1973-02-01\", \"1973-03-01\", \"1973-04-01\", \"1973-05-01\", \"1973-06-01\", \"1973-07-01\", \"1973-08-01\", \"1973-09-01\", \"1973-10-01\", \"1973-11-01\", \"1973-12-01\", \"1974-01-01\", \"1974-02-01\", \"1974-03-01\", \"1974-04-01\", \"1974-05-01\", \"1974-06-01\", \"1974-07-01\", \"1974-08-01\", \"1974-09-01\", \"1974-10-01\", \"1974-11-01\", \"1974-12-01\", \"1975-01-01\", \"1975-02-01\", \"1975-03-01\", \"1975-04-01\", \"1975-05-01\", \"1975-06-01\", \"1975-07-01\", \"1975-08-01\", \"1975-09-01\", \"1975-10-01\", \"1975-11-01\", \"1975-12-01\", \"1976-01-01\", \"1976-02-01\", \"1976-03-01\", \"1976-04-01\", \"1976-05-01\", \"1976-06-01\", \"1976-07-01\", \"1976-08-01\", \"1976-09-01\", \"1976-10-01\", \"1976-11-01\", \"1976-12-01\", \"1977-01-01\", \"1977-02-01\", \"1977-03-01\", \"1977-04-01\", \"1977-05-01\", \"1977-06-01\", \"1977-07-01\", \"1977-08-01\", \"1977-09-01\", \"1977-10-01\", \"1977-11-01\", \"1977-12-01\", \"1978-01-01\", \"1978-02-01\", \"1978-03-01\", \"1978-04-01\", \"1978-05-01\", \"1978-06-01\", \"1978-07-01\", \"1978-08-01\", \"1978-09-01\", \"1978-10-01\", \"1978-11-01\", \"1978-12-01\", \"1979-01-01\", \"1979-02-01\", \"1979-03-01\", \"1979-04-01\", \"1979-05-01\", \"1979-06-01\", \"1979-07-01\", \"1979-08-01\", \"1979-09-01\", \"1979-10-01\", \"1979-11-01\", \"1979-12-01\", \"1980-01-01\", \"1980-02-01\", \"1980-03-01\", \"1980-04-01\", \"1980-05-01\", \"1980-06-01\", \"1980-07-01\", \"1980-08-01\", \"1980-09-01\", \"1980-10-01\", \"1980-11-01\", \"1980-12-01\", \"1981-01-01\", \"1981-02-01\", \"1981-03-01\", \"1981-04-01\", \"1981-05-01\", \"1981-06-01\", \"1981-07-01\", \"1981-08-01\", \"1981-09-01\", \"1981-10-01\", \"1981-11-01\", \"1981-12-01\", \"1982-01-01\", \"1982-02-01\", \"1982-03-01\", \"1982-04-01\", \"1982-05-01\", \"1982-06-01\", \"1982-07-01\", \"1982-08-01\", \"1982-09-01\", \"1982-10-01\", \"1982-11-01\", \"1982-12-01\", \"1983-01-01\", \"1983-02-01\", \"1983-03-01\", \"1983-04-01\", \"1983-05-01\", \"1983-06-01\", \"1983-07-01\", \"1983-08-01\", \"1983-09-01\", \"1983-10-01\", \"1983-11-01\", \"1983-12-01\", \"1984-01-01\", \"1984-02-01\", \"1984-03-01\", \"1984-04-01\", \"1984-05-01\", \"1984-06-01\", \"1984-07-01\", \"1984-08-01\", \"1984-09-01\", \"1984-10-01\", \"1984-11-01\", \"1984-12-01\", \"1985-01-01\", \"1985-02-01\", \"1985-03-01\", \"1985-04-01\", \"1985-05-01\", \"1985-06-01\", \"1985-07-01\", \"1985-08-01\", \"1985-09-01\", \"1985-10-01\", \"1985-11-01\", \"1985-12-01\", \"1986-01-01\", \"1986-02-01\", \"1986-03-01\", \"1986-04-01\", \"1986-05-01\", \"1986-06-01\", \"1986-07-01\", \"1986-08-01\", \"1986-09-01\", \"1986-10-01\", \"1986-11-01\", \"1986-12-01\", \"1987-01-01\", \"1987-02-01\", \"1987-03-01\", \"1987-04-01\", \"1987-05-01\", \"1987-06-01\", \"1987-07-01\", \"1987-08-01\", \"1987-09-01\", \"1987-10-01\", \"1987-11-01\", \"1987-12-01\", \"1988-01-01\", \"1988-02-01\", \"1988-03-01\", \"1988-04-01\", \"1988-05-01\", \"1988-06-01\", \"1988-07-01\", \"1988-08-01\", \"1988-09-01\", \"1988-10-01\", \"1988-11-01\", \"1988-12-01\", \"1989-01-01\", \"1989-02-01\", \"1989-03-01\", \"1989-04-01\", \"1989-05-01\", \"1989-06-01\", \"1989-07-01\", \"1989-08-01\", \"1989-09-01\", \"1989-10-01\", \"1989-11-01\", \"1989-12-01\", \"1990-01-01\", \"1990-02-01\", \"1990-03-01\", \"1990-04-01\", \"1990-05-01\", \"1990-06-01\", \"1990-07-01\", \"1990-08-01\", \"1990-09-01\", \"1990-10-01\", \"1990-11-01\", \"1990-12-01\", \"1991-01-01\", \"1991-02-01\", \"1991-03-01\", \"1991-04-01\", \"1991-05-01\", \"1991-06-01\", \"1991-07-01\", \"1991-08-01\", \"1991-09-01\", \"1991-10-01\", \"1991-11-01\", \"1991-12-01\", \"1992-01-01\", \"1992-02-01\", \"1992-03-01\", \"1992-04-01\", \"1992-05-01\", \"1992-06-01\", \"1992-07-01\", \"1992-08-01\", \"1992-09-01\", \"1992-10-01\", \"1992-11-01\", \"1992-12-01\", \"1993-01-01\", \"1993-02-01\", \"1993-03-01\", \"1993-04-01\", \"1993-05-01\", \"1993-06-01\", \"1993-07-01\", \"1993-08-01\", \"1993-09-01\", \"1993-10-01\", \"1993-11-01\", \"1993-12-01\", \"1994-01-01\", \"1994-02-01\", \"1994-03-01\", \"1994-04-01\", \"1994-05-01\", \"1994-06-01\", \"1994-07-01\", \"1994-08-01\", \"1994-09-01\", \"1994-10-01\", \"1994-11-01\", \"1994-12-01\", \"1995-01-01\", \"1995-02-01\", \"1995-03-01\", \"1995-04-01\", \"1995-05-01\", \"1995-06-01\", \"1995-07-01\", \"1995-08-01\", \"1995-09-01\", \"1995-10-01\", \"1995-11-01\", \"1995-12-01\", \"1996-01-01\", \"1996-02-01\", \"1996-03-01\", \"1996-04-01\", \"1996-05-01\", \"1996-06-01\", \"1996-07-01\", \"1996-08-01\", \"1996-09-01\", \"1996-10-01\", \"1996-11-01\", \"1996-12-01\", \"1997-01-01\", \"1997-02-01\", \"1997-03-01\", \"1997-04-01\", \"1997-05-01\", \"1997-06-01\", \"1997-07-01\", \"1997-08-01\", \"1997-09-01\", \"1997-10-01\", \"1997-11-01\", \"1997-12-01\", \"1998-01-01\", \"1998-02-01\", \"1998-03-01\", \"1998-04-01\", \"1998-05-01\", \"1998-06-01\", \"1998-07-01\", \"1998-08-01\", \"1998-09-01\", \"1998-10-01\", \"1998-11-01\", \"1998-12-01\", \"1999-01-01\", \"1999-02-01\", \"1999-03-01\", \"1999-04-01\", \"1999-05-01\", \"1999-06-01\", \"1999-07-01\", \"1999-08-01\", \"1999-09-01\", \"1999-10-01\", \"1999-11-01\", \"1999-12-01\", \"2000-01-01\", \"2000-02-01\", \"2000-03-01\", \"2000-04-01\", \"2000-05-01\", \"2000-06-01\", \"2000-07-01\", \"2000-08-01\", \"2000-09-01\", \"2000-10-01\", \"2000-11-01\", \"2000-12-01\", \"2001-01-01\", \"2001-02-01\", \"2001-03-01\", \"2001-04-01\", \"2001-05-01\", \"2001-06-01\", \"2001-07-01\", \"2001-08-01\", \"2001-09-01\", \"2001-10-01\", \"2001-11-01\", \"2001-12-01\", \"2002-01-01\", \"2002-02-01\", \"2002-03-01\", \"2002-04-01\", \"2002-05-01\", \"2002-06-01\", \"2002-07-01\", \"2002-08-01\", \"2002-09-01\", \"2002-10-01\", \"2002-11-01\", \"2002-12-01\", \"2003-01-01\", \"2003-02-01\", \"2003-03-01\", \"2003-04-01\", \"2003-05-01\", \"2003-06-01\", \"2003-07-01\", \"2003-08-01\", \"2003-09-01\", \"2003-10-01\", \"2003-11-01\", \"2003-12-01\", \"2004-01-01\", \"2004-02-01\", \"2004-03-01\", \"2004-04-01\", \"2004-05-01\", \"2004-06-01\", \"2004-07-01\", \"2004-08-01\", \"2004-09-01\", \"2004-10-01\", \"2004-11-01\", \"2004-12-01\", \"2005-01-01\", \"2005-02-01\", \"2005-03-01\", \"2005-04-01\", \"2005-05-01\", \"2005-06-01\", \"2005-07-01\", \"2005-08-01\", \"2005-09-01\", \"2005-10-01\", \"2005-11-01\", \"2005-12-01\", \"2006-01-01\", \"2006-02-01\", \"2006-03-01\", \"2006-04-01\", \"2006-05-01\", \"2006-06-01\", \"2006-07-01\", \"2006-08-01\", \"2006-09-01\", \"2006-10-01\", \"2006-11-01\", \"2006-12-01\", \"2007-01-01\", \"2007-02-01\", \"2007-03-01\", \"2007-04-01\", \"2007-05-01\", \"2007-06-01\", \"2007-07-01\", \"2007-08-01\", \"2007-09-01\", \"2007-10-01\", \"2007-11-01\", \"2007-12-01\", \"2008-01-01\", \"2008-02-01\", \"2008-03-01\", \"2008-04-01\", \"2008-05-01\", \"2008-06-01\", \"2008-07-01\", \"2008-08-01\", \"2008-09-01\", \"2008-10-01\", \"2008-11-01\", \"2008-12-01\", \"2009-01-01\", \"2009-02-01\", \"2009-03-01\", \"2009-04-01\", \"2009-05-01\", \"2009-06-01\", \"2009-07-01\", \"2009-08-01\", \"2009-09-01\", \"2009-10-01\", \"2009-11-01\", \"2009-12-01\", \"2010-01-01\", \"2010-02-01\", \"2010-03-01\", \"2010-04-01\", \"2010-05-01\", \"2010-06-01\", \"2010-07-01\", \"2010-08-01\", \"2010-09-01\", \"2010-10-01\", \"2010-11-01\", \"2010-12-01\", \"2011-01-01\", \"2011-02-01\", \"2011-03-01\", \"2011-04-01\", \"2011-05-01\", \"2011-06-01\", \"2011-07-01\", \"2011-08-01\", \"2011-09-01\", \"2011-10-01\", \"2011-11-01\", \"2011-12-01\", \"2012-01-01\", \"2012-02-01\", \"2012-03-01\", \"2012-04-01\", \"2012-05-01\", \"2012-06-01\", \"2012-07-01\", \"2012-08-01\", \"2012-09-01\", \"2012-10-01\", \"2012-11-01\", \"2012-12-01\", \"2013-01-01\", \"2013-02-01\", \"2013-03-01\", \"2013-04-01\", \"2013-05-01\", \"2013-06-01\", \"2013-07-01\", \"2013-08-01\", \"2013-09-01\", \"2013-10-01\", \"2013-11-01\", \"2013-12-01\", \"2014-01-01\", \"2014-02-01\", \"2014-03-01\", \"2014-04-01\", \"2014-05-01\", \"2014-06-01\", \"2014-07-01\", \"2014-08-01\", \"2014-09-01\", \"2014-10-01\", \"2014-11-01\", \"2014-12-01\", \"2015-01-01\", \"2015-02-01\", \"2015-03-01\", \"2015-04-01\", \"2015-05-01\", \"2015-06-01\", \"2015-07-01\", \"2015-08-01\", \"2015-09-01\", \"2015-10-01\", \"2015-11-01\", \"2015-12-01\", \"2016-01-01\", \"2016-02-01\", \"2016-03-01\", \"2016-04-01\", \"2016-05-01\", \"2016-06-01\", \"2016-07-01\", \"2016-08-01\", \"2016-09-01\", \"2016-10-01\", \"2016-11-01\", \"2016-12-01\", \"2017-01-01\", \"2017-02-01\", \"2017-03-01\", \"2017-04-01\", \"2017-05-01\", \"2017-06-01\", \"2017-07-01\", \"2017-08-01\", \"2017-09-01\", \"2017-10-01\", \"2017-11-01\", \"2017-12-01\", \"2018-01-01\", \"2018-02-01\", \"2018-03-01\", \"2018-04-01\", \"2018-05-01\", \"2018-06-01\", \"2018-07-01\", \"2018-08-01\", \"2018-09-01\", \"2018-10-01\", \"2018-11-01\", \"2018-12-01\", \"2019-01-01\", \"2019-02-01\", \"2019-03-01\", \"2019-04-01\", \"2019-05-01\", \"2019-06-01\", \"2019-07-01\", \"2019-08-01\", \"2019-09-01\", \"2019-10-01\", \"2019-11-01\", \"2019-12-01\", \"2020-01-01\", \"2020-02-01\", \"2020-03-01\", \"2020-04-01\", \"2020-05-01\"], \"xaxis\": \"x\", \"y\": [4.8, 5.2, 5.6, 5.6, 5.4, 5.2, 5.3, 5.1, 5.1, 4.6, 4.8, 4.1, 4.4, 4.0, 4.0, 3.8, 3.7, 3.8, 3.6, 3.7, 4.0, 4.1, 3.6, 3.9, 3.5, 3.3, 3.8, 3.7, 3.8, 3.6, 4.4, 3.7, 3.6, 3.5, 3.8, 4.0, 4.0, 3.6, 3.6, 3.4, 3.7, 3.8, 3.6, 3.7, 3.7, 3.9, 4.4, 4.1, 4.9, 5.4, 5.4, 6.1, 6.2, 6.0, 5.9, 6.1, 5.6, 5.4, 5.0, 5.1, 5.0, 5.1, 4.9, 4.8, 4.5, 4.4, 4.5, 4.4, 4.6, 4.7, 4.7, 4.5, 4.4, 4.2, 4.5, 4.2, 4.2, 4.4, 4.7, 4.7, 4.4, 5.1, 5.1, 5.6, 5.3, 5.8, 5.9, 6.0, 5.9, 6.1, 6.1, 5.4, 5.5, 5.6, 5.1, 5.2, 5.0, 4.6, 4.7, 4.4, 4.6, 4.5, 4.6, 4.9, 5.0, 4.8, 4.8, 4.7, 4.8, 4.7, 4.5, 4.8, 5.0, 4.8, 4.9, 4.8, 4.8, 4.7, 4.9, 4.8, 5.0, 5.1, 5.0, 4.9, 4.5, 4.5, 4.3, 4.3, 4.3, 4.3, 4.4, 4.2, 4.2, 4.6, 4.2, 4.1, 4.0, 4.3, 3.7, 4.0, 3.7, 3.6, 4.0, 3.6, 3.4, 3.3, 3.4, 3.3, 3.7, 3.3, 3.3, 3.2, 3.2, 3.4, 3.2, 3.4, 4.0, 3.6, 3.8, 3.8, 3.8, 3.8, 3.7, 3.6, 3.9, 4.1, 3.7, 3.7, 3.6, 3.6, 3.5, 3.4, 3.3, 3.4, 3.3, 3.4, 3.2, 3.2, 3.3, 3.2, 3.4, 3.4, 3.3, 3.3, 3.3, 3.5, 3.1, 3.4, 3.6, 3.6, 3.4, 3.3, 3.5, 3.8, 4.2, 4.0, 4.5, 4.2, 4.6, 4.4, 4.8, 4.8, 5.3, 5.4, 5.4, 5.2, 5.5, 5.4, 5.2, 5.3, 5.1, 5.4, 5.2, 5.1, 5.5, 5.3, 4.9, 4.6, 4.9, 5.1, 5.3, 5.0, 5.3, 5.1, 4.9, 4.9, 4.5, 4.5, 4.7, 4.4, 4.3, 4.3, 4.1, 4.4, 4.4, 4.5, 4.4, 4.0, 4.2, 4.4, 4.5, 4.6, 4.6, 4.5, 4.7, 4.8, 4.8, 5.0, 5.5, 5.1, 6.1, 6.4, 7.5, 7.5, 7.7, 8.0, 8.1, 7.7, 7.5, 7.2, 7.0, 7.2, 7.2, 7.3, 7.1, 6.8, 6.8, 6.8, 6.5, 6.6, 7.0, 7.0, 6.8, 6.9, 6.8, 6.6, 6.5, 6.6, 6.6, 6.3, 5.9, 6.4, 6.2, 6.2, 6.1, 6.0, 6.0, 5.7, 5.6, 5.3, 5.0, 5.3, 5.3, 5.3, 5.5, 5.2, 5.3, 4.8, 5.1, 5.1, 5.0, 5.1, 5.1, 4.9, 4.9, 4.9, 4.7, 5.2, 5.0, 5.0, 4.9, 5.0, 5.1, 5.3, 5.0, 5.4, 5.5, 5.7, 5.8, 5.9, 5.7, 5.8, 5.7, 5.8, 6.0, 5.7, 5.6, 5.7, 5.8, 5.7, 5.8, 5.6, 5.9, 6.1, 6.3, 6.5, 6.4, 6.7, 6.9, 7.1, 7.1, 7.1, 7.3, 7.2, 7.4, 7.6, 8.1, 8.3, 7.8, 7.8, 7.4, 7.2, 7.2, 7.5, 6.7, 6.6, 6.6, 6.3, 6.2, 6.1, 6.0, 5.9, 5.8, 5.9, 5.8, 5.6, 5.8, 5.9, 5.7, 5.9, 5.6, 5.7, 5.8, 5.7, 5.8, 5.8, 5.8, 5.9, 5.7, 5.7, 5.7, 5.5, 5.3, 5.5, 5.3, 5.9, 5.7, 5.5, 5.5, 5.5, 5.3, 5.2, 5.2, 5.2, 5.1, 4.9, 5.0, 4.8, 4.8, 4.7, 4.6, 4.5, 4.4, 4.4, 4.5, 4.4, 4.4, 4.4, 4.3, 4.5, 4.0, 3.9, 4.0, 4.1, 4.2, 4.1, 4.1, 4.0, 4.0, 3.9, 4.0, 3.6, 3.8, 4.0, 4.1, 4.1, 4.2, 4.1, 3.8, 4.1, 4.0, 4.1, 4.0, 4.0, 3.9, 4.1, 4.0, 4.0, 4.1, 4.2, 4.3, 4.4, 4.4, 4.4, 4.6, 4.8, 4.9, 4.8, 5.2, 5.1, 4.9, 5.0, 4.9, 5.0, 5.2, 5.3, 5.2, 5.4, 5.4, 5.5, 5.4, 5.4, 5.7, 5.7, 5.7, 5.5, 5.3, 5.6, 5.4, 5.3, 5.1, 5.2, 5.3, 5.2, 5.1, 5.0, 5.1, 5.3, 5.1, 5.0, 5.0, 4.9, 5.0, 4.7, 4.6, 4.7, 4.7, 4.6, 4.7, 4.3, 4.3, 4.1, 4.2, 4.1, 4.2, 4.5, 4.3, 4.4, 4.3, 4.3, 4.3, 4.4, 4.2, 4.3, 4.3, 4.3, 4.1, 4.2, 4.4, 4.0, 4.1, 3.9, 4.0, 4.0, 4.1, 4.4, 3.8, 3.9, 3.8, 3.7, 3.8, 3.6, 3.5, 3.6, 3.7, 3.5, 3.3, 3.5, 3.7, 3.6, 3.6, 3.4, 3.3, 3.4, 3.3, 3.5, 3.3, 3.4, 3.4, 3.4, 3.4, 3.3, 3.3, 3.6, 3.2, 3.4, 3.3, 3.2, 3.2, 3.1, 3.1, 3.0, 3.1, 3.1, 3.2, 3.0, 3.3, 3.2, 3.3, 3.4, 3.1, 2.9, 3.0, 3.0, 3.1, 3.3, 3.2, 3.4, 3.3, 3.4, 3.5, 3.7, 3.8, 4.0, 4.2, 4.5, 4.3, 4.4, 4.3, 4.5, 4.5, 4.4, 4.4, 4.4, 4.3, 4.4, 4.2, 4.3, 4.2, 4.3, 4.4, 4.3, 4.6, 4.4, 4.3, 4.4, 4.5, 4.4, 4.3, 4.3, 4.4, 4.2, 4.6, 4.2, 4.1, 4.4, 4.1, 4.0, 3.9, 4.0, 4.0, 3.9, 3.9, 3.9, 3.9, 4.0, 4.0, 3.9, 3.9, 3.7, 4.0, 4.1, 3.9, 3.8, 3.7, 3.7, 3.6, 3.7, 3.6, 3.6, 3.7, 3.6, 3.7, 3.5, 3.5, 3.4, 3.6, 3.4, 3.3, 3.5, 3.4, 3.5, 3.7, 3.7, 3.6, 3.6, 3.7, 3.9, 3.8, 3.8, 4.0, 3.7, 4.0, 4.2, 4.3, 4.8, 4.3, 4.9, 5.1, 5.6, 6.0, 6.1, 6.5, 6.4, 6.8, 6.9, 6.9, 7.0, 7.1, 7.3, 7.4, 7.3, 6.9, 7.3, 7.3, 7.3, 7.3, 7.1, 7.0, 7.1, 7.1, 7.2, 7.6, 7.2, 7.0, 7.1, 6.9, 7.0, 7.1, 7.1, 6.9, 7.0, 7.1, 7.0, 6.9, 6.8, 6.8, 6.8, 6.6, 6.9, 6.7, 6.6, 6.7, 6.5, 6.2, 6.2, 6.2, 6.3, 6.4, 6.0, 6.0, 5.7, 5.8, 6.0, 5.6, 5.4, 5.5, 5.4, 5.3, 5.3, 5.1, 5.2, 5.4, 4.7, 4.9, 4.7, 4.8, 4.7, 4.7, 4.6, 4.5, 4.4, 4.4, 4.2, 4.2, 4.2, 4.4, 4.2, 4.2, 4.0, 3.9, 4.0, 4.0, 3.9, 3.9, 3.9, 4.0, 4.0, 3.8, 3.9, 3.5, 3.8, 3.8, 3.8, 3.7, 3.8, 3.9, 3.7, 3.6, 3.6, 3.5, 3.4, 3.4, 3.5, 3.5, 3.2, 3.2, 3.4, 2.9, 3.3, 3.3, 3.2, 3.2, 3.2, 3.2, 3.1, 2.9, 3.1, 3.2, 3.1, 3.2, 3.0, 3.0, 2.8, 3.0, 3.1, 3.0, 3.2, 2.9, 2.9, 2.9, 2.8, 2.7, 2.8, 3.6, 15.0, 13.1], \"yaxis\": \"y\"}, {\"hovertemplate\": \"category=Black men<br>date=%{x}<br>rate=%{y}<extra></extra>\", \"legendgroup\": \"Black men\", \"line\": {\"color\": \"#ab63fa\", \"dash\": \"solid\"}, \"mode\": \"lines\", \"name\": \"Black men\", \"showlegend\": true, \"type\": \"scattergl\", \"x\": [\"1972-01-01\", \"1972-02-01\", \"1972-03-01\", \"1972-04-01\", \"1972-05-01\", \"1972-06-01\", \"1972-07-01\", \"1972-08-01\", \"1972-09-01\", \"1972-10-01\", \"1972-11-01\", \"1972-12-01\", \"1973-01-01\", \"1973-02-01\", \"1973-03-01\", \"1973-04-01\", \"1973-05-01\", \"1973-06-01\", \"1973-07-01\", \"1973-08-01\", \"1973-09-01\", \"1973-10-01\", \"1973-11-01\", \"1973-12-01\", \"1974-01-01\", \"1974-02-01\", \"1974-03-01\", \"1974-04-01\", \"1974-05-01\", \"1974-06-01\", \"1974-07-01\", \"1974-08-01\", \"1974-09-01\", \"1974-10-01\", \"1974-11-01\", \"1974-12-01\", \"1975-01-01\", \"1975-02-01\", \"1975-03-01\", \"1975-04-01\", \"1975-05-01\", \"1975-06-01\", \"1975-07-01\", \"1975-08-01\", \"1975-09-01\", \"1975-10-01\", \"1975-11-01\", \"1975-12-01\", \"1976-01-01\", \"1976-02-01\", \"1976-03-01\", \"1976-04-01\", \"1976-05-01\", \"1976-06-01\", \"1976-07-01\", \"1976-08-01\", \"1976-09-01\", \"1976-10-01\", \"1976-11-01\", \"1976-12-01\", \"1977-01-01\", \"1977-02-01\", \"1977-03-01\", \"1977-04-01\", \"1977-05-01\", \"1977-06-01\", \"1977-07-01\", \"1977-08-01\", \"1977-09-01\", \"1977-10-01\", \"1977-11-01\", \"1977-12-01\", \"1978-01-01\", \"1978-02-01\", \"1978-03-01\", \"1978-04-01\", \"1978-05-01\", \"1978-06-01\", \"1978-07-01\", \"1978-08-01\", \"1978-09-01\", \"1978-10-01\", \"1978-11-01\", \"1978-12-01\", \"1979-01-01\", \"1979-02-01\", \"1979-03-01\", \"1979-04-01\", \"1979-05-01\", \"1979-06-01\", \"1979-07-01\", \"1979-08-01\", \"1979-09-01\", \"1979-10-01\", \"1979-11-01\", \"1979-12-01\", \"1980-01-01\", \"1980-02-01\", \"1980-03-01\", \"1980-04-01\", \"1980-05-01\", \"1980-06-01\", \"1980-07-01\", \"1980-08-01\", \"1980-09-01\", \"1980-10-01\", \"1980-11-01\", \"1980-12-01\", \"1981-01-01\", \"1981-02-01\", \"1981-03-01\", \"1981-04-01\", \"1981-05-01\", \"1981-06-01\", \"1981-07-01\", \"1981-08-01\", \"1981-09-01\", \"1981-10-01\", \"1981-11-01\", \"1981-12-01\", \"1982-01-01\", \"1982-02-01\", \"1982-03-01\", \"1982-04-01\", \"1982-05-01\", \"1982-06-01\", \"1982-07-01\", \"1982-08-01\", \"1982-09-01\", \"1982-10-01\", \"1982-11-01\", \"1982-12-01\", \"1983-01-01\", \"1983-02-01\", \"1983-03-01\", \"1983-04-01\", \"1983-05-01\", \"1983-06-01\", \"1983-07-01\", \"1983-08-01\", \"1983-09-01\", \"1983-10-01\", \"1983-11-01\", \"1983-12-01\", \"1984-01-01\", \"1984-02-01\", \"1984-03-01\", \"1984-04-01\", \"1984-05-01\", \"1984-06-01\", \"1984-07-01\", \"1984-08-01\", \"1984-09-01\", \"1984-10-01\", \"1984-11-01\", \"1984-12-01\", \"1985-01-01\", \"1985-02-01\", \"1985-03-01\", \"1985-04-01\", \"1985-05-01\", \"1985-06-01\", \"1985-07-01\", \"1985-08-01\", \"1985-09-01\", \"1985-10-01\", \"1985-11-01\", \"1985-12-01\", \"1986-01-01\", \"1986-02-01\", \"1986-03-01\", \"1986-04-01\", \"1986-05-01\", \"1986-06-01\", \"1986-07-01\", \"1986-08-01\", \"1986-09-01\", \"1986-10-01\", \"1986-11-01\", \"1986-12-01\", \"1987-01-01\", \"1987-02-01\", \"1987-03-01\", \"1987-04-01\", \"1987-05-01\", \"1987-06-01\", \"1987-07-01\", \"1987-08-01\", \"1987-09-01\", \"1987-10-01\", \"1987-11-01\", \"1987-12-01\", \"1988-01-01\", \"1988-02-01\", \"1988-03-01\", \"1988-04-01\", \"1988-05-01\", \"1988-06-01\", \"1988-07-01\", \"1988-08-01\", \"1988-09-01\", \"1988-10-01\", \"1988-11-01\", \"1988-12-01\", \"1989-01-01\", \"1989-02-01\", \"1989-03-01\", \"1989-04-01\", \"1989-05-01\", \"1989-06-01\", \"1989-07-01\", \"1989-08-01\", \"1989-09-01\", \"1989-10-01\", \"1989-11-01\", \"1989-12-01\", \"1990-01-01\", \"1990-02-01\", \"1990-03-01\", \"1990-04-01\", \"1990-05-01\", \"1990-06-01\", \"1990-07-01\", \"1990-08-01\", \"1990-09-01\", \"1990-10-01\", \"1990-11-01\", \"1990-12-01\", \"1991-01-01\", \"1991-02-01\", \"1991-03-01\", \"1991-04-01\", \"1991-05-01\", \"1991-06-01\", \"1991-07-01\", \"1991-08-01\", \"1991-09-01\", \"1991-10-01\", \"1991-11-01\", \"1991-12-01\", \"1992-01-01\", \"1992-02-01\", \"1992-03-01\", \"1992-04-01\", \"1992-05-01\", \"1992-06-01\", \"1992-07-01\", \"1992-08-01\", \"1992-09-01\", \"1992-10-01\", \"1992-11-01\", \"1992-12-01\", \"1993-01-01\", \"1993-02-01\", \"1993-03-01\", \"1993-04-01\", \"1993-05-01\", \"1993-06-01\", \"1993-07-01\", \"1993-08-01\", \"1993-09-01\", \"1993-10-01\", \"1993-11-01\", \"1993-12-01\", \"1994-01-01\", \"1994-02-01\", \"1994-03-01\", \"1994-04-01\", \"1994-05-01\", \"1994-06-01\", \"1994-07-01\", \"1994-08-01\", \"1994-09-01\", \"1994-10-01\", \"1994-11-01\", \"1994-12-01\", \"1995-01-01\", \"1995-02-01\", \"1995-03-01\", \"1995-04-01\", \"1995-05-01\", \"1995-06-01\", \"1995-07-01\", \"1995-08-01\", \"1995-09-01\", \"1995-10-01\", \"1995-11-01\", \"1995-12-01\", \"1996-01-01\", \"1996-02-01\", \"1996-03-01\", \"1996-04-01\", \"1996-05-01\", \"1996-06-01\", \"1996-07-01\", \"1996-08-01\", \"1996-09-01\", \"1996-10-01\", \"1996-11-01\", \"1996-12-01\", \"1997-01-01\", \"1997-02-01\", \"1997-03-01\", \"1997-04-01\", \"1997-05-01\", \"1997-06-01\", \"1997-07-01\", \"1997-08-01\", \"1997-09-01\", \"1997-10-01\", \"1997-11-01\", \"1997-12-01\", \"1998-01-01\", \"1998-02-01\", \"1998-03-01\", \"1998-04-01\", \"1998-05-01\", \"1998-06-01\", \"1998-07-01\", \"1998-08-01\", \"1998-09-01\", \"1998-10-01\", \"1998-11-01\", \"1998-12-01\", \"1999-01-01\", \"1999-02-01\", \"1999-03-01\", \"1999-04-01\", \"1999-05-01\", \"1999-06-01\", \"1999-07-01\", \"1999-08-01\", \"1999-09-01\", \"1999-10-01\", \"1999-11-01\", \"1999-12-01\", \"2000-01-01\", \"2000-02-01\", \"2000-03-01\", \"2000-04-01\", \"2000-05-01\", \"2000-06-01\", \"2000-07-01\", \"2000-08-01\", \"2000-09-01\", \"2000-10-01\", \"2000-11-01\", \"2000-12-01\", \"2001-01-01\", \"2001-02-01\", \"2001-03-01\", \"2001-04-01\", \"2001-05-01\", \"2001-06-01\", \"2001-07-01\", \"2001-08-01\", \"2001-09-01\", \"2001-10-01\", \"2001-11-01\", \"2001-12-01\", \"2002-01-01\", \"2002-02-01\", \"2002-03-01\", \"2002-04-01\", \"2002-05-01\", \"2002-06-01\", \"2002-07-01\", \"2002-08-01\", \"2002-09-01\", \"2002-10-01\", \"2002-11-01\", \"2002-12-01\", \"2003-01-01\", \"2003-02-01\", \"2003-03-01\", \"2003-04-01\", \"2003-05-01\", \"2003-06-01\", \"2003-07-01\", \"2003-08-01\", \"2003-09-01\", \"2003-10-01\", \"2003-11-01\", \"2003-12-01\", \"2004-01-01\", \"2004-02-01\", \"2004-03-01\", \"2004-04-01\", \"2004-05-01\", \"2004-06-01\", \"2004-07-01\", \"2004-08-01\", \"2004-09-01\", \"2004-10-01\", \"2004-11-01\", \"2004-12-01\", \"2005-01-01\", \"2005-02-01\", \"2005-03-01\", \"2005-04-01\", \"2005-05-01\", \"2005-06-01\", \"2005-07-01\", \"2005-08-01\", \"2005-09-01\", \"2005-10-01\", \"2005-11-01\", \"2005-12-01\", \"2006-01-01\", \"2006-02-01\", \"2006-03-01\", \"2006-04-01\", \"2006-05-01\", \"2006-06-01\", \"2006-07-01\", \"2006-08-01\", \"2006-09-01\", \"2006-10-01\", \"2006-11-01\", \"2006-12-01\", \"2007-01-01\", \"2007-02-01\", \"2007-03-01\", \"2007-04-01\", \"2007-05-01\", \"2007-06-01\", \"2007-07-01\", \"2007-08-01\", \"2007-09-01\", \"2007-10-01\", \"2007-11-01\", \"2007-12-01\", \"2008-01-01\", \"2008-02-01\", \"2008-03-01\", \"2008-04-01\", \"2008-05-01\", \"2008-06-01\", \"2008-07-01\", \"2008-08-01\", \"2008-09-01\", \"2008-10-01\", \"2008-11-01\", \"2008-12-01\", \"2009-01-01\", \"2009-02-01\", \"2009-03-01\", \"2009-04-01\", \"2009-05-01\", \"2009-06-01\", \"2009-07-01\", \"2009-08-01\", \"2009-09-01\", \"2009-10-01\", \"2009-11-01\", \"2009-12-01\", \"2010-01-01\", \"2010-02-01\", \"2010-03-01\", \"2010-04-01\", \"2010-05-01\", \"2010-06-01\", \"2010-07-01\", \"2010-08-01\", \"2010-09-01\", \"2010-10-01\", \"2010-11-01\", \"2010-12-01\", \"2011-01-01\", \"2011-02-01\", \"2011-03-01\", \"2011-04-01\", \"2011-05-01\", \"2011-06-01\", \"2011-07-01\", \"2011-08-01\", \"2011-09-01\", \"2011-10-01\", \"2011-11-01\", \"2011-12-01\", \"2012-01-01\", \"2012-02-01\", \"2012-03-01\", \"2012-04-01\", \"2012-05-01\", \"2012-06-01\", \"2012-07-01\", \"2012-08-01\", \"2012-09-01\", \"2012-10-01\", \"2012-11-01\", \"2012-12-01\", \"2013-01-01\", \"2013-02-01\", \"2013-03-01\", \"2013-04-01\", \"2013-05-01\", \"2013-06-01\", \"2013-07-01\", \"2013-08-01\", \"2013-09-01\", \"2013-10-01\", \"2013-11-01\", \"2013-12-01\", \"2014-01-01\", \"2014-02-01\", \"2014-03-01\", \"2014-04-01\", \"2014-05-01\", \"2014-06-01\", \"2014-07-01\", \"2014-08-01\", \"2014-09-01\", \"2014-10-01\", \"2014-11-01\", \"2014-12-01\", \"2015-01-01\", \"2015-02-01\", \"2015-03-01\", \"2015-04-01\", \"2015-05-01\", \"2015-06-01\", \"2015-07-01\", \"2015-08-01\", \"2015-09-01\", \"2015-10-01\", \"2015-11-01\", \"2015-12-01\", \"2016-01-01\", \"2016-02-01\", \"2016-03-01\", \"2016-04-01\", \"2016-05-01\", \"2016-06-01\", \"2016-07-01\", \"2016-08-01\", \"2016-09-01\", \"2016-10-01\", \"2016-11-01\", \"2016-12-01\", \"2017-01-01\", \"2017-02-01\", \"2017-03-01\", \"2017-04-01\", \"2017-05-01\", \"2017-06-01\", \"2017-07-01\", \"2017-08-01\", \"2017-09-01\", \"2017-10-01\", \"2017-11-01\", \"2017-12-01\", \"2018-01-01\", \"2018-02-01\", \"2018-03-01\", \"2018-04-01\", \"2018-05-01\", \"2018-06-01\", \"2018-07-01\", \"2018-08-01\", \"2018-09-01\", \"2018-10-01\", \"2018-11-01\", \"2018-12-01\", \"2019-01-01\", \"2019-02-01\", \"2019-03-01\", \"2019-04-01\", \"2019-05-01\", \"2019-06-01\", \"2019-07-01\", \"2019-08-01\", \"2019-09-01\", \"2019-10-01\", \"2019-11-01\", \"2019-12-01\", \"2020-01-01\", \"2020-02-01\", \"2020-03-01\", \"2020-04-01\", \"2020-05-01\"], \"xaxis\": \"x\", \"y\": [8.1, 7.6, 7.0, 6.7, 7.0, 6.5, 7.8, 7.2, 7.0, 6.6, 6.3, 6.0, 5.7, 5.8, 6.1, 6.3, 6.4, 6.1, 6.4, 6.1, 5.9, 6.0, 5.8, 5.2, 6.3, 6.9, 6.8, 6.7, 6.7, 7.2, 6.3, 7.3, 7.9, 8.4, 9.0, 10.0, 11.1, 11.6, 12.5, 13.0, 12.6, 13.1, 12.5, 12.5, 13.2, 12.4, 12.9, 12.9, 12.0, 11.9, 11.2, 10.9, 10.4, 11.7, 11.5, 10.9, 10.8, 11.1, 11.9, 11.6, 10.8, 10.6, 10.5, 8.9, 10.8, 10.4, 10.6, 12.1, 11.5, 11.7, 10.7, 10.0, 10.8, 9.8, 9.2, 9.6, 9.2, 8.9, 8.9, 9.0, 8.5, 8.8, 9.4, 9.4, 9.2, 9.9, 10.0, 9.4, 9.2, 8.7, 9.2, 9.1, 8.6, 9.3, 9.2, 9.7, 11.0, 10.6, 10.5, 12.1, 12.5, 13.2, 13.9, 13.5, 14.0, 12.9, 12.8, 12.0, 11.6, 12.2, 12.5, 11.9, 12.9, 13.7, 12.9, 13.8, 14.0, 14.6, 15.5, 16.1, 16.6, 16.5, 16.4, 16.5, 16.9, 17.0, 17.2, 17.4, 19.2, 19.6, 19.3, 20.7, 20.4, 19.1, 19.1, 19.4, 19.5, 18.9, 18.4, 18.2, 17.0, 16.1, 15.5, 15.2, 15.3, 14.3, 15.3, 15.4, 14.1, 14.8, 15.7, 14.2, 13.5, 13.2, 12.5, 13.5, 13.1, 13.9, 13.4, 13.4, 13.3, 12.4, 12.9, 12.0, 13.2, 13.7, 13.5, 13.4, 12.9, 12.8, 12.6, 12.8, 12.6, 13.3, 13.0, 13.4, 13.7, 13.5, 12.9, 11.8, 12.1, 11.5, 11.4, 10.9, 12.1, 11.5, 11.4, 10.9, 10.4, 10.0, 10.2, 10.1, 10.0, 10.8, 11.0, 10.4, 10.7, 10.1, 9.8, 9.7, 9.1, 9.6, 9.6, 9.8, 10.1, 10.4, 9.8, 10.0, 9.7, 9.5, 9.4, 9.8, 10.0, 10.2, 10.5, 10.8, 10.3, 9.8, 9.7, 9.7, 9.4, 9.4, 10.5, 10.6, 11.5, 11.5, 11.7, 11.5, 10.7, 11.6, 11.3, 12.1, 12.4, 12.1, 11.6, 11.4, 10.9, 11.3, 11.0, 12.1, 12.9, 13.7, 14.0, 13.3, 14.0, 13.6, 13.7, 13.6, 13.1, 13.7, 12.8, 13.4, 12.7, 12.4, 13.4, 13.2, 12.4, 12.7, 11.7, 11.6, 11.7, 10.9, 12.1, 10.4, 12.1, 12.1, 10.5, 10.4, 10.2, 10.0, 10.2, 10.3, 9.5, 9.7, 9.6, 8.3, 9.0, 8.1, 7.7, 8.9, 8.7, 9.1, 9.2, 9.7, 9.3, 8.1, 8.5, 9.3, 9.2, 9.8, 10.1, 9.7, 9.6, 9.5, 9.2, 8.6, 9.7, 9.3, 9.5, 8.2, 9.1, 8.8, 9.2, 8.7, 8.5, 9.5, 8.1, 7.7, 7.9, 8.1, 7.7, 8.4, 8.0, 7.7, 7.8, 7.7, 6.8, 7.4, 8.5, 7.5, 7.2, 6.7, 7.0, 6.5, 6.0, 6.6, 6.0, 6.3, 6.5, 6.4, 7.3, 6.1, 7.4, 7.7, 7.1, 6.9, 7.7, 7.5, 6.6, 6.5, 7.0, 6.8, 6.7, 7.1, 6.6, 6.9, 6.8, 7.1, 6.9, 6.7, 7.9, 8.1, 7.8, 7.8, 8.0, 9.1, 7.8, 8.1, 8.5, 9.0, 8.9, 8.9, 9.6, 9.3, 8.7, 10.2, 9.2, 9.1, 9.2, 9.7, 10.4, 10.5, 10.4, 10.3, 9.6, 10.6, 11.1, 11.1, 10.2, 10.5, 10.9, 10.4, 9.9, 9.3, 9.6, 9.2, 9.4, 9.4, 9.3, 9.3, 10.5, 10.5, 10.2, 10.2, 10.5, 10.6, 10.5, 10.8, 9.4, 9.1, 8.9, 9.4, 8.1, 8.6, 8.7, 8.4, 9.6, 8.7, 7.6, 8.8, 8.4, 8.8, 8.8, 8.0, 9.1, 8.5, 8.3, 8.2, 8.0, 7.3, 7.5, 7.6, 8.8, 8.3, 8.1, 8.2, 7.6, 6.8, 7.4, 8.2, 8.1, 8.5, 8.3, 8.0, 8.5, 8.4, 8.9, 9.5, 10.5, 10.5, 11.9, 12.0, 12.5, 13.9, 14.4, 15.2, 15.6, 17.2, 16.6, 16.3, 16.1, 16.6, 16.2, 17.3, 17.0, 16.7, 17.9, 18.1, 19.3, 17.9, 16.8, 17.3, 16.6, 16.7, 17.2, 16.2, 16.9, 16.4, 16.8, 16.7, 17.2, 17.5, 17.3, 17.0, 16.9, 17.5, 16.3, 15.8, 16.6, 15.1, 12.8, 14.4, 14.1, 14.0, 14.1, 14.3, 15.1, 13.8, 14.0, 13.9, 13.2, 13.7, 13.3, 12.6, 12.8, 13.1, 13.5, 13.2, 12.6, 13.4, 14.1, 12.7, 12.0, 11.4, 12.0, 12.6, 11.9, 11.1, 11.7, 11.0, 11.6, 10.8, 11.0, 10.3, 11.0, 10.9, 10.5, 10.0, 9.9, 9.2, 10.6, 9.5, 8.9, 9.2, 8.9, 8.8, 10.0, 8.7, 8.4, 8.3, 8.6, 9.4, 7.8, 8.3, 8.3, 7.5, 8.3, 8.3, 7.7, 7.7, 7.2, 7.7, 8.3, 7.1, 6.8, 6.3, 7.2, 7.7, 6.9, 7.4, 7.6, 6.6, 7.2, 5.7, 6.0, 6.2, 6.3, 6.6, 6.2, 5.9, 6.0, 6.4, 6.0, 6.4, 7.0, 7.1, 6.7, 6.6, 6.1, 5.7, 5.7, 5.8, 5.4, 5.1, 5.1, 5.8, 5.6, 5.8, 7.0, 16.1, 15.5], \"yaxis\": \"y\"}, {\"hovertemplate\": \"category=Black women<br>date=%{x}<br>rate=%{y}<extra></extra>\", \"legendgroup\": \"Black women\", \"line\": {\"color\": \"#FFA15A\", \"dash\": \"solid\"}, \"mode\": \"lines\", \"name\": \"Black women\", \"showlegend\": true, \"type\": \"scattergl\", \"x\": [\"1972-01-01\", \"1972-02-01\", \"1972-03-01\", \"1972-04-01\", \"1972-05-01\", \"1972-06-01\", \"1972-07-01\", \"1972-08-01\", \"1972-09-01\", \"1972-10-01\", \"1972-11-01\", \"1972-12-01\", \"1973-01-01\", \"1973-02-01\", \"1973-03-01\", \"1973-04-01\", \"1973-05-01\", \"1973-06-01\", \"1973-07-01\", \"1973-08-01\", \"1973-09-01\", \"1973-10-01\", \"1973-11-01\", \"1973-12-01\", \"1974-01-01\", \"1974-02-01\", \"1974-03-01\", \"1974-04-01\", \"1974-05-01\", \"1974-06-01\", \"1974-07-01\", \"1974-08-01\", \"1974-09-01\", \"1974-10-01\", \"1974-11-01\", \"1974-12-01\", \"1975-01-01\", \"1975-02-01\", \"1975-03-01\", \"1975-04-01\", \"1975-05-01\", \"1975-06-01\", \"1975-07-01\", \"1975-08-01\", \"1975-09-01\", \"1975-10-01\", \"1975-11-01\", \"1975-12-01\", \"1976-01-01\", \"1976-02-01\", \"1976-03-01\", \"1976-04-01\", \"1976-05-01\", \"1976-06-01\", \"1976-07-01\", \"1976-08-01\", \"1976-09-01\", \"1976-10-01\", \"1976-11-01\", \"1976-12-01\", \"1977-01-01\", \"1977-02-01\", \"1977-03-01\", \"1977-04-01\", \"1977-05-01\", \"1977-06-01\", \"1977-07-01\", \"1977-08-01\", \"1977-09-01\", \"1977-10-01\", \"1977-11-01\", \"1977-12-01\", \"1978-01-01\", \"1978-02-01\", \"1978-03-01\", \"1978-04-01\", \"1978-05-01\", \"1978-06-01\", \"1978-07-01\", \"1978-08-01\", \"1978-09-01\", \"1978-10-01\", \"1978-11-01\", \"1978-12-01\", \"1979-01-01\", \"1979-02-01\", \"1979-03-01\", \"1979-04-01\", \"1979-05-01\", \"1979-06-01\", \"1979-07-01\", \"1979-08-01\", \"1979-09-01\", \"1979-10-01\", \"1979-11-01\", \"1979-12-01\", \"1980-01-01\", \"1980-02-01\", \"1980-03-01\", \"1980-04-01\", \"1980-05-01\", \"1980-06-01\", \"1980-07-01\", \"1980-08-01\", \"1980-09-01\", \"1980-10-01\", \"1980-11-01\", \"1980-12-01\", \"1981-01-01\", \"1981-02-01\", \"1981-03-01\", \"1981-04-01\", \"1981-05-01\", \"1981-06-01\", \"1981-07-01\", \"1981-08-01\", \"1981-09-01\", \"1981-10-01\", \"1981-11-01\", \"1981-12-01\", \"1982-01-01\", \"1982-02-01\", \"1982-03-01\", \"1982-04-01\", \"1982-05-01\", \"1982-06-01\", \"1982-07-01\", \"1982-08-01\", \"1982-09-01\", \"1982-10-01\", \"1982-11-01\", \"1982-12-01\", \"1983-01-01\", \"1983-02-01\", \"1983-03-01\", \"1983-04-01\", \"1983-05-01\", \"1983-06-01\", \"1983-07-01\", \"1983-08-01\", \"1983-09-01\", \"1983-10-01\", \"1983-11-01\", \"1983-12-01\", \"1984-01-01\", \"1984-02-01\", \"1984-03-01\", \"1984-04-01\", \"1984-05-01\", \"1984-06-01\", \"1984-07-01\", \"1984-08-01\", \"1984-09-01\", \"1984-10-01\", \"1984-11-01\", \"1984-12-01\", \"1985-01-01\", \"1985-02-01\", \"1985-03-01\", \"1985-04-01\", \"1985-05-01\", \"1985-06-01\", \"1985-07-01\", \"1985-08-01\", \"1985-09-01\", \"1985-10-01\", \"1985-11-01\", \"1985-12-01\", \"1986-01-01\", \"1986-02-01\", \"1986-03-01\", \"1986-04-01\", \"1986-05-01\", \"1986-06-01\", \"1986-07-01\", \"1986-08-01\", \"1986-09-01\", \"1986-10-01\", \"1986-11-01\", \"1986-12-01\", \"1987-01-01\", \"1987-02-01\", \"1987-03-01\", \"1987-04-01\", \"1987-05-01\", \"1987-06-01\", \"1987-07-01\", \"1987-08-01\", \"1987-09-01\", \"1987-10-01\", \"1987-11-01\", \"1987-12-01\", \"1988-01-01\", \"1988-02-01\", \"1988-03-01\", \"1988-04-01\", \"1988-05-01\", \"1988-06-01\", \"1988-07-01\", \"1988-08-01\", \"1988-09-01\", \"1988-10-01\", \"1988-11-01\", \"1988-12-01\", \"1989-01-01\", \"1989-02-01\", \"1989-03-01\", \"1989-04-01\", \"1989-05-01\", \"1989-06-01\", \"1989-07-01\", \"1989-08-01\", \"1989-09-01\", \"1989-10-01\", \"1989-11-01\", \"1989-12-01\", \"1990-01-01\", \"1990-02-01\", \"1990-03-01\", \"1990-04-01\", \"1990-05-01\", \"1990-06-01\", \"1990-07-01\", \"1990-08-01\", \"1990-09-01\", \"1990-10-01\", \"1990-11-01\", \"1990-12-01\", \"1991-01-01\", \"1991-02-01\", \"1991-03-01\", \"1991-04-01\", \"1991-05-01\", \"1991-06-01\", \"1991-07-01\", \"1991-08-01\", \"1991-09-01\", \"1991-10-01\", \"1991-11-01\", \"1991-12-01\", \"1992-01-01\", \"1992-02-01\", \"1992-03-01\", \"1992-04-01\", \"1992-05-01\", \"1992-06-01\", \"1992-07-01\", \"1992-08-01\", \"1992-09-01\", \"1992-10-01\", \"1992-11-01\", \"1992-12-01\", \"1993-01-01\", \"1993-02-01\", \"1993-03-01\", \"1993-04-01\", \"1993-05-01\", \"1993-06-01\", \"1993-07-01\", \"1993-08-01\", \"1993-09-01\", \"1993-10-01\", \"1993-11-01\", \"1993-12-01\", \"1994-01-01\", \"1994-02-01\", \"1994-03-01\", \"1994-04-01\", \"1994-05-01\", \"1994-06-01\", \"1994-07-01\", \"1994-08-01\", \"1994-09-01\", \"1994-10-01\", \"1994-11-01\", \"1994-12-01\", \"1995-01-01\", \"1995-02-01\", \"1995-03-01\", \"1995-04-01\", \"1995-05-01\", \"1995-06-01\", \"1995-07-01\", \"1995-08-01\", \"1995-09-01\", \"1995-10-01\", \"1995-11-01\", \"1995-12-01\", \"1996-01-01\", \"1996-02-01\", \"1996-03-01\", \"1996-04-01\", \"1996-05-01\", \"1996-06-01\", \"1996-07-01\", \"1996-08-01\", \"1996-09-01\", \"1996-10-01\", \"1996-11-01\", \"1996-12-01\", \"1997-01-01\", \"1997-02-01\", \"1997-03-01\", \"1997-04-01\", \"1997-05-01\", \"1997-06-01\", \"1997-07-01\", \"1997-08-01\", \"1997-09-01\", \"1997-10-01\", \"1997-11-01\", \"1997-12-01\", \"1998-01-01\", \"1998-02-01\", \"1998-03-01\", \"1998-04-01\", \"1998-05-01\", \"1998-06-01\", \"1998-07-01\", \"1998-08-01\", \"1998-09-01\", \"1998-10-01\", \"1998-11-01\", \"1998-12-01\", \"1999-01-01\", \"1999-02-01\", \"1999-03-01\", \"1999-04-01\", \"1999-05-01\", \"1999-06-01\", \"1999-07-01\", \"1999-08-01\", \"1999-09-01\", \"1999-10-01\", \"1999-11-01\", \"1999-12-01\", \"2000-01-01\", \"2000-02-01\", \"2000-03-01\", \"2000-04-01\", \"2000-05-01\", \"2000-06-01\", \"2000-07-01\", \"2000-08-01\", \"2000-09-01\", \"2000-10-01\", \"2000-11-01\", \"2000-12-01\", \"2001-01-01\", \"2001-02-01\", \"2001-03-01\", \"2001-04-01\", \"2001-05-01\", \"2001-06-01\", \"2001-07-01\", \"2001-08-01\", \"2001-09-01\", \"2001-10-01\", \"2001-11-01\", \"2001-12-01\", \"2002-01-01\", \"2002-02-01\", \"2002-03-01\", \"2002-04-01\", \"2002-05-01\", \"2002-06-01\", \"2002-07-01\", \"2002-08-01\", \"2002-09-01\", \"2002-10-01\", \"2002-11-01\", \"2002-12-01\", \"2003-01-01\", \"2003-02-01\", \"2003-03-01\", \"2003-04-01\", \"2003-05-01\", \"2003-06-01\", \"2003-07-01\", \"2003-08-01\", \"2003-09-01\", \"2003-10-01\", \"2003-11-01\", \"2003-12-01\", \"2004-01-01\", \"2004-02-01\", \"2004-03-01\", \"2004-04-01\", \"2004-05-01\", \"2004-06-01\", \"2004-07-01\", \"2004-08-01\", \"2004-09-01\", \"2004-10-01\", \"2004-11-01\", \"2004-12-01\", \"2005-01-01\", \"2005-02-01\", \"2005-03-01\", \"2005-04-01\", \"2005-05-01\", \"2005-06-01\", \"2005-07-01\", \"2005-08-01\", \"2005-09-01\", \"2005-10-01\", \"2005-11-01\", \"2005-12-01\", \"2006-01-01\", \"2006-02-01\", \"2006-03-01\", \"2006-04-01\", \"2006-05-01\", \"2006-06-01\", \"2006-07-01\", \"2006-08-01\", \"2006-09-01\", \"2006-10-01\", \"2006-11-01\", \"2006-12-01\", \"2007-01-01\", \"2007-02-01\", \"2007-03-01\", \"2007-04-01\", \"2007-05-01\", \"2007-06-01\", \"2007-07-01\", \"2007-08-01\", \"2007-09-01\", \"2007-10-01\", \"2007-11-01\", \"2007-12-01\", \"2008-01-01\", \"2008-02-01\", \"2008-03-01\", \"2008-04-01\", \"2008-05-01\", \"2008-06-01\", \"2008-07-01\", \"2008-08-01\", \"2008-09-01\", \"2008-10-01\", \"2008-11-01\", \"2008-12-01\", \"2009-01-01\", \"2009-02-01\", \"2009-03-01\", \"2009-04-01\", \"2009-05-01\", \"2009-06-01\", \"2009-07-01\", \"2009-08-01\", \"2009-09-01\", \"2009-10-01\", \"2009-11-01\", \"2009-12-01\", \"2010-01-01\", \"2010-02-01\", \"2010-03-01\", \"2010-04-01\", \"2010-05-01\", \"2010-06-01\", \"2010-07-01\", \"2010-08-01\", \"2010-09-01\", \"2010-10-01\", \"2010-11-01\", \"2010-12-01\", \"2011-01-01\", \"2011-02-01\", \"2011-03-01\", \"2011-04-01\", \"2011-05-01\", \"2011-06-01\", \"2011-07-01\", \"2011-08-01\", \"2011-09-01\", \"2011-10-01\", \"2011-11-01\", \"2011-12-01\", \"2012-01-01\", \"2012-02-01\", \"2012-03-01\", \"2012-04-01\", \"2012-05-01\", \"2012-06-01\", \"2012-07-01\", \"2012-08-01\", \"2012-09-01\", \"2012-10-01\", \"2012-11-01\", \"2012-12-01\", \"2013-01-01\", \"2013-02-01\", \"2013-03-01\", \"2013-04-01\", \"2013-05-01\", \"2013-06-01\", \"2013-07-01\", \"2013-08-01\", \"2013-09-01\", \"2013-10-01\", \"2013-11-01\", \"2013-12-01\", \"2014-01-01\", \"2014-02-01\", \"2014-03-01\", \"2014-04-01\", \"2014-05-01\", \"2014-06-01\", \"2014-07-01\", \"2014-08-01\", \"2014-09-01\", \"2014-10-01\", \"2014-11-01\", \"2014-12-01\", \"2015-01-01\", \"2015-02-01\", \"2015-03-01\", \"2015-04-01\", \"2015-05-01\", \"2015-06-01\", \"2015-07-01\", \"2015-08-01\", \"2015-09-01\", \"2015-10-01\", \"2015-11-01\", \"2015-12-01\", \"2016-01-01\", \"2016-02-01\", \"2016-03-01\", \"2016-04-01\", \"2016-05-01\", \"2016-06-01\", \"2016-07-01\", \"2016-08-01\", \"2016-09-01\", \"2016-10-01\", \"2016-11-01\", \"2016-12-01\", \"2017-01-01\", \"2017-02-01\", \"2017-03-01\", \"2017-04-01\", \"2017-05-01\", \"2017-06-01\", \"2017-07-01\", \"2017-08-01\", \"2017-09-01\", \"2017-10-01\", \"2017-11-01\", \"2017-12-01\", \"2018-01-01\", \"2018-02-01\", \"2018-03-01\", \"2018-04-01\", \"2018-05-01\", \"2018-06-01\", \"2018-07-01\", \"2018-08-01\", \"2018-09-01\", \"2018-10-01\", \"2018-11-01\", \"2018-12-01\", \"2019-01-01\", \"2019-02-01\", \"2019-03-01\", \"2019-04-01\", \"2019-05-01\", \"2019-06-01\", \"2019-07-01\", \"2019-08-01\", \"2019-09-01\", \"2019-10-01\", \"2019-11-01\", \"2019-12-01\", \"2020-01-01\", \"2020-02-01\", \"2020-03-01\", \"2020-04-01\", \"2020-05-01\"], \"xaxis\": \"x\", \"y\": [9.3, 8.9, 9.4, 8.2, 9.1, 9.7, 8.8, 9.2, 9.5, 9.9, 8.7, 7.6, 8.6, 9.0, 8.9, 8.9, 8.4, 9.1, 8.6, 8.3, 8.4, 7.6, 8.8, 8.6, 8.3, 8.1, 7.4, 8.0, 8.2, 8.0, 8.6, 8.3, 8.9, 9.6, 10.5, 11.1, 11.3, 12.0, 12.5, 12.4, 12.8, 12.2, 11.5, 12.9, 12.7, 12.4, 11.8, 11.4, 11.9, 12.5, 11.0, 11.5, 10.7, 11.8, 12.2, 12.2, 11.7, 11.9, 11.2, 12.0, 12.0, 13.4, 12.6, 12.5, 11.8, 11.9, 11.5, 12.3, 12.4, 12.2, 13.3, 12.0, 11.7, 11.1, 11.4, 11.0, 11.5, 11.5, 12.1, 10.8, 10.8, 10.5, 11.1, 10.8, 11.4, 11.5, 10.8, 11.1, 10.8, 11.2, 10.9, 11.4, 10.7, 10.7, 10.2, 10.4, 10.5, 10.4, 10.9, 11.8, 12.1, 11.8, 12.3, 11.6, 10.9, 13.0, 13.3, 13.5, 12.6, 12.9, 13.3, 12.7, 13.0, 13.5, 13.2, 13.9, 14.0, 13.9, 13.6, 14.2, 13.7, 14.4, 15.0, 15.4, 15.1, 15.2, 15.6, 15.3, 15.6, 16.2, 16.5, 16.7, 18.2, 16.8, 17.6, 17.0, 16.9, 17.4, 16.0, 16.1, 15.8, 15.7, 15.1, 16.0, 15.0, 14.2, 13.8, 13.6, 13.4, 12.8, 13.8, 13.7, 12.3, 13.5, 13.4, 13.0, 13.1, 13.6, 13.0, 13.2, 13.4, 12.7, 13.2, 13.1, 13.4, 12.2, 13.7, 12.5, 12.0, 12.3, 12.2, 12.5, 12.7, 12.9, 12.1, 12.6, 12.4, 12.5, 12.7, 12.1, 12.4, 12.6, 12.9, 11.5, 11.6, 11.3, 11.3, 11.5, 11.9, 11.1, 10.8, 10.7, 10.9, 10.4, 11.2, 11.2, 10.7, 10.5, 10.3, 10.1, 9.7, 9.8, 9.6, 10.0, 10.3, 10.3, 9.6, 9.0, 9.6, 10.3, 9.9, 9.6, 9.6, 10.0, 10.0, 9.6, 9.5, 9.8, 9.6, 9.4, 9.3, 8.8, 9.6, 9.9, 10.2, 10.1, 10.0, 10.4, 10.1, 10.0, 10.3, 10.4, 11.0, 10.5, 9.5, 10.5, 10.6, 12.2, 11.4, 11.1, 11.3, 11.6, 11.5, 12.0, 12.4, 12.4, 12.0, 12.0, 11.0, 11.6, 12.1, 12.1, 12.2, 11.4, 10.4, 11.0, 10.7, 10.9, 10.9, 10.5, 10.3, 10.0, 10.0, 10.1, 11.5, 10.9, 11.5, 10.5, 10.1, 9.6, 8.3, 9.3, 8.9, 9.3, 9.2, 8.6, 8.7, 8.9, 8.9, 9.3, 7.9, 8.7, 8.9, 8.7, 9.3, 8.8, 7.8, 7.7, 9.1, 7.6, 8.3, 8.6, 8.2, 8.5, 8.9, 9.1, 8.6, 9.0, 8.9, 9.6, 9.3, 9.7, 9.1, 8.7, 9.0, 9.1, 8.3, 8.5, 8.4, 8.4, 8.3, 8.3, 8.1, 8.3, 8.2, 8.4, 8.1, 7.8, 7.8, 7.6, 8.0, 7.7, 7.4, 7.0, 6.5, 7.1, 7.2, 7.0, 6.2, 6.6, 7.8, 6.9, 6.8, 6.2, 6.4, 6.8, 6.9, 6.6, 6.1, 5.9, 6.5, 6.5, 6.5, 6.4, 6.0, 5.6, 6.1, 5.5, 7.1, 5.9, 6.3, 5.5, 6.3, 6.7, 6.2, 7.1, 7.9, 8.4, 8.3, 8.4, 8.7, 8.6, 8.9, 9.3, 9.6, 8.7, 8.8, 8.5, 8.3, 8.4, 9.0, 9.3, 8.6, 9.1, 8.7, 9.2, 8.4, 9.5, 9.4, 9.8, 9.2, 9.9, 8.9, 9.2, 9.1, 8.8, 9.3, 8.7, 8.8, 8.9, 9.0, 8.8, 8.8, 9.0, 8.8, 8.8, 8.9, 9.2, 9.1, 8.9, 8.4, 8.8, 8.0, 8.2, 7.9, 7.6, 8.8, 8.4, 8.1, 7.9, 7.8, 7.9, 7.1, 7.6, 7.6, 7.2, 7.4, 6.8, 7.2, 7.6, 6.5, 6.5, 6.3, 6.1, 6.6, 6.5, 6.8, 6.3, 6.8, 7.2, 7.1, 7.1, 7.4, 6.6, 7.8, 7.4, 8.1, 7.6, 7.4, 8.9, 9.1, 8.9, 9.2, 8.8, 9.3, 10.3, 10.4, 11.3, 11.5, 11.6, 11.8, 11.8, 12.5, 12.5, 11.9, 12.8, 13.2, 12.2, 12.7, 13.8, 12.5, 11.6, 13.0, 13.1, 12.8, 12.7, 13.3, 12.7, 12.7, 12.9, 12.5, 13.7, 13.6, 13.8, 13.6, 13.3, 13.6, 12.1, 12.9, 13.7, 12.4, 12.1, 11.8, 10.8, 11.4, 12.9, 11.7, 12.0, 11.3, 12.1, 11.3, 12.4, 12.3, 12.4, 11.6, 11.4, 11.1, 12.7, 10.4, 10.4, 10.4, 11.3, 10.9, 10.8, 10.4, 9.7, 10.6, 10.2, 9.8, 9.6, 10.2, 10.6, 9.6, 9.2, 9.4, 8.6, 8.6, 8.7, 8.8, 8.9, 8.6, 8.1, 8.0, 8.1, 8.2, 8.0, 8.0, 7.1, 7.8, 7.7, 7.9, 7.0, 7.3, 7.3, 7.3, 7.1, 7.3, 7.0, 7.2, 6.8, 6.4, 6.9, 6.4, 7.1, 7.0, 6.8, 6.4, 6.4, 6.3, 6.4, 6.0, 5.5, 6.4, 6.1, 5.9, 5.1, 4.7, 5.4, 6.0, 5.9, 5.4, 4.9, 5.0, 5.6, 5.5, 5.2, 5.3, 5.3, 5.1, 5.2, 5.2, 4.4, 4.7, 4.9, 4.9, 5.0, 5.2, 4.8, 5.2, 16.4, 16.5], \"yaxis\": \"y\"}],\n",
       "                        {\"height\": 600, \"legend\": {\"title\": {\"text\": \"category\"}, \"tracegroupgap\": 0}, \"margin\": {\"t\": 60}, \"template\": {\"data\": {\"bar\": [{\"error_x\": {\"color\": \"#2a3f5f\"}, \"error_y\": {\"color\": \"#2a3f5f\"}, \"marker\": {\"line\": {\"color\": \"#E5ECF6\", \"width\": 0.5}}, \"type\": \"bar\"}], \"barpolar\": [{\"marker\": {\"line\": {\"color\": \"#E5ECF6\", \"width\": 0.5}}, \"type\": \"barpolar\"}], \"carpet\": [{\"aaxis\": {\"endlinecolor\": \"#2a3f5f\", \"gridcolor\": \"white\", \"linecolor\": \"white\", \"minorgridcolor\": \"white\", \"startlinecolor\": \"#2a3f5f\"}, \"baxis\": {\"endlinecolor\": \"#2a3f5f\", \"gridcolor\": \"white\", \"linecolor\": \"white\", \"minorgridcolor\": \"white\", \"startlinecolor\": \"#2a3f5f\"}, \"type\": \"carpet\"}], \"choropleth\": [{\"colorbar\": {\"outlinewidth\": 0, \"ticks\": \"\"}, \"type\": \"choropleth\"}], \"contour\": [{\"colorbar\": {\"outlinewidth\": 0, \"ticks\": \"\"}, \"colorscale\": [[0.0, \"#0d0887\"], [0.1111111111111111, \"#46039f\"], [0.2222222222222222, \"#7201a8\"], [0.3333333333333333, \"#9c179e\"], [0.4444444444444444, \"#bd3786\"], [0.5555555555555556, \"#d8576b\"], [0.6666666666666666, \"#ed7953\"], [0.7777777777777778, \"#fb9f3a\"], [0.8888888888888888, \"#fdca26\"], [1.0, \"#f0f921\"]], \"type\": \"contour\"}], \"contourcarpet\": [{\"colorbar\": {\"outlinewidth\": 0, \"ticks\": \"\"}, \"type\": \"contourcarpet\"}], \"heatmap\": [{\"colorbar\": {\"outlinewidth\": 0, \"ticks\": \"\"}, \"colorscale\": [[0.0, \"#0d0887\"], [0.1111111111111111, \"#46039f\"], [0.2222222222222222, \"#7201a8\"], [0.3333333333333333, \"#9c179e\"], [0.4444444444444444, \"#bd3786\"], [0.5555555555555556, \"#d8576b\"], [0.6666666666666666, \"#ed7953\"], [0.7777777777777778, \"#fb9f3a\"], [0.8888888888888888, \"#fdca26\"], [1.0, \"#f0f921\"]], \"type\": \"heatmap\"}], \"heatmapgl\": [{\"colorbar\": {\"outlinewidth\": 0, \"ticks\": \"\"}, \"colorscale\": [[0.0, \"#0d0887\"], [0.1111111111111111, \"#46039f\"], [0.2222222222222222, \"#7201a8\"], [0.3333333333333333, \"#9c179e\"], [0.4444444444444444, \"#bd3786\"], [0.5555555555555556, \"#d8576b\"], [0.6666666666666666, \"#ed7953\"], [0.7777777777777778, \"#fb9f3a\"], [0.8888888888888888, \"#fdca26\"], [1.0, \"#f0f921\"]], \"type\": \"heatmapgl\"}], \"histogram\": [{\"marker\": {\"colorbar\": {\"outlinewidth\": 0, \"ticks\": \"\"}}, \"type\": \"histogram\"}], \"histogram2d\": [{\"colorbar\": {\"outlinewidth\": 0, \"ticks\": \"\"}, \"colorscale\": [[0.0, \"#0d0887\"], [0.1111111111111111, \"#46039f\"], [0.2222222222222222, \"#7201a8\"], [0.3333333333333333, \"#9c179e\"], [0.4444444444444444, \"#bd3786\"], [0.5555555555555556, \"#d8576b\"], [0.6666666666666666, \"#ed7953\"], [0.7777777777777778, \"#fb9f3a\"], [0.8888888888888888, \"#fdca26\"], [1.0, \"#f0f921\"]], \"type\": \"histogram2d\"}], \"histogram2dcontour\": [{\"colorbar\": {\"outlinewidth\": 0, \"ticks\": \"\"}, \"colorscale\": [[0.0, \"#0d0887\"], [0.1111111111111111, \"#46039f\"], [0.2222222222222222, \"#7201a8\"], [0.3333333333333333, \"#9c179e\"], [0.4444444444444444, \"#bd3786\"], [0.5555555555555556, \"#d8576b\"], [0.6666666666666666, \"#ed7953\"], [0.7777777777777778, \"#fb9f3a\"], [0.8888888888888888, \"#fdca26\"], [1.0, \"#f0f921\"]], \"type\": \"histogram2dcontour\"}], \"mesh3d\": [{\"colorbar\": {\"outlinewidth\": 0, \"ticks\": \"\"}, \"type\": \"mesh3d\"}], \"parcoords\": [{\"line\": {\"colorbar\": {\"outlinewidth\": 0, \"ticks\": \"\"}}, \"type\": \"parcoords\"}], \"pie\": [{\"automargin\": true, \"type\": \"pie\"}], \"scatter\": [{\"marker\": {\"colorbar\": {\"outlinewidth\": 0, \"ticks\": \"\"}}, \"type\": \"scatter\"}], \"scatter3d\": [{\"line\": {\"colorbar\": {\"outlinewidth\": 0, \"ticks\": \"\"}}, \"marker\": {\"colorbar\": {\"outlinewidth\": 0, \"ticks\": \"\"}}, \"type\": \"scatter3d\"}], \"scattercarpet\": [{\"marker\": {\"colorbar\": {\"outlinewidth\": 0, \"ticks\": \"\"}}, \"type\": \"scattercarpet\"}], \"scattergeo\": [{\"marker\": {\"colorbar\": {\"outlinewidth\": 0, \"ticks\": \"\"}}, \"type\": \"scattergeo\"}], \"scattergl\": [{\"marker\": {\"colorbar\": {\"outlinewidth\": 0, \"ticks\": \"\"}}, \"type\": \"scattergl\"}], \"scattermapbox\": [{\"marker\": {\"colorbar\": {\"outlinewidth\": 0, \"ticks\": \"\"}}, \"type\": \"scattermapbox\"}], \"scatterpolar\": [{\"marker\": {\"colorbar\": {\"outlinewidth\": 0, \"ticks\": \"\"}}, \"type\": \"scatterpolar\"}], \"scatterpolargl\": [{\"marker\": {\"colorbar\": {\"outlinewidth\": 0, \"ticks\": \"\"}}, \"type\": \"scatterpolargl\"}], \"scatterternary\": [{\"marker\": {\"colorbar\": {\"outlinewidth\": 0, \"ticks\": \"\"}}, \"type\": \"scatterternary\"}], \"surface\": [{\"colorbar\": {\"outlinewidth\": 0, \"ticks\": \"\"}, \"colorscale\": [[0.0, \"#0d0887\"], [0.1111111111111111, \"#46039f\"], [0.2222222222222222, \"#7201a8\"], [0.3333333333333333, \"#9c179e\"], [0.4444444444444444, \"#bd3786\"], [0.5555555555555556, \"#d8576b\"], [0.6666666666666666, \"#ed7953\"], [0.7777777777777778, \"#fb9f3a\"], [0.8888888888888888, \"#fdca26\"], [1.0, \"#f0f921\"]], \"type\": \"surface\"}], \"table\": [{\"cells\": {\"fill\": {\"color\": \"#EBF0F8\"}, \"line\": {\"color\": \"white\"}}, \"header\": {\"fill\": {\"color\": \"#C8D4E3\"}, \"line\": {\"color\": \"white\"}}, \"type\": \"table\"}]}, \"layout\": {\"annotationdefaults\": {\"arrowcolor\": \"#2a3f5f\", \"arrowhead\": 0, \"arrowwidth\": 1}, \"coloraxis\": {\"colorbar\": {\"outlinewidth\": 0, \"ticks\": \"\"}}, \"colorscale\": {\"diverging\": [[0, \"#8e0152\"], [0.1, \"#c51b7d\"], [0.2, \"#de77ae\"], [0.3, \"#f1b6da\"], [0.4, \"#fde0ef\"], [0.5, \"#f7f7f7\"], [0.6, \"#e6f5d0\"], [0.7, \"#b8e186\"], [0.8, \"#7fbc41\"], [0.9, \"#4d9221\"], [1, \"#276419\"]], \"sequential\": [[0.0, \"#0d0887\"], [0.1111111111111111, \"#46039f\"], [0.2222222222222222, \"#7201a8\"], [0.3333333333333333, \"#9c179e\"], [0.4444444444444444, \"#bd3786\"], [0.5555555555555556, \"#d8576b\"], [0.6666666666666666, \"#ed7953\"], [0.7777777777777778, \"#fb9f3a\"], [0.8888888888888888, \"#fdca26\"], [1.0, \"#f0f921\"]], \"sequentialminus\": [[0.0, \"#0d0887\"], [0.1111111111111111, \"#46039f\"], [0.2222222222222222, \"#7201a8\"], [0.3333333333333333, \"#9c179e\"], [0.4444444444444444, \"#bd3786\"], [0.5555555555555556, \"#d8576b\"], [0.6666666666666666, \"#ed7953\"], [0.7777777777777778, \"#fb9f3a\"], [0.8888888888888888, \"#fdca26\"], [1.0, \"#f0f921\"]]}, \"colorway\": [\"#636efa\", \"#EF553B\", \"#00cc96\", \"#ab63fa\", \"#FFA15A\", \"#19d3f3\", \"#FF6692\", \"#B6E880\", \"#FF97FF\", \"#FECB52\"], \"font\": {\"color\": \"#2a3f5f\"}, \"geo\": {\"bgcolor\": \"white\", \"lakecolor\": \"white\", \"landcolor\": \"#E5ECF6\", \"showlakes\": true, \"showland\": true, \"subunitcolor\": \"white\"}, \"hoverlabel\": {\"align\": \"left\"}, \"hovermode\": \"closest\", \"mapbox\": {\"style\": \"light\"}, \"paper_bgcolor\": \"white\", \"plot_bgcolor\": \"#E5ECF6\", \"polar\": {\"angularaxis\": {\"gridcolor\": \"white\", \"linecolor\": \"white\", \"ticks\": \"\"}, \"bgcolor\": \"#E5ECF6\", \"radialaxis\": {\"gridcolor\": \"white\", \"linecolor\": \"white\", \"ticks\": \"\"}}, \"scene\": {\"xaxis\": {\"backgroundcolor\": \"#E5ECF6\", \"gridcolor\": \"white\", \"gridwidth\": 2, \"linecolor\": \"white\", \"showbackground\": true, \"ticks\": \"\", \"zerolinecolor\": \"white\"}, \"yaxis\": {\"backgroundcolor\": \"#E5ECF6\", \"gridcolor\": \"white\", \"gridwidth\": 2, \"linecolor\": \"white\", \"showbackground\": true, \"ticks\": \"\", \"zerolinecolor\": \"white\"}, \"zaxis\": {\"backgroundcolor\": \"#E5ECF6\", \"gridcolor\": \"white\", \"gridwidth\": 2, \"linecolor\": \"white\", \"showbackground\": true, \"ticks\": \"\", \"zerolinecolor\": \"white\"}}, \"shapedefaults\": {\"line\": {\"color\": \"#2a3f5f\"}}, \"ternary\": {\"aaxis\": {\"gridcolor\": \"white\", \"linecolor\": \"white\", \"ticks\": \"\"}, \"baxis\": {\"gridcolor\": \"white\", \"linecolor\": \"white\", \"ticks\": \"\"}, \"bgcolor\": \"#E5ECF6\", \"caxis\": {\"gridcolor\": \"white\", \"linecolor\": \"white\", \"ticks\": \"\"}}, \"title\": {\"x\": 0.05}, \"xaxis\": {\"automargin\": true, \"gridcolor\": \"white\", \"linecolor\": \"white\", \"ticks\": \"\", \"title\": {\"standoff\": 15}, \"zerolinecolor\": \"white\", \"zerolinewidth\": 2}, \"yaxis\": {\"automargin\": true, \"gridcolor\": \"white\", \"linecolor\": \"white\", \"ticks\": \"\", \"title\": {\"standoff\": 15}, \"zerolinecolor\": \"white\", \"zerolinewidth\": 2}}}, \"title\": {\"text\": \"Over 20 Unemployment Rate in USA from1972-01-01 to May 2020\"}, \"xaxis\": {\"anchor\": \"y\", \"domain\": [0.0, 1.0], \"range\": [\"1972-01-01\", \"2020-07-30\"], \"title\": {\"text\": \"date\"}}, \"yaxis\": {\"anchor\": \"x\", \"domain\": [0.0, 1.0], \"title\": {\"text\": \"rate\"}}},\n",
       "                        {\"responsive\": true}\n",
       "                    ).then(function(){\n",
       "                            \n",
       "var gd = document.getElementById('1a751aa5-484c-4909-8fce-9b7b10fa8ccc');\n",
       "var x = new MutationObserver(function (mutations, observer) {{\n",
       "        var display = window.getComputedStyle(gd).display;\n",
       "        if (!display || display === 'none') {{\n",
       "            console.log([gd, 'removed!']);\n",
       "            Plotly.purge(gd);\n",
       "            observer.disconnect();\n",
       "        }}\n",
       "}});\n",
       "\n",
       "// Listen for the removal of the full notebook cells\n",
       "var notebookContainer = gd.closest('#notebook-container');\n",
       "if (notebookContainer) {{\n",
       "    x.observe(notebookContainer, {childList: true});\n",
       "}}\n",
       "\n",
       "// Listen for the clearing of the current output cell\n",
       "var outputEl = gd.closest('.output');\n",
       "if (outputEl) {{\n",
       "    x.observe(outputEl, {childList: true});\n",
       "}}\n",
       "\n",
       "                        })\n",
       "                };\n",
       "                });\n",
       "            </script>\n",
       "        </div>"
      ]
     },
     "metadata": {},
     "output_type": "display_data"
    }
   ],
   "source": [
    "df = pd.concat([df_over20, df_over20_wm, df_over20_ww, df_over20_bm, df_over20_bw], ignore_index=True)\n",
    "datefrom='1972-01-01'\n",
    "fig2 = px.line(df, x=\"date\", y=\"rate\", color=\"category\",range_x=[datefrom,'2020-07-30'])\n",
    "# fig.update_layout(hovermode='x unified')\n",
    "fig2.update_layout(\n",
    "    height=600,\n",
    "    title_text='Over 20 Unemployment Rate in USA from'+datefrom+' to May 2020'\n",
    ")\n",
    "fig2.show()"
   ]
  },
  {
   "cell_type": "code",
   "execution_count": 6,
   "metadata": {
    "ExecuteTime": {
     "end_time": "2020-06-26T15:04:34.163234Z",
     "start_time": "2020-06-26T15:04:33.803674Z"
    }
   },
   "outputs": [],
   "source": [
    "import datapane as dp"
   ]
  },
  {
   "cell_type": "code",
   "execution_count": 11,
   "metadata": {
    "ExecuteTime": {
     "end_time": "2020-06-26T15:10:02.192889Z",
     "start_time": "2020-06-26T15:09:57.743368Z"
    }
   },
   "outputs": [
    {
     "name": "stdout",
     "output_type": "stream",
     "text": [
      "\u001b[34m10:09:58\u001b[0m [\u001b[32mINFO \u001b[0m] Uploading assets for Report\u001b[0m\n",
      "\u001b[34m10:09:59\u001b[0m [\u001b[32mINFO \u001b[0m] Uploading /home/khuyentran/Desktop/datapane/dp-tmp-b6cwt4rf/dp-tmp-01p_fzvf.pl.json\u001b[0m\n",
      "\u001b[34m10:10:00\u001b[0m [\u001b[32mINFO \u001b[0m] Uploading /home/khuyentran/Desktop/datapane/dp-tmp-b6cwt4rf/dp-tmp-57hwdu0h.pl.json\u001b[0m\n",
      "\u001b[34m10:10:02\u001b[0m [\u001b[32mINFO \u001b[0m] Report published to Datapane as https://datapane.com/khuyentran1401/reports/unemployment_covid/\u001b[0m\n"
     ]
    }
   ],
   "source": [
    "report = dp.Report(dp.Markdown(\"# Animated Bar Chart from 2017–01–01 to 2020–05–01.\"),\n",
    "          dp.Plot(fig1),\n",
    "         dp.Markdown(\"# Line Chart of USA Unemployment\"),\n",
    "         dp.Plot(fig2))\n",
    "\n",
    "report.publish(name='unemployment_covid', \n",
    "               headline='Unemployment Rate Due to Covid-19 of Different Social Groups',\n",
    "              visibiliy='PUBBLIC')"
   ]
  },
  {
   "cell_type": "code",
   "execution_count": null,
   "metadata": {},
   "outputs": [],
   "source": []
  }
 ],
 "metadata": {
  "kernelspec": {
   "display_name": "Python 3",
   "language": "python",
   "name": "python3"
  },
  "language_info": {
   "codemirror_mode": {
    "name": "ipython",
    "version": 3
   },
   "file_extension": ".py",
   "mimetype": "text/x-python",
   "name": "python",
   "nbconvert_exporter": "python",
   "pygments_lexer": "ipython3",
   "version": "3.8.2"
  },
  "latex_envs": {
   "LaTeX_envs_menu_present": true,
   "autoclose": false,
   "autocomplete": true,
   "bibliofile": "biblio.bib",
   "cite_by": "apalike",
   "current_citInitial": 1,
   "eqLabelWithNumbers": true,
   "eqNumInitial": 1,
   "hotkeys": {
    "equation": "Ctrl-E",
    "itemize": "Ctrl-I"
   },
   "labels_anchors": false,
   "latex_user_defs": false,
   "report_style_numbering": false,
   "user_envs_cfg": false
  },
  "toc": {
   "base_numbering": 1,
   "nav_menu": {},
   "number_sections": true,
   "sideBar": true,
   "skip_h1_title": false,
   "title_cell": "Table of Contents",
   "title_sidebar": "Contents",
   "toc_cell": false,
   "toc_position": {},
   "toc_section_display": true,
   "toc_window_display": false
  }
 },
 "nbformat": 4,
 "nbformat_minor": 4
}
